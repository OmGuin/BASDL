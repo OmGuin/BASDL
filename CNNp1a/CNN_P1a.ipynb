{
 "cells": [
  {
   "cell_type": "code",
   "execution_count": 1,
   "id": "71e225ed",
   "metadata": {},
   "outputs": [],
   "source": [
    "import torch\n",
    "import torch.nn as nn\n",
    "from torch.utils.data import DataLoader, Dataset\n",
    "import numpy\n",
    "import json\n",
    "import os"
   ]
  },
  {
   "cell_type": "code",
   "execution_count": 9,
   "id": "242a9175",
   "metadata": {},
   "outputs": [],
   "source": [
    "class P1aSet(Dataset):\n",
    "    def __init__(self, root):\n",
    "        self.root = root\n",
    "        self.folders = sorted(os.listdir(self.root))\n",
    "    \n",
    "    def __len__(self):\n",
    "        return len(self.folders)\n",
    "\n",
    "    def __getitem__(self, idx):\n",
    "        with open(os.path.join(self.root, self.folders[idx], \"GT.json\"), \"r\") as f:\n",
    "            sim_data = json.load(f)\n",
    "            pch = sim_data['Data']['pch_bins']\n",
    "            tdist = sim_data['Data']['true_bins']\n",
    "\n",
    "        return torch.tensor(pch, dtype=torch.float32), torch.tensor(tdist, dtype=torch.float32)"
   ]
  },
  {
   "cell_type": "code",
   "execution_count": 10,
   "id": "8cc07903",
   "metadata": {},
   "outputs": [],
   "source": [
    "dataset = P1aSet(r\"C:\\Users\\omgui\\Desktop\\BASDL\\data_gen_phase1a\\pchdata\")\n",
    "loader = DataLoader(dataset, batch_size=32, shuffle=True)"
   ]
  },
  {
   "cell_type": "code",
   "execution_count": null,
   "id": "471d9bad",
   "metadata": {},
   "outputs": [],
   "source": []
  },
  {
   "cell_type": "code",
   "execution_count": null,
   "id": "3780c256",
   "metadata": {},
   "outputs": [],
   "source": []
  },
  {
   "cell_type": "code",
   "execution_count": null,
   "id": "527a603b",
   "metadata": {},
   "outputs": [],
   "source": []
  },
  {
   "cell_type": "code",
   "execution_count": null,
   "id": "14e08b95",
   "metadata": {},
   "outputs": [],
   "source": []
  }
 ],
 "metadata": {
  "kernelspec": {
   "display_name": "Python 3",
   "language": "python",
   "name": "python3"
  },
  "language_info": {
   "codemirror_mode": {
    "name": "ipython",
    "version": 3
   },
   "file_extension": ".py",
   "mimetype": "text/x-python",
   "name": "python",
   "nbconvert_exporter": "python",
   "pygments_lexer": "ipython3",
   "version": "3.13.4"
  }
 },
 "nbformat": 4,
 "nbformat_minor": 5
}
