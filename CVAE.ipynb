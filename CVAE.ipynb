{
 "cells": [
  {
   "cell_type": "markdown",
   "id": "90c17ddf",
   "metadata": {},
   "source": [
    "# Convolutional Variational Autoencoder Implementation on Burst Windows"
   ]
  },
  {
   "cell_type": "code",
   "execution_count": 2,
   "id": "1f66c603",
   "metadata": {},
   "outputs": [],
   "source": [
    "from ipyfilechooser import FileChooser\n",
    "import numpy as np\n",
    "import torch\n",
    "import torch.nn as nn\n",
    "import torch.nn.functional as F\n",
    "from torch.utils.data import TensorDataset, DataLoader\n",
    "from sklearn.decomposition import PCA\n",
    "import matplotlib.pyplot as plt\n",
    "import plotly.graph_objs as go\n",
    "from scipy.stats import linregress\n",
    "import os"
   ]
  },
  {
   "cell_type": "markdown",
   "id": "a031a7fc",
   "metadata": {},
   "source": [
    "### Import data"
   ]
  },
  {
   "cell_type": "code",
   "execution_count": 3,
   "id": "80cac8af",
   "metadata": {},
   "outputs": [
    {
     "data": {
      "application/vnd.jupyter.widget-view+json": {
       "model_id": "c6a579f854b34e4b8ed7210eb68c61bb",
       "version_major": 2,
       "version_minor": 0
      },
      "text/plain": [
       "FileChooser(path='C:\\Users\\aguin\\Desktop\\BASUS', filename='', title='<b>Select preprocessing parameter file</b…"
      ]
     },
     "metadata": {},
     "output_type": "display_data"
    }
   ],
   "source": [
    "fc = FileChooser('./')  # or use an absolute path if needed\n",
    "fc.title = \"<b>Select preprocessing parameter file</b>\"\n",
    "fc.filter_pattern = ['*.npz']  # Only show .par files\n",
    "display(fc)"
   ]
  },
  {
   "cell_type": "code",
   "execution_count": 5,
   "id": "af4f52d2",
   "metadata": {},
   "outputs": [],
   "source": [
    "data = dict(np.load(fc.selected, allow_pickle=True))"
   ]
  },
  {
   "cell_type": "code",
   "execution_count": 6,
   "id": "384cddaa",
   "metadata": {},
   "outputs": [
    {
     "data": {
      "text/plain": [
       "(861, 21)"
      ]
     },
     "execution_count": 6,
     "metadata": {},
     "output_type": "execute_result"
    }
   ],
   "source": [
    "windows = np.array(data['handlesA'].item()['burst_windows'])\n",
    "labels = data['handlesA'].item()['species']\n",
    "assert windows.shape[0] == labels.shape[0]\n",
    "windows.shape"
   ]
  },
  {
   "cell_type": "code",
   "execution_count": 7,
   "id": "d9f6e1b7",
   "metadata": {},
   "outputs": [],
   "source": [
    "X_raw = torch.tensor(windows, dtype=torch.float32)  # shape: (N, 21)\n",
    "min_val = X_raw.min()\n",
    "max_val = X_raw.max()\n",
    "\n",
    "X = (X_raw - min_val) / (max_val - min_val)\n",
    "X = X.unsqueeze(1)  # (N, 1, 21)\n",
    "#X = torch.log1p(X)\n",
    "if torch.cuda.is_available():\n",
    "    X = X.cuda()\n",
    "DEVICE = torch.device('cuda' if torch.cuda.is_available() else 'cpu')"
   ]
  },
  {
   "cell_type": "code",
   "execution_count": 8,
   "id": "bd152a69",
   "metadata": {},
   "outputs": [
    {
     "data": {
      "text/plain": [
       "tensor([[[9.2140e-05, 0.0000e+00, 0.0000e+00,  ..., 0.0000e+00,\n",
       "          0.0000e+00, 0.0000e+00]],\n",
       "\n",
       "        [[2.4271e-03, 0.0000e+00, 0.0000e+00,  ..., 0.0000e+00,\n",
       "          9.2166e-05, 1.8434e-03]],\n",
       "\n",
       "        [[0.0000e+00, 0.0000e+00, 6.7622e-04,  ..., 0.0000e+00,\n",
       "          0.0000e+00, 9.2512e-05]],\n",
       "\n",
       "        ...,\n",
       "\n",
       "        [[1.9133e-03, 7.4587e-04, 1.9134e-03,  ..., 0.0000e+00,\n",
       "          0.0000e+00, 0.0000e+00]],\n",
       "\n",
       "        [[1.9134e-03, 0.0000e+00, 1.3297e-03,  ..., 0.0000e+00,\n",
       "          7.4598e-04, 0.0000e+00]],\n",
       "\n",
       "        [[7.4645e-04, 0.0000e+00, 7.4646e-04,  ..., 1.6273e-04,\n",
       "          0.0000e+00, 1.3302e-03]]], device='cuda:0')"
      ]
     },
     "execution_count": 8,
     "metadata": {},
     "output_type": "execute_result"
    }
   ],
   "source": [
    "X"
   ]
  },
  {
   "cell_type": "markdown",
   "id": "a85cb504",
   "metadata": {},
   "source": [
    "## Convolutional VAE Architecture"
   ]
  },
  {
   "cell_type": "code",
   "execution_count": null,
   "id": "9f3b0779",
   "metadata": {},
   "outputs": [],
   "source": [
    "class ConvVAE(nn.Module):\n",
    "    def __init__(self, input_length = 21, latent_dim = 3):\n",
    "        super(ConvVAE, self).__init__()\n",
    "        self.encoder = nn.Sequential(\n",
    "            nn.Conv1d(1, 16, kernel_size=3, padding=1),    #(B, 16, 21)\n",
    "            nn.BatchNorm1d(16),\n",
    "            nn.ReLU(),\n",
    "            \n",
    "            nn.Conv1d(16, 32, kernel_size=3, padding=1),   #(B, 32, 21)\n",
    "            nn.BatchNorm1d(32),\n",
    "            nn.ReLU(),\n",
    "            nn.MaxPool1d(2),                               #(B, 32, 10)\n",
    "            \n",
    "            nn.Conv1d(32, 64, kernel_size=3, padding=1),   #(B, 64, 10)\n",
    "            nn.BatchNorm1d(64),\n",
    "            nn.ReLU(),\n",
    "            nn.MaxPool1d(2),                               #(B, 64, 5)\n",
    "            \n",
    "            nn.Conv1d(64, 128, kernel_size=3, padding=1),  #(B, 128, 5)\n",
    "            nn.BatchNorm1d(128),\n",
    "            nn.ReLU()\n",
    "        )\n",
    "        self.fc_mu = nn.Linear(128*5, latent_dim)\n",
    "        self.fc_logvar = nn.Linear(128*5, latent_dim)\n",
    "\n",
    "        self.decoder_input = nn.Linear(latent_dim, 128*5)\n",
    "        self.decoder = nn.Sequential(\n",
    "            nn.Unflatten(1, (128, 5)),                    #(B, 128, 5)\n",
    "            nn.ConvTranspose1d(128, 64, kernel_size=3, padding=1),  #(B, 64, 5)\n",
    "            nn.BatchNorm1d(64),\n",
    "            nn.ReLU(),\n",
    "            nn.Upsample(scale_factor=2),                  #(B, 64, 10)\n",
    "            nn.ConvTranspose1d(64, 32, kernel_size=3, padding=1),   #(B, 32, 10)\n",
    "            nn.BatchNorm1d(32),\n",
    "            nn.ReLU(),\n",
    "            nn.Upsample(scale_factor=2),                  #(B, 32, 20)\n",
    "            nn.Conv1d(32, 16, kernel_size=3, padding=1),  #(B, 16, 20)\n",
    "            nn.ReLU(),\n",
    "            nn.Conv1d(16, 1, kernel_size=2, padding=0),   #(B, 1, 21)\n",
    "        )\n",
    "        self.decoder = nn.Sequential(\n",
    "            nn.Unflatten(1, (128, 5)),                    # -> (B, 128, 5)\n",
    "            nn.ConvTranspose1d(128, 64, kernel_size=3, padding=1),  # -> (B, 64, 5)\n",
    "            nn.BatchNorm1d(64),\n",
    "            nn.ReLU(),\n",
    "            nn.Upsample(scale_factor=2),                  # -> (B, 64, 10)\n",
    "            nn.ConvTranspose1d(64, 32, kernel_size=3, padding=1),   # -> (B, 32, 10)\n",
    "            nn.BatchNorm1d(32),\n",
    "            nn.ReLU(),\n",
    "            nn.Upsample(scale_factor=2),                  # -> (B, 32, 20)\n",
    "            nn.Conv1d(32, 16, kernel_size=3, padding=1),  # -> (B, 16, 20)\n",
    "            nn.ReLU(),\n",
    "            nn.Conv1d(16, 1, kernel_size=3, padding=1),   # -> (B, 1, 20)\n",
    "            nn.Conv1d(1, 1, kernel_size=2, padding=1)     # -> (B, 1, 21)\n",
    "        )\n",
    "\n",
    "    def reparametrize(self, mu, logvar):\n",
    "        std = torch.exp(0.5 * logvar)\n",
    "        return mu + std * torch.randn_like(std)\n",
    "    \n",
    "    def forward(self, x):\n",
    "        enc = self.encoder(x)\n",
    "        enc_flat = enc.view(x.size(0), -1)\n",
    "        mu = self.fc_mu(enc_flat)\n",
    "        logvar = self.fc_logvar(enc_flat)\n",
    "        z = self.reparametrize(mu, logvar)\n",
    "        z_dec = self.decoder_input(z)\n",
    "        recon = self.decoder(z_dec)\n",
    "        return recon, mu, logvar\n",
    "    \n",
    "def vae_loss(recon, x, mu, logvar, beta=0.001):\n",
    "    recon_loss = F.mse_loss(recon, x, reduction='mean')\n",
    "    kl_div = -0.5 * torch.mean(1 + logvar - mu.pow(2) - logvar.exp())\n",
    "    return recon_loss + beta*kl_div"
   ]
  },
  {
   "cell_type": "code",
   "execution_count": 36,
   "id": "d3ff1a60",
   "metadata": {},
   "outputs": [],
   "source": [
    "loader = DataLoader(TensorDataset(X), batch_size = 8)\n",
    "model = ConvVAE(input_length=21, latent_dim=3).to(DEVICE)\n",
    "optimizer = torch.optim.Adam(model.parameters(), lr = 2e-4)\n",
    "num_epochs = 30"
   ]
  },
  {
   "cell_type": "markdown",
   "id": "b9c9feb3",
   "metadata": {},
   "source": [
    "### Training Loop"
   ]
  },
  {
   "cell_type": "code",
   "execution_count": 37,
   "id": "c97e3ecf",
   "metadata": {},
   "outputs": [
    {
     "name": "stdout",
     "output_type": "stream",
     "text": [
      "Epoch 1 - Loss: 0.0134\n",
      "Epoch 2 - Loss: 0.0051\n",
      "Epoch 3 - Loss: 0.0046\n",
      "Epoch 4 - Loss: 0.0042\n",
      "Epoch 5 - Loss: 0.0039\n",
      "Epoch 6 - Loss: 0.0035\n",
      "Epoch 7 - Loss: 0.0033\n",
      "Epoch 8 - Loss: 0.0031\n",
      "Epoch 9 - Loss: 0.0029\n",
      "Epoch 10 - Loss: 0.0027\n",
      "Epoch 11 - Loss: 0.0025\n",
      "Epoch 12 - Loss: 0.0024\n",
      "Epoch 13 - Loss: 0.0021\n",
      "Epoch 14 - Loss: 0.0021\n",
      "Epoch 15 - Loss: 0.0021\n",
      "Epoch 16 - Loss: 0.0018\n",
      "Epoch 17 - Loss: 0.0018\n",
      "Epoch 18 - Loss: 0.0016\n",
      "Epoch 19 - Loss: 0.0017\n",
      "Epoch 20 - Loss: 0.0016\n",
      "Epoch 21 - Loss: 0.0016\n",
      "Epoch 22 - Loss: 0.0015\n",
      "Epoch 23 - Loss: 0.0014\n",
      "Epoch 24 - Loss: 0.0013\n",
      "Epoch 25 - Loss: 0.0013\n",
      "Epoch 26 - Loss: 0.0012\n",
      "Epoch 27 - Loss: 0.0012\n",
      "Epoch 28 - Loss: 0.0012\n",
      "Epoch 29 - Loss: 0.0012\n",
      "Epoch 30 - Loss: 0.0012\n"
     ]
    },
    {
     "data": {
      "image/png": "[encoded data removed]",
      "text/plain": [
       "<Figure size 800x500 with 1 Axes>"
      ]
     },
     "metadata": {},
     "output_type": "display_data"
    }
   ],
   "source": [
    "losses = []\n",
    "\n",
    "for epoch in range(num_epochs):\n",
    "    total_loss = 0\n",
    "    for batch in loader:\n",
    "        x_batch = batch[0].to(DEVICE)\n",
    "        recon, mu, logvar = model(x_batch)\n",
    "        loss = vae_loss(recon, x_batch, mu, logvar)\n",
    "\n",
    "        optimizer.zero_grad()\n",
    "        loss.backward()\n",
    "        optimizer.step()\n",
    "        total_loss += loss.item()\n",
    "    \n",
    "    losses.append(total_loss / len(loader))\n",
    "    print(f\"Epoch {epoch+1} - Loss: {total_loss / len(loader):.4f}\")\n",
    "plt.figure(figsize=(8, 5))\n",
    "plt.plot(range(1, num_epochs + 1), losses, marker='o')\n",
    "plt.title(\"Training Loss vs Epoch\")\n",
    "plt.xlabel(\"Epoch\")\n",
    "plt.ylabel(\"Loss\")\n",
    "plt.grid(True)\n",
    "plt.tight_layout()\n",
    "plt.show()"
   ]
  },
  {
   "cell_type": "code",
   "execution_count": 38,
   "id": "35701c2b",
   "metadata": {},
   "outputs": [
    {
     "data": {
      "application/vnd.plotly.v1+json": {
       "config": {
        "plotlyServerURL": "https://plot.ly"
       },
       "data": [
        {
         "marker": {
          "color": {
           "bdata": "AAAAAAAAAAAAAAAAAAAAAAAAAAAAAAAAAAAAAAAAAAAAAAAAAAAAAAAAAAAAAAAAAAAAAAAAAAAAAAAAAAAAAAAAAAAAAAAAAAAAAAAA8D8AAAAAAAAAAAAAAAAAAAAAAAAAAAAAAAAAAAAAAAAAAAAAAAAAAAAAAAAAAAAAAAAAAAAAAAAAAAAAAAAAAAAAAAAAAAAA8D8AAAAAAAAAAAAAAAAAAAAAAAAAAAAA8D8AAAAAAAAAAAAAAAAAAAAAAAAAAAAAAAAAAAAAAAAAAAAAAAAAAAAAAAAAAAAAAAAAAAAAAAAAAAAAAAAAAPA/AAAAAAAA8D8AAAAAAAAAAAAAAAAAAAAAAAAAAAAAAAAAAAAAAADwPwAAAAAAAAAAAAAAAAAAAAAAAAAAAADwPwAAAAAAAAAAAAAAAAAAAAAAAAAAAAAAAAAAAAAAAAAAAAAAAAAAAAAAAAAAAADwPwAAAAAAAAAAAAAAAAAAAAAAAAAAAAAAAAAAAAAAAAAAAAAAAAAA8D8AAAAAAAAAAAAAAAAAAAAAAAAAAAAAAAAAAAAAAAAAAAAAAAAAAAAAAAAAAAAAAAAAAAAAAAAAAAAAAAAAAPA/AAAAAAAAAAAAAAAAAADwPwAAAAAAAAAAAAAAAAAA8D8AAAAAAAAAAAAAAAAAAAAAAAAAAAAAAAAAAAAAAADwPwAAAAAAAPA/AAAAAAAAAAAAAAAAAAAAAAAAAAAAAAAAAAAAAAAA8D8AAAAAAAAAAAAAAAAAAAAAAAAAAAAA8D8AAAAAAADwPwAAAAAAAAAAAAAAAAAA8D8AAAAAAADwPwAAAAAAAAAAAAAAAAAAAAAAAAAAAAAAAAAAAAAAAAAAAAAAAAAA8D8AAAAAAAAAAAAAAAAAAAAAAAAAAAAAAAAAAAAAAADwPwAAAAAAAPA/AAAAAAAAAAAAAAAAAAAAAAAAAAAAAAAAAAAAAAAAAAAAAAAAAAAAAAAAAAAAAPA/AAAAAAAAAAAAAAAAAADwPwAAAAAAAAAAAAAAAAAA8D8AAAAAAAAAAAAAAAAAAAAAAAAAAAAA8D8AAAAAAAAAAAAAAAAAAAAAAAAAAAAA8D8AAAAAAAAAAAAAAAAAAPA/AAAAAAAAAAAAAAAAAAAAAAAAAAAAAPA/AAAAAAAAAAAAAAAAAAAAAAAAAAAAAAAAAAAAAAAAAAAAAAAAAAAAAAAAAAAAAAAAAAAAAAAAAAAAAAAAAAAAAAAAAAAAAAAAAAAAAAAAAAAAAAAAAAAAAAAAAAAAAPA/AAAAAAAAAAAAAAAAAAAAAAAAAAAAAAAAAAAAAAAAAAAAAAAAAAAAAAAAAAAAAAAAAAAAAAAA8D8AAAAAAAAAAAAAAAAAAAAAAAAAAAAA8D8AAAAAAAAAAAAAAAAAAAAAAAAAAAAAAAAAAAAAAAAAAAAAAAAAAAAAAAAAAAAA8D8AAAAAAAAAAAAAAAAAAAAAAAAAAAAAAAAAAAAAAADwPwAAAAAAAPA/AAAAAAAAAAAAAAAAAAAAAAAAAAAAAAAAAAAAAAAAAAAAAAAAAADwPwAAAAAAAAAAAAAAAAAA8D8AAAAAAAAAAAAAAAAAAAAAAAAAAAAAAAAAAAAAAADwPwAAAAAAAAAAAAAAAAAA8D8AAAAAAAAAAAAAAAAAAAAAAAAAAAAAAAAAAAAAAAAAAAAAAAAAAAAAAAAAAAAA8D8AAAAAAAAAAAAAAAAAAAAAAAAAAAAA8D8AAAAAAAAAAAAAAAAAAAAAAAAAAAAAAAAAAAAAAADwPwAAAAAAAPA/AAAAAAAAAAAAAAAAAAAAAAAAAAAAAAAAAAAAAAAAAAAAAAAAAAAAAAAAAAAAAPA/AAAAAAAA8D8AAAAAAADwPwAAAAAAAAAAAAAAAAAAAAAAAAAAAADwPwAAAAAAAAAAAAAAAAAAAAAAAAAAAAAAAAAAAAAAAAAAAAAAAAAAAAAAAAAAAADwPwAAAAAAAPA/AAAAAAAAAAAAAAAAAADwPwAAAAAAAPA/AAAAAAAA8D8AAAAAAAAAAAAAAAAAAAAAAAAAAAAAAAAAAAAAAAAAAAAAAAAAAAAAAAAAAAAAAAAAAAAAAAAAAAAAAAAAAAAAAAAAAAAAAAAAAAAAAAAAAAAAAAAAAAAAAAAAAAAA8D8AAAAAAADwPwAAAAAAAAAAAAAAAAAAAAAAAAAAAAAAAAAAAAAAAAAAAAAAAAAAAAAAAAAAAAAAAAAAAAAAAAAAAAAAAAAAAAAAAAAAAAAAAAAAAAAAAAAAAAAAAAAAAAAAAAAAAAAAAAAAAAAAAAAAAAAAAAAAAAAAAAAAAAAAAAAAAAAAAPA/AAAAAAAAAAAAAAAAAADwPwAAAAAAAAAAAAAAAAAA8D8AAAAAAAAAAAAAAAAAAAAAAAAAAAAAAAAAAAAAAAAAAAAAAAAAAAAAAAAAAAAAAAAAAAAAAAAAAAAAAAAAAAAAAAAAAAAAAAAAAAAAAAAAAAAAAAAAAAAAAAAAAAAAAAAAAAAAAAAAAAAAAAAAAPA/AAAAAAAAAAAAAAAAAAAAAAAAAAAAAAAAAAAAAAAAAAAAAAAAAAAAAAAAAAAAAAAAAAAAAAAAAAAAAAAAAADwPwAAAAAAAAAAAAAAAAAAAAAAAAAAAAAAAAAAAAAAAAAAAAAAAAAAAAAAAAAAAADwPwAAAAAAAAAAAAAAAAAAAAAAAAAAAAAAAAAAAAAAAPA/AAAAAAAAAAAAAAAAAAAAAAAAAAAAAAAAAAAAAAAAAAAAAAAAAADwPwAAAAAAAAAAAAAAAAAAAAAAAAAAAAAAAAAAAAAAAPA/AAAAAAAA8D8AAAAAAAAAAAAAAAAAAAAAAAAAAAAAAAAAAAAAAAAAAAAAAAAAAAAAAAAAAAAAAAAAAAAAAAAAAAAAAAAAAAAAAAAAAAAAAAAAAAAAAAAAAAAAAAAAAAAAAAAAAAAAAAAAAAAAAAAAAAAAAAAAAAAAAAAAAAAA8D8AAAAAAAAAAAAAAAAAAAAAAAAAAAAAAAAAAAAAAAAAAAAAAAAAAAAAAAAAAAAAAAAAAAAAAAAAAAAAAAAAAPA/AAAAAAAAAAAAAAAAAAAAAAAAAAAAAAAAAAAAAAAAAAAAAAAAAADwPwAAAAAAAAAAAAAAAAAAAAAAAAAAAAAAAAAAAAAAAAAAAAAAAAAAAAAAAAAAAAAAAAAAAAAAAAAAAAAAAAAAAAAAAAAAAADwPwAAAAAAAAAAAAAAAAAAAAAAAAAAAADwPwAAAAAAAAAAAAAAAAAAAAAAAAAAAAAAAAAAAAAAAAAAAAAAAAAAAAAAAAAAAAAAAAAAAAAAAAAAAAAAAAAAAAAAAAAAAAAAAAAAAAAAAAAAAAAAAAAAAAAAAAAAAAAAAAAAAAAAAAAAAAAAAAAAAAAAAAAAAAAAAAAAAAAAAAAAAAAAAAAAAAAAAAAAAAAAAAAAAAAAAAAAAAAAAAAAAAAAAAAAAAAAAAAAAAAAAPA/AAAAAAAAAAAAAAAAAADwPwAAAAAAAAAAAAAAAAAAAAAAAAAAAAAAAAAAAAAAAAAAAAAAAAAA8D8AAAAAAAAAAAAAAAAAAAAAAAAAAAAAAAAAAAAAAAAAAAAAAAAAAAAAAAAAAAAAAAAAAAAAAAAAAAAAAAAAAAAAAAAAAAAAAAAAAAAAAAAAAAAAAAAAAAAAAAAAAAAAAAAAAAAAAAAAAAAAAAAAAPA/AAAAAAAAAAAAAAAAAAAAAAAAAAAAAPA/AAAAAAAAAAAAAAAAAAAAAAAAAAAAAPA/AAAAAAAAAAAAAAAAAAAAAAAAAAAAAAAAAAAAAAAAAAAAAAAAAADwPwAAAAAAAPA/AAAAAAAA8D8AAAAAAADwPwAAAAAAAAAAAAAAAAAAAAAAAAAAAAAAAAAAAAAAAAAAAAAAAAAAAAAAAAAAAAAAAAAAAAAAAAAAAAAAAAAAAAAAAAAAAAAAAAAAAAAAAAAAAAAAAAAAAAAAAAAAAAAAAAAAAAAAAAAAAAAAAAAAAAAAAAAAAAAAAAAAAAAAAPA/AAAAAAAAAAAAAAAAAAAAAAAAAAAAAAAAAAAAAAAAAAAAAAAAAAAAAAAAAAAAAAAAAAAAAAAAAAAAAAAAAAAAAAAAAAAAAPA/AAAAAAAAAAAAAAAAAAAAAAAAAAAAAAAAAAAAAAAAAAAAAAAAAADwPwAAAAAAAPA/AAAAAAAAAAAAAAAAAAAAAAAAAAAAAAAAAAAAAAAAAAAAAAAAAAAAAAAAAAAAAAAAAAAAAAAA8D8AAAAAAADwPwAAAAAAAAAAAAAAAAAAAAAAAAAAAAAAAAAAAAAAAAAAAAAAAAAAAAAAAAAAAADwPwAAAAAAAPA/AAAAAAAAAAAAAAAAAAAAAAAAAAAAAAAAAAAAAAAAAAAAAAAAAAAAAAAAAAAAAAAAAAAAAAAAAAAAAAAAAAAAAAAAAAAAAAAAAAAAAAAAAAAAAAAAAAAAAAAAAAAAAPA/AAAAAAAAAAAAAAAAAAAAAAAAAAAAAAAAAAAAAAAAAAAAAAAAAAAAAAAAAAAAAAAAAAAAAAAAAAAAAAAAAADwPwAAAAAAAAAAAAAAAAAAAAAAAAAAAAAAAAAAAAAAAPA/AAAAAAAAAAAAAAAAAADwPwAAAAAAAPA/AAAAAAAAAAAAAAAAAAAAAAAAAAAAAAAAAAAAAAAAAAAAAAAAAAAAAAAAAAAAAAAAAAAAAAAAAAAAAAAAAAAAAAAAAAAAAAAAAAAAAAAA8D8AAAAAAAAAAAAAAAAAAAAAAAAAAAAAAAAAAAAAAAAAAAAAAAAAAAAAAAAAAAAA8D8AAAAAAAAAAAAAAAAAAAAAAAAAAAAAAAAAAAAAAAAAAAAAAAAAAAAAAAAAAAAA8D8AAAAAAAAAAAAAAAAAAAAAAAAAAAAAAAAAAAAAAAAAAAAAAAAAAAAAAAAAAAAA8D8AAAAAAAAAAAAAAAAAAPA/AAAAAAAAAAAAAAAAAAAAAAAAAAAAAAAAAAAAAAAA8D8AAAAAAAAAAAAAAAAAAAAAAAAAAAAA8D8AAAAAAAAAAAAAAAAAAAAAAAAAAAAAAAAAAAAAAADwPwAAAAAAAAAAAAAAAAAA8D8AAAAAAAAAAAAAAAAAAAAAAAAAAAAAAAAAAAAAAAAAAAAAAAAAAPA/AAAAAAAAAAAAAAAAAAAAAAAAAAAAAAAAAAAAAAAAAAAAAAAAAAAAAAAAAAAAAAAAAAAAAAAAAAAAAAAAAAAAAAAAAAAAAAAAAAAAAAAAAAAAAAAAAAAAAAAAAAAAAAAAAAAAAAAA8D8AAAAAAAAAAAAAAAAAAAAAAAAAAAAAAAAAAAAAAADwPwAAAAAAAAAAAAAAAAAAAAAAAAAAAAAAAAAAAAAAAAAAAAAAAAAAAAAAAAAAAAAAAAAAAAAAAAAAAAAAAAAAAAAAAAAAAAAAAAAAAAAAAAAAAAAAAAAAAAAAAAAAAAAAAAAAAAAAAPA/AAAAAAAA8D8AAAAAAAAAAAAAAAAAAPA/AAAAAAAAAAAAAAAAAAAAAAAAAAAAAAAAAAAAAAAAAAAAAAAAAAAAAAAAAAAAAAAAAAAAAAAAAAAAAAAAAAAAAAAAAAAAAAAAAAAAAAAAAAAAAAAAAAAAAAAAAAAAAAAAAAAAAAAAAAAAAAAAAAAAAAAAAAAAAAAAAAAAAAAAAAAAAAAAAAAAAAAAAAAAAAAAAAAAAAAA8D8AAAAAAAAAAAAAAAAAAPA/AAAAAAAA8D8AAAAAAAAAAAAAAAAAAPA/AAAAAAAAAAAAAAAAAAAAAAAAAAAAAPA/AAAAAAAAAAAAAAAAAADwPwAAAAAAAAAAAAAAAAAA8D8AAAAAAAAAAAAAAAAAAAAAAAAAAAAAAAAAAAAAAADwPwAAAAAAAAAAAAAAAAAAAAAAAAAAAAAAAAAAAAAAAAAAAAAAAAAAAAAAAAAAAAAAAAAAAAAAAAAAAAAAAAAA8D8AAAAAAAAAAAAAAAAAAPA/AAAAAAAAAAAAAAAAAAAAAAAAAAAAAAAAAAAAAAAAAAAAAAAAAADwPwAAAAAAAAAAAAAAAAAAAAAAAAAAAAAAAAAAAAAAAAAAAAAAAAAAAAAAAAAAAAAAAAAAAAAAAAAAAAAAAAAAAAAAAAAAAAAAAAAAAAAAAAAAAAAAAAAAAAAAAAAAAADwPwAAAAAAAAAAAAAAAAAAAAAAAAAAAADwPwAAAAAAAAAAAAAAAAAA8D8AAAAAAAAAAAAAAAAAAAAAAAAAAAAAAAAAAAAAAAAAAAAAAAAAAAAAAAAAAAAAAAAAAAAAAAAAAAAAAAAAAPA/AAAAAAAA8D8AAAAAAAAAAAAAAAAAAAAAAAAAAAAAAAAAAAAAAAAAAAAAAAAAAPA/AAAAAAAAAAAAAAAAAAAAAAAAAAAAAPA/AAAAAAAAAAAAAAAAAAAAAAAAAAAAAAAAAAAAAAAAAAAAAAAAAAAAAAAAAAAAAAAAAAAAAAAAAAAAAAAAAAAAAAAAAAAAAAAAAAAAAAAAAAAAAAAAAAAAAAAAAAAAAAAAAAAAAAAAAAAAAAAAAAAAAAAAAAAAAAAAAAAAAAAAAAAAAAAAAAAAAAAAAAAAAAAAAAAAAAAAAAAAAAAAAAAAAAAAAAAAAAAAAAAAAAAA8D8AAAAAAAAAAAAAAAAAAAAAAAAAAAAAAAAAAAAAAAAAAAAAAAAAAAAAAAAAAAAA8D8AAAAAAAAAAAAAAAAAAAAAAAAAAAAAAAAAAAAAAADwPwAAAAAAAAAAAAAAAAAAAAAAAAAAAAAAAAAAAAAAAAAAAAAAAAAAAAAAAAAAAADwPwAAAAAAAAAAAAAAAAAAAAAAAAAAAAAAAAAAAAAAAAAAAAAAAAAA8D8AAAAAAAAAAAAAAAAAAPA/AAAAAAAAAAAAAAAAAAAAAAAAAAAAAPA/AAAAAAAA8D8AAAAAAADwPwAAAAAAAPA/AAAAAAAAAAAAAAAAAAAAAAAAAAAAAAAAAAAAAAAAAAAAAAAAAAAAAAAAAAAAAAAAAAAAAAAAAAAAAAAAAADwPwAAAAAAAPA/AAAAAAAA8D8AAAAAAAAAAAAAAAAAAAAAAAAAAAAAAAAAAAAAAAAAAAAAAAAAAPA/AAAAAAAAAAAAAAAAAAAAAAAAAAAAAPA/AAAAAAAAAAAAAAAAAAAAAAAAAAAAAAAAAAAAAAAAAAAAAAAAAAAAAAAAAAAAAPA/AAAAAAAAAAAAAAAAAADwPwAAAAAAAAAAAAAAAAAAAAAAAAAAAADwPwAAAAAAAAAAAAAAAAAAAAAAAAAAAAAAAAAAAAAAAAAAAAAAAAAAAAAAAAAAAAAAAAAAAAAAAAAAAAAAAAAAAAAAAAAAAAAAAAAAAAAAAAAAAAAAAAAA8D8AAAAAAAAAAAAAAAAAAAAAAAAAAAAAAAAAAAAAAADwPwAAAAAAAAAAAAAAAAAAAAAAAAAAAAAAAAAAAAAAAAAAAAAAAAAAAAAAAAAAAAAAAAAAAAAAAPA/AAAAAAAAAAAAAAAAAADwPwAAAAAAAPA/AAAAAAAAAAAAAAAAAAAAAAAAAAAAAAAAAAAAAAAAAAAAAAAAAAAAAAAAAAAAAPA/AAAAAAAAAAAAAAAAAAAAAAAAAAAAAPA/AAAAAAAAAAAAAAAAAAAAAAAAAAAAAPA/AAAAAAAAAAAAAAAAAAAAAAAAAAAAAAAAAAAAAAAAAAAAAAAAAAAAAAAAAAAAAPA/AAAAAAAAAAAAAAAAAAAAAAAAAAAAAAAAAAAAAAAAAAAAAAAAAADwPwAAAAAAAAAAAAAAAAAAAAAAAAAAAAAAAAAAAAAAAAAAAAAAAAAAAAAAAAAAAAAAAAAAAAAAAPA/AAAAAAAAAAAAAAAAAAAAAAAAAAAAAAAAAAAAAAAA8D8AAAAAAAAAAAAAAAAAAAAAAAAAAAAAAAAAAAAAAAAAAAAAAAAAAAAAAAAAAAAAAAAAAAAAAADwPwAAAAAAAAAAAAAAAAAAAAAAAAAAAAAAAAAAAAAAAPA/AAAAAAAAAAAAAAAAAAAAAAAAAAAAAAAAAAAAAAAA8D8AAAAAAAAAAAAAAAAAAAAAAAAAAAAAAAAAAAAAAAAAAAAAAAAAAAAAAAAAAAAAAAAAAAAAAAAAAAAAAAAAAAAAAAAAAAAAAAAAAAAAAAAAAAAAAAAAAAAAAAAAAAAA8D8AAAAAAAAAAAAAAAAAAAAAAAAAAAAAAAAAAAAAAAAAAAAAAAAAAAAAAAAAAAAAAAAAAAAAAAAAAAAAAAAAAAAAAAAAAAAAAAAAAAAAAAAAAAAAAAAAAPA/AAAAAAAA8D8AAAAAAAAAAAAAAAAAAAAAAAAAAAAA8D8AAAAAAAAAAAAAAAAAAAAAAAAAAAAAAAAAAAAAAAAAAAAAAAAAAAAAAAAAAAAAAAAAAAAAAAAAAAAAAAAAAAAAAAAAAAAAAAAAAAAAAAAAAAAAAAAAAAAAAAAAAAAAAAAAAAAAAAAAAAAAAAAAAAAAAAAAAAAA8D8AAAAAAAAAAAAAAAAAAAAAAAAAAAAAAAAAAAAAAAAAAAAAAAAAAAAAAAAAAAAAAAAAAAAAAADwPwAAAAAAAAAAAAAAAAAAAAAAAAAAAAAAAAAAAAAAAAAAAAAAAAAAAAAAAAAAAAAAAAAAAAAAAPA/AAAAAAAAAAAAAAAAAADwPwAAAAAAAAAAAAAAAAAAAAAAAAAAAADwPwAAAAAAAAAAAAAAAAAAAAAAAAAAAAAAAAAAAAAAAAAAAAAAAAAAAAAAAAAAAADwPwAAAAAAAAAAAAAAAAAAAAAAAAAAAAAAAAAAAAAAAAAAAAAAAAAAAAAAAAAAAAAAAAAAAAAAAAAAAAAAAAAAAAAAAAAAAAAAAAAAAAAAAAAAAAAAAAAAAAAAAAAAAAAAAAAAAAAAAAAAAAAAAAAAAAAAAAAAAAAAAAAAAAAAAAAAAAAAAAAAAAAAAAAAAAAAAAAAAAAAAAAAAAAAAAAAAAAAAAAAAAAAAAAAAAAAAAAAAAAAAAAAAAAAAAAAAADwPwAAAAAAAAAAAAAAAAAAAAAAAAAAAADwPwAAAAAAAAAAAAAAAAAAAAAAAAAAAAAAAAAAAAAAAAAAAAAAAAAAAAAAAAAAAAAAAAAAAAAAAAAAAAAAAAAAAAAAAAAAAADwPwAAAAAAAAAAAAAAAAAAAAAAAAAAAAAAAAAAAAAAAAAA",
           "dtype": "f8"
          },
          "colorbar": {
           "title": {
            "text": "Species"
           }
          },
          "colorscale": [
           [
            0,
            "#440154"
           ],
           [
            0.1111111111111111,
            "#482878"
           ],
           [
            0.2222222222222222,
            "#3e4989"
           ],
           [
            0.3333333333333333,
            "#31688e"
           ],
           [
            0.4444444444444444,
            "#26828e"
           ],
           [
            0.5555555555555556,
            "#1f9e89"
           ],
           [
            0.6666666666666666,
            "#35b779"
           ],
           [
            0.7777777777777778,
            "#6ece58"
           ],
           [
            0.8888888888888888,
            "#b5de2b"
           ],
           [
            1,
            "#fde725"
           ]
          ],
          "opacity": 0.8,
          "size": 4
         },
         "mode": "markers",
         "type": "scatter3d",
         "x": {
          "bdata": "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",
          "dtype": "f4"
         },
         "y": {
          "bdata": "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",
          "dtype": "f4"
         },
         "z": {
          "bdata": "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",
          "dtype": "f4"
         }
        }
       ],
       "layout": {
        "margin": {
         "b": 0,
         "l": 0,
         "r": 0,
         "t": 30
        },
        "scene": {
         "xaxis": {
          "title": {
           "text": "PC1"
          }
         },
         "yaxis": {
          "title": {
           "text": "PC2"
          }
         },
         "zaxis": {
          "title": {
           "text": "PC3"
          }
         }
        },
        "template": {
         "data": {
          "bar": [
           {
            "error_x": {
             "color": "#2a3f5f"
            },
            "error_y": {
             "color": "#2a3f5f"
            },
            "marker": {
             "line": {
              "color": "#E5ECF6",
              "width": 0.5
             },
             "pattern": {
              "fillmode": "overlay",
              "size": 10,
              "solidity": 0.2
             }
            },
            "type": "bar"
           }
          ],
          "barpolar": [
           {
            "marker": {
             "line": {
              "color": "#E5ECF6",
              "width": 0.5
             },
             "pattern": {
              "fillmode": "overlay",
              "size": 10,
              "solidity": 0.2
             }
            },
            "type": "barpolar"
           }
          ],
          "carpet": [
           {
            "aaxis": {
             "endlinecolor": "#2a3f5f",
             "gridcolor": "white",
             "linecolor": "white",
             "minorgridcolor": "white",
             "startlinecolor": "#2a3f5f"
            },
            "baxis": {
             "endlinecolor": "#2a3f5f",
             "gridcolor": "white",
             "linecolor": "white",
             "minorgridcolor": "white",
             "startlinecolor": "#2a3f5f"
            },
            "type": "carpet"
           }
          ],
          "choropleth": [
           {
            "colorbar": {
             "outlinewidth": 0,
             "ticks": ""
            },
            "type": "choropleth"
           }
          ],
          "contour": [
           {
            "colorbar": {
             "outlinewidth": 0,
             "ticks": ""
            },
            "colorscale": [
             [
              0,
              "#0d0887"
             ],
             [
              0.1111111111111111,
              "#46039f"
             ],
             [
              0.2222222222222222,
              "#7201a8"
             ],
             [
              0.3333333333333333,
              "#9c179e"
             ],
             [
              0.4444444444444444,
              "#bd3786"
             ],
             [
              0.5555555555555556,
              "#d8576b"
             ],
             [
              0.6666666666666666,
              "#ed7953"
             ],
             [
              0.7777777777777778,
              "#fb9f3a"
             ],
             [
              0.8888888888888888,
              "#fdca26"
             ],
             [
              1,
              "#f0f921"
             ]
            ],
            "type": "contour"
           }
          ],
          "contourcarpet": [
           {
            "colorbar": {
             "outlinewidth": 0,
             "ticks": ""
            },
            "type": "contourcarpet"
           }
          ],
          "heatmap": [
           {
            "colorbar": {
             "outlinewidth": 0,
             "ticks": ""
            },
            "colorscale": [
             [
              0,
              "#0d0887"
             ],
             [
              0.1111111111111111,
              "#46039f"
             ],
             [
              0.2222222222222222,
              "#7201a8"
             ],
             [
              0.3333333333333333,
              "#9c179e"
             ],
             [
              0.4444444444444444,
              "#bd3786"
             ],
             [
              0.5555555555555556,
              "#d8576b"
             ],
             [
              0.6666666666666666,
              "#ed7953"
             ],
             [
              0.7777777777777778,
              "#fb9f3a"
             ],
             [
              0.8888888888888888,
              "#fdca26"
             ],
             [
              1,
              "#f0f921"
             ]
            ],
            "type": "heatmap"
           }
          ],
          "histogram": [
           {
            "marker": {
             "pattern": {
              "fillmode": "overlay",
              "size": 10,
              "solidity": 0.2
             }
            },
            "type": "histogram"
           }
          ],
          "histogram2d": [
           {
            "colorbar": {
             "outlinewidth": 0,
             "ticks": ""
            },
            "colorscale": [
             [
              0,
              "#0d0887"
             ],
             [
              0.1111111111111111,
              "#46039f"
             ],
             [
              0.2222222222222222,
              "#7201a8"
             ],
             [
              0.3333333333333333,
              "#9c179e"
             ],
             [
              0.4444444444444444,
              "#bd3786"
             ],
             [
              0.5555555555555556,
              "#d8576b"
             ],
             [
              0.6666666666666666,
              "#ed7953"
             ],
             [
              0.7777777777777778,
              "#fb9f3a"
             ],
             [
              0.8888888888888888,
              "#fdca26"
             ],
             [
              1,
              "#f0f921"
             ]
            ],
            "type": "histogram2d"
           }
          ],
          "histogram2dcontour": [
           {
            "colorbar": {
             "outlinewidth": 0,
             "ticks": ""
            },
            "colorscale": [
             [
              0,
              "#0d0887"
             ],
             [
              0.1111111111111111,
              "#46039f"
             ],
             [
              0.2222222222222222,
              "#7201a8"
             ],
             [
              0.3333333333333333,
              "#9c179e"
             ],
             [
              0.4444444444444444,
              "#bd3786"
             ],
             [
              0.5555555555555556,
              "#d8576b"
             ],
             [
              0.6666666666666666,
              "#ed7953"
             ],
             [
              0.7777777777777778,
              "#fb9f3a"
             ],
             [
              0.8888888888888888,
              "#fdca26"
             ],
             [
              1,
              "#f0f921"
             ]
            ],
            "type": "histogram2dcontour"
           }
          ],
          "mesh3d": [
           {
            "colorbar": {
             "outlinewidth": 0,
             "ticks": ""
            },
            "type": "mesh3d"
           }
          ],
          "parcoords": [
           {
            "line": {
             "colorbar": {
              "outlinewidth": 0,
              "ticks": ""
             }
            },
            "type": "parcoords"
           }
          ],
          "pie": [
           {
            "automargin": true,
            "type": "pie"
           }
          ],
          "scatter": [
           {
            "fillpattern": {
             "fillmode": "overlay",
             "size": 10,
             "solidity": 0.2
            },
            "type": "scatter"
           }
          ],
          "scatter3d": [
           {
            "line": {
             "colorbar": {
              "outlinewidth": 0,
              "ticks": ""
             }
            },
            "marker": {
             "colorbar": {
              "outlinewidth": 0,
              "ticks": ""
             }
            },
            "type": "scatter3d"
           }
          ],
          "scattercarpet": [
           {
            "marker": {
             "colorbar": {
              "outlinewidth": 0,
              "ticks": ""
             }
            },
            "type": "scattercarpet"
           }
          ],
          "scattergeo": [
           {
            "marker": {
             "colorbar": {
              "outlinewidth": 0,
              "ticks": ""
             }
            },
            "type": "scattergeo"
           }
          ],
          "scattergl": [
           {
            "marker": {
             "colorbar": {
              "outlinewidth": 0,
              "ticks": ""
             }
            },
            "type": "scattergl"
           }
          ],
          "scattermap": [
           {
            "marker": {
             "colorbar": {
              "outlinewidth": 0,
              "ticks": ""
             }
            },
            "type": "scattermap"
           }
          ],
          "scattermapbox": [
           {
            "marker": {
             "colorbar": {
              "outlinewidth": 0,
              "ticks": ""
             }
            },
            "type": "scattermapbox"
           }
          ],
          "scatterpolar": [
           {
            "marker": {
             "colorbar": {
              "outlinewidth": 0,
              "ticks": ""
             }
            },
            "type": "scatterpolar"
           }
          ],
          "scatterpolargl": [
           {
            "marker": {
             "colorbar": {
              "outlinewidth": 0,
              "ticks": ""
             }
            },
            "type": "scatterpolargl"
           }
          ],
          "scatterternary": [
           {
            "marker": {
             "colorbar": {
              "outlinewidth": 0,
              "ticks": ""
             }
            },
            "type": "scatterternary"
           }
          ],
          "surface": [
           {
            "colorbar": {
             "outlinewidth": 0,
             "ticks": ""
            },
            "colorscale": [
             [
              0,
              "#0d0887"
             ],
             [
              0.1111111111111111,
              "#46039f"
             ],
             [
              0.2222222222222222,
              "#7201a8"
             ],
             [
              0.3333333333333333,
              "#9c179e"
             ],
             [
              0.4444444444444444,
              "#bd3786"
             ],
             [
              0.5555555555555556,
              "#d8576b"
             ],
             [
              0.6666666666666666,
              "#ed7953"
             ],
             [
              0.7777777777777778,
              "#fb9f3a"
             ],
             [
              0.8888888888888888,
              "#fdca26"
             ],
             [
              1,
              "#f0f921"
             ]
            ],
            "type": "surface"
           }
          ],
          "table": [
           {
            "cells": {
             "fill": {
              "color": "#EBF0F8"
             },
             "line": {
              "color": "white"
             }
            },
            "header": {
             "fill": {
              "color": "#C8D4E3"
             },
             "line": {
              "color": "white"
             }
            },
            "type": "table"
           }
          ]
         },
         "layout": {
          "annotationdefaults": {
           "arrowcolor": "#2a3f5f",
           "arrowhead": 0,
           "arrowwidth": 1
          },
          "autotypenumbers": "strict",
          "coloraxis": {
           "colorbar": {
            "outlinewidth": 0,
            "ticks": ""
           }
          },
          "colorscale": {
           "diverging": [
            [
             0,
             "#8e0152"
            ],
            [
             0.1,
             "#c51b7d"
            ],
            [
             0.2,
             "#de77ae"
            ],
            [
             0.3,
             "#f1b6da"
            ],
            [
             0.4,
             "#fde0ef"
            ],
            [
             0.5,
             "#f7f7f7"
            ],
            [
             0.6,
             "#e6f5d0"
            ],
            [
             0.7,
             "#b8e186"
            ],
            [
             0.8,
             "#7fbc41"
            ],
            [
             0.9,
             "#4d9221"
            ],
            [
             1,
             "#276419"
            ]
           ],
           "sequential": [
            [
             0,
             "#0d0887"
            ],
            [
             0.1111111111111111,
             "#46039f"
            ],
            [
             0.2222222222222222,
             "#7201a8"
            ],
            [
             0.3333333333333333,
             "#9c179e"
            ],
            [
             0.4444444444444444,
             "#bd3786"
            ],
            [
             0.5555555555555556,
             "#d8576b"
            ],
            [
             0.6666666666666666,
             "#ed7953"
            ],
            [
             0.7777777777777778,
             "#fb9f3a"
            ],
            [
             0.8888888888888888,
             "#fdca26"
            ],
            [
             1,
             "#f0f921"
            ]
           ],
           "sequentialminus": [
            [
             0,
             "#0d0887"
            ],
            [
             0.1111111111111111,
             "#46039f"
            ],
            [
             0.2222222222222222,
             "#7201a8"
            ],
            [
             0.3333333333333333,
             "#9c179e"
            ],
            [
             0.4444444444444444,
             "#bd3786"
            ],
            [
             0.5555555555555556,
             "#d8576b"
            ],
            [
             0.6666666666666666,
             "#ed7953"
            ],
            [
             0.7777777777777778,
             "#fb9f3a"
            ],
            [
             0.8888888888888888,
             "#fdca26"
            ],
            [
             1,
             "#f0f921"
            ]
           ]
          },
          "colorway": [
           "#636efa",
           "#EF553B",
           "#00cc96",
           "#ab63fa",
           "#FFA15A",
           "#19d3f3",
           "#FF6692",
           "#B6E880",
           "#FF97FF",
           "#FECB52"
          ],
          "font": {
           "color": "#2a3f5f"
          },
          "geo": {
           "bgcolor": "white",
           "lakecolor": "white",
           "landcolor": "#E5ECF6",
           "showlakes": true,
           "showland": true,
           "subunitcolor": "white"
          },
          "hoverlabel": {
           "align": "left"
          },
          "hovermode": "closest",
          "mapbox": {
           "style": "light"
          },
          "paper_bgcolor": "white",
          "plot_bgcolor": "#E5ECF6",
          "polar": {
           "angularaxis": {
            "gridcolor": "white",
            "linecolor": "white",
            "ticks": ""
           },
           "bgcolor": "#E5ECF6",
           "radialaxis": {
            "gridcolor": "white",
            "linecolor": "white",
            "ticks": ""
           }
          },
          "scene": {
           "xaxis": {
            "backgroundcolor": "#E5ECF6",
            "gridcolor": "white",
            "gridwidth": 2,
            "linecolor": "white",
            "showbackground": true,
            "ticks": "",
            "zerolinecolor": "white"
           },
           "yaxis": {
            "backgroundcolor": "#E5ECF6",
            "gridcolor": "white",
            "gridwidth": 2,
            "linecolor": "white",
            "showbackground": true,
            "ticks": "",
            "zerolinecolor": "white"
           },
           "zaxis": {
            "backgroundcolor": "#E5ECF6",
            "gridcolor": "white",
            "gridwidth": 2,
            "linecolor": "white",
            "showbackground": true,
            "ticks": "",
            "zerolinecolor": "white"
           }
          },
          "shapedefaults": {
           "line": {
            "color": "#2a3f5f"
           }
          },
          "ternary": {
           "aaxis": {
            "gridcolor": "white",
            "linecolor": "white",
            "ticks": ""
           },
           "baxis": {
            "gridcolor": "white",
            "linecolor": "white",
            "ticks": ""
           },
           "bgcolor": "#E5ECF6",
           "caxis": {
            "gridcolor": "white",
            "linecolor": "white",
            "ticks": ""
           }
          },
          "title": {
           "x": 0.05
          },
          "xaxis": {
           "automargin": true,
           "gridcolor": "white",
           "linecolor": "white",
           "ticks": "",
           "title": {
            "standoff": 15
           },
           "zerolinecolor": "white",
           "zerolinewidth": 2
          },
          "yaxis": {
           "automargin": true,
           "gridcolor": "white",
           "linecolor": "white",
           "ticks": "",
           "title": {
            "standoff": 15
           },
           "zerolinecolor": "white",
           "zerolinewidth": 2
          }
         }
        },
        "title": {
         "text": "Latent Space"
        }
       }
      }
     },
     "metadata": {},
     "output_type": "display_data"
    },
    {
     "data": {
      "application/vnd.plotly.v1+json": {
       "config": {
        "plotlyServerURL": "https://plot.ly"
       },
       "data": [
        {
         "marker": {
          "color": {
           "bdata": "AAAAAAAA8D8AAAAAAADwPwAAAAAAAPA/AAAAAAAA8D8AAAAAAADwPwAAAAAAAPA/AAAAAAAA8D8AAAAAAADwPwAAAAAAAPA/AAAAAAAA8D8AAAAAAADwPwAAAAAAAPA/AAAAAAAA8D8AAAAAAADwPwAAAAAAAPA/AAAAAAAA8D8AAAAAAADwPwAAAAAAAPA/AAAAAAAA8D8AAAAAAADwPwAAAAAAAPA/AAAAAAAA8D8AAAAAAADwPwAAAAAAAPA/AAAAAAAA8D8AAAAAAADwPwAAAAAAAPA/AAAAAAAA8D8AAAAAAADwPwAAAAAAAPA/AAAAAAAA8D8AAAAAAADwPwAAAAAAAPA/AAAAAAAA8D8AAAAAAADwPwAAAAAAAPA/AAAAAAAA8D8AAAAAAADwPwAAAAAAAPA/AAAAAAAA8D8AAAAAAADwPwAAAAAAAPA/AAAAAAAA8D8AAAAAAADwPwAAAAAAAPA/AAAAAAAA8D8AAAAAAADwPwAAAAAAAPA/AAAAAAAA8D8AAAAAAADwPwAAAAAAAPA/AAAAAAAA8D8AAAAAAADwPwAAAAAAAPA/AAAAAAAA8D8AAAAAAADwPwAAAAAAAPA/AAAAAAAA8D8AAAAAAADwPwAAAAAAAPA/AAAAAAAA8D8AAAAAAADwPwAAAAAAAPA/AAAAAAAA8D8AAAAAAADwPwAAAAAAAPA/AAAAAAAA8D8AAAAAAADwPwAAAAAAAPA/AAAAAAAA8D8AAAAAAADwPwAAAAAAAPA/AAAAAAAA8D8AAAAAAADwPwAAAAAAAPA/AAAAAAAA8D8AAAAAAADwPwAAAAAAAPA/AAAAAAAA8D8AAAAAAADwPwAAAAAAAPA/AAAAAAAA8D8AAAAAAADwPwAAAAAAAPA/AAAAAAAA8D8AAAAAAADwPwAAAAAAAPA/AAAAAAAA8D8AAAAAAADwPwAAAAAAAPA/AAAAAAAA8D8AAAAAAADwPwAAAAAAAPA/AAAAAAAA8D8AAAAAAADwPwAAAAAAAPA/AAAAAAAA8D8AAAAAAADwPwAAAAAAAPA/AAAAAAAA8D8AAAAAAADwPwAAAAAAAPA/AAAAAAAA8D8AAAAAAADwPwAAAAAAAPA/AAAAAAAA8D8AAAAAAADwPwAAAAAAAPA/AAAAAAAA8D8AAAAAAADwPwAAAAAAAPA/AAAAAAAA8D8AAAAAAADwPwAAAAAAAPA/AAAAAAAA8D8AAAAAAADwPwAAAAAAAPA/AAAAAAAA8D8AAAAAAADwPwAAAAAAAPA/AAAAAAAA8D8AAAAAAADwPwAAAAAAAPA/AAAAAAAA8D8AAAAAAADwPwAAAAAAAPA/AAAAAAAA8D8AAAAAAADwPwAAAAAAAPA/AAAAAAAA8D8AAAAAAADwPwAAAAAAAPA/AAAAAAAA8D8AAAAAAADwPwAAAAAAAPA/AAAAAAAA8D8AAAAAAADwPwAAAAAAAPA/AAAAAAAA8D8AAAAAAADwPwAAAAAAAPA/AAAAAAAA8D8AAAAAAADwPwAAAAAAAPA/AAAAAAAA8D8AAAAAAADwPwAAAAAAAPA/AAAAAAAA8D8AAAAAAADwPwAAAAAAAPA/AAAAAAAA8D8AAAAAAADwPwAAAAAAAPA/AAAAAAAA8D8AAAAAAADwPwAAAAAAAPA/AAAAAAAA8D8AAAAAAADwPwAAAAAAAPA/AAAAAAAA8D8AAAAAAADwPwAAAAAAAPA/AAAAAAAA8D8AAAAAAADwPwAAAAAAAPA/AAAAAAAA8D8AAAAAAADwPwAAAAAAAPA/AAAAAAAA8D8AAAAAAADwPwAAAAAAAPA/",
           "dtype": "f8"
          },
          "colorbar": {
           "title": {
            "text": "Species"
           }
          },
          "colorscale": [
           [
            0,
            "#440154"
           ],
           [
            0.1111111111111111,
            "#482878"
           ],
           [
            0.2222222222222222,
            "#3e4989"
           ],
           [
            0.3333333333333333,
            "#31688e"
           ],
           [
            0.4444444444444444,
            "#26828e"
           ],
           [
            0.5555555555555556,
            "#1f9e89"
           ],
           [
            0.6666666666666666,
            "#35b779"
           ],
           [
            0.7777777777777778,
            "#6ece58"
           ],
           [
            0.8888888888888888,
            "#b5de2b"
           ],
           [
            1,
            "#fde725"
           ]
          ],
          "opacity": 0.8,
          "size": 4
         },
         "mode": "markers",
         "type": "scatter3d",
         "x": {
          "bdata": "3iG6vuVQmr4udVM/E+GKPotR+z4igKE93d6Xv7ormz+Mmwg/hYx8v4RDNMAMEkQ+mhMJP+nMrL+TK/I+u+Z0v90TZz4kwly8+PgcP+7y6z7n5IE/kAAVP/4/xL67IAQ/5UIov4dNPj83zmG/FQtYP/GR5T4ttB8/M9kkP0MBd71YZfI9J4olwKHpyr4nA28/w2WXPjKgR744Fga/D2GDv+Txvz7RNnQ/9rVcPrTYBD/jujs/0jRlP5wJ9D5gMek+03HbPiTg9D7FJ1M/Pd4yP9EyCsB/uzu+6p2bPsGP0b8GNQ2+uMM4wAD+ib9oCYi+gyljPqz12j6lEk3A+WMYP3MtA7+PrQA/vHAFP8VqxD7XvRQ/gC0cPZFkcz+5bQk/I7ZQvxqgDD+LqGw/2J4APfPW9D7RjU/A3qMNvxFvqz/L+tU+cA4KP3z6ij8sVAs/5SJ/Pw+ySr8vyE8/ATSPPzZO4z5Y3rc9yVs8QNLjzb/cQZg/ySAOv6CKlr9gEoQ/ZDeuP+dKjj/swhM/v8m4PjgwRMDF4JDAO/MdPxtKGz/Sy569XxuAPw4g2D0wdfi9B9YDPzBvBD/n2gM/0w4iPw3ZjT5tADs/Y9c9PyLxJT8awYo/HzRZP072BT8aOwM/p9iTP3jJiD9i8RO/Z5Z+v0vJgj8atPM+zv5SP9TxCT836Vc/7aMkQCyKgL6q+W49YVXNvvyEKL5xvWY/DmJ8Pi1n8j4BsI8/FoZXP2/AGj/qFaW9URm2Pnuz9D5kbkM/I2YEPwuPZD5lj28/c4GlPwy7UD/o61K+2SmSvgJnsT0k53M/37SyPiOx5L4w5+M+kaMZv4KMZ769j4S/iDW1PbpiBr6jm14/co8QP4JjOj8fzhq/5uqqPmOFdT+lHjQ+R9irPQh+FT/8bjg/",
          "dtype": "f4"
         },
         "y": {
          "bdata": "pcLAvdh1lr2Y1Os8NX8nvmClxry9x52+UgY+PryF2z5+kue9LcewvsfnFkCoSh09CnN0PVaTjT9jaaW+2VkUv5ZjKD1NJTu+5oXovXt/zb2KZkc+mJervRPkG75S8T09k43IvhWEHL46IQa/BIKvPchtqTwAzoy9dytPvpKriL6VWgM9l1ACQNZhcD7Mv/09VPznPEH7f77Q5O29vNWdPV1HU74alNA9+Uy7vtshRr6kiVA97D2/PaYT+L3/OCS+96CxvuaHpb1ehGe9rt29vQU1yT+x6rQ9QgSavjF7TT7pRZq+2ooev04ydL9GlIg7ECIDPRmUDr7Fb8o/gZd8vrP7gb2/i4I+sXR7viI+BL0AZ5q9BPBsvjo5hz4KX5O+akVxvlgw1L0XDcw91lD+PbXhGr6y13c/9LpRPiGs+T7hoie8LATYPKpzkT6Sdua9AFU4PiC7874yu8K8LbCMPkAJ1jx98cG+eugkv9D0hT4bV8o+A206PoTLmz4l6UE+kYIePwkPiD4pkya85Usfvn+2kL8llZa//51svm9kWL5dSEm+yU7cPkywmL29Aq+9vmw8vp61ij1eDNm9kyadvR2eK74ZJhi/EnzHvQQgD71NxnE+ED/OPXRxkTwtYKG9ohnIPhYCgD6iztO94uiVu6Ajez4VCBi+0ryiu1U3cL4arpM96r0Nv2to6z2JeM6+zGz7vQ67P75YFzE+tTuSviRiQL4wuqg+sHzsPP+hW7676W++MeA8vnedgb7Wu8i8yNHVvXPfAL5Ef609YYjvPtY8qr0Us8i/otDjPpf7gb6lNyo+za5QvIbc7jtSW++9+Arfvr3x2L2l/2k/VNv6vYQE270CD/c9ZOfePbyE6b11FoC+sSVCvp468D2m5yq+5pn2PYdyYDyqlWq9",
          "dtype": "f4"
         },
         "z": {
          "bdata": "YEkQPgBsiTsu1C++CFUdPOA1ZLy05XM9rTCBPkaC8L3whHO8nrMGPwQKk79gg7S8yHWkvbn/ur7iZ729BPnYv8AskTrQle284Tn5vRvwoL2xvUK+6qGYvSBn4zx8WZa8RmE1PobsAb4iirM+llXUvQEfN70AIN29ak88vuDbz7sv5j0+fI6LvwRMVb3gXcu7cenXvQDOcrwIxYg9MMRnPku2qL3CbRi+ABj7ubYtp70GqNa9PhoPvlY9ir3sKnq9njmRvXU5Ur1eDsi9vgPyvWxwYb9Au6U6nl2qvQTb4z1UGIg9OOxmP5brXT8Mz+Q9uT7SPaoATb36C52/poY8vprU1T0rYLO9TMybvN4Rx73gT3G9DDT5PU95+L2sWAa+rnkCP3dK0b29CsK9wvIFvcJpsL3coYO/IGpcvdaHur17Boy9/VQhvXdJF75wzDe94rsWvnff+j5w8iC+3/UZvrQuWb0gxI+7ZNxSPzEpiT4u1iO+CPnUPGxmfb2kJDi+TzcevuxpJ75foYu9ALT4OG1axT8wswVAGhgSvmuis72AjAM87WGCvj1D3712Bl09Os3evWYYsLxcCHS97NX1vLa1qr1PP8Y+iOfkvfJIuL0XKMe9up4WvtjgB72TW+i9EzgXvkx0H74Tkwg+d6U2Pvw83L3lJly9AKMevUQWAb6tXRm+DnpgP2RZaj1QzbA7wNYFPS7iij194RS+vHOFvDZ+a71gXuS9x54gviJDuL2ceoM87YucvLnomr3AfBe+LeKLvcqwWb1fWyi+2HcAvihdwb2L1wPAUA3cvIBn0rzc0hy+brB+vUkqgz2Kwai9y5y6PkbM2z3Z7bu+oK7iPCAQ3jtwKuk7TN7pvVBGvr0swxw+2WO3vdKsCb6kNCO9kgIIPfv2wL2WFSW+",
          "dtype": "f4"
         }
        }
       ],
       "layout": {
        "margin": {
         "b": 0,
         "l": 0,
         "r": 0,
         "t": 30
        },
        "scene": {
         "xaxis": {
          "title": {
           "text": "PC1"
          }
         },
         "yaxis": {
          "title": {
           "text": "PC2"
          }
         },
         "zaxis": {
          "title": {
           "text": "PC3"
          }
         }
        },
        "template": {
         "data": {
          "bar": [
           {
            "error_x": {
             "color": "#2a3f5f"
            },
            "error_y": {
             "color": "#2a3f5f"
            },
            "marker": {
             "line": {
              "color": "#E5ECF6",
              "width": 0.5
             },
             "pattern": {
              "fillmode": "overlay",
              "size": 10,
              "solidity": 0.2
             }
            },
            "type": "bar"
           }
          ],
          "barpolar": [
           {
            "marker": {
             "line": {
              "color": "#E5ECF6",
              "width": 0.5
             },
             "pattern": {
              "fillmode": "overlay",
              "size": 10,
              "solidity": 0.2
             }
            },
            "type": "barpolar"
           }
          ],
          "carpet": [
           {
            "aaxis": {
             "endlinecolor": "#2a3f5f",
             "gridcolor": "white",
             "linecolor": "white",
             "minorgridcolor": "white",
             "startlinecolor": "#2a3f5f"
            },
            "baxis": {
             "endlinecolor": "#2a3f5f",
             "gridcolor": "white",
             "linecolor": "white",
             "minorgridcolor": "white",
             "startlinecolor": "#2a3f5f"
            },
            "type": "carpet"
           }
          ],
          "choropleth": [
           {
            "colorbar": {
             "outlinewidth": 0,
             "ticks": ""
            },
            "type": "choropleth"
           }
          ],
          "contour": [
           {
            "colorbar": {
             "outlinewidth": 0,
             "ticks": ""
            },
            "colorscale": [
             [
              0,
              "#0d0887"
             ],
             [
              0.1111111111111111,
              "#46039f"
             ],
             [
              0.2222222222222222,
              "#7201a8"
             ],
             [
              0.3333333333333333,
              "#9c179e"
             ],
             [
              0.4444444444444444,
              "#bd3786"
             ],
             [
              0.5555555555555556,
              "#d8576b"
             ],
             [
              0.6666666666666666,
              "#ed7953"
             ],
             [
              0.7777777777777778,
              "#fb9f3a"
             ],
             [
              0.8888888888888888,
              "#fdca26"
             ],
             [
              1,
              "#f0f921"
             ]
            ],
            "type": "contour"
           }
          ],
          "contourcarpet": [
           {
            "colorbar": {
             "outlinewidth": 0,
             "ticks": ""
            },
            "type": "contourcarpet"
           }
          ],
          "heatmap": [
           {
            "colorbar": {
             "outlinewidth": 0,
             "ticks": ""
            },
            "colorscale": [
             [
              0,
              "#0d0887"
             ],
             [
              0.1111111111111111,
              "#46039f"
             ],
             [
              0.2222222222222222,
              "#7201a8"
             ],
             [
              0.3333333333333333,
              "#9c179e"
             ],
             [
              0.4444444444444444,
              "#bd3786"
             ],
             [
              0.5555555555555556,
              "#d8576b"
             ],
             [
              0.6666666666666666,
              "#ed7953"
             ],
             [
              0.7777777777777778,
              "#fb9f3a"
             ],
             [
              0.8888888888888888,
              "#fdca26"
             ],
             [
              1,
              "#f0f921"
             ]
            ],
            "type": "heatmap"
           }
          ],
          "histogram": [
           {
            "marker": {
             "pattern": {
              "fillmode": "overlay",
              "size": 10,
              "solidity": 0.2
             }
            },
            "type": "histogram"
           }
          ],
          "histogram2d": [
           {
            "colorbar": {
             "outlinewidth": 0,
             "ticks": ""
            },
            "colorscale": [
             [
              0,
              "#0d0887"
             ],
             [
              0.1111111111111111,
              "#46039f"
             ],
             [
              0.2222222222222222,
              "#7201a8"
             ],
             [
              0.3333333333333333,
              "#9c179e"
             ],
             [
              0.4444444444444444,
              "#bd3786"
             ],
             [
              0.5555555555555556,
              "#d8576b"
             ],
             [
              0.6666666666666666,
              "#ed7953"
             ],
             [
              0.7777777777777778,
              "#fb9f3a"
             ],
             [
              0.8888888888888888,
              "#fdca26"
             ],
             [
              1,
              "#f0f921"
             ]
            ],
            "type": "histogram2d"
           }
          ],
          "histogram2dcontour": [
           {
            "colorbar": {
             "outlinewidth": 0,
             "ticks": ""
            },
            "colorscale": [
             [
              0,
              "#0d0887"
             ],
             [
              0.1111111111111111,
              "#46039f"
             ],
             [
              0.2222222222222222,
              "#7201a8"
             ],
             [
              0.3333333333333333,
              "#9c179e"
             ],
             [
              0.4444444444444444,
              "#bd3786"
             ],
             [
              0.5555555555555556,
              "#d8576b"
             ],
             [
              0.6666666666666666,
              "#ed7953"
             ],
             [
              0.7777777777777778,
              "#fb9f3a"
             ],
             [
              0.8888888888888888,
              "#fdca26"
             ],
             [
              1,
              "#f0f921"
             ]
            ],
            "type": "histogram2dcontour"
           }
          ],
          "mesh3d": [
           {
            "colorbar": {
             "outlinewidth": 0,
             "ticks": ""
            },
            "type": "mesh3d"
           }
          ],
          "parcoords": [
           {
            "line": {
             "colorbar": {
              "outlinewidth": 0,
              "ticks": ""
             }
            },
            "type": "parcoords"
           }
          ],
          "pie": [
           {
            "automargin": true,
            "type": "pie"
           }
          ],
          "scatter": [
           {
            "fillpattern": {
             "fillmode": "overlay",
             "size": 10,
             "solidity": 0.2
            },
            "type": "scatter"
           }
          ],
          "scatter3d": [
           {
            "line": {
             "colorbar": {
              "outlinewidth": 0,
              "ticks": ""
             }
            },
            "marker": {
             "colorbar": {
              "outlinewidth": 0,
              "ticks": ""
             }
            },
            "type": "scatter3d"
           }
          ],
          "scattercarpet": [
           {
            "marker": {
             "colorbar": {
              "outlinewidth": 0,
              "ticks": ""
             }
            },
            "type": "scattercarpet"
           }
          ],
          "scattergeo": [
           {
            "marker": {
             "colorbar": {
              "outlinewidth": 0,
              "ticks": ""
             }
            },
            "type": "scattergeo"
           }
          ],
          "scattergl": [
           {
            "marker": {
             "colorbar": {
              "outlinewidth": 0,
              "ticks": ""
             }
            },
            "type": "scattergl"
           }
          ],
          "scattermap": [
           {
            "marker": {
             "colorbar": {
              "outlinewidth": 0,
              "ticks": ""
             }
            },
            "type": "scattermap"
           }
          ],
          "scattermapbox": [
           {
            "marker": {
             "colorbar": {
              "outlinewidth": 0,
              "ticks": ""
             }
            },
            "type": "scattermapbox"
           }
          ],
          "scatterpolar": [
           {
            "marker": {
             "colorbar": {
              "outlinewidth": 0,
              "ticks": ""
             }
            },
            "type": "scatterpolar"
           }
          ],
          "scatterpolargl": [
           {
            "marker": {
             "colorbar": {
              "outlinewidth": 0,
              "ticks": ""
             }
            },
            "type": "scatterpolargl"
           }
          ],
          "scatterternary": [
           {
            "marker": {
             "colorbar": {
              "outlinewidth": 0,
              "ticks": ""
             }
            },
            "type": "scatterternary"
           }
          ],
          "surface": [
           {
            "colorbar": {
             "outlinewidth": 0,
             "ticks": ""
            },
            "colorscale": [
             [
              0,
              "#0d0887"
             ],
             [
              0.1111111111111111,
              "#46039f"
             ],
             [
              0.2222222222222222,
              "#7201a8"
             ],
             [
              0.3333333333333333,
              "#9c179e"
             ],
             [
              0.4444444444444444,
              "#bd3786"
             ],
             [
              0.5555555555555556,
              "#d8576b"
             ],
             [
              0.6666666666666666,
              "#ed7953"
             ],
             [
              0.7777777777777778,
              "#fb9f3a"
             ],
             [
              0.8888888888888888,
              "#fdca26"
             ],
             [
              1,
              "#f0f921"
             ]
            ],
            "type": "surface"
           }
          ],
          "table": [
           {
            "cells": {
             "fill": {
              "color": "#EBF0F8"
             },
             "line": {
              "color": "white"
             }
            },
            "header": {
             "fill": {
              "color": "#C8D4E3"
             },
             "line": {
              "color": "white"
             }
            },
            "type": "table"
           }
          ]
         },
         "layout": {
          "annotationdefaults": {
           "arrowcolor": "#2a3f5f",
           "arrowhead": 0,
           "arrowwidth": 1
          },
          "autotypenumbers": "strict",
          "coloraxis": {
           "colorbar": {
            "outlinewidth": 0,
            "ticks": ""
           }
          },
          "colorscale": {
           "diverging": [
            [
             0,
             "#8e0152"
            ],
            [
             0.1,
             "#c51b7d"
            ],
            [
             0.2,
             "#de77ae"
            ],
            [
             0.3,
             "#f1b6da"
            ],
            [
             0.4,
             "#fde0ef"
            ],
            [
             0.5,
             "#f7f7f7"
            ],
            [
             0.6,
             "#e6f5d0"
            ],
            [
             0.7,
             "#b8e186"
            ],
            [
             0.8,
             "#7fbc41"
            ],
            [
             0.9,
             "#4d9221"
            ],
            [
             1,
             "#276419"
            ]
           ],
           "sequential": [
            [
             0,
             "#0d0887"
            ],
            [
             0.1111111111111111,
             "#46039f"
            ],
            [
             0.2222222222222222,
             "#7201a8"
            ],
            [
             0.3333333333333333,
             "#9c179e"
            ],
            [
             0.4444444444444444,
             "#bd3786"
            ],
            [
             0.5555555555555556,
             "#d8576b"
            ],
            [
             0.6666666666666666,
             "#ed7953"
            ],
            [
             0.7777777777777778,
             "#fb9f3a"
            ],
            [
             0.8888888888888888,
             "#fdca26"
            ],
            [
             1,
             "#f0f921"
            ]
           ],
           "sequentialminus": [
            [
             0,
             "#0d0887"
            ],
            [
             0.1111111111111111,
             "#46039f"
            ],
            [
             0.2222222222222222,
             "#7201a8"
            ],
            [
             0.3333333333333333,
             "#9c179e"
            ],
            [
             0.4444444444444444,
             "#bd3786"
            ],
            [
             0.5555555555555556,
             "#d8576b"
            ],
            [
             0.6666666666666666,
             "#ed7953"
            ],
            [
             0.7777777777777778,
             "#fb9f3a"
            ],
            [
             0.8888888888888888,
             "#fdca26"
            ],
            [
             1,
             "#f0f921"
            ]
           ]
          },
          "colorway": [
           "#636efa",
           "#EF553B",
           "#00cc96",
           "#ab63fa",
           "#FFA15A",
           "#19d3f3",
           "#FF6692",
           "#B6E880",
           "#FF97FF",
           "#FECB52"
          ],
          "font": {
           "color": "#2a3f5f"
          },
          "geo": {
           "bgcolor": "white",
           "lakecolor": "white",
           "landcolor": "#E5ECF6",
           "showlakes": true,
           "showland": true,
           "subunitcolor": "white"
          },
          "hoverlabel": {
           "align": "left"
          },
          "hovermode": "closest",
          "mapbox": {
           "style": "light"
          },
          "paper_bgcolor": "white",
          "plot_bgcolor": "#E5ECF6",
          "polar": {
           "angularaxis": {
            "gridcolor": "white",
            "linecolor": "white",
            "ticks": ""
           },
           "bgcolor": "#E5ECF6",
           "radialaxis": {
            "gridcolor": "white",
            "linecolor": "white",
            "ticks": ""
           }
          },
          "scene": {
           "xaxis": {
            "backgroundcolor": "#E5ECF6",
            "gridcolor": "white",
            "gridwidth": 2,
            "linecolor": "white",
            "showbackground": true,
            "ticks": "",
            "zerolinecolor": "white"
           },
           "yaxis": {
            "backgroundcolor": "#E5ECF6",
            "gridcolor": "white",
            "gridwidth": 2,
            "linecolor": "white",
            "showbackground": true,
            "ticks": "",
            "zerolinecolor": "white"
           },
           "zaxis": {
            "backgroundcolor": "#E5ECF6",
            "gridcolor": "white",
            "gridwidth": 2,
            "linecolor": "white",
            "showbackground": true,
            "ticks": "",
            "zerolinecolor": "white"
           }
          },
          "shapedefaults": {
           "line": {
            "color": "#2a3f5f"
           }
          },
          "ternary": {
           "aaxis": {
            "gridcolor": "white",
            "linecolor": "white",
            "ticks": ""
           },
           "baxis": {
            "gridcolor": "white",
            "linecolor": "white",
            "ticks": ""
           },
           "bgcolor": "#E5ECF6",
           "caxis": {
            "gridcolor": "white",
            "linecolor": "white",
            "ticks": ""
           }
          },
          "title": {
           "x": 0.05
          },
          "xaxis": {
           "automargin": true,
           "gridcolor": "white",
           "linecolor": "white",
           "ticks": "",
           "title": {
            "standoff": 15
           },
           "zerolinecolor": "white",
           "zerolinewidth": 2
          },
          "yaxis": {
           "automargin": true,
           "gridcolor": "white",
           "linecolor": "white",
           "ticks": "",
           "title": {
            "standoff": 15
           },
           "zerolinecolor": "white",
           "zerolinewidth": 2
          }
         }
        },
        "title": {
         "text": "Latent Space"
        }
       }
      }
     },
     "metadata": {},
     "output_type": "display_data"
    },
    {
     "data": {
      "application/vnd.plotly.v1+json": {
       "config": {
        "plotlyServerURL": "https://plot.ly"
       },
       "data": [
        {
         "marker": {
          "color": {
           "bdata": "AAAAAAAAAAAAAAAAAAAAAAAAAAAAAAAAAAAAAAAAAAAAAAAAAAAAAAAAAAAAAAAAAAAAAAAAAAAAAAAAAAAAAAAAAAAAAAAAAAAAAAAAAAAAAAAAAAAAAAAAAAAAAAAAAAAAAAAAAAAAAAAAAAAAAAAAAAAAAAAAAAAAAAAAAAAAAAAAAAAAAAAAAAAAAAAAAAAAAAAAAAAAAAAAAAAAAAAAAAAAAAAAAAAAAAAAAAAAAAAAAAAAAAAAAAAAAAAAAAAAAAAAAAAAAAAAAAAAAAAAAAAAAAAAAAAAAAAAAAAAAAAAAAAAAAAAAAAAAAAAAAAAAAAAAAAAAAAAAAAAAAAAAAAAAAAAAAAAAAAAAAAAAAAAAAAAAAAAAAAAAAAAAAAAAAAAAAAAAAAAAAAAAAAAAAAAAAAAAAAAAAAAAAAAAAAAAAAAAAAAAAAAAAAAAAAAAAAAAAAAAAAAAAAAAAAAAAAAAAAAAAAAAAAAAAAAAAAAAAAAAAAAAAAAAAAAAAAAAAAAAAAAAAAAAAAAAAAAAAAAAAAAAAAAAAAAAAAAAAAAAAAAAAAAAAAAAAAAAAAAAAAAAAAAAAAAAAAAAAAAAAAAAAAAAAAAAAAAAAAAAAAAAAAAAAAAAAAAAAAAAAAAAAAAAAAAAAAAAAAAAAAAAAAAAAAAAAAAAAAAAAAAAAAAAAAAAAAAAAAAAAAAAAAAAAAAAAAAAAAAAAAAAAAAAAAAAAAAAAAAAAAAAAAAAAAAAAAAAAAAAAAAAAAAAAAAAAAAAAAAAAAAAAAAAAAAAAAAAAAAAAAAAAAAAAAAAAAAAAAAAAAAAAAAAAAAAAAAAAAAAAAAAAAAAAAAAAAAAAAAAAAAAAAAAAAAAAAAAAAAAAAAAAAAAAAAAAAAAAAAAAAAAAAAAAAAAAAAAAAAAAAAAAAAAAAAAAAAAAAAAAAAAAAAAAAAAAAAAAAAAAAAAAAAAAAAAAAAAAAAAAAAAAAAAAAAAAAAAAAAAAAAAAAAAAAAAAAAAAAAAAAAAAAAAAAAAAAAAAAAAAAAAAAAAAAAAAAAAAAAAAAAAAAAAAAAAAAAAAAAAAAAAAAAAAAAAAAAAAAAAAAAAAAAAAAAAAAAAAAAAAAAAAAAAAAAAAAAAAAAAAAAAAAAAAAAAAAAAAAAAAAAAAAAAAAAAAAAAAAAAAAAAAAAAAAAAAAAAAAAAAAAAAAAAAAAAAAAAAAAAAAAAAAAAAAAAAAAAAAAAAAAAAAAAAAAAAAAAAAAAAAAAAAAAAAAAAAAAAAAAAAAAAAAAAAAAAAAAAAAAAAAAAAAAAAAAAAAAAAAAAAAAAAAAAAAAAAAAAAAAAAAAAAAAAAAAAAAAAAAAAAAAAAAAAAAAAAAAAAAAAAAAAAAAAAAAAAAAAAAAAAAAAAAAAAAAAAAAAAAAAAAAAAAAAAAAAAAAAAAAAAAAAAAAAAAAAAAAAAAAAAAAAAAAAAAAAAAAAAAAAAAAAAAAAAAAAAAAAAAAAAAAAAAAAAAAAAAAAAAAAAAAAAAAAAAAAAAAAAAAAAAAAAAAAAAAAAAAAAAAAAAAAAAAAAAAAAAAAAAAAAAAAAAAAAAAAAAAAAAAAAAAAAAAAAAAAAAAAAAAAAAAAAAAAAAAAAAAAAAAAAAAAAAAAAAAAAAAAAAAAAAAAAAAAAAAAAAAAAAAAAAAAAAAAAAAAAAAAAAAAAAAAAAAAAAAAAAAAAAAAAAAAAAAAAAAAAAAAAAAAAAAAAAAAAAAAAAAAAAAAAAAAAAAAAAAAAAAAAAAAAAAAAAAAAAAAAAAAAAAAAAAAAAAAAAAAAAAAAAAAAAAAAAAAAAAAAAAAAAAAAAAAAAAAAAAAAAAAAAAAAAAAAAAAAAAAAAAAAAAAAAAAAAAAAAAAAAAAAAAAAAAAAAAAAAAAAAAAAAAAAAAAAAAAAAAAAAAAAAAAAAAAAAAAAAAAAAAAAAAAAAAAAAAAAAAAAAAAAAAAAAAAAAAAAAAAAAAAAAAAAAAAAAAAAAAAAAAAAAAAAAAAAAAAAAAAAAAAAAAAAAAAAAAAAAAAAAAAAAAAAAAAAAAAAAAAAAAAAAAAAAAAAAAAAAAAAAAAAAAAAAAAAAAAAAAAAAAAAAAAAAAAAAAAAAAAAAAAAAAAAAAAAAAAAAAAAAAAAAAAAAAAAAAAAAAAAAAAAAAAAAAAAAAAAAAAAAAAAAAAAAAAAAAAAAAAAAAAAAAAAAAAAAAAAAAAAAAAAAAAAAAAAAAAAAAAAAAAAAAAAAAAAAAAAAAAAAAAAAAAAAAAAAAAAAAAAAAAAAAAAAAAAAAAAAAAAAAAAAAAAAAAAAAAAAAAAAAAAAAAAAAAAAAAAAAAAAAAAAAAAAAAAAAAAAAAAAAAAAAAAAAAAAAAAAAAAAAAAAAAAAAAAAAAAAAAAAAAAAAAAAAAAAAAAAAAAAAAAAAAAAAAAAAAAAAAAAAAAAAAAAAAAAAAAAAAAAAAAAAAAAAAAAAAAAAAAAAAAAAAAAAAAAAAAAAAAAAAAAAAAAAAAAAAAAAAAAAAAAAAAAAAAAAAAAAAAAAAAAAAAAAAAAAAAAAAAAAAAAAAAAAAAAAAAAAAAAAAAAAAAAAAAAAAAAAAAAAAAAAAAAAAAAAAAAAAAAAAAAAAAAAAAAAAAAAAAAAAAAAAAAAAAAAAAAAAAAAAAAAAAAAAAAAAAAAAAAAAAAAAAAAAAAAAAAAAAAAAAAAAAAAAAAAAAAAAAAAAAAAAAAAAAAAAAAAAAAAAAAAAAAAAAAAAAAAAAAAAAAAAAAAAAAAAAAAAAAAAAAAAAAAAAAAAAAAAAAAAAAAAAAAAAAAAAAAAAAAAAAAAAAAAAAAAAAAAAAAAAAAAAAAAAAAAAAAAAAAAAAAAAAAAAAAAAAAAAAAAAAAAAAAAAAAAAAAAAAAAAAAAAAAAAAAAAAAAAAAAAAAAAAAAAAAAAAAAAAAAAAAAAAAAAAAAAAAAAAAAAAAAAAAAAAAAAAAAAAAAAAAAAAAAAAAAAAAAAAAAAAAAAAAAAAAAAAAAAAAAAAAAAAAAAAAAAAAAAAAAAAAAAAAAAAAAAAAAAAAAAAAAAAAAAAAAAAAAAAAAAAAAAAAAAAAAAAAAAAAAAAAAAAAAAAAAAAAAAAAAAAAAAAAAAAAAAAAAAAAAAAAAAAAAAAAAAAAAAAAAAAAAAAAAAAAAAAAAAAAAAAAAAAAAAAAAAAAAAAAAAAAAAAAAAAAAAAAAAAAAAAAAAAAAAAAAAAAAAAAAAAAAAAAAAAAAAAAAAAAAAAAAAAAAAAAAAAAAAAAAAAAAAAAAAAAAAAAAAAAAAAAAAAAAAAAAAAAAAAAAAAAAAAAAAAAAAAAAAAAAAAAAAAAAAAAAAAAAAAAAAAAAAAAAAAAAAAAAAAAAAAAAAAAAAAAAAAAAAAAAAAAAAAAAAAAAAAAAAAAAAAAAAAAAAAAAAAAAAAAAAAAAAAAAAAAAAAAAAAAAAAAAAAAAAAAAAAAAAAAAAAAAAAAAAAAAAAAAAAAAAAAAAAAAAAAAAAAAAAAAAAAAAAAAAAAAAAAAAAAAAAAAAAAAAAAAAAAAAAAAAAAAAAAAAAAAAAAAAAAAAAAAAAAAAAAAAAAAAAAAAAAAAAAAAAAAAAAAAAAAAAAAAAAAAAAAAAAAAAAAAAAAAAAAAAAAAAAAAAAAAAAAAAAAAAAAAAAAAAAAAAAAAAAAAAAAAAAAAAAAAAAAAAAAAAAAAAAAAAAAAAAAAAAAAAAAAAAAAAAAAAAAAAAAAAAAAAAAAAAAAAAAAAAAAAAAAAAAAAAAAAAAAAAAAAAAAAAAAAAAAAAAAAAAAAAAAAAAAAAAAAAAAAAAAAAAAAAAAAAAAAAAAAAAAAAAAAAAAAAAAAAAAAAAAAAAAAAAAAAAAAAAAAAAAAAAAAAAAAAAAAAAAAAAAAAAAAAAAAAAAAAAAAAAAAAAAAAAAAAAAAAAAAAAAAAAAAAAAAAAAAAAAAAAAAAAAAAAAAAAAAAAAAAAAAAAAAAAAAAAAAAAAAAAAAAAAAAAAAAAAAAAAAAAAAAAAAAAAAAAAAAAAAAAAAAAAAAAAAAAAAAAAAAAAAAAAAAAAAAAAAAAAAAAAAAAAAAAAAAAAAAAAAAAAAAAAAAAAAAAAAAAAAAAAAAAAAAAAAAAAAAAAAAAAAAAAAAAAAAAAAAAAAAAAAAAAAAAAAAAAAAAAAAAAAAAAAAAAAAAAAAAAAAAAAAAAAAAAAAAAAAAAAAAAAAAAAAAAAAAAAAAAAAAAAAAAAAAAAAAAAAAAAAAAAAAAAAAAAAAAAAAAAAAAAAAAAAAAAAAAAAAAAAAAAAAAAAAAAAAAAAAAAAAAAAAAAAAAAAAAAAAAAAAAAAAAAAAAAAAAAAAAAAAAAAAAAAAAAAAAAAAAAAAAAAAAAAAAAAAAAAAAAAAAAAAAAAAAAAAAAAAAAAAAAAAAAAAAAAAAAAAAAAAAAAAAAAAAAAAAAAAAAAAAAAAAAAAAAAAAAAAAAAAAAAAAAAAAAAAAAAAAAAAAAAAAAAAAAAAAAAAAAAAAAAAAAAAAAAAAAAAAAAAAAAAAAAAAAAAAAAAAAAAAAAAAAAAAAAAAAAAAAAAAAAAAAAAAAAAAAAAAAAAAAAAAAAAAAAAAAAAAAAAAAAAAAAAAAAAAAAAAAAAAAAAAAAAAAAAAAAAAAAAAAAAAAAAAAAAAAAAAAAAAAAAAAAAAAAAAAAAAAAAAAAAAAAAAAAAAAAAAAAAAAAAAAAAAAAAAAAAAAAAAAAAAAAAAAAAAAAAAAAAAAAAAAAAAAAAAAAAAAAAAAAAAAAAAAAAAAAAAAAAAAAAAAAAAAAAAAAAAAAAAAAAAAAAAAAAAAAAAAAAAAAAAAAAAAAAAAAAAAAAAAAAAAAAAAAAAAAAAAAAAAAAAAAAAAAAAAAAAAAAAAAAAAAAAAAAAAAAAAAAAAAAAAAAAAAAAAAAAAAAAAAAAAAAAAAAAAAAAAAAAAAAAAAAAAAAAAAAAAAAAAAAAAAAAAAAAAAAAAAAAAAAAAAAAAAAAAAAAAAAAAAAAAAAAAAAAAAAAAAAAAAAAAAAAAAAAAAAAAAAAAAAAAAAAAAAAAAAAAAAAAAAAAAAAAAAAAAAAAAAAAAAAAAAAAAAAAAAAAAAAAAAAAAAAAAAAAAAAAAAAAAAAAAAAAAAAAAAAAAAAAAAAAAAAAAAAAAAAAAAAAAAAAAAAAAAAAAAAAAAAAAAAAAAAAAAAAAAAAAAAAAAAAAAAAAAAAAAAAAAAAAAAAAAAAAAAAAAAAAAAAAAAAAAAAAAAAAAAAAAAAAAAAAAAAAAAAAAAAAAAAAAAAAAAAAAAAAAAAAAAAAAAAAAAAAAAAAAAAAAAAAAAAAAAAAAAAAAAAAAAAAAAAAAAAAAAAAAAAAAAAAAAAAAAAAAAAAAAAAAAAAAAAAAAAAAAAAAAAAAAAAAAAAAAAAAAAAAAAAAAAAAAAAAAAAAAAAAAAAAAAAAAAAAAAAAAAAAAAAAAAAAAAAAAAAAAAAAAAAAAAAAAAAAAAAAAAAAAAAAAAAAAAAAAAAAAAAAAAAAAAAAAAAAAAAAAAAAAAAAAAAAAAAAAAAAAAAAAAAAAAAAAAAAAAAAAAAAAAAAAAAAAAAAAAAAAAAAAAAAAAAAAAAAAAAAAAAAAAAAAAAAAAAAAAAAAAAAAAAAAAAAAAAAAAAAAAAAAAAAAAAAAAAAAAAAAAAAAAAAAAAAAAAAAAAAAAAAAAAAAAAAAAAAAAAAAAAAAAAAAAAAAAAAAAAAAAAAAAAAAAAAAAAAAAAAAAAAAAAAAAAAAAAAAAAAAAAAAAAAAAAAAAAAAAAAAAAAAAAAAAAAAAAAAAAAAAAAAAAAAAAAAAAAAAAAAAAAAAAAAAAAAAAAAAAAAAAAAAAAAAAAAAAAAAAAAAAAAAAAAAAAAAAAAAAAAAAAAAAAAAAAAAAAAAAAAAAAAAAAAAAAAAAAAAAAAAAAAAAAAAAAAAAAAAAAAAAAAAAAAAAAAAAAAAAAAAAAAAAAAAAAAAAAAAAAAAAAAAAAAAAAAAAAAAAAAAAAAAAAAAAAAAAAAAAAAAAAAAAAAAAAAAAAAAAAAAAAAAAAAAAAAAAAAAAAAAAAAAAAAAAAAAAAAAAAAAAAAAAAAAAAAAAAAAAAAAAAAAAAAAAAAAAAAAAAAAAAAAAAAAAAAAAAAAAAAAAAAAAAAAAAAAAAAAAAAAAAAAAAAAAAAAAAAAAAAAAAAAAAAAAAAAAAAAAAAAAAAAAAAAAAAAAAAAAAAAAAAAAAAAAAAAAAAAAAAAAAAAAAAAAAAAAAAAAAAAAAAAAAAAAAAAAAAAAAAAAAAAAAAAAAAAAAAAAAAAAAAAAAAAAAAAAAAAAAAAAAAAAAAAAAAAAAAAAAAAAAAAAAAAAAAAAAAAAAAAAAAAAAAAAAAAAAAAAAAAAAAAAAAAAAAAAAAAAAAAAAAAAAAAAAAAAAAAAAAAAAAAAAAAAAAAAAAAAAAAAAAAAAAAAAAAAAAAAAAAAAAAAAAAAAAAAAAAAAAAAAAAAAAAAAAAAAAAAAAAAAAAAAAAAAAAAAAAAAAAAAAAAAAAAAAAAAAAAAAAAAAAAAAAAAAAAAAAAAAAAAAAAAAAAAAAAAAAAAAAAAAAAAAAAAAAAAAAAAAAAAAAAAAAAAAAAAAAAAAAAAAAAAAAAAAAAAAAAAAAAAAAAAAAAAAAAAAAAAAAAAAAAAAAAAAAAAAAAAAAAAAAAAAAAAAAAAAAAAAAAAAAAAAAAAAAAAAAAAAAAAAAAAAAAAAAAAAAAAAAAAAAAAAAAAAAAAAAAAAAAAAAAAAAAAAAAAAAAAAAAAAAAAAAAAAAAAAAAAAAAAAAAAAAAAAAAAAAAAAAAAAAAAAAAAAAAAAAAAAAAAAAAAAAAAAAAAAAAAAAAAAAAAAAAAAAAAAAAAAAAAAAAAAAAAAAAAAAAAAAAAAAAAAAAAAAAAAAAAAAAAAAAAAAAAAAAAAAAAAAAAAAAAAAAAAAAAAAAAAAAAAAAAAAAAAAAAAAAAAAAAAAAAAAAAAAAAAAAAAAAAAAAAAAAAAAAAAAAAAAAAAAAAAAAAAAAAAAAAAAAAAAAAAAAAAAAAAAAAAAAAAAAAAAAAAAAAAAAAAAAAAAAAAAAAAAAAAAAAAAAAAAAAAAAAAAAAAAAAAAAAAAAAAAAAAAAAAAAAAAAAAAAAAAAAAAAAAAAAAAAAAAAAAAAAAAAAAAAAAAAAAAAAAAAAAAAAAAAAAAAAAAAAAAAAAAAAAAAAAAAAAAAAAAAAAAAAAAAAAAAAAAAAAAAAAAAAAAAAAAAAAAAAAAAAAAAAAAAAAAAAAAAAAAAAAAAAAAAAAA",
           "dtype": "f8"
          },
          "colorbar": {
           "title": {
            "text": "Species"
           }
          },
          "colorscale": [
           [
            0,
            "#440154"
           ],
           [
            0.1111111111111111,
            "#482878"
           ],
           [
            0.2222222222222222,
            "#3e4989"
           ],
           [
            0.3333333333333333,
            "#31688e"
           ],
           [
            0.4444444444444444,
            "#26828e"
           ],
           [
            0.5555555555555556,
            "#1f9e89"
           ],
           [
            0.6666666666666666,
            "#35b779"
           ],
           [
            0.7777777777777778,
            "#6ece58"
           ],
           [
            0.8888888888888888,
            "#b5de2b"
           ],
           [
            1,
            "#fde725"
           ]
          ],
          "opacity": 0.8,
          "size": 4
         },
         "mode": "markers",
         "type": "scatter3d",
         "x": {
          "bdata": "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",
          "dtype": "f4"
         },
         "y": {
          "bdata": "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",
          "dtype": "f4"
         },
         "z": {
          "bdata": "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",
          "dtype": "f4"
         }
        }
       ],
       "layout": {
        "margin": {
         "b": 0,
         "l": 0,
         "r": 0,
         "t": 30
        },
        "scene": {
         "xaxis": {
          "title": {
           "text": "PC1"
          }
         },
         "yaxis": {
          "title": {
           "text": "PC2"
          }
         },
         "zaxis": {
          "title": {
           "text": "PC3"
          }
         }
        },
        "template": {
         "data": {
          "bar": [
           {
            "error_x": {
             "color": "#2a3f5f"
            },
            "error_y": {
             "color": "#2a3f5f"
            },
            "marker": {
             "line": {
              "color": "#E5ECF6",
              "width": 0.5
             },
             "pattern": {
              "fillmode": "overlay",
              "size": 10,
              "solidity": 0.2
             }
            },
            "type": "bar"
           }
          ],
          "barpolar": [
           {
            "marker": {
             "line": {
              "color": "#E5ECF6",
              "width": 0.5
             },
             "pattern": {
              "fillmode": "overlay",
              "size": 10,
              "solidity": 0.2
             }
            },
            "type": "barpolar"
           }
          ],
          "carpet": [
           {
            "aaxis": {
             "endlinecolor": "#2a3f5f",
             "gridcolor": "white",
             "linecolor": "white",
             "minorgridcolor": "white",
             "startlinecolor": "#2a3f5f"
            },
            "baxis": {
             "endlinecolor": "#2a3f5f",
             "gridcolor": "white",
             "linecolor": "white",
             "minorgridcolor": "white",
             "startlinecolor": "#2a3f5f"
            },
            "type": "carpet"
           }
          ],
          "choropleth": [
           {
            "colorbar": {
             "outlinewidth": 0,
             "ticks": ""
            },
            "type": "choropleth"
           }
          ],
          "contour": [
           {
            "colorbar": {
             "outlinewidth": 0,
             "ticks": ""
            },
            "colorscale": [
             [
              0,
              "#0d0887"
             ],
             [
              0.1111111111111111,
              "#46039f"
             ],
             [
              0.2222222222222222,
              "#7201a8"
             ],
             [
              0.3333333333333333,
              "#9c179e"
             ],
             [
              0.4444444444444444,
              "#bd3786"
             ],
             [
              0.5555555555555556,
              "#d8576b"
             ],
             [
              0.6666666666666666,
              "#ed7953"
             ],
             [
              0.7777777777777778,
              "#fb9f3a"
             ],
             [
              0.8888888888888888,
              "#fdca26"
             ],
             [
              1,
              "#f0f921"
             ]
            ],
            "type": "contour"
           }
          ],
          "contourcarpet": [
           {
            "colorbar": {
             "outlinewidth": 0,
             "ticks": ""
            },
            "type": "contourcarpet"
           }
          ],
          "heatmap": [
           {
            "colorbar": {
             "outlinewidth": 0,
             "ticks": ""
            },
            "colorscale": [
             [
              0,
              "#0d0887"
             ],
             [
              0.1111111111111111,
              "#46039f"
             ],
             [
              0.2222222222222222,
              "#7201a8"
             ],
             [
              0.3333333333333333,
              "#9c179e"
             ],
             [
              0.4444444444444444,
              "#bd3786"
             ],
             [
              0.5555555555555556,
              "#d8576b"
             ],
             [
              0.6666666666666666,
              "#ed7953"
             ],
             [
              0.7777777777777778,
              "#fb9f3a"
             ],
             [
              0.8888888888888888,
              "#fdca26"
             ],
             [
              1,
              "#f0f921"
             ]
            ],
            "type": "heatmap"
           }
          ],
          "histogram": [
           {
            "marker": {
             "pattern": {
              "fillmode": "overlay",
              "size": 10,
              "solidity": 0.2
             }
            },
            "type": "histogram"
           }
          ],
          "histogram2d": [
           {
            "colorbar": {
             "outlinewidth": 0,
             "ticks": ""
            },
            "colorscale": [
             [
              0,
              "#0d0887"
             ],
             [
              0.1111111111111111,
              "#46039f"
             ],
             [
              0.2222222222222222,
              "#7201a8"
             ],
             [
              0.3333333333333333,
              "#9c179e"
             ],
             [
              0.4444444444444444,
              "#bd3786"
             ],
             [
              0.5555555555555556,
              "#d8576b"
             ],
             [
              0.6666666666666666,
              "#ed7953"
             ],
             [
              0.7777777777777778,
              "#fb9f3a"
             ],
             [
              0.8888888888888888,
              "#fdca26"
             ],
             [
              1,
              "#f0f921"
             ]
            ],
            "type": "histogram2d"
           }
          ],
          "histogram2dcontour": [
           {
            "colorbar": {
             "outlinewidth": 0,
             "ticks": ""
            },
            "colorscale": [
             [
              0,
              "#0d0887"
             ],
             [
              0.1111111111111111,
              "#46039f"
             ],
             [
              0.2222222222222222,
              "#7201a8"
             ],
             [
              0.3333333333333333,
              "#9c179e"
             ],
             [
              0.4444444444444444,
              "#bd3786"
             ],
             [
              0.5555555555555556,
              "#d8576b"
             ],
             [
              0.6666666666666666,
              "#ed7953"
             ],
             [
              0.7777777777777778,
              "#fb9f3a"
             ],
             [
              0.8888888888888888,
              "#fdca26"
             ],
             [
              1,
              "#f0f921"
             ]
            ],
            "type": "histogram2dcontour"
           }
          ],
          "mesh3d": [
           {
            "colorbar": {
             "outlinewidth": 0,
             "ticks": ""
            },
            "type": "mesh3d"
           }
          ],
          "parcoords": [
           {
            "line": {
             "colorbar": {
              "outlinewidth": 0,
              "ticks": ""
             }
            },
            "type": "parcoords"
           }
          ],
          "pie": [
           {
            "automargin": true,
            "type": "pie"
           }
          ],
          "scatter": [
           {
            "fillpattern": {
             "fillmode": "overlay",
             "size": 10,
             "solidity": 0.2
            },
            "type": "scatter"
           }
          ],
          "scatter3d": [
           {
            "line": {
             "colorbar": {
              "outlinewidth": 0,
              "ticks": ""
             }
            },
            "marker": {
             "colorbar": {
              "outlinewidth": 0,
              "ticks": ""
             }
            },
            "type": "scatter3d"
           }
          ],
          "scattercarpet": [
           {
            "marker": {
             "colorbar": {
              "outlinewidth": 0,
              "ticks": ""
             }
            },
            "type": "scattercarpet"
           }
          ],
          "scattergeo": [
           {
            "marker": {
             "colorbar": {
              "outlinewidth": 0,
              "ticks": ""
             }
            },
            "type": "scattergeo"
           }
          ],
          "scattergl": [
           {
            "marker": {
             "colorbar": {
              "outlinewidth": 0,
              "ticks": ""
             }
            },
            "type": "scattergl"
           }
          ],
          "scattermap": [
           {
            "marker": {
             "colorbar": {
              "outlinewidth": 0,
              "ticks": ""
             }
            },
            "type": "scattermap"
           }
          ],
          "scattermapbox": [
           {
            "marker": {
             "colorbar": {
              "outlinewidth": 0,
              "ticks": ""
             }
            },
            "type": "scattermapbox"
           }
          ],
          "scatterpolar": [
           {
            "marker": {
             "colorbar": {
              "outlinewidth": 0,
              "ticks": ""
             }
            },
            "type": "scatterpolar"
           }
          ],
          "scatterpolargl": [
           {
            "marker": {
             "colorbar": {
              "outlinewidth": 0,
              "ticks": ""
             }
            },
            "type": "scatterpolargl"
           }
          ],
          "scatterternary": [
           {
            "marker": {
             "colorbar": {
              "outlinewidth": 0,
              "ticks": ""
             }
            },
            "type": "scatterternary"
           }
          ],
          "surface": [
           {
            "colorbar": {
             "outlinewidth": 0,
             "ticks": ""
            },
            "colorscale": [
             [
              0,
              "#0d0887"
             ],
             [
              0.1111111111111111,
              "#46039f"
             ],
             [
              0.2222222222222222,
              "#7201a8"
             ],
             [
              0.3333333333333333,
              "#9c179e"
             ],
             [
              0.4444444444444444,
              "#bd3786"
             ],
             [
              0.5555555555555556,
              "#d8576b"
             ],
             [
              0.6666666666666666,
              "#ed7953"
             ],
             [
              0.7777777777777778,
              "#fb9f3a"
             ],
             [
              0.8888888888888888,
              "#fdca26"
             ],
             [
              1,
              "#f0f921"
             ]
            ],
            "type": "surface"
           }
          ],
          "table": [
           {
            "cells": {
             "fill": {
              "color": "#EBF0F8"
             },
             "line": {
              "color": "white"
             }
            },
            "header": {
             "fill": {
              "color": "#C8D4E3"
             },
             "line": {
              "color": "white"
             }
            },
            "type": "table"
           }
          ]
         },
         "layout": {
          "annotationdefaults": {
           "arrowcolor": "#2a3f5f",
           "arrowhead": 0,
           "arrowwidth": 1
          },
          "autotypenumbers": "strict",
          "coloraxis": {
           "colorbar": {
            "outlinewidth": 0,
            "ticks": ""
           }
          },
          "colorscale": {
           "diverging": [
            [
             0,
             "#8e0152"
            ],
            [
             0.1,
             "#c51b7d"
            ],
            [
             0.2,
             "#de77ae"
            ],
            [
             0.3,
             "#f1b6da"
            ],
            [
             0.4,
             "#fde0ef"
            ],
            [
             0.5,
             "#f7f7f7"
            ],
            [
             0.6,
             "#e6f5d0"
            ],
            [
             0.7,
             "#b8e186"
            ],
            [
             0.8,
             "#7fbc41"
            ],
            [
             0.9,
             "#4d9221"
            ],
            [
             1,
             "#276419"
            ]
           ],
           "sequential": [
            [
             0,
             "#0d0887"
            ],
            [
             0.1111111111111111,
             "#46039f"
            ],
            [
             0.2222222222222222,
             "#7201a8"
            ],
            [
             0.3333333333333333,
             "#9c179e"
            ],
            [
             0.4444444444444444,
             "#bd3786"
            ],
            [
             0.5555555555555556,
             "#d8576b"
            ],
            [
             0.6666666666666666,
             "#ed7953"
            ],
            [
             0.7777777777777778,
             "#fb9f3a"
            ],
            [
             0.8888888888888888,
             "#fdca26"
            ],
            [
             1,
             "#f0f921"
            ]
           ],
           "sequentialminus": [
            [
             0,
             "#0d0887"
            ],
            [
             0.1111111111111111,
             "#46039f"
            ],
            [
             0.2222222222222222,
             "#7201a8"
            ],
            [
             0.3333333333333333,
             "#9c179e"
            ],
            [
             0.4444444444444444,
             "#bd3786"
            ],
            [
             0.5555555555555556,
             "#d8576b"
            ],
            [
             0.6666666666666666,
             "#ed7953"
            ],
            [
             0.7777777777777778,
             "#fb9f3a"
            ],
            [
             0.8888888888888888,
             "#fdca26"
            ],
            [
             1,
             "#f0f921"
            ]
           ]
          },
          "colorway": [
           "#636efa",
           "#EF553B",
           "#00cc96",
           "#ab63fa",
           "#FFA15A",
           "#19d3f3",
           "#FF6692",
           "#B6E880",
           "#FF97FF",
           "#FECB52"
          ],
          "font": {
           "color": "#2a3f5f"
          },
          "geo": {
           "bgcolor": "white",
           "lakecolor": "white",
           "landcolor": "#E5ECF6",
           "showlakes": true,
           "showland": true,
           "subunitcolor": "white"
          },
          "hoverlabel": {
           "align": "left"
          },
          "hovermode": "closest",
          "mapbox": {
           "style": "light"
          },
          "paper_bgcolor": "white",
          "plot_bgcolor": "#E5ECF6",
          "polar": {
           "angularaxis": {
            "gridcolor": "white",
            "linecolor": "white",
            "ticks": ""
           },
           "bgcolor": "#E5ECF6",
           "radialaxis": {
            "gridcolor": "white",
            "linecolor": "white",
            "ticks": ""
           }
          },
          "scene": {
           "xaxis": {
            "backgroundcolor": "#E5ECF6",
            "gridcolor": "white",
            "gridwidth": 2,
            "linecolor": "white",
            "showbackground": true,
            "ticks": "",
            "zerolinecolor": "white"
           },
           "yaxis": {
            "backgroundcolor": "#E5ECF6",
            "gridcolor": "white",
            "gridwidth": 2,
            "linecolor": "white",
            "showbackground": true,
            "ticks": "",
            "zerolinecolor": "white"
           },
           "zaxis": {
            "backgroundcolor": "#E5ECF6",
            "gridcolor": "white",
            "gridwidth": 2,
            "linecolor": "white",
            "showbackground": true,
            "ticks": "",
            "zerolinecolor": "white"
           }
          },
          "shapedefaults": {
           "line": {
            "color": "#2a3f5f"
           }
          },
          "ternary": {
           "aaxis": {
            "gridcolor": "white",
            "linecolor": "white",
            "ticks": ""
           },
           "baxis": {
            "gridcolor": "white",
            "linecolor": "white",
            "ticks": ""
           },
           "bgcolor": "#E5ECF6",
           "caxis": {
            "gridcolor": "white",
            "linecolor": "white",
            "ticks": ""
           }
          },
          "title": {
           "x": 0.05
          },
          "xaxis": {
           "automargin": true,
           "gridcolor": "white",
           "linecolor": "white",
           "ticks": "",
           "title": {
            "standoff": 15
           },
           "zerolinecolor": "white",
           "zerolinewidth": 2
          },
          "yaxis": {
           "automargin": true,
           "gridcolor": "white",
           "linecolor": "white",
           "ticks": "",
           "title": {
            "standoff": 15
           },
           "zerolinecolor": "white",
           "zerolinewidth": 2
          }
         }
        },
        "title": {
         "text": "Latent Space"
        }
       }
      }
     },
     "metadata": {},
     "output_type": "display_data"
    }
   ],
   "source": [
    "model.eval()\n",
    "latents = []\n",
    "\n",
    "with torch.no_grad():\n",
    "    for batch in loader:\n",
    "        x_batch = batch[0].to(DEVICE)\n",
    "        enc = model.encoder(x_batch)\n",
    "        enc_flat = enc.view(x_batch.size(0), -1)\n",
    "        mu = model.fc_mu(enc_flat)\n",
    "        latents.append(mu.cpu().numpy())\n",
    "        \n",
    "\n",
    "latents = np.concatenate(latents, axis=0)\n",
    "\n",
    "assert latents.shape[0] == len(labels)\n",
    "\n",
    "#pca = PCA(n_components=3)\n",
    "#z_pca = pca.fit_transform(latents)\n",
    "\n",
    "\n",
    "fig = go.Figure(data=[go.Scatter3d(\n",
    "    x=latents[:, 0],\n",
    "    y=latents[:, 1],\n",
    "    z=latents[:, 2],\n",
    "    mode='markers',\n",
    "    marker=dict(\n",
    "        size=4,\n",
    "        color=labels,\n",
    "        colorscale='viridis',\n",
    "        opacity=0.8,\n",
    "        colorbar=dict(title='Species')\n",
    "    )\n",
    ")])\n",
    "\n",
    "fig.update_layout(\n",
    "    scene=dict(\n",
    "        xaxis_title='PC1',\n",
    "        yaxis_title='PC2',\n",
    "        zaxis_title='PC3'\n",
    "    ),\n",
    "    title='Latent Space',\n",
    "    margin=dict(l=0, r=0, b=0, t=30)\n",
    ")\n",
    "\n",
    "fig.show()\n",
    "\n",
    "\n",
    "fig = go.Figure(data=[go.Scatter3d(\n",
    "    x=latents[:, 0][labels!=0],\n",
    "    y=latents[:, 1][labels!=0],\n",
    "    z=latents[:, 2][labels!=0],\n",
    "    mode='markers',\n",
    "    marker=dict(\n",
    "        size=4,\n",
    "        color=labels[labels!=0],\n",
    "        colorscale='viridis',\n",
    "        opacity=0.8,\n",
    "        colorbar=dict(title='Species')\n",
    "    )\n",
    ")])\n",
    "\n",
    "fig.update_layout(\n",
    "    scene=dict(\n",
    "        xaxis_title='PC1',\n",
    "        yaxis_title='PC2',\n",
    "        zaxis_title='PC3'\n",
    "    ),\n",
    "    title='Latent Space',\n",
    "    margin=dict(l=0, r=0, b=0, t=30)\n",
    ")\n",
    "\n",
    "fig.show()\n",
    "\n",
    "fig = go.Figure(data=[go.Scatter3d(\n",
    "    x=latents[:, 0][labels!=1],\n",
    "    y=latents[:, 1][labels!=1],\n",
    "    z=latents[:, 2][labels!=1],\n",
    "    mode='markers',\n",
    "    marker=dict(\n",
    "        size=4,\n",
    "        color=labels[labels!=1],\n",
    "        colorscale='viridis',\n",
    "        opacity=0.8,\n",
    "        colorbar=dict(title='Species')\n",
    "    )\n",
    ")])\n",
    "\n",
    "fig.update_layout(\n",
    "    scene=dict(\n",
    "        xaxis_title='PC1',\n",
    "        yaxis_title='PC2',\n",
    "        zaxis_title='PC3'\n",
    "    ),\n",
    "    title='Latent Space',\n",
    "    margin=dict(l=0, r=0, b=0, t=30)\n",
    ")\n",
    "\n",
    "fig.show()\n"
   ]
  },
  {
   "cell_type": "code",
   "execution_count": 24,
   "id": "cfdf9078",
   "metadata": {},
   "outputs": [
    {
     "data": {
      "image/png": "[encoded data removed]",
      "text/plain": [
       "<Figure size 800x600 with 1 Axes>"
      ]
     },
     "metadata": {},
     "output_type": "display_data"
    }
   ],
   "source": [
    "latent_dim = 3\n",
    "num_samples = windows.shape[0]\n",
    "z = torch.randn(num_samples, latent_dim).to(DEVICE)\n",
    "with torch.no_grad():\n",
    "    decoded = model.decoder(model.decoder_input(z)) #[num_samples, 1, 21]\n",
    "    decoded = decoded.squeeze(1) #[num_samples, 21]\n",
    "generated_unscaled = decoded * (max_val - min_val) + min_val\n",
    "amplitudes = generated_unscaled.max(dim=1).values.cpu().numpy()\n",
    "\n",
    "#generated_amplitudes = np.max(decoded, axis = 1)\n",
    "#print(generated_amplitudes)\n",
    "bins = np.logspace(np.log10(max(min(amplitudes), 1e-6)), np.log10(max(amplitudes)), 20)\n",
    "hist, bin_edges = np.histogram(amplitudes, bins=bins)\n",
    "bin_centers = (bin_edges[:-1] + bin_edges[1:]) / 2\n",
    "\n",
    "nonzero = hist > 0 & (bin_centers > 0)\n",
    "x = bin_centers[nonzero]\n",
    "y = hist[nonzero]\n",
    "\n",
    "log_x = np.log10(x)\n",
    "log_y = np.log10(y)\n",
    "slope, intercept, r_value, p_value, std_err = linregress(log_x, log_y)\n",
    "fit_y = 10**(slope * log_x + intercept)\n",
    "\n",
    "plt.figure(figsize=(8, 6))\n",
    "plt.loglog(x, y, '-ro', label='Amplitude')\n",
    "plt.loglog(x, fit_y, '-bx', label=f'Power law: {slope:.2f}')\n",
    "plt.xlabel('Amplitude')\n",
    "plt.ylabel('Frequency')\n",
    "plt.title('Distribution of Burst Amplitudes')\n",
    "plt.legend()\n",
    "plt.grid(True, which=\"both\", ls=\"--\")\n",
    "plt.tight_layout()\n",
    "#plt.savefig(os.path.join(f'{data['newdir'].item()}', \"ampdist\"))\n",
    "plt.show()\n",
    "\n"
   ]
  },
  {
   "cell_type": "code",
   "execution_count": 39,
   "id": "917550fc",
   "metadata": {},
   "outputs": [
    {
     "ename": "ValueError",
     "evalue": "x and y must be the same size",
     "output_type": "error",
     "traceback": [
      "\u001b[1;31m---------------------------------------------------------------------------\u001b[0m",
      "\u001b[1;31mValueError\u001b[0m                                Traceback (most recent call last)",
      "Cell \u001b[1;32mIn[39], line 2\u001b[0m\n\u001b[0;32m      1\u001b[0m plt\u001b[38;5;241m.\u001b[39mfigure(figsize\u001b[38;5;241m=\u001b[39m(\u001b[38;5;241m8\u001b[39m, \u001b[38;5;241m6\u001b[39m))\n\u001b[1;32m----> 2\u001b[0m \u001b[43mplt\u001b[49m\u001b[38;5;241;43m.\u001b[39;49m\u001b[43mscatter\u001b[49m\u001b[43m(\u001b[49m\u001b[43mmu\u001b[49m\u001b[43m[\u001b[49m\u001b[43m:\u001b[49m\u001b[43m,\u001b[49m\u001b[43m \u001b[49m\u001b[38;5;241;43m0\u001b[39;49m\u001b[43m]\u001b[49m\u001b[38;5;241;43m.\u001b[39;49m\u001b[43mcpu\u001b[49m\u001b[43m(\u001b[49m\u001b[43m)\u001b[49m\u001b[43m,\u001b[49m\u001b[43m \u001b[49m\u001b[43mamplitudes\u001b[49m\u001b[43m,\u001b[49m\u001b[43m \u001b[49m\u001b[43mlabel\u001b[49m\u001b[38;5;241;43m=\u001b[39;49m\u001b[38;5;124;43m\"\u001b[39;49m\u001b[38;5;124;43mDim 1\u001b[39;49m\u001b[38;5;124;43m\"\u001b[39;49m\u001b[43m)\u001b[49m\n\u001b[0;32m      3\u001b[0m plt\u001b[38;5;241m.\u001b[39mscatter(mu[:, \u001b[38;5;241m1\u001b[39m]\u001b[38;5;241m.\u001b[39mcpu(), amplitudes, label\u001b[38;5;241m=\u001b[39m\u001b[38;5;124m\"\u001b[39m\u001b[38;5;124mDim 2\u001b[39m\u001b[38;5;124m\"\u001b[39m)\n\u001b[0;32m      4\u001b[0m plt\u001b[38;5;241m.\u001b[39mscatter(mu[:, \u001b[38;5;241m2\u001b[39m]\u001b[38;5;241m.\u001b[39mcpu(), amplitudes, label\u001b[38;5;241m=\u001b[39m\u001b[38;5;124m\"\u001b[39m\u001b[38;5;124mDim 3\u001b[39m\u001b[38;5;124m\"\u001b[39m)\n",
      "File \u001b[1;32mc:\\Users\\aguin\\AppData\\Local\\Programs\\Python\\Python313\\Lib\\site-packages\\matplotlib\\_api\\deprecation.py:453\u001b[0m, in \u001b[0;36mmake_keyword_only.<locals>.wrapper\u001b[1;34m(*args, **kwargs)\u001b[0m\n\u001b[0;32m    447\u001b[0m \u001b[38;5;28;01mif\u001b[39;00m \u001b[38;5;28mlen\u001b[39m(args) \u001b[38;5;241m>\u001b[39m name_idx:\n\u001b[0;32m    448\u001b[0m     warn_deprecated(\n\u001b[0;32m    449\u001b[0m         since, message\u001b[38;5;241m=\u001b[39m\u001b[38;5;124m\"\u001b[39m\u001b[38;5;124mPassing the \u001b[39m\u001b[38;5;132;01m%(name)s\u001b[39;00m\u001b[38;5;124m \u001b[39m\u001b[38;5;132;01m%(obj_type)s\u001b[39;00m\u001b[38;5;124m \u001b[39m\u001b[38;5;124m\"\u001b[39m\n\u001b[0;32m    450\u001b[0m         \u001b[38;5;124m\"\u001b[39m\u001b[38;5;124mpositionally is deprecated since Matplotlib \u001b[39m\u001b[38;5;132;01m%(since)s\u001b[39;00m\u001b[38;5;124m; the \u001b[39m\u001b[38;5;124m\"\u001b[39m\n\u001b[0;32m    451\u001b[0m         \u001b[38;5;124m\"\u001b[39m\u001b[38;5;124mparameter will become keyword-only in \u001b[39m\u001b[38;5;132;01m%(removal)s\u001b[39;00m\u001b[38;5;124m.\u001b[39m\u001b[38;5;124m\"\u001b[39m,\n\u001b[0;32m    452\u001b[0m         name\u001b[38;5;241m=\u001b[39mname, obj_type\u001b[38;5;241m=\u001b[39m\u001b[38;5;124mf\u001b[39m\u001b[38;5;124m\"\u001b[39m\u001b[38;5;124mparameter of \u001b[39m\u001b[38;5;132;01m{\u001b[39;00mfunc\u001b[38;5;241m.\u001b[39m\u001b[38;5;18m__name__\u001b[39m\u001b[38;5;132;01m}\u001b[39;00m\u001b[38;5;124m()\u001b[39m\u001b[38;5;124m\"\u001b[39m)\n\u001b[1;32m--> 453\u001b[0m \u001b[38;5;28;01mreturn\u001b[39;00m \u001b[43mfunc\u001b[49m\u001b[43m(\u001b[49m\u001b[38;5;241;43m*\u001b[39;49m\u001b[43margs\u001b[49m\u001b[43m,\u001b[49m\u001b[43m \u001b[49m\u001b[38;5;241;43m*\u001b[39;49m\u001b[38;5;241;43m*\u001b[39;49m\u001b[43mkwargs\u001b[49m\u001b[43m)\u001b[49m\n",
      "File \u001b[1;32mc:\\Users\\aguin\\AppData\\Local\\Programs\\Python\\Python313\\Lib\\site-packages\\matplotlib\\pyplot.py:3939\u001b[0m, in \u001b[0;36mscatter\u001b[1;34m(x, y, s, c, marker, cmap, norm, vmin, vmax, alpha, linewidths, edgecolors, colorizer, plotnonfinite, data, **kwargs)\u001b[0m\n\u001b[0;32m   3919\u001b[0m \u001b[38;5;129m@_copy_docstring_and_deprecators\u001b[39m(Axes\u001b[38;5;241m.\u001b[39mscatter)\n\u001b[0;32m   3920\u001b[0m \u001b[38;5;28;01mdef\u001b[39;00m\u001b[38;5;250m \u001b[39m\u001b[38;5;21mscatter\u001b[39m(\n\u001b[0;32m   3921\u001b[0m     x: \u001b[38;5;28mfloat\u001b[39m \u001b[38;5;241m|\u001b[39m ArrayLike,\n\u001b[1;32m   (...)\u001b[0m\n\u001b[0;32m   3937\u001b[0m     \u001b[38;5;241m*\u001b[39m\u001b[38;5;241m*\u001b[39mkwargs,\n\u001b[0;32m   3938\u001b[0m ) \u001b[38;5;241m-\u001b[39m\u001b[38;5;241m>\u001b[39m PathCollection:\n\u001b[1;32m-> 3939\u001b[0m     __ret \u001b[38;5;241m=\u001b[39m \u001b[43mgca\u001b[49m\u001b[43m(\u001b[49m\u001b[43m)\u001b[49m\u001b[38;5;241;43m.\u001b[39;49m\u001b[43mscatter\u001b[49m\u001b[43m(\u001b[49m\n\u001b[0;32m   3940\u001b[0m \u001b[43m        \u001b[49m\u001b[43mx\u001b[49m\u001b[43m,\u001b[49m\n\u001b[0;32m   3941\u001b[0m \u001b[43m        \u001b[49m\u001b[43my\u001b[49m\u001b[43m,\u001b[49m\n\u001b[0;32m   3942\u001b[0m \u001b[43m        \u001b[49m\u001b[43ms\u001b[49m\u001b[38;5;241;43m=\u001b[39;49m\u001b[43ms\u001b[49m\u001b[43m,\u001b[49m\n\u001b[0;32m   3943\u001b[0m \u001b[43m        \u001b[49m\u001b[43mc\u001b[49m\u001b[38;5;241;43m=\u001b[39;49m\u001b[43mc\u001b[49m\u001b[43m,\u001b[49m\n\u001b[0;32m   3944\u001b[0m \u001b[43m        \u001b[49m\u001b[43mmarker\u001b[49m\u001b[38;5;241;43m=\u001b[39;49m\u001b[43mmarker\u001b[49m\u001b[43m,\u001b[49m\n\u001b[0;32m   3945\u001b[0m \u001b[43m        \u001b[49m\u001b[43mcmap\u001b[49m\u001b[38;5;241;43m=\u001b[39;49m\u001b[43mcmap\u001b[49m\u001b[43m,\u001b[49m\n\u001b[0;32m   3946\u001b[0m \u001b[43m        \u001b[49m\u001b[43mnorm\u001b[49m\u001b[38;5;241;43m=\u001b[39;49m\u001b[43mnorm\u001b[49m\u001b[43m,\u001b[49m\n\u001b[0;32m   3947\u001b[0m \u001b[43m        \u001b[49m\u001b[43mvmin\u001b[49m\u001b[38;5;241;43m=\u001b[39;49m\u001b[43mvmin\u001b[49m\u001b[43m,\u001b[49m\n\u001b[0;32m   3948\u001b[0m \u001b[43m        \u001b[49m\u001b[43mvmax\u001b[49m\u001b[38;5;241;43m=\u001b[39;49m\u001b[43mvmax\u001b[49m\u001b[43m,\u001b[49m\n\u001b[0;32m   3949\u001b[0m \u001b[43m        \u001b[49m\u001b[43malpha\u001b[49m\u001b[38;5;241;43m=\u001b[39;49m\u001b[43malpha\u001b[49m\u001b[43m,\u001b[49m\n\u001b[0;32m   3950\u001b[0m \u001b[43m        \u001b[49m\u001b[43mlinewidths\u001b[49m\u001b[38;5;241;43m=\u001b[39;49m\u001b[43mlinewidths\u001b[49m\u001b[43m,\u001b[49m\n\u001b[0;32m   3951\u001b[0m \u001b[43m        \u001b[49m\u001b[43medgecolors\u001b[49m\u001b[38;5;241;43m=\u001b[39;49m\u001b[43medgecolors\u001b[49m\u001b[43m,\u001b[49m\n\u001b[0;32m   3952\u001b[0m \u001b[43m        \u001b[49m\u001b[43mcolorizer\u001b[49m\u001b[38;5;241;43m=\u001b[39;49m\u001b[43mcolorizer\u001b[49m\u001b[43m,\u001b[49m\n\u001b[0;32m   3953\u001b[0m \u001b[43m        \u001b[49m\u001b[43mplotnonfinite\u001b[49m\u001b[38;5;241;43m=\u001b[39;49m\u001b[43mplotnonfinite\u001b[49m\u001b[43m,\u001b[49m\n\u001b[0;32m   3954\u001b[0m \u001b[43m        \u001b[49m\u001b[38;5;241;43m*\u001b[39;49m\u001b[38;5;241;43m*\u001b[39;49m\u001b[43m(\u001b[49m\u001b[43m{\u001b[49m\u001b[38;5;124;43m\"\u001b[39;49m\u001b[38;5;124;43mdata\u001b[39;49m\u001b[38;5;124;43m\"\u001b[39;49m\u001b[43m:\u001b[49m\u001b[43m \u001b[49m\u001b[43mdata\u001b[49m\u001b[43m}\u001b[49m\u001b[43m \u001b[49m\u001b[38;5;28;43;01mif\u001b[39;49;00m\u001b[43m \u001b[49m\u001b[43mdata\u001b[49m\u001b[43m \u001b[49m\u001b[38;5;129;43;01mis\u001b[39;49;00m\u001b[43m \u001b[49m\u001b[38;5;129;43;01mnot\u001b[39;49;00m\u001b[43m \u001b[49m\u001b[38;5;28;43;01mNone\u001b[39;49;00m\u001b[43m \u001b[49m\u001b[38;5;28;43;01melse\u001b[39;49;00m\u001b[43m \u001b[49m\u001b[43m{\u001b[49m\u001b[43m}\u001b[49m\u001b[43m)\u001b[49m\u001b[43m,\u001b[49m\n\u001b[0;32m   3955\u001b[0m \u001b[43m        \u001b[49m\u001b[38;5;241;43m*\u001b[39;49m\u001b[38;5;241;43m*\u001b[39;49m\u001b[43mkwargs\u001b[49m\u001b[43m,\u001b[49m\n\u001b[0;32m   3956\u001b[0m \u001b[43m    \u001b[49m\u001b[43m)\u001b[49m\n\u001b[0;32m   3957\u001b[0m     sci(__ret)\n\u001b[0;32m   3958\u001b[0m     \u001b[38;5;28;01mreturn\u001b[39;00m __ret\n",
      "File \u001b[1;32mc:\\Users\\aguin\\AppData\\Local\\Programs\\Python\\Python313\\Lib\\site-packages\\matplotlib\\_api\\deprecation.py:453\u001b[0m, in \u001b[0;36mmake_keyword_only.<locals>.wrapper\u001b[1;34m(*args, **kwargs)\u001b[0m\n\u001b[0;32m    447\u001b[0m \u001b[38;5;28;01mif\u001b[39;00m \u001b[38;5;28mlen\u001b[39m(args) \u001b[38;5;241m>\u001b[39m name_idx:\n\u001b[0;32m    448\u001b[0m     warn_deprecated(\n\u001b[0;32m    449\u001b[0m         since, message\u001b[38;5;241m=\u001b[39m\u001b[38;5;124m\"\u001b[39m\u001b[38;5;124mPassing the \u001b[39m\u001b[38;5;132;01m%(name)s\u001b[39;00m\u001b[38;5;124m \u001b[39m\u001b[38;5;132;01m%(obj_type)s\u001b[39;00m\u001b[38;5;124m \u001b[39m\u001b[38;5;124m\"\u001b[39m\n\u001b[0;32m    450\u001b[0m         \u001b[38;5;124m\"\u001b[39m\u001b[38;5;124mpositionally is deprecated since Matplotlib \u001b[39m\u001b[38;5;132;01m%(since)s\u001b[39;00m\u001b[38;5;124m; the \u001b[39m\u001b[38;5;124m\"\u001b[39m\n\u001b[0;32m    451\u001b[0m         \u001b[38;5;124m\"\u001b[39m\u001b[38;5;124mparameter will become keyword-only in \u001b[39m\u001b[38;5;132;01m%(removal)s\u001b[39;00m\u001b[38;5;124m.\u001b[39m\u001b[38;5;124m\"\u001b[39m,\n\u001b[0;32m    452\u001b[0m         name\u001b[38;5;241m=\u001b[39mname, obj_type\u001b[38;5;241m=\u001b[39m\u001b[38;5;124mf\u001b[39m\u001b[38;5;124m\"\u001b[39m\u001b[38;5;124mparameter of \u001b[39m\u001b[38;5;132;01m{\u001b[39;00mfunc\u001b[38;5;241m.\u001b[39m\u001b[38;5;18m__name__\u001b[39m\u001b[38;5;132;01m}\u001b[39;00m\u001b[38;5;124m()\u001b[39m\u001b[38;5;124m\"\u001b[39m)\n\u001b[1;32m--> 453\u001b[0m \u001b[38;5;28;01mreturn\u001b[39;00m \u001b[43mfunc\u001b[49m\u001b[43m(\u001b[49m\u001b[38;5;241;43m*\u001b[39;49m\u001b[43margs\u001b[49m\u001b[43m,\u001b[49m\u001b[43m \u001b[49m\u001b[38;5;241;43m*\u001b[39;49m\u001b[38;5;241;43m*\u001b[39;49m\u001b[43mkwargs\u001b[49m\u001b[43m)\u001b[49m\n",
      "File \u001b[1;32mc:\\Users\\aguin\\AppData\\Local\\Programs\\Python\\Python313\\Lib\\site-packages\\matplotlib\\__init__.py:1521\u001b[0m, in \u001b[0;36m_preprocess_data.<locals>.inner\u001b[1;34m(ax, data, *args, **kwargs)\u001b[0m\n\u001b[0;32m   1518\u001b[0m \u001b[38;5;129m@functools\u001b[39m\u001b[38;5;241m.\u001b[39mwraps(func)\n\u001b[0;32m   1519\u001b[0m \u001b[38;5;28;01mdef\u001b[39;00m\u001b[38;5;250m \u001b[39m\u001b[38;5;21minner\u001b[39m(ax, \u001b[38;5;241m*\u001b[39margs, data\u001b[38;5;241m=\u001b[39m\u001b[38;5;28;01mNone\u001b[39;00m, \u001b[38;5;241m*\u001b[39m\u001b[38;5;241m*\u001b[39mkwargs):\n\u001b[0;32m   1520\u001b[0m     \u001b[38;5;28;01mif\u001b[39;00m data \u001b[38;5;129;01mis\u001b[39;00m \u001b[38;5;28;01mNone\u001b[39;00m:\n\u001b[1;32m-> 1521\u001b[0m         \u001b[38;5;28;01mreturn\u001b[39;00m \u001b[43mfunc\u001b[49m\u001b[43m(\u001b[49m\n\u001b[0;32m   1522\u001b[0m \u001b[43m            \u001b[49m\u001b[43max\u001b[49m\u001b[43m,\u001b[49m\n\u001b[0;32m   1523\u001b[0m \u001b[43m            \u001b[49m\u001b[38;5;241;43m*\u001b[39;49m\u001b[38;5;28;43mmap\u001b[39;49m\u001b[43m(\u001b[49m\u001b[43mcbook\u001b[49m\u001b[38;5;241;43m.\u001b[39;49m\u001b[43msanitize_sequence\u001b[49m\u001b[43m,\u001b[49m\u001b[43m \u001b[49m\u001b[43margs\u001b[49m\u001b[43m)\u001b[49m\u001b[43m,\u001b[49m\n\u001b[0;32m   1524\u001b[0m \u001b[43m            \u001b[49m\u001b[38;5;241;43m*\u001b[39;49m\u001b[38;5;241;43m*\u001b[39;49m\u001b[43m{\u001b[49m\u001b[43mk\u001b[49m\u001b[43m:\u001b[49m\u001b[43m \u001b[49m\u001b[43mcbook\u001b[49m\u001b[38;5;241;43m.\u001b[39;49m\u001b[43msanitize_sequence\u001b[49m\u001b[43m(\u001b[49m\u001b[43mv\u001b[49m\u001b[43m)\u001b[49m\u001b[43m \u001b[49m\u001b[38;5;28;43;01mfor\u001b[39;49;00m\u001b[43m \u001b[49m\u001b[43mk\u001b[49m\u001b[43m,\u001b[49m\u001b[43m \u001b[49m\u001b[43mv\u001b[49m\u001b[43m \u001b[49m\u001b[38;5;129;43;01min\u001b[39;49;00m\u001b[43m \u001b[49m\u001b[43mkwargs\u001b[49m\u001b[38;5;241;43m.\u001b[39;49m\u001b[43mitems\u001b[49m\u001b[43m(\u001b[49m\u001b[43m)\u001b[49m\u001b[43m}\u001b[49m\u001b[43m)\u001b[49m\n\u001b[0;32m   1526\u001b[0m     bound \u001b[38;5;241m=\u001b[39m new_sig\u001b[38;5;241m.\u001b[39mbind(ax, \u001b[38;5;241m*\u001b[39margs, \u001b[38;5;241m*\u001b[39m\u001b[38;5;241m*\u001b[39mkwargs)\n\u001b[0;32m   1527\u001b[0m     auto_label \u001b[38;5;241m=\u001b[39m (bound\u001b[38;5;241m.\u001b[39marguments\u001b[38;5;241m.\u001b[39mget(label_namer)\n\u001b[0;32m   1528\u001b[0m                   \u001b[38;5;129;01mor\u001b[39;00m bound\u001b[38;5;241m.\u001b[39mkwargs\u001b[38;5;241m.\u001b[39mget(label_namer))\n",
      "File \u001b[1;32mc:\\Users\\aguin\\AppData\\Local\\Programs\\Python\\Python313\\Lib\\site-packages\\matplotlib\\axes\\_axes.py:4900\u001b[0m, in \u001b[0;36mAxes.scatter\u001b[1;34m(self, x, y, s, c, marker, cmap, norm, vmin, vmax, alpha, linewidths, edgecolors, colorizer, plotnonfinite, **kwargs)\u001b[0m\n\u001b[0;32m   4898\u001b[0m y \u001b[38;5;241m=\u001b[39m np\u001b[38;5;241m.\u001b[39mma\u001b[38;5;241m.\u001b[39mravel(y)\n\u001b[0;32m   4899\u001b[0m \u001b[38;5;28;01mif\u001b[39;00m x\u001b[38;5;241m.\u001b[39msize \u001b[38;5;241m!=\u001b[39m y\u001b[38;5;241m.\u001b[39msize:\n\u001b[1;32m-> 4900\u001b[0m     \u001b[38;5;28;01mraise\u001b[39;00m \u001b[38;5;167;01mValueError\u001b[39;00m(\u001b[38;5;124m\"\u001b[39m\u001b[38;5;124mx and y must be the same size\u001b[39m\u001b[38;5;124m\"\u001b[39m)\n\u001b[0;32m   4902\u001b[0m \u001b[38;5;28;01mif\u001b[39;00m s \u001b[38;5;129;01mis\u001b[39;00m \u001b[38;5;28;01mNone\u001b[39;00m:\n\u001b[0;32m   4903\u001b[0m     s \u001b[38;5;241m=\u001b[39m (\u001b[38;5;241m20\u001b[39m \u001b[38;5;28;01mif\u001b[39;00m mpl\u001b[38;5;241m.\u001b[39mrcParams[\u001b[38;5;124m'\u001b[39m\u001b[38;5;124m_internal.classic_mode\u001b[39m\u001b[38;5;124m'\u001b[39m] \u001b[38;5;28;01melse\u001b[39;00m\n\u001b[0;32m   4904\u001b[0m          mpl\u001b[38;5;241m.\u001b[39mrcParams[\u001b[38;5;124m'\u001b[39m\u001b[38;5;124mlines.markersize\u001b[39m\u001b[38;5;124m'\u001b[39m] \u001b[38;5;241m*\u001b[39m\u001b[38;5;241m*\u001b[39m \u001b[38;5;241m2.0\u001b[39m)\n",
      "\u001b[1;31mValueError\u001b[0m: x and y must be the same size"
     ]
    },
    {
     "data": {
      "image/png": "[encoded data removed]",
      "text/plain": [
       "<Figure size 800x600 with 1 Axes>"
      ]
     },
     "metadata": {},
     "output_type": "display_data"
    }
   ],
   "source": [
    "plt.figure(figsize=(8, 6))\n",
    "plt.scatter(mu[:, 0].cpu(), amplitudes, label=\"Dim 1\")\n",
    "plt.scatter(mu[:, 1].cpu(), amplitudes, label=\"Dim 2\")\n",
    "plt.scatter(mu[:, 2].cpu(), amplitudes, label=\"Dim 3\")\n",
    "plt.xlabel(\"Latent dim value\")\n",
    "plt.ylabel(\"Original Amplitude\")\n",
    "plt.title(\"Latent Dimensions vs Burst Amplitude\")\n",
    "plt.legend()\n",
    "plt.grid(True)\n",
    "plt.show()"
   ]
  },
  {
   "cell_type": "code",
   "execution_count": 13,
   "id": "479b9bc3",
   "metadata": {},
   "outputs": [
    {
     "ename": "NameError",
     "evalue": "name 'amplitudes' is not defined",
     "output_type": "error",
     "traceback": [
      "\u001b[1;31m---------------------------------------------------------------------------\u001b[0m",
      "\u001b[1;31mNameError\u001b[0m                                 Traceback (most recent call last)",
      "Cell \u001b[1;32mIn[13], line 1\u001b[0m\n\u001b[1;32m----> 1\u001b[0m \u001b[38;5;28mprint\u001b[39m(mu\u001b[38;5;241m.\u001b[39mshape, \u001b[43mamplitudes\u001b[49m\u001b[38;5;241m.\u001b[39mshape)\n",
      "\u001b[1;31mNameError\u001b[0m: name 'amplitudes' is not defined"
     ]
    }
   ],
   "source": [
    "print(mu.shape, amplitudes.shape)\n"
   ]
  },
  {
   "cell_type": "code",
   "execution_count": 55,
   "id": "a1dde8d6",
   "metadata": {},
   "outputs": [
    {
     "data": {
      "image/png": "[encoded data removed]",
      "text/plain": [
       "<Figure size 600x600 with 1 Axes>"
      ]
     },
     "metadata": {},
     "output_type": "display_data"
    }
   ],
   "source": [
    "model.eval()\n",
    "reconstructed = []\n",
    "true_amp = []\n",
    "with torch.no_grad():\n",
    "    for batch in loader:\n",
    "        x_batch = batch[0].to(DEVICE)\n",
    "        recon, _, _ = model(x_batch)\n",
    "        recon_amp = recon.max(dim=2).values.squeeze(1).cpu().numpy()\n",
    "        orig_amp = x_batch.max(dim=2).values.squeeze(1).cpu().numpy()\n",
    "        reconstructed.append(recon_amp)\n",
    "        true_amp.append(orig_amp)\n",
    "\n",
    "reconstructed = np.concatenate(reconstructed)\n",
    "true_amp = np.concatenate(true_amp)\n",
    "\n",
    "plt.figure(figsize=(6,6))\n",
    "plt.scatter(true_amp, reconstructed, alpha=0.4)\n",
    "plt.xlabel(\"Original Amplitude\")\n",
    "plt.ylabel(\"Reconstructed Amplitude\")\n",
    "plt.title(\"Reconstruction Fidelity\")\n",
    "plt.grid(True)\n",
    "plt.plot([min(true_amp), max(true_amp)], [min(true_amp), max(true_amp)], 'k--')\n",
    "plt.show()\n"
   ]
  },
  {
   "cell_type": "code",
   "execution_count": 37,
   "id": "746e2591",
   "metadata": {},
   "outputs": [
    {
     "name": "stdout",
     "output_type": "stream",
     "text": [
      "[0.02744841 0.01269385 0.02717654 0.03439853 0.02890122 0.03071189\n",
      " 0.0298781  0.0355228  0.03391146 0.03143333 0.03751101 0.02202155\n",
      " 0.02658675 0.02102908 0.02580089 0.02079554 0.02726432 0.02797421\n",
      " 0.02102748 0.02962822 0.02680251 0.02178151 0.01741544 0.02037329\n",
      " 0.02540726 0.03060885 0.02503498 0.01587315 0.02381457 0.02777372\n",
      " 0.02292266 0.02175278 0.01915176 0.02681584 0.02356934 0.02665126\n",
      " 0.02095547 0.02892062 0.01628339 0.02990071 0.02313799 0.03440832\n",
      " 0.020663   0.01737592 0.01520421 0.01508361 0.02699786 0.0374937\n",
      " 0.03140729 0.03395113 0.02197127 0.03199605 0.02788278 0.03092173\n",
      " 0.01946212 0.03049376 0.0293135  0.03651664 0.02101076 0.02912635\n",
      " 0.02236095 0.03039737 0.02943463 0.02513323 0.01399606 0.0336355\n",
      " 0.03334437 0.02641714 0.02704482 0.02437356 0.01890318 0.02306781\n",
      " 0.03538053 0.01865983 0.02427437 0.02133    0.02526344 0.03042842\n",
      " 0.03212927 0.02874375 0.0334699  0.02116147 0.02843529 0.02253303\n",
      " 0.02522812 0.01834844 0.01988918 0.02543755 0.035104   0.02602602\n",
      " 0.02250237 0.02864377 0.03883607 0.02206275 0.02989749 0.02406249\n",
      " 0.02045439 0.02774505 0.02721089 0.01911643 0.02591399 0.01986915\n",
      " 0.02937264 0.02314199 0.02563385 0.02819012 0.02112472 0.03224525\n",
      " 0.04353322 0.02744804 0.02764233 0.01827039 0.02838362 0.02332819\n",
      " 0.02881519 0.02578422 0.03041118 0.02830352 0.02379622 0.02482261\n",
      " 0.03266928 0.02672761 0.02611718 0.02885705 0.02067051 0.02266297\n",
      " 0.02092314 0.02655515 0.02018039 0.02045841 0.02326145 0.02406316\n",
      " 0.01120373 0.02216152 0.03268789 0.02465357 0.02515964 0.02157791\n",
      " 0.02233737 0.01886107 0.02135141 0.02252743 0.01927099 0.02440161\n",
      " 0.02181498 0.02462507 0.02709526 0.0193026  0.02509419 0.02418955\n",
      " 0.02411056 0.02910435 0.02433198 0.01998698 0.02926658 0.02772261\n",
      " 0.02095546 0.03109683 0.02556985 0.02487552 0.02052931 0.02996691\n",
      " 0.02003681 0.01243626 0.02152769 0.04172431 0.02719905 0.02058119\n",
      " 0.02204158 0.02319571 0.02274014 0.02329391 0.02193209 0.02342675\n",
      " 0.02944221 0.02626093 0.02532815 0.02780181 0.02122535 0.02357406\n",
      " 0.01843464 0.01965003 0.02006816 0.02428278 0.02309117 0.02916103\n",
      " 0.04550653 0.0213472  0.02406119 0.01817425 0.01612112 0.02803486\n",
      " 0.01240323 0.01984459 0.02313505 0.02731887 0.02856383 0.03966137\n",
      " 0.02573469 0.02238278 0.03132031 0.02186986 0.03476508 0.02700834\n",
      " 0.0251182  0.02462195 0.01525288 0.02781929 0.02786191 0.03554844\n",
      " 0.01785676 0.02961304 0.01943925 0.0189692  0.02857795 0.02905298\n",
      " 0.02424168 0.04192362 0.02343165 0.01521676 0.02629752 0.02295838\n",
      " 0.02195155 0.02436544 0.03285549 0.02802923 0.02966096 0.03585569\n",
      " 0.02559043 0.02049977 0.03761081 0.02236927 0.0232175  0.0218669\n",
      " 0.0196827  0.02027533 0.03462491 0.0214192  0.02108036 0.01042974\n",
      " 0.02581253 0.03670308 0.02700027 0.01930566 0.02312599 0.02241103\n",
      " 0.0225069  0.02255564 0.01834911 0.02983061 0.02277941 0.02473184\n",
      " 0.0321401  0.01823298 0.02460625 0.02224087 0.02898725 0.02566776\n",
      " 0.02577414 0.028776   0.02270874 0.03240136 0.01175857 0.02406702\n",
      " 0.02295399 0.02906288 0.02323266 0.01996963 0.02002794 0.02436905\n",
      " 0.02641646 0.02125292 0.01521373 0.02736246 0.0256838  0.03145636\n",
      " 0.02078589 0.02063438 0.02468155 0.0206109  0.03632851 0.02587123\n",
      " 0.03672466 0.02573951 0.02223942 0.02572218 0.02502224 0.02807221\n",
      " 0.02030106 0.01870318 0.02096002 0.02455227 0.02900745 0.02102292\n",
      " 0.02222677 0.02267467 0.02138167 0.02220263 0.02317131 0.02531643\n",
      " 0.02579119 0.02470511 0.01957752 0.02154265 0.02266034 0.03277776\n",
      " 0.03084362 0.02558254 0.02817294 0.03523282 0.02472921 0.02678372\n",
      " 0.01829747 0.02880693 0.02217767 0.02407083 0.02547099 0.02465531\n",
      " 0.03131117 0.03094534 0.0209687  0.01748819 0.03784638 0.02586911\n",
      " 0.03654041 0.02218058 0.01992003 0.02301739 0.02731842 0.03284659\n",
      " 0.02343972 0.01872281 0.0211765  0.03535543 0.02210944 0.02427567\n",
      " 0.02168108 0.0268052  0.02828424 0.01661345 0.02287374 0.02491829\n",
      " 0.03093616 0.02469367 0.02381157 0.02019756 0.01841074 0.0232383\n",
      " 0.02400581 0.0412867  0.02713331 0.03047454 0.02867988 0.04381818\n",
      " 0.02547723 0.02157467 0.01914345 0.02320576 0.0225416  0.0275176\n",
      " 0.04834233 0.02699937 0.01681419 0.02723235 0.02381874 0.01974485\n",
      " 0.0260052  0.01552773 0.0172097  0.02724753 0.02533809 0.03660678\n",
      " 0.02000959 0.01876395 0.02433828 0.0231106  0.02408638 0.02332297\n",
      " 0.02374896 0.02819583 0.0258063  0.03238045 0.02076878 0.02268915\n",
      " 0.03047425 0.02260703 0.0318119  0.02560692 0.02640245 0.02831784\n",
      " 0.03041806 0.02714302 0.03662441 0.02724222 0.02274722 0.03221088\n",
      " 0.02024708 0.02254783 0.03973145 0.02666764 0.02233812 0.02555898\n",
      " 0.02168408 0.02274908 0.02305672 0.02248643 0.02869576 0.02057324\n",
      " 0.02169765 0.02213476 0.03473011 0.02649551 0.02298271 0.02676224\n",
      " 0.02348502 0.04158137 0.02796535 0.03102272 0.01994368 0.02827021\n",
      " 0.02535937 0.03010056 0.0251875  0.0281575  0.03017902 0.03568191\n",
      " 0.02619468 0.02020871 0.02484376 0.03422121 0.03183483 0.03882233\n",
      " 0.02484687 0.02720005 0.02562302 0.0293677  0.02507741 0.02004761\n",
      " 0.02990245 0.02396077 0.01891918 0.02421243 0.02722989 0.0232724\n",
      " 0.0289207  0.0246159  0.02441804 0.02063678 0.01508293 0.04875194\n",
      " 0.01747584 0.02581007 0.01655387 0.02256891 0.0195122  0.03523329\n",
      " 0.022307   0.02176061 0.02233791 0.02419515 0.02607364 0.02742405\n",
      " 0.02002419 0.01685805 0.03081167 0.02185703 0.02148184 0.0267751\n",
      " 0.01743019 0.02631394 0.03185223 0.02467103 0.02792959 0.02596945\n",
      " 0.02738535 0.01952036 0.02452867 0.02619411 0.02472561 0.03066701\n",
      " 0.03429141 0.01659781 0.02091787 0.02885726 0.02880523 0.02467721\n",
      " 0.02043295 0.05755695 0.0180646  0.02605811 0.02915762 0.02694685\n",
      " 0.027256   0.02279    0.01822049 0.02613368 0.02478944 0.03052603\n",
      " 0.02386964 0.01924295 0.02666772 0.01978756 0.03380695 0.02609801\n",
      " 0.02074507 0.02186979 0.02517349 0.02616978 0.02469172 0.03462281\n",
      " 0.02918661 0.02133784 0.02169421 0.01378605 0.031661   0.02779726\n",
      " 0.02134423 0.02452198 0.01796547 0.02425126 0.02384258 0.02343787\n",
      " 0.01994258 0.02286946 0.02465874 0.0153025  0.02267191 0.03657188\n",
      " 0.02407783 0.02350868 0.02156346 0.02224066 0.01911417 0.02392312\n",
      " 0.03271105 0.04922683 0.0304846  0.01899373 0.03060959 0.01507724\n",
      " 0.01992571 0.02709212 0.03823593 0.02227675 0.03836068 0.02802848\n",
      " 0.02671487 0.03024066 0.03791833 0.02082834 0.02496129 0.0245702\n",
      " 0.03318559 0.01916672 0.02210043 0.02226395 0.02889436 0.02347304\n",
      " 0.03212691 0.02643495 0.02916685 0.02064065 0.03550555 0.01937781\n",
      " 0.02366163 0.04909719 0.02348609 0.03657898 0.02670057 0.02834788\n",
      " 0.01893898 0.03936346 0.03156204 0.02512904 0.02355922 0.04005795\n",
      " 0.0201718  0.02369651 0.02991671 0.02855852 0.02759111 0.02745937\n",
      " 0.02661226 0.0319276  0.02124262 0.03723288 0.02344846 0.03435025\n",
      " 0.02186014 0.02873584 0.02297806 0.02506691 0.02478066 0.02121262\n",
      " 0.0262637  0.02040496 0.02626181 0.03064444 0.01618451 0.03112847\n",
      " 0.02655293 0.02255343 0.02044335 0.02505459 0.02511637 0.02207267\n",
      " 0.01201047 0.02510035 0.02593699 0.02979561 0.02525368 0.02728872\n",
      " 0.01819047 0.02269301 0.02553611 0.02625194 0.02748694 0.02255788\n",
      " 0.0325888  0.02002356 0.02628681 0.02691435 0.02617984 0.02171451\n",
      " 0.02785239 0.02897749 0.02923568 0.02245326 0.02163826 0.01772285\n",
      " 0.0243809  0.01991481 0.02490094 0.02803247 0.02273665 0.02283343\n",
      " 0.02294141 0.02175002 0.02221758 0.01999039 0.02520697 0.02258055\n",
      " 0.02705653 0.0203083  0.02332483 0.01809425 0.04002775 0.01519701\n",
      " 0.02164932 0.0170489  0.02108628 0.02016354 0.02007127 0.0259633\n",
      " 0.01429764 0.02468285 0.03197325 0.02919973 0.029254   0.03320369\n",
      " 0.02585085 0.02467749 0.02316307 0.02964234 0.02981369 0.02875359\n",
      " 0.02560719 0.02420063 0.02070207 0.02552848 0.02464252 0.0241345\n",
      " 0.02889038 0.02242706 0.02829871 0.03172497 0.02977893 0.01892784\n",
      " 0.02418437 0.03889916 0.0258394  0.02785561 0.03100312 0.02290536\n",
      " 0.01696027 0.01904795 0.02146247 0.02366714 0.04211442 0.02684142\n",
      " 0.03132882 0.02338392 0.02288778 0.02463079 0.02175868 0.03263389\n",
      " 0.02023279 0.02426027 0.02552191 0.0226539  0.02774019 0.02658824\n",
      " 0.02424995 0.02606952 0.02114975 0.01640077 0.02250366 0.0257195\n",
      " 0.01881752 0.03019989 0.03471322 0.02772023 0.02704582 0.0319216\n",
      " 0.03099273 0.02831176 0.02057327 0.01930024 0.02154436 0.02851092\n",
      " 0.03476998 0.02435186 0.03711716 0.03519899 0.02162914 0.0257642\n",
      " 0.03608444 0.02789537 0.02046411 0.02811046 0.02350403 0.02424961\n",
      " 0.02532752 0.02998293 0.02837531 0.02126901 0.03714617 0.02670858\n",
      " 0.02586361 0.03071073 0.02081569 0.02017242 0.02608162 0.02640974\n",
      " 0.02115312 0.03424022 0.02399532 0.02767411 0.02233019 0.02576471\n",
      " 0.02890857 0.02019738 0.02439374 0.02428045 0.03350297 0.0225679\n",
      " 0.02700954 0.02350045 0.02535515 0.02471101 0.03340006 0.02070845\n",
      " 0.01518867 0.02318889 0.02968317 0.02300587 0.02435962 0.02983877\n",
      " 0.02583723 0.0146043  0.02397067 0.02766015 0.01705109 0.02933193\n",
      " 0.03041121 0.02344864 0.04097203 0.01900758 0.02084746 0.0273311\n",
      " 0.02932319 0.03251483 0.02109743 0.0208312  0.02452883 0.02235604\n",
      " 0.0213635  0.01885861 0.02919058 0.02408971 0.02153531 0.02561482\n",
      " 0.0277522  0.02841164 0.02923163 0.02093654 0.01713414 0.0198193\n",
      " 0.02523082 0.03060839 0.02121866 0.02636194 0.03500121 0.02230814\n",
      " 0.02689366 0.03663363 0.03642972 0.02545391 0.01890746 0.02134116\n",
      " 0.02028725 0.0191913  0.02591878 0.02930545 0.02515686 0.02189176\n",
      " 0.02589477 0.02551766 0.02949563 0.02225115 0.02431362 0.03274776\n",
      " 0.03076216 0.02550513 0.02664134 0.0258802  0.03724753 0.02849551\n",
      " 0.0300151  0.02595766 0.01886735 0.0222495  0.0230006  0.01788529\n",
      " 0.01921906 0.03271892 0.02810128 0.019864   0.02605059 0.02494175\n",
      " 0.02140136 0.02360556 0.03353992 0.02471384 0.02869787 0.02736148\n",
      " 0.02978618 0.02651561 0.0193687  0.01812266 0.02152527 0.03419831\n",
      " 0.02726359 0.0268742  0.02208235 0.02525306 0.02136408 0.03272494\n",
      " 0.03725941 0.02061995 0.02710564 0.02106545 0.02551872 0.02922639\n",
      " 0.02545091 0.02384575 0.02812055 0.02221249 0.03652471 0.03412269\n",
      " 0.03076624 0.01803079 0.02441174 0.03946589 0.0266545  0.02100524\n",
      " 0.02970292 0.02402025 0.04062412 0.01535379 0.02633688 0.03045528\n",
      " 0.02336711 0.02622315 0.02696501 0.02212689 0.02749739 0.02350248\n",
      " 0.02642089 0.02204705 0.03024058 0.03205588 0.02584203 0.02575086\n",
      " 0.03380562 0.02913741 0.02597044 0.02346439 0.02662876 0.02760037\n",
      " 0.02401024 0.02236998 0.02233045 0.03344706 0.02554472 0.02956941\n",
      " 0.0191844  0.01930912 0.02387382 0.02315037 0.03582098 0.0358359\n",
      " 0.03026443 0.03838214 0.02393736 0.02571299 0.03414389 0.02657335\n",
      " 0.02690322 0.02571997 0.02224284 0.02500028 0.02063979 0.02387302\n",
      " 0.02195078 0.01888575 0.02180191 0.02207622 0.0220817  0.03796938\n",
      " 0.02781586 0.03236262 0.02399646 0.02786571 0.02415692 0.02312101\n",
      " 0.02163641 0.02095127 0.03664595 0.0237587  0.02011688 0.01980324\n",
      " 0.01852143 0.02770702 0.02334593 0.01951707 0.02276683 0.02594537\n",
      " 0.03387634 0.01722276 0.02387885 0.02669572 0.03091179 0.01882095\n",
      " 0.02902398 0.02643304 0.02235359 0.01827222 0.02379315 0.01982512\n",
      " 0.02287884 0.02652785 0.02885823 0.03425324 0.02903672 0.04424497\n",
      " 0.02385863 0.01761287 0.02242126 0.01940033 0.02557037 0.02585976\n",
      " 0.02872458 0.02109939 0.03080901 0.02346281 0.02413524 0.02659781\n",
      " 0.0320136  0.01957318 0.04262495 0.02165597 0.02159851 0.02431802\n",
      " 0.02352593 0.02579179 0.01076799 0.02787072 0.02427322 0.02668558\n",
      " 0.02363331 0.02077421 0.01968964 0.02252913 0.03139064 0.0239307\n",
      " 0.02042625 0.02951644 0.02709419 0.02553006]\n"
     ]
    }
   ],
   "source": [
    "model.eval()\n",
    "with torch.no_grad():\n",
    "    z_sample = torch.randn(1000, latent_dim).to(DEVICE)\n",
    "    recon = model.decoder(model.decoder_input(z_sample)).squeeze(1).cpu().numpy()\n",
    "    print(np.std(recon, axis=1))  # should not be all zero"
   ]
  },
  {
   "cell_type": "code",
   "execution_count": 15,
   "id": "92997ee5",
   "metadata": {},
   "outputs": [
    {
     "name": "stdout",
     "output_type": "stream",
     "text": [
      "Latent mean: [-0.00792051  0.02198284 -0.01248486]\n",
      "Latent std: [0.00563469 0.00364615 0.0043575 ]\n"
     ]
    }
   ],
   "source": [
    "model.eval()\n",
    "latents = []\n",
    "with torch.no_grad():\n",
    "    for batch in loader:\n",
    "        x_batch = batch[0].to(DEVICE)\n",
    "        enc = model.encoder(x_batch)\n",
    "        enc_flat = enc.view(x_batch.size(0), -1)\n",
    "        mu = model.fc_mu(enc_flat)\n",
    "        latents.append(mu.cpu().numpy())\n",
    "\n",
    "latents = np.vstack(latents)\n",
    "print(\"Latent mean:\", np.mean(latents, axis=0))\n",
    "print(\"Latent std:\", np.std(latents, axis=0))\n"
   ]
  },
  {
   "cell_type": "code",
   "execution_count": 16,
   "id": "18cb3091",
   "metadata": {},
   "outputs": [
    {
     "name": "stdout",
     "output_type": "stream",
     "text": [
      "tensor([-0.0108,  0.0208, -0.0109], device='cuda:0')\n",
      "tensor([5.6755e-04, 9.7917e-05, 1.4495e-04], device='cuda:0')\n"
     ]
    }
   ],
   "source": [
    "print(torch.mean(mu, dim=0))\n",
    "print(torch.std(mu, dim=0))"
   ]
  },
  {
   "cell_type": "code",
   "execution_count": 17,
   "id": "b7feea80",
   "metadata": {},
   "outputs": [
    {
     "data": {
      "text/plain": [
       "<Axes: >"
      ]
     },
     "execution_count": 17,
     "metadata": {},
     "output_type": "execute_result"
    },
    {
     "data": {
      "image/png": "[encoded data removed]",
      "text/plain": [
       "<Figure size 640x480 with 2 Axes>"
      ]
     },
     "metadata": {},
     "output_type": "display_data"
    }
   ],
   "source": [
    "import seaborn as sns\n",
    "sns.heatmap(mu.cpu().detach().numpy(), cmap=\"viridis\")\n"
   ]
  },
  {
   "cell_type": "code",
   "execution_count": 11,
   "id": "d68d72e8",
   "metadata": {},
   "outputs": [],
   "source": [
    "grid_x, grid_y, grid_z = np.mgrid[-2:2:10j, -2:2:10j, -2:2:10j]\n",
    "grid_latents = np.vstack([grid_x.ravel(), grid_y.ravel(), grid_z.ravel()]).T\n",
    "grid_latents = torch.tensor(grid_latents, dtype=torch.float32).to(DEVICE)"
   ]
  },
  {
   "cell_type": "code",
   "execution_count": null,
   "id": "848ee7cc",
   "metadata": {},
   "outputs": [],
   "source": []
  }
 ],
 "metadata": {
  "kernelspec": {
   "display_name": "Python 3",
   "language": "python",
   "name": "python3"
  },
  "language_info": {
   "codemirror_mode": {
    "name": "ipython",
    "version": 3
   },
   "file_extension": ".py",
   "mimetype": "text/x-python",
   "name": "python",
   "nbconvert_exporter": "python",
   "pygments_lexer": "ipython3",
   "version": "3.13.3"
  }
 },
 "nbformat": 4,
 "nbformat_minor": 5
}
