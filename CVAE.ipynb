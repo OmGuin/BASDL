{
 "cells": [
  {
   "cell_type": "markdown",
   "id": "90c17ddf",
   "metadata": {},
   "source": [
    "# Convolutional Variational Autoencoder Implementation on Burst Windows"
   ]
  },
  {
   "cell_type": "code",
   "execution_count": null,
   "id": "1f66c603",
   "metadata": {},
   "outputs": [],
   "source": [
    "from ipyfilechooser import FileChooser\n",
    "import numpy as np\n",
    "import torch\n",
    "import torch.nn as nn\n",
    "import torch.nn.functional as F\n",
    "from torch.utils.data import TensorDataset, DataLoader\n",
    "from sklearn.decomposition import PCA\n",
    "import matplotlib.pyplot as plt\n",
    "import plotly.graph_objs as go"
   ]
  },
  {
   "cell_type": "markdown",
   "id": "a031a7fc",
   "metadata": {},
   "source": [
    "### Import data"
   ]
  },
  {
   "cell_type": "code",
   "execution_count": 3,
   "id": "80cac8af",
   "metadata": {},
   "outputs": [
    {
     "data": {
      "application/vnd.jupyter.widget-view+json": {
       "model_id": "250f33d5936b466fab31b543ffec1cb6",
       "version_major": 2,
       "version_minor": 0
      },
      "text/plain": [
       "FileChooser(path='C:\\Users\\omgui\\Desktop\\BASUS', filename='', title='<b>Select preprocessing parameter file</b…"
      ]
     },
     "metadata": {},
     "output_type": "display_data"
    }
   ],
   "source": [
    "fc = FileChooser('./')  # or use an absolute path if needed\n",
    "fc.title = \"<b>Select preprocessing parameter file</b>\"\n",
    "fc.filter_pattern = ['*.npz']  # Only show .par files\n",
    "display(fc)"
   ]
  },
  {
   "cell_type": "code",
   "execution_count": 71,
   "id": "af4f52d2",
   "metadata": {},
   "outputs": [],
   "source": [
    "data = dict(np.load(fc.selected, allow_pickle=True))"
   ]
  },
  {
   "cell_type": "code",
   "execution_count": 72,
   "id": "384cddaa",
   "metadata": {},
   "outputs": [
    {
     "data": {
      "text/plain": [
       "(910, 21)"
      ]
     },
     "execution_count": 72,
     "metadata": {},
     "output_type": "execute_result"
    }
   ],
   "source": [
    "windows = np.array(data['handlesA'].item()['burst_windows'])\n",
    "labels = data['handlesA'].item()['species']\n",
    "assert windows.shape[0] == labels.shape[0]\n",
    "windows.shape"
   ]
  },
  {
   "cell_type": "code",
   "execution_count": 73,
   "id": "d9f6e1b7",
   "metadata": {},
   "outputs": [],
   "source": [
    "X = torch.tensor(windows, dtype=torch.float32).unsqueeze(1)\n",
    "X = torch.log1p(X)\n",
    "if torch.cuda.is_available():\n",
    "    X = X.cuda()\n",
    "DEVICE = torch.device('cuda' if torch.cuda.is_available() else 'cpu')"
   ]
  },
  {
   "cell_type": "code",
   "execution_count": 74,
   "id": "bd152a69",
   "metadata": {},
   "outputs": [
    {
     "data": {
      "text/plain": [
       "tensor([[[0.1466, 0.0000, 0.0000,  ..., 0.0000, 0.0000, 0.0000]],\n",
       "\n",
       "        [[1.6405, 0.0000, 0.0000,  ..., 0.0000, 0.1466, 1.4250]],\n",
       "\n",
       "        [[0.0000, 0.0000, 0.7694,  ..., 0.0000, 0.0000, 0.1471]],\n",
       "\n",
       "        ...,\n",
       "\n",
       "        [[1.4534, 0.8232, 1.4534,  ..., 0.0000, 0.0000, 0.0000]],\n",
       "\n",
       "        [[1.4535, 0.0000, 1.1872,  ..., 0.0000, 0.8233, 0.0000]],\n",
       "\n",
       "        [[0.8236, 0.0000, 0.8236,  ..., 0.2459, 0.0000, 1.1875]]])"
      ]
     },
     "execution_count": 74,
     "metadata": {},
     "output_type": "execute_result"
    }
   ],
   "source": [
    "X"
   ]
  },
  {
   "cell_type": "markdown",
   "id": "a85cb504",
   "metadata": {},
   "source": [
    "## Convolutional VAE Architecture"
   ]
  },
  {
   "cell_type": "code",
   "execution_count": 75,
   "id": "9f3b0779",
   "metadata": {},
   "outputs": [],
   "source": [
    "class ConvVAE(nn.Module):\n",
    "    def __init__(self, input_length = 21, latent_dim = 8):\n",
    "        super(ConvVAE, self).__init__()\n",
    "        self.encoder = nn.Sequential(\n",
    "            nn.Conv1d(1, 16, kernel_size=3, padding=1), #(B, 16, 21)\n",
    "            nn.ReLU(),\n",
    "            nn.MaxPool1d(2), #(B, 16, 10)\n",
    "            nn.Conv1d(16, 32, kernel_size=3, padding=1), #(B, 32, 10)\n",
    "            nn.ReLU(),\n",
    "            nn.MaxPool1d(2), #(B, 32, 5)\n",
    "            #nn.Flatten() #(B, 160)\n",
    "        )\n",
    "        self.fc_mu = nn.Linear(32*5, latent_dim)\n",
    "        self.fc_logvar = nn.Linear(32*5, latent_dim)\n",
    "\n",
    "        self.decoder_input = nn.Linear(latent_dim, 32*5)\n",
    "        self.decoder= nn.Sequential(\n",
    "            nn.Unflatten(1, (32, 5)), # (B, 32, 5)\n",
    "            nn.ConvTranspose1d(32, 16, kernel_size=4, stride=2), #(B, 16, 12)\n",
    "            nn.ReLU(),\n",
    "            nn.ConvTranspose1d(16, 1, kernel_size=4, stride=2), #(B, 1, 26)\n",
    "            nn.ReLU(),\n",
    "            nn.Conv1d(1, 1, kernel_size=6) # (B, 1, 21)\n",
    "        )\n",
    "\n",
    "    def reparametrize(self, mu, logvar):\n",
    "        std = torch.exp(0.5 * logvar)\n",
    "        return mu + std * torch.randn_like(std)\n",
    "    \n",
    "    def forward(self, x):\n",
    "        enc = self.encoder(x)\n",
    "        enc_flat = enc.view(x.size(0), -1)\n",
    "        mu = self.fc_mu(enc_flat)\n",
    "        logvar = self.fc_logvar(enc_flat)\n",
    "        z = self.reparametrize(mu, logvar)\n",
    "        z_dec = self.decoder_input(z)\n",
    "        recon = self.decoder(z_dec)\n",
    "        return recon, mu, logvar\n",
    "    \n",
    "def vae_loss(recon, x, mu, logvar):\n",
    "    recon_loss = F.mse_loss(recon, x, reduction='mean')\n",
    "    kl_div = -0.5 * torch.mean(1 + logvar - mu.pow(2) - logvar.exp())\n",
    "    return recon_loss + kl_div"
   ]
  },
  {
   "cell_type": "code",
   "execution_count": 76,
   "id": "d3ff1a60",
   "metadata": {},
   "outputs": [],
   "source": [
    "loader = DataLoader(TensorDataset(X), batch_size = 64)\n",
    "model = ConvVAE(input_length=21, latent_dim=8).to(DEVICE)\n",
    "optimizer = torch.optim.Adam(model.parameters(), lr = 1e-3)\n",
    "num_epochs = 25"
   ]
  },
  {
   "cell_type": "markdown",
   "id": "b9c9feb3",
   "metadata": {},
   "source": [
    "### Training Loop"
   ]
  },
  {
   "cell_type": "code",
   "execution_count": 77,
   "id": "c97e3ecf",
   "metadata": {},
   "outputs": [
    {
     "name": "stdout",
     "output_type": "stream",
     "text": [
      "Epoch 1 - Loss: 4.9559\n",
      "Epoch 2 - Loss: 4.9038\n",
      "Epoch 3 - Loss: 4.8602\n",
      "Epoch 4 - Loss: 4.8176\n",
      "Epoch 5 - Loss: 4.7756\n",
      "Epoch 6 - Loss: 4.7344\n",
      "Epoch 7 - Loss: 4.6938\n",
      "Epoch 8 - Loss: 4.6539\n",
      "Epoch 9 - Loss: 4.6146\n",
      "Epoch 10 - Loss: 4.5759\n",
      "Epoch 11 - Loss: 4.5378\n",
      "Epoch 12 - Loss: 4.5004\n",
      "Epoch 13 - Loss: 4.4635\n",
      "Epoch 14 - Loss: 4.4273\n",
      "Epoch 15 - Loss: 4.3916\n",
      "Epoch 16 - Loss: 4.3566\n",
      "Epoch 17 - Loss: 4.3221\n",
      "Epoch 18 - Loss: 4.2882\n",
      "Epoch 19 - Loss: 4.2548\n",
      "Epoch 20 - Loss: 4.2221\n",
      "Epoch 21 - Loss: 4.1898\n",
      "Epoch 22 - Loss: 4.1581\n",
      "Epoch 23 - Loss: 4.1270\n",
      "Epoch 24 - Loss: 4.0964\n",
      "Epoch 25 - Loss: 4.0663\n"
     ]
    }
   ],
   "source": [
    "for epoch in range(num_epochs):\n",
    "    total_loss = 0\n",
    "    for batch in loader:\n",
    "        x_batch = batch[0].to(DEVICE)\n",
    "        recon, mu, logvar = model(x_batch)\n",
    "        loss = vae_loss(recon, x_batch, mu, logvar)\n",
    "\n",
    "        optimizer.zero_grad()\n",
    "        loss.backward()\n",
    "        optimizer.step()\n",
    "        total_loss += loss.item()\n",
    "\n",
    "    print(f\"Epoch {epoch+1} - Loss: {total_loss / len(loader):.4f}\")"
   ]
  },
  {
   "cell_type": "code",
   "execution_count": 78,
   "id": "35701c2b",
   "metadata": {},
   "outputs": [
    {
     "data": {
      "application/vnd.plotly.v1+json": {
       "config": {
        "plotlyServerURL": "https://plot.ly"
       },
       "data": [
        {
         "marker": {
          "color": {
           "bdata": "AAAAAAAA8D8AAAAAAAAAAAAAAAAAAAAAAAAAAAAAAAAAAAAAAAAAAAAAAAAAAPA/AAAAAAAAAAAAAAAAAAAAAAAAAAAAAAAAAAAAAAAA8D8AAAAAAAAAAAAAAAAAAAAAAAAAAAAAAAAAAAAAAAAAAAAAAAAAAAAAAAAAAAAAAAAAAAAAAAAAAAAAAAAAAAAAAAAAAAAAAAAAAAAAAADwPwAAAAAAAAAAAAAAAAAAAAAAAAAAAADwPwAAAAAAAAAAAAAAAAAAAAAAAAAAAAAAAAAAAAAAAPA/AAAAAAAAAAAAAAAAAAAAAAAAAAAAAAAAAAAAAAAA8D8AAAAAAADwPwAAAAAAAAAAAAAAAAAAAAAAAAAAAAAAAAAAAAAAAPA/AAAAAAAAAAAAAAAAAAAAAAAAAAAAAPA/AAAAAAAAAAAAAAAAAAAAAAAAAAAAAAAAAAAAAAAA8D8AAAAAAAAAAAAAAAAAAPA/AAAAAAAAAAAAAAAAAADwPwAAAAAAAAAAAAAAAAAAAAAAAAAAAAAAAAAAAAAAAPA/AAAAAAAAAAAAAAAAAAAAAAAAAAAAAAAAAAAAAAAAAAAAAAAAAAAAAAAAAAAAAAAAAAAAAAAAAAAAAAAAAAAAAAAAAAAAAPA/AAAAAAAAAAAAAAAAAADwPwAAAAAAAAAAAAAAAAAAAAAAAAAAAADwPwAAAAAAAAAAAAAAAAAAAAAAAAAAAAAAAAAAAAAAAPA/AAAAAAAA8D8AAAAAAAAAAAAAAAAAAAAAAAAAAAAAAAAAAAAAAAAAAAAAAAAAAPA/AAAAAAAAAAAAAAAAAADwPwAAAAAAAPA/AAAAAAAA8D8AAAAAAAAAAAAAAAAAAPA/AAAAAAAA8D8AAAAAAAAAAAAAAAAAAAAAAAAAAAAAAAAAAAAAAAAAAAAAAAAAAPA/AAAAAAAAAAAAAAAAAAAAAAAAAAAAAAAAAAAAAAAA8D8AAAAAAADwPwAAAAAAAAAAAAAAAAAAAAAAAAAAAAAAAAAAAAAAAAAAAAAAAAAAAAAAAAAAAAAAAAAAAAAAAPA/AAAAAAAAAAAAAAAAAAAAAAAAAAAAAPA/AAAAAAAAAAAAAAAAAADwPwAAAAAAAAAAAAAAAAAAAAAAAAAAAADwPwAAAAAAAAAAAAAAAAAAAAAAAAAAAADwPwAAAAAAAAAAAAAAAAAA8D8AAAAAAAAAAAAAAAAAAAAAAAAAAAAA8D8AAAAAAADwPwAAAAAAAAAAAAAAAAAAAAAAAAAAAAAAAAAAAAAAAAAAAAAAAAAAAAAAAAAAAAAAAAAAAAAAAAAAAAAAAAAAAAAAAAAAAAAAAAAAAAAAAAAAAAAAAAAAAAAAAAAAAADwPwAAAAAAAAAAAAAAAAAAAAAAAAAAAADwPwAAAAAAAAAAAAAAAAAAAAAAAAAAAAAAAAAAAAAAAAAAAAAAAAAA8D8AAAAAAAAAAAAAAAAAAAAAAAAAAAAA8D8AAAAAAAAAAAAAAAAAAAAAAAAAAAAAAAAAAAAAAAAAAAAAAAAAAAAAAAAAAAAA8D8AAAAAAADwPwAAAAAAAAAAAAAAAAAAAAAAAAAAAAAAAAAAAAAAAAAAAAAAAAAA8D8AAAAAAAAAAAAAAAAAAPA/AAAAAAAAAAAAAAAAAAAAAAAAAAAAAAAAAAAAAAAAAAAAAAAAAADwPwAAAAAAAAAAAAAAAAAA8D8AAAAAAAAAAAAAAAAAAAAAAAAAAAAAAAAAAAAAAADwPwAAAAAAAAAAAAAAAAAA8D8AAAAAAAAAAAAAAAAAAAAAAAAAAAAAAAAAAAAAAAAAAAAAAAAAAAAAAAAAAAAA8D8AAAAAAADwPwAAAAAAAAAAAAAAAAAAAAAAAAAAAADwPwAAAAAAAAAAAAAAAAAAAAAAAAAAAAAAAAAAAAAAAAAAAAAAAAAA8D8AAAAAAAAAAAAAAAAAAAAAAAAAAAAAAAAAAAAAAAAAAAAAAAAAAAAAAAAAAAAA8D8AAAAAAADwPwAAAAAAAPA/AAAAAAAAAAAAAAAAAAAAAAAAAAAAAAAAAAAAAAAA8D8AAAAAAAAAAAAAAAAAAAAAAAAAAAAAAAAAAAAAAAAAAAAAAAAAAAAAAAAAAAAA8D8AAAAAAADwPwAAAAAAAAAAAAAAAAAA8D8AAAAAAADwPwAAAAAAAPA/AAAAAAAAAAAAAAAAAAAAAAAAAAAAAAAAAAAAAAAAAAAAAAAAAADwPwAAAAAAAAAAAAAAAAAAAAAAAAAAAAAAAAAAAAAAAAAAAAAAAAAAAAAAAAAAAAAAAAAAAAAAAAAAAAAAAAAA8D8AAAAAAADwPwAAAAAAAAAAAAAAAAAA8D8AAAAAAAAAAAAAAAAAAAAAAAAAAAAAAAAAAAAAAAAAAAAAAAAAAAAAAAAAAAAAAAAAAAAAAAAAAAAAAAAAAAAAAAAAAAAAAAAAAAAAAAAAAAAAAAAAAAAAAAAAAAAAAAAAAAAAAAAAAAAAAAAAAAAAAAAAAAAA8D8AAAAAAAAAAAAAAAAAAPA/AAAAAAAAAAAAAAAAAADwPwAAAAAAAPA/AAAAAAAA8D8AAAAAAAAAAAAAAAAAAAAAAAAAAAAAAAAAAAAAAAAAAAAAAAAAAAAAAAAAAAAAAAAAAAAAAAAAAAAAAAAAAAAAAAAAAAAAAAAAAAAAAAAAAAAAAAAAAAAAAAAAAAAAAAAAAAAAAAAAAAAAAAAAAAAAAAAAAAAA8D8AAAAAAAAAAAAAAAAAAAAAAAAAAAAAAAAAAAAAAAAAAAAAAAAAAAAAAAAAAAAAAAAAAAAAAAAAAAAAAAAAAPA/AAAAAAAAAAAAAAAAAAAAAAAAAAAAAAAAAAAAAAAAAAAAAAAAAAAAAAAAAAAAAPA/AAAAAAAAAAAAAAAAAAAAAAAAAAAAAAAAAAAAAAAA8D8AAAAAAAAAAAAAAAAAAAAAAAAAAAAAAAAAAAAAAAAAAAAAAAAAAAAAAAAAAAAA8D8AAAAAAAAAAAAAAAAAAAAAAAAAAAAAAAAAAAAAAADwPwAAAAAAAPA/AAAAAAAAAAAAAAAAAAAAAAAAAAAAAAAAAAAAAAAAAAAAAAAAAAAAAAAAAAAAAAAAAAAAAAAAAAAAAAAAAAAAAAAAAAAAAAAAAAAAAAAAAAAAAAAAAAAAAAAAAAAAAAAAAAAAAAAAAAAAAAAAAAAAAAAAAAAAAPA/AAAAAAAAAAAAAAAAAAAAAAAAAAAAAAAAAAAAAAAAAAAAAAAAAAAAAAAAAAAAAAAAAAAAAAAAAAAAAAAAAAAAAAAAAAAAAAAAAAAAAAAAAAAAAAAAAAAAAAAAAAAAAAAAAAAAAAAA8D8AAAAAAAAAAAAAAAAAAAAAAAAAAAAAAAAAAAAAAAAAAAAAAAAAAAAAAAAAAAAAAAAAAAAAAADwPwAAAAAAAAAAAAAAAAAAAAAAAAAAAAAAAAAAAAAAAAAAAAAAAAAAAAAAAAAAAAAAAAAAAAAAAAAAAAAAAAAAAAAAAAAAAAAAAAAAAAAAAAAAAAAAAAAAAAAAAAAAAAAAAAAAAAAAAAAAAAAAAAAAAAAAAAAAAADwPwAAAAAAAAAAAAAAAAAAAAAAAAAAAAAAAAAAAAAAAAAAAAAAAAAAAAAAAAAAAAAAAAAAAAAAAAAAAAAAAAAAAAAAAAAAAAAAAAAAAAAAAAAAAAAAAAAAAAAAAAAAAAAAAAAAAAAAAAAAAAAAAAAA8D8AAAAAAADwPwAAAAAAAAAAAAAAAAAAAAAAAAAAAAAAAAAAAAAAAAAAAAAAAAAA8D8AAAAAAAAAAAAAAAAAAAAAAAAAAAAAAAAAAAAAAAAAAAAAAAAAAAAAAAAAAAAAAAAAAAAAAAAAAAAAAAAAAPA/AAAAAAAAAAAAAAAAAAAAAAAAAAAAAAAAAAAAAAAAAAAAAAAAAAAAAAAAAAAAAAAAAAAAAAAA8D8AAAAAAAAAAAAAAAAAAAAAAAAAAAAA8D8AAAAAAAAAAAAAAAAAAPA/AAAAAAAAAAAAAAAAAADwPwAAAAAAAAAAAAAAAAAA8D8AAAAAAAAAAAAAAAAAAAAAAAAAAAAA8D8AAAAAAADwPwAAAAAAAPA/AAAAAAAA8D8AAAAAAAAAAAAAAAAAAAAAAAAAAAAAAAAAAAAAAAAAAAAAAAAAAPA/AAAAAAAAAAAAAAAAAAAAAAAAAAAAAAAAAAAAAAAAAAAAAAAAAAAAAAAAAAAAAAAAAAAAAAAAAAAAAAAAAAAAAAAAAAAAAPA/AAAAAAAA8D8AAAAAAAAAAAAAAAAAAPA/AAAAAAAAAAAAAAAAAAAAAAAAAAAAAAAAAAAAAAAAAAAAAAAAAAAAAAAAAAAAAAAAAAAAAAAAAAAAAAAAAAAAAAAAAAAAAPA/AAAAAAAAAAAAAAAAAADwPwAAAAAAAAAAAAAAAAAAAAAAAAAAAAAAAAAAAAAAAAAAAAAAAAAAAAAAAAAAAAAAAAAAAAAAAAAAAAAAAAAAAAAAAAAAAADwPwAAAAAAAAAAAAAAAAAAAAAAAAAAAADwPwAAAAAAAAAAAAAAAAAAAAAAAAAAAAAAAAAAAAAAAAAAAAAAAAAAAAAAAAAAAADwPwAAAAAAAPA/AAAAAAAAAAAAAAAAAAAAAAAAAAAAAAAAAAAAAAAAAAAAAAAAAADwPwAAAAAAAAAAAAAAAAAAAAAAAAAAAAAAAAAAAAAAAAAAAAAAAAAAAAAAAAAAAAAAAAAAAAAAAPA/AAAAAAAAAAAAAAAAAAAAAAAAAAAAAAAAAAAAAAAAAAAAAAAAAAAAAAAAAAAAAAAAAAAAAAAAAAAAAAAAAADwPwAAAAAAAAAAAAAAAAAAAAAAAAAAAAAAAAAAAAAAAAAAAAAAAAAAAAAAAAAAAADwPwAAAAAAAPA/AAAAAAAAAAAAAAAAAAAAAAAAAAAAAAAAAAAAAAAAAAAAAAAAAAAAAAAAAAAAAAAAAAAAAAAAAAAAAAAAAAAAAAAAAAAAAAAAAAAAAAAA8D8AAAAAAAAAAAAAAAAAAAAAAAAAAAAAAAAAAAAAAAAAAAAAAAAAAAAAAAAAAAAA8D8AAAAAAAAAAAAAAAAAAAAAAAAAAAAAAAAAAAAAAAAAAAAAAAAAAAAAAAAAAAAAAAAAAAAAAAAAAAAAAAAAAPA/AAAAAAAAAAAAAAAAAAAAAAAAAAAAAAAAAAAAAAAA8D8AAAAAAAAAAAAAAAAAAPA/AAAAAAAAAAAAAAAAAAAAAAAAAAAAAAAAAAAAAAAAAAAAAAAAAAAAAAAAAAAAAAAAAAAAAAAAAAAAAAAAAADwPwAAAAAAAAAAAAAAAAAAAAAAAAAAAAAAAAAAAAAAAAAAAAAAAAAA8D8AAAAAAAAAAAAAAAAAAPA/AAAAAAAAAAAAAAAAAAAAAAAAAAAAAAAAAAAAAAAAAAAAAAAAAADwPwAAAAAAAAAAAAAAAAAAAAAAAAAAAAAAAAAAAAAAAAAAAAAAAAAAAAAAAAAAAAAAAAAAAAAAAAAAAAAAAAAAAAAAAAAAAAAAAAAAAAAAAAAAAAAAAAAAAAAAAAAAAAAAAAAAAAAAAPA/AAAAAAAAAAAAAAAAAAAAAAAAAAAAAAAAAAAAAAAAAAAAAAAAAADwPwAAAAAAAAAAAAAAAAAAAAAAAAAAAAAAAAAAAAAAAAAAAAAAAAAAAAAAAAAAAAAAAAAAAAAAAAAAAAAAAAAAAAAAAAAAAAAAAAAAAAAAAAAAAAAAAAAA8D8AAAAAAAAAAAAAAAAAAAAAAAAAAAAA8D8AAAAAAADwPwAAAAAAAAAAAAAAAAAA8D8AAAAAAAAAAAAAAAAAAAAAAAAAAAAAAAAAAAAAAAAAAAAAAAAAAAAAAAAAAAAAAAAAAAAAAAAAAAAAAAAAAAAAAAAAAAAAAAAAAAAAAAAAAAAAAAAAAAAAAAAAAAAAAAAAAAAAAAAAAAAAAAAAAAAAAAAAAAAAAAAAAAAAAAAAAAAAAAAAAAAAAAAAAAAAAAAAAAAAAADwPwAAAAAAAAAAAAAAAAAAAAAAAAAAAADwPwAAAAAAAAAAAAAAAAAAAAAAAAAAAAAAAAAAAAAAAAAAAAAAAAAAAAAAAAAAAAAAAAAAAAAAAPA/AAAAAAAAAAAAAAAAAADwPwAAAAAAAAAAAAAAAAAA8D8AAAAAAAAAAAAAAAAAAAAAAAAAAAAAAAAAAAAAAADwPwAAAAAAAAAAAAAAAAAAAAAAAAAAAAAAAAAAAAAAAAAAAAAAAAAAAAAAAAAAAAAAAAAAAAAAAAAAAAAAAAAAAAAAAAAAAADwPwAAAAAAAAAAAAAAAAAA8D8AAAAAAAAAAAAAAAAAAAAAAAAAAAAAAAAAAAAAAAAAAAAAAAAAAAAAAAAAAAAAAAAAAAAAAAAAAAAAAAAAAAAAAAAAAAAAAAAAAAAAAAAAAAAAAAAAAAAAAAAAAAAA8D8AAAAAAAAAAAAAAAAAAAAAAAAAAAAAAAAAAAAAAAAAAAAAAAAAAPA/AAAAAAAAAAAAAAAAAAAAAAAAAAAAAPA/AAAAAAAAAAAAAAAAAADwPwAAAAAAAAAAAAAAAAAAAAAAAAAAAAAAAAAAAAAAAAAAAAAAAAAAAAAAAAAAAAAAAAAAAAAAAAAAAAAAAAAA8D8AAAAAAADwPwAAAAAAAAAAAAAAAAAAAAAAAAAAAAAAAAAAAAAAAAAAAAAAAAAA8D8AAAAAAAAAAAAAAAAAAAAAAAAAAAAAAAAAAAAAAADwPwAAAAAAAAAAAAAAAAAAAAAAAAAAAAAAAAAAAAAAAAAAAAAAAAAAAAAAAAAAAAAAAAAAAAAAAAAAAAAAAAAAAAAAAAAAAAAAAAAAAAAAAAAAAAAAAAAAAAAAAAAAAAAAAAAAAAAAAAAAAAAAAAAAAAAAAAAAAAAAAAAAAAAAAAAAAAAAAAAA8D8AAAAAAAAAAAAAAAAAAAAAAAAAAAAAAAAAAAAAAAAAAAAAAAAAAAAAAAAAAAAAAAAAAAAAAADwPwAAAAAAAAAAAAAAAAAAAAAAAAAAAAAAAAAAAAAAAAAAAAAAAAAAAAAAAAAAAADwPwAAAAAAAAAAAAAAAAAAAAAAAAAAAAAAAAAAAAAAAPA/AAAAAAAAAAAAAAAAAAAAAAAAAAAAAAAAAAAAAAAAAAAAAAAAAAAAAAAAAAAAAPA/AAAAAAAAAAAAAAAAAAAAAAAAAAAAAAAAAAAAAAAAAAAAAAAAAAAAAAAAAAAAAAAAAAAAAAAAAAAAAAAAAAAAAAAAAAAAAAAAAAAAAAAAAAAAAAAAAAAAAAAAAAAAAPA/AAAAAAAAAAAAAAAAAADwPwAAAAAAAPA/AAAAAAAAAAAAAAAAAAAAAAAAAAAAAAAAAAAAAAAA8D8AAAAAAAAAAAAAAAAAAAAAAAAAAAAAAAAAAAAAAADwPwAAAAAAAAAAAAAAAAAA8D8AAAAAAAAAAAAAAAAAAAAAAAAAAAAAAAAAAAAAAADwPwAAAAAAAPA/AAAAAAAAAAAAAAAAAAAAAAAAAAAAAPA/AAAAAAAAAAAAAAAAAAAAAAAAAAAAAAAAAAAAAAAAAAAAAAAAAAAAAAAAAAAAAPA/AAAAAAAAAAAAAAAAAADwPwAAAAAAAAAAAAAAAAAAAAAAAAAAAADwPwAAAAAAAAAAAAAAAAAAAAAAAAAAAAAAAAAAAAAAAAAAAAAAAAAAAAAAAAAAAAAAAAAAAAAAAAAAAAAAAAAAAAAAAAAAAAAAAAAAAAAAAPA/AAAAAAAA8D8AAAAAAAAAAAAAAAAAAAAAAAAAAAAAAAAAAAAAAADwPwAAAAAAAAAAAAAAAAAAAAAAAAAAAAAAAAAAAAAAAAAAAAAAAAAAAAAAAAAAAAAAAAAAAAAAAPA/AAAAAAAAAAAAAAAAAADwPwAAAAAAAPA/AAAAAAAAAAAAAAAAAAAAAAAAAAAAAAAAAAAAAAAA8D8AAAAAAAAAAAAAAAAAAAAAAAAAAAAAAAAAAAAAAAAAAAAAAAAAAAAAAAAAAAAAAAAAAAAAAADwPwAAAAAAAAAAAAAAAAAA8D8AAAAAAADwPwAAAAAAAAAAAAAAAAAAAAAAAAAAAADwPwAAAAAAAPA/AAAAAAAAAAAAAAAAAAAAAAAAAAAAAAAAAAAAAAAAAAAAAAAAAADwPwAAAAAAAAAAAAAAAAAAAAAAAAAAAAAAAAAAAAAAAAAAAAAAAAAAAAAAAAAAAAAAAAAAAAAAAAAAAAAAAAAAAAAAAAAAAAAAAAAAAAAAAAAAAAAAAAAAAAAAAAAAAAAAAAAAAAAAAAAAAAAAAAAA8D8AAAAAAAAAAAAAAAAAAAAAAAAAAAAAAAAAAAAAAADwPwAAAAAAAAAAAAAAAAAAAAAAAAAAAAAAAAAAAAAAAAAAAAAAAAAA8D8AAAAAAAAAAAAAAAAAAAAAAAAAAAAA8D8AAAAAAAAAAAAAAAAAAAAAAAAAAAAAAAAAAAAAAAAAAAAAAAAAAAAAAAAAAAAAAAAAAAAAAAAAAAAAAAAAAPA/AAAAAAAAAAAAAAAAAAAAAAAAAAAAAAAAAAAAAAAAAAAAAAAAAAAAAAAAAAAAAAAAAAAAAAAAAAAAAAAAAAAAAAAAAAAAAAAAAAAAAAAA8D8AAAAAAAAAAAAAAAAAAAAAAAAAAAAAAAAAAAAAAADwPwAAAAAAAAAAAAAAAAAAAAAAAAAAAAAAAAAAAAAAAAAAAAAAAAAAAAAAAAAAAAAAAAAAAAAAAAAAAAAAAAAAAAAAAAAAAAAAAAAAAAAAAAAAAAAAAAAA8D8AAAAAAADwPwAAAAAAAAAAAAAAAAAAAAAAAAAAAADwPwAAAAAAAAAAAAAAAAAAAAAAAAAAAAAAAAAAAAAAAAAAAAAAAAAAAAAAAAAAAAAAAAAAAAAAAPA/AAAAAAAAAAAAAAAAAAAAAAAAAAAAAAAAAAAAAAAAAAAAAAAAAAAAAAAAAAAAAAAAAAAAAAAAAAAAAAAAAAAAAAAAAAAAAPA/AAAAAAAAAAAAAAAAAAAAAAAAAAAAAAAAAAAAAAAAAAAAAAAAAAAAAAAAAAAAAAAAAAAAAAAA8D8AAAAAAAAAAAAAAAAAAAAAAAAAAAAAAAAAAAAAAAAAAAAAAAAAAAAAAAAAAAAAAAAAAAAAAADwPwAAAAAAAAAAAAAAAAAAAAAAAAAAAADwPwAAAAAAAAAAAAAAAAAAAAAAAAAAAADwPwAAAAAAAAAAAAAAAAAAAAAAAAAAAAAAAAAAAAAAAAAAAAAAAAAAAAAAAAAAAADwPwAAAAAAAAAAAAAAAAAAAAAAAAAAAAAAAAAAAAAAAAAAAAAAAAAAAAAAAAAAAAAAAAAAAAAAAAAAAAAAAAAAAAAAAAAAAAAAAAAAAAAAAAAAAAAAAAAAAAAAAAAAAAAAAAAAAAAAAAAAAAAAAAAAAAAAAAAAAAAAAAAAAAAAAAAAAAAAAAAAAAAAAAAAAAAAAAAAAAAAAAAAAAAAAAAAAAAAAAAAAAAAAAAAAAAAAAAAAAAAAAAAAAAAAAAAAADwPwAAAAAAAAAAAAAAAAAA8D8AAAAAAADwPwAAAAAAAAAAAAAAAAAAAAAAAAAAAAAAAAAAAAAAAAAAAAAAAAAAAAAAAAAAAAAAAAAAAAAAAAAAAAAAAAAAAAAAAAAAAADwPwAAAAAAAAAAAAAAAAAAAAAAAAAAAAAAAAAAAAAAAAAAAAAAAAAAAAA=",
           "dtype": "f8"
          },
          "colorbar": {
           "title": {
            "text": "Species"
           }
          },
          "colorscale": [
           [
            0,
            "#440154"
           ],
           [
            0.1111111111111111,
            "#482878"
           ],
           [
            0.2222222222222222,
            "#3e4989"
           ],
           [
            0.3333333333333333,
            "#31688e"
           ],
           [
            0.4444444444444444,
            "#26828e"
           ],
           [
            0.5555555555555556,
            "#1f9e89"
           ],
           [
            0.6666666666666666,
            "#35b779"
           ],
           [
            0.7777777777777778,
            "#6ece58"
           ],
           [
            0.8888888888888888,
            "#b5de2b"
           ],
           [
            1,
            "#fde725"
           ]
          ],
          "opacity": 0.8,
          "size": 4
         },
         "mode": "markers",
         "type": "scatter3d",
         "x": {
          "bdata": "YvcYPHKHFzteGZa7bnl0u8hB4boNoIg7uQ02vEOFBr3yzKY8Xm3HvFCNJDuu4f28izw/u8nX6bq+9Om7Tmf4PP2PqzwukTG8mbzyO+4+UjyOPn87cVGDvMQJ0TzRy847B0hguwJ6Trt0AgA81eW1uxlAvDx3XfS8AnjZuySzN7xZ+J088stou86AITyQBCA8RhALPNi3J7q1PYI7feqCO13aCD0Vicq7oI9Fuh9/LLzYNza7lB7MvMC0ibu4DCk7QI3Su8KbKLui27E8sbNRu+FR/zuAVB48Iu8qPcE0obwYX7Y8RZoDPUh4GTytWtI83GyBu/d//7tiAgY8sOUHvGvASrusFz48phIFPPgdV7z+ADW8wLmhPDaZBLuZc528VJhlvJUwqrxok7W6yE24OvzzAj0WR8M8RiMpPNibijvIRKs6LncOvDjrSjwXQJU89xDdO4/97LwVHpC7jM3auxyvWTzGWhc8lY6rvKWw+LpYLkK8GUlpu+tMwTvSP/U8I0jYvPIafjtZ+ag7aIaPOayzv7xg+aS5KEMjulDOObsEChE8J2DXu1Rmqbwg8K85YrktvFSqrbv1qNc7fhQ2u5B8OLwNdt070DdzOw4YH7xQSkY66FK5POcF4zstcoG7vuBWPGieTTsycjE7Z/uNO5CcfzmlZsK7QLIuvHRWnrz+04u7FWnDO+yjG7xVR6Y7nEHWOi6U4LwU5jY8hFi0OqtSPD24n885tpaYvC6hSjspD4g7qEdxvBO7B7uQYLK7D3DjPPgTnzlcfac89a0bvJNPgDysVIu7MhSCPMnCjzuKRxQ8Q0q7O8MPmjvr/cA7eDrFOvuvnbwJpcw7YFMRvIhqkrtPWYE79BJ6u7hcVrq/7YC8OvUMvNCwaTydaeo7hvZROwBFT7xRwpy82SQcPQ6aKzsoW9S5nBBfvNCDW7ssewc9SO9CPGuT/7pmEEi8Lg9nPLaijTxQls68flQkuwatMztzQpe78v0TPJAC/Dqa7Ci8UKlBPDEDojun4Ji8eHJdunoXdzukKMu7mYKSvDZ5UTt0Z0i8RWjYvI6v8DxvgJQ7eWLTu2NSsTu3koC8WBjTvA3p1rx+QQ08n10UPfcTgTudPao7Bg0TPcBuCTg4sOc8fjHNvAaFYTsElXg8ftlROwACd7yi7c26BIaqu598njwINIS60MsYOoanC7zg97w89eRfuzi3GLspp/o7o9TjPIJjZryAOKW5ruIvPKrYZDxEFZ+8JEtBPOrM3Twh7/87zMRdPHztMjxwTDu81EkiumgARDx4B4o8UmMGPC/1szxogok7KOjauxVHsDwJA4Y7IcehOxDZhroJzvm7ZDNDPJio3TrNz4W8RkugPOAYYbzq0le8gBouue4bLLxO93m8D7eBvMpnszyrYJM8BeQwvDIkFrxYdSm8dApKvMT6aDyo9jC8mLsAvHO35DvvyQG8KNElPHpe9LvJYRg9wltePMkW9Dtw8m88IdkTPdrAPjyEqQk8AnG6PBTdHrxDJQK9gNvuvPJwYDx1pae7iA7EPK9uh7zdA4A8Mb6gvCg6a7xYlW28Nv9NvBq4X7yApUc8BodkPNhdrrlgIQU8ACjKuFdqqzxutUE8LMKeu2gS7DoUJAK8AOcAu9dF3DuqX6S6v3+GuwIqFTzbfNM7ToZlvEtXo7zUTwg7CZSFO0gm9jqQobc6bOGBuhKyOrxmx1M8fv0mu1cBirykRTw7aIfQPCbTW7xxkC28WkEgvGN+z7q8KKS7snoLPJRD9buw1Eg8j3bfu1IVqbtHL788FKunOgnmaLsoT0e8HLePvORrKD006dU6L/EuvJ7nM7wGbl872gxPvNBNobqKTCQ7Wiq2u1ouMbt0v6m8zaUGuwCPcrneruW7MD9Ju7oGmLzNg4K8q4rtO9gjtzx/E508qOmKPOrIijt8SY88mC4fuvuEkTyzJuW8Jj3EvIcBfruziaw7quXxuwCygLwyDwE8DMMQPMbEbDyE6g87cDd/OaSgFrwW4m+8irLguynj1DxKn0c7aGVMvJHiELy45EG8hionvAAJ3jfJX5Q7JsC7PETp8jxCFn+8gHeHvADUc7iMx+k6aB7GPCwmG7xqEAw8GWCPu8pxEjzeVlS8AFkVvCwyEDzFZr+8rI4QPACDHTjsMVo81cPsO1vh0TsU7ga8PhhWvB3iwDy5NvQ7QHU3vCMNvjuyNh88hxaTPMaFYDxX0eo7SESLvOFNurqAapA64IGuuDTNnDxEeCY8ouonPJdr+bsHFl+7qogFOwgF3DmsxYo8akjHu+Q6aDtF6eM7wLNZusjcJrpIsMm7QJaVODxVXTySofa6jjESPD35F7xgT6e55EqvPIojbrzykwc8saT+u6xuu7u2XWU8qIbVOvrdxbw2UVK82FCPOuY5SDy7gde7Lss7PMCngzicEko7MBTbOo4uTzy0LLK7zr9JvCACnzpj+PO6jGVsO/LPGTzMKwu8DCN3umbz9rzMEHY7mX+cvJ7LrTz+A4o7wOi+Oh8xgTyi9YA8IgdKPJ6spjxoxRw8MrguvCAZZ7zt3Og7KhkoPNL7ILta8gc8YC/EOFu6mbw4CV68ujiHvAQCarzcEji8StiwvIVmgDvo5Je7a+TcvMsp9bsg8KC7wXmsO4wZerrO4i+8wdizO5ygK7wgTgw8HgHru4UQqjtqloA8WLP5OoCEBzzYz/A5sCOiuYzhIzxg0ts6LtLqu4CiAryweeK6rhBJu0KUjrtEZIg8niA1POiCIDx8NjA8SvNDPLDp7bmMXQc87O65vEnerrxGnHU8HVrfu4zz0DwARO26aD1hvIqcXzyN54E77PqFPLhH0rkiTpE8qsZHvCZQPzwmLWg8+J1DOvpRJzyiCno8xjaUvEPBvrx81Ba6phbCu5DOVzpqKWI8jNqLPPYnrLzvoo+8UXDvvC+sjDxKIzg8aDWROTp3F7tG1PC8ODlaPZjqJjxWv5678q7SvOB8WztQpeS7jjokPLPc4jwoydw6hGXUvP6qfTztogI90NLMOocCvrrxKkq7Eh2ju3p7QDyAjBo8Kqj9PECRtbguN0u8wHYdOdxxbrxb1aA8cIc0O2vIzztHV6Y7WJHdu7QK47pQKqE6FOB1O8CCAzn0a8U6z+2pO5BpcDziGG08iBbzu2qQwLzUNRS8j46ovIgMhrwqACQ7XavRO1XJwTuOtHo8JkGJvKLaFzxvo7480CZ8uo+rq7x+zRG8FnVJvFR74btbisc7cOkWPL12Dz2Pm587zlghvDhb/zqsTFk7q46QPAh6aLwqYiw7/ikKvM4/ebwdAJC8aFiYu+q/Xjutx8A7SNUfvEixEjuCdEK73/nWPFfhsrzICfQ8PDNePCyjRzyU6ba8/4iLPDDkJDolWjK8QOouOpky7bqYyPg5rFFvvLYMPTuMjZq8EsCTvFMQvbx2JTq74qRJPFYyhbya1xW8wCyKumocBr22/tq8lDwQPCpcKbx2exa75M64u/XSyDtws1A8+IGFuTg4OLx2l6y7IKa8PP6FIj3x9o28CEbPu3+MvbuDJqg7QV3pu5BOALqYFqi8pDOnu/KTajsRiKW8cS0PvfA9Cjw09Rw8M4TDuyC1/Tguk3q8xDnKvDThJjy4wpU6gIFUu7w4rLszbJK8uTQBvOCxobqBCcG8VVqWu6dpnrzHgIm8fi8YPVdD8TuJxha8UuwAPCDbCTvxOm+7kIeMvLcf9btAiF68sFIEO5ZZBzw+KW+84RsWu01867zILEY8EohFu/cOdLv4aFI85txMvJyAlzo/bli7QE4HOjjdXDuCXPw8dvx4PK7jNLz/pha7VD/ru6wCM7rdXwu8r0LkPPLlKjxyouS7IKA0vCBvIDy/OPa8UJzzuxSWuDzy+za8riw5u79vyDs6vRm8mAUMujBIlrtJxgO7MQC2vNSNezwYRGG8RHdAPBoCurxnqMK6O6yUPNZe0jxxXPi7yTXRO7gc0rttaji7E3KdvPYOEzyU5NA8XCGruxhgYDyIKVs8KvI2PJ46Br0GttM8VK+guhhqOrxIK3S8DDLxPLUpjDxYDl87B9OZvGQvILwoloq8v7aNO/l5oLxcvzQ7XUPJu8jq67t0JXM84PtdPJn14juOI5W76Mbbu1SoBztPE9e84vVkvGKu+Lzc3C689nU1vKJOTzxzOx67GAwGvM8v5DyAlRa7TWUXvCE4wzuQywC9OVG4O8B08Tl/Tj+7r8aRPMReFTx6Kwc7MnBbvO9ItrrV8qu8PNEfu+KdJTzB2V67LdT9vFTOi7p6EVa8oLY4PCEspbv4wEk84ZO4Ow4GC7wCJik8vJTlPDj0YzwVGsI7YCA5PFiYMrss71q8NmVHPHEVzDvxb5a8kKtIOWoIKbwIamy6ZOUlPPsm07sQ+Rg6xApFvCUo7LzPcaA8vVy1O/fkorxCLOi7TujMu6CtVzw0Rz67wswmPAyeEzxCZI27to2avIysZTzLtA68ZRSAPL+z1Ts0/JG7Lfb5u5cP0zvZqL68CBkSPFqKArxNTPa8Gc0QPbB/mroVQJQ7mHMHO2hY9zpl2cE7kOLPu+SQbbst1787wiMeu0DXEzwWj1s84XGOPGgcwDqID6o6BOI4vCAHnLk0XR28/WOsu6cC1DtwmUo7OPUHvCgKjjxiogy86FwGvAcl+zuwTFO5CM57u76/kLxAgUg7Ci+bvGylhLzZNoc8dqGOPERA5rzCqB68xLR3PEoSJ7ykl8K81GIXuxKD1rvj5A28c6FBvbgZ0rm0qBI82ZuePLS2ATpFHKY79VSYvBfxeLvwpoi8YpIUu7BiqzkAeN042Y7qvHzCuzww0hc8sXOKvEYdxLudrYe7F2SIvA==",
          "dtype": "f4"
         },
         "y": {
          "bdata": "inEgPCYtgjsK6hm7VVi5vOoYdjsTizG8srzBuxnmCDxK964629djvNmZGzwTZNo77VXTuj43Q7wcB6I7AgF5PJoBi7vn58+6VCuuOyFvXLyW1MI721RUvK1Thrt+SnY7sowevADDBjshwRc82/trPK9ysbxQY7W8iLwKObGyJbwPslq8+JQcvB49g7vvZ6y6LYYLvGtau7vskGG7woZcvLNHK73itAK7DanhO38BrLslJai7me9IPN2J6DvdUIa7ANODu9tcD7zbbZM80G3Wuy/dOzz7TmY8MQ2DO2SIwbxKGSO7nHV7O2BXlrv8LdY7l3/Hu6o/sLsQJkC7a0dTPN2nsTrdwKW7nmN+PFBCRrwYumQ6bkjnOkWlUTwWjUm79te/u0Yv17ufXas7SWCFO6WYu7yCCxa82XoHvC6HSDsPBbO6VOAAO1pmk7xttuY7X10kvBTiwzvT7Ku7htrau3cYqDrK4IE7IkTnO+s/ODyR8I+76TSnOwKYEzzDJ5e7EOGeO7BDiDgrrwi84DNvPNeTlzxtnEG8pKYRvFgoJbtAbnA7JR6jvNzk7bvxjwE8NFwavAdOj7ulXU68ntSYu2oea7xf9608ZMquO3rYEzzryGa8VTwQvO4ibDyZVPE8/w7HuzKX7btP7KQ7pPySvDAgsziAutY7Jg8NPbv8GjyQS9w7RQu1u7QY6zwe2Em7ELVhu3lugTsXPpw6hC0iuyNcubsq0i66pvmmOyCnXzzm1dE8Gcwjvd3fVbxHst07ch/au6vOz7wMai87qf+JPIpLZrrnkkw8CLxSu1OACbx4JGw8gzeuO5gJ3LvAjaI7ClXAOpwTZTvdmke8FIdJvFxjULyPDh08xAr5u/QxmDr8gy+8icgCvFpL17slb4m8lPaEPCzJmLyqxvO7+nR5vEAZKzxo/D67Lmziu/7Z1jt/oYK9+GyTO+31Pjyh/rW6la6PO9SLaLvQU/Y5QCiguyL3KrwY/QS6OsWOu62FGDzVYcq7EHDnOgBmiLvi7Yq8gKesO9WPlTzIay072VyFvLGGyryUbx27hJE8vInYnjzgfe67OGn+uy/7E7zzdZi8sWv0OyeRezywqtU7e97cvMAg2zqW+Um8DxrqO6T2QLtzXgi8y1SavK2pATp48tw8WjBQu+Qir7u/05U8Gn8mPAhT5DtX+bY7zUIgPKO+pDsgGV27Fya5vApCFLtJo4E8E1KavHkCMTyMbAO7x9Q0vOasnruS+VS715Cru27y8Dn4aX87/PyqvOglbTxq0BA7CJQhPLMFO7yWbC67wGD/O7AoY7t4zaa8OoOVPK6cy7tobMK5KXH9OuzOIzrm9X28MffEuuLHaDsOaG68Bur9vMIu7ru/v667HT6EPFeUqjt4bgG7EEykvH4ujDt165I8JkqEOpe7QDyHtBc86kGguwSjkTzV8os74ED3uLJhYjtQIpQ4iHCPPEyL0jo0PYW8NMjouxOap7sj2Is74vwWvEaYHTt7Nfo7f8IuvL5oSjw5zwM9D5ahO7ZszDpOVZo7sm1Ku4pvv7vY6YE51/+8u2VM0Tz1FtG7xijgu5eiGbzSFze8lUysO8BAsjs/G3E8bG+Xu5nKAbxsnkY8GeFGPEf5BjzuyQY7YBfxu6jNfjsx2wY9MuNnO3Ps5ro7g6e6u7mzO3y9wzuAJ748L1OJvMQ1wzulwbI7/HeVOx9FJTzkH6s75TTMPAaC87tuW9e7PkbTu3YyDzxxpAg7duXhuxzr7rs15sm67DxBvJ4hsDvrRZe8cWOTvGNBCTyLio+6/OPDu7KykTzKfvm7MCQSvPPYI7yJxwy8UJVeO0ubCrwkfci7o2Kguy2psDvidIE8kMajuxFg4TtGOmi69BXuuw8eAbxkXns7UhOGvFCIFru+4hY6CgWrO8LVjLsarC27+WT0OlQfzTy9YAQ8p5PBPB+lAzzyTna7Xv0xOzJ8JjtkuWq8MO+KPFkHsLswH/670d+TOpbcmDxm+Rc7BnVSOwH/JTzL9Le80BesPJdumTyHShS8W3WPu1tNvbvQMnM70gJ8Oy9FEDuvUpq6X1qNuyu8wzwkAPS7Wn1CvFTRR7t1K8W6yDTmu0QXxToJ5cU7LgiOO1pBFjsbkwi8+lNzOz1/XDwIYSE8sBlVPDGlW7zm5ja78RA8O9tMRDvVTaG8JXRQvGrBj7xy6SG7PuTVuwZYuLun/9m6y/fHuvw9lTy6xNW8dEj4u0XVmLxBQOO6oZQYPX4ZMDzOl5A8RSAOPE7F5ztM+oA88uiVPLmH1zydlJ86yL4MPPUmpzzWOw873M+4u+lYrDqqtJs7s+dUvEabObw2Ym68mKfuu2MrEzzyxzy7sqqgO9U8MDogDj+70iTDO2S3DLyWLBm7aTrAuhin6TlwB8670BmqO5uhK7wOYLs7XRnMO2AA4rjOTso8PV9PvH5vcbx/9KC8eAI9uzVrUjrAV3q84AMqu0G/yzvENpC5UrucPO71yrsA4Su8vPmBu3j2FrsKw9y77ucJPPTAi7wwajg8YuWjvGSsBLxABtg4lv9wu6jUNTy30FU8iCwfPDaQijtD3dm6joEavI6derscT5a76ofJu+KUq7tKFDO6ZkdIvFoDcbxmFxi8Uij0u6UciDzAqK67tp/zu+9ktLvydUO78jKxOgw79rs8dAi8Qsh9O9twnbutfH882raCu5nCVLxZyxg8tjyMPPkrgzxcQd865tJ0PJZcO7q40go50Hl4uV8ClDuXf7+7yTmrOwcISbxVBKS61RToukcaDDq8LOc7m2qCO9OS0zsrKCO8vqj4u4f8mbsiQu08pgVHu1nzIzyBqVc8PMYMvHwWlLw6IWA8lAWPO+iakDspkNY7ZG/APOBXujr4SiU5cPihvF+grbuQyWG5SeJKvNkHRbxvK8K7RLCaOgKXUDyKLjO6GE1Iu5xg2TtIDOK5I+rNu3Z2Zrs+DEm6HjMPO6Cb07yg/5+8LBQ0O1CUEbzECUg7jzeyPNPzBD3ZkEY8uducux4647vOkZ86lGZ9O+C+BbkIXgE88FwSu6X24Ds6/9A7CTuLvMeB7jvSemG8+vUUuqxcazuK9xY74qNiPAXlxzzqiy+6WhcKPKzYBbyDFJ08whh9PLREHDupLjc85OOOu1ulhDxjgsy8b+zkO97gRLtIJW+8d9shPNE7Dry6wmK8T4CbOrdSizp2EIm76kjZO17OHrvBXu86QPXgu3Cuyrx0+Wm7iPe8OUr3F7sCKN06Rvw9uzv8lrzj6Li8utHgu9rFCrtgy5U4lYYAO+B45DtWhYa7EaRlvG6iBbyG2168b3fAu/tVyLpMSSE8xo8+Oxh1A72T4l88vtcGPO/ilLwKnIa8mwmzO6KLpbtERcs6RlA5PALeCjp0trk8M66XOrtyHbzt31a8S/aYPHTQmLyyxcs6eJdiu0Jl17s3E+Y757KwO3bRFLwApni8kJ21PAQKjDxkJRI8KaQtPMjrhLsQ1ve5fakqPJcZsjw2u0M6KigEuyE+wjshv6u69gzcvPyFBT2jyZ+7VMwkvO3FFbwj0pG8WLt+PBLE6buCPeK8mjnJO9yh9bm6ynM8IZWwu7MzWTxuANk7S8bIPEkg7bqOXQg88rC1OznlMby175W67B07O/e0pzyU3h47C3+fu9UE5LrbnYC794r/On9gw7yNKg88mysivFD4kDsb1I+84MzEO0iHibz9Z0U8kqDuOwXNArxlXIm8o2DDO+Lh57tRUmg6Ln+Fu3AHEzt6nO+75RhTvDllrLuMNRi8CayhOvsLzTu6zbw73L6mvKvCULx1IKO7GAWKOpI6lLugk++7MC2NOh0eRDwIP5Y82DdlvNuSOzxKilg7IAaEvMB/xzwca5M82QkfPFhV9DzV/8W7+o6LPP1QmbrynHQ8HDCNuVAzl7zA6Go7yAcqvAOUNzsZm4U8PPgWvMHggTxK+xm8ZItxPKdbF7wP2767V/AxvL5ZIbtE8We79IN+u142njs74EQ8AN+2PJCgZbyjWC88UUotPA6XXzuUo6Q8TRyQut7b+buHKzc8NmUsvA0pXDwl1X88RvdKPOQODTt5IBY8AB16uCjg8zpgOAU75WwSOqis2Ts098Y7hFIsPBSAVjtMzgq8uMWauw8zBjx4QOK7lIV4O+lTPrzedqa86lM/u2QNezwc9bo5USoNvPBixjqO4EC7j+HMusXk37xWPbO8gN0GO9xKKbzc7Za79dLXOuGimTzam5E7AzaBPILdtrtQZiu7mvFqvAIPlDvlE5m6wFRbu4J5+zq8xSy73LWBO7xeXzvzURc8eufHOsXTETyBmG48/MyDvLa7FjyrVAu8O8w5PDLfpjxSDly6ReRAvNa3ET3Qx7q7JVJwPJs+Pbxl4qY8XxlVOxTeHDssxm47MNq4uyx3SrstHOO6chXCPChMJjmIJpm8K6zTO9QrFz07XJS8wK5ku+4sKrptg+k7fZnhvKnJZrwH7aI6XTBTvIglELxxVho7ktIFvO4+xzxtPWM9QEmuODbEpDzXKoG7cUALPAUqObyrBMO7jgJ6vAMKNrzkZJ871bWNPIolqbwSgZu7SgUXO7dchLrtdom8cRN9PEJ4Hru/j4Q6WPNuvPi9E7wQpAM86WVePCI0fTt4vsU7mHmfO+qGezuV2oC72lgju7tCQTx1k846obQQvGjvsjsKyYQ8Dcn+O/jeYbv6W7k7XfSQPAomELoKS3s8+UQPPFAxGztR2jE8srtEO4tan7vc7PK7nYNfPDuF4Lr7USi8Wt+lPOpnHTug5TE4hjubuzLgIrpedYG7Hu80ugDLaby/LTk8lg0Lu9JQNLse8ZG87tlovFABJrxGOCY7KkVaOg==",
          "dtype": "f4"
         },
         "z": {
          "bdata": "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",
          "dtype": "f4"
         }
        }
       ],
       "layout": {
        "margin": {
         "b": 0,
         "l": 0,
         "r": 0,
         "t": 30
        },
        "scene": {
         "xaxis": {
          "title": {
           "text": "PC1"
          }
         },
         "yaxis": {
          "title": {
           "text": "PC2"
          }
         },
         "zaxis": {
          "title": {
           "text": "PC3"
          }
         }
        },
        "template": {
         "data": {
          "bar": [
           {
            "error_x": {
             "color": "#2a3f5f"
            },
            "error_y": {
             "color": "#2a3f5f"
            },
            "marker": {
             "line": {
              "color": "#E5ECF6",
              "width": 0.5
             },
             "pattern": {
              "fillmode": "overlay",
              "size": 10,
              "solidity": 0.2
             }
            },
            "type": "bar"
           }
          ],
          "barpolar": [
           {
            "marker": {
             "line": {
              "color": "#E5ECF6",
              "width": 0.5
             },
             "pattern": {
              "fillmode": "overlay",
              "size": 10,
              "solidity": 0.2
             }
            },
            "type": "barpolar"
           }
          ],
          "carpet": [
           {
            "aaxis": {
             "endlinecolor": "#2a3f5f",
             "gridcolor": "white",
             "linecolor": "white",
             "minorgridcolor": "white",
             "startlinecolor": "#2a3f5f"
            },
            "baxis": {
             "endlinecolor": "#2a3f5f",
             "gridcolor": "white",
             "linecolor": "white",
             "minorgridcolor": "white",
             "startlinecolor": "#2a3f5f"
            },
            "type": "carpet"
           }
          ],
          "choropleth": [
           {
            "colorbar": {
             "outlinewidth": 0,
             "ticks": ""
            },
            "type": "choropleth"
           }
          ],
          "contour": [
           {
            "colorbar": {
             "outlinewidth": 0,
             "ticks": ""
            },
            "colorscale": [
             [
              0,
              "#0d0887"
             ],
             [
              0.1111111111111111,
              "#46039f"
             ],
             [
              0.2222222222222222,
              "#7201a8"
             ],
             [
              0.3333333333333333,
              "#9c179e"
             ],
             [
              0.4444444444444444,
              "#bd3786"
             ],
             [
              0.5555555555555556,
              "#d8576b"
             ],
             [
              0.6666666666666666,
              "#ed7953"
             ],
             [
              0.7777777777777778,
              "#fb9f3a"
             ],
             [
              0.8888888888888888,
              "#fdca26"
             ],
             [
              1,
              "#f0f921"
             ]
            ],
            "type": "contour"
           }
          ],
          "contourcarpet": [
           {
            "colorbar": {
             "outlinewidth": 0,
             "ticks": ""
            },
            "type": "contourcarpet"
           }
          ],
          "heatmap": [
           {
            "colorbar": {
             "outlinewidth": 0,
             "ticks": ""
            },
            "colorscale": [
             [
              0,
              "#0d0887"
             ],
             [
              0.1111111111111111,
              "#46039f"
             ],
             [
              0.2222222222222222,
              "#7201a8"
             ],
             [
              0.3333333333333333,
              "#9c179e"
             ],
             [
              0.4444444444444444,
              "#bd3786"
             ],
             [
              0.5555555555555556,
              "#d8576b"
             ],
             [
              0.6666666666666666,
              "#ed7953"
             ],
             [
              0.7777777777777778,
              "#fb9f3a"
             ],
             [
              0.8888888888888888,
              "#fdca26"
             ],
             [
              1,
              "#f0f921"
             ]
            ],
            "type": "heatmap"
           }
          ],
          "histogram": [
           {
            "marker": {
             "pattern": {
              "fillmode": "overlay",
              "size": 10,
              "solidity": 0.2
             }
            },
            "type": "histogram"
           }
          ],
          "histogram2d": [
           {
            "colorbar": {
             "outlinewidth": 0,
             "ticks": ""
            },
            "colorscale": [
             [
              0,
              "#0d0887"
             ],
             [
              0.1111111111111111,
              "#46039f"
             ],
             [
              0.2222222222222222,
              "#7201a8"
             ],
             [
              0.3333333333333333,
              "#9c179e"
             ],
             [
              0.4444444444444444,
              "#bd3786"
             ],
             [
              0.5555555555555556,
              "#d8576b"
             ],
             [
              0.6666666666666666,
              "#ed7953"
             ],
             [
              0.7777777777777778,
              "#fb9f3a"
             ],
             [
              0.8888888888888888,
              "#fdca26"
             ],
             [
              1,
              "#f0f921"
             ]
            ],
            "type": "histogram2d"
           }
          ],
          "histogram2dcontour": [
           {
            "colorbar": {
             "outlinewidth": 0,
             "ticks": ""
            },
            "colorscale": [
             [
              0,
              "#0d0887"
             ],
             [
              0.1111111111111111,
              "#46039f"
             ],
             [
              0.2222222222222222,
              "#7201a8"
             ],
             [
              0.3333333333333333,
              "#9c179e"
             ],
             [
              0.4444444444444444,
              "#bd3786"
             ],
             [
              0.5555555555555556,
              "#d8576b"
             ],
             [
              0.6666666666666666,
              "#ed7953"
             ],
             [
              0.7777777777777778,
              "#fb9f3a"
             ],
             [
              0.8888888888888888,
              "#fdca26"
             ],
             [
              1,
              "#f0f921"
             ]
            ],
            "type": "histogram2dcontour"
           }
          ],
          "mesh3d": [
           {
            "colorbar": {
             "outlinewidth": 0,
             "ticks": ""
            },
            "type": "mesh3d"
           }
          ],
          "parcoords": [
           {
            "line": {
             "colorbar": {
              "outlinewidth": 0,
              "ticks": ""
             }
            },
            "type": "parcoords"
           }
          ],
          "pie": [
           {
            "automargin": true,
            "type": "pie"
           }
          ],
          "scatter": [
           {
            "fillpattern": {
             "fillmode": "overlay",
             "size": 10,
             "solidity": 0.2
            },
            "type": "scatter"
           }
          ],
          "scatter3d": [
           {
            "line": {
             "colorbar": {
              "outlinewidth": 0,
              "ticks": ""
             }
            },
            "marker": {
             "colorbar": {
              "outlinewidth": 0,
              "ticks": ""
             }
            },
            "type": "scatter3d"
           }
          ],
          "scattercarpet": [
           {
            "marker": {
             "colorbar": {
              "outlinewidth": 0,
              "ticks": ""
             }
            },
            "type": "scattercarpet"
           }
          ],
          "scattergeo": [
           {
            "marker": {
             "colorbar": {
              "outlinewidth": 0,
              "ticks": ""
             }
            },
            "type": "scattergeo"
           }
          ],
          "scattergl": [
           {
            "marker": {
             "colorbar": {
              "outlinewidth": 0,
              "ticks": ""
             }
            },
            "type": "scattergl"
           }
          ],
          "scattermap": [
           {
            "marker": {
             "colorbar": {
              "outlinewidth": 0,
              "ticks": ""
             }
            },
            "type": "scattermap"
           }
          ],
          "scattermapbox": [
           {
            "marker": {
             "colorbar": {
              "outlinewidth": 0,
              "ticks": ""
             }
            },
            "type": "scattermapbox"
           }
          ],
          "scatterpolar": [
           {
            "marker": {
             "colorbar": {
              "outlinewidth": 0,
              "ticks": ""
             }
            },
            "type": "scatterpolar"
           }
          ],
          "scatterpolargl": [
           {
            "marker": {
             "colorbar": {
              "outlinewidth": 0,
              "ticks": ""
             }
            },
            "type": "scatterpolargl"
           }
          ],
          "scatterternary": [
           {
            "marker": {
             "colorbar": {
              "outlinewidth": 0,
              "ticks": ""
             }
            },
            "type": "scatterternary"
           }
          ],
          "surface": [
           {
            "colorbar": {
             "outlinewidth": 0,
             "ticks": ""
            },
            "colorscale": [
             [
              0,
              "#0d0887"
             ],
             [
              0.1111111111111111,
              "#46039f"
             ],
             [
              0.2222222222222222,
              "#7201a8"
             ],
             [
              0.3333333333333333,
              "#9c179e"
             ],
             [
              0.4444444444444444,
              "#bd3786"
             ],
             [
              0.5555555555555556,
              "#d8576b"
             ],
             [
              0.6666666666666666,
              "#ed7953"
             ],
             [
              0.7777777777777778,
              "#fb9f3a"
             ],
             [
              0.8888888888888888,
              "#fdca26"
             ],
             [
              1,
              "#f0f921"
             ]
            ],
            "type": "surface"
           }
          ],
          "table": [
           {
            "cells": {
             "fill": {
              "color": "#EBF0F8"
             },
             "line": {
              "color": "white"
             }
            },
            "header": {
             "fill": {
              "color": "#C8D4E3"
             },
             "line": {
              "color": "white"
             }
            },
            "type": "table"
           }
          ]
         },
         "layout": {
          "annotationdefaults": {
           "arrowcolor": "#2a3f5f",
           "arrowhead": 0,
           "arrowwidth": 1
          },
          "autotypenumbers": "strict",
          "coloraxis": {
           "colorbar": {
            "outlinewidth": 0,
            "ticks": ""
           }
          },
          "colorscale": {
           "diverging": [
            [
             0,
             "#8e0152"
            ],
            [
             0.1,
             "#c51b7d"
            ],
            [
             0.2,
             "#de77ae"
            ],
            [
             0.3,
             "#f1b6da"
            ],
            [
             0.4,
             "#fde0ef"
            ],
            [
             0.5,
             "#f7f7f7"
            ],
            [
             0.6,
             "#e6f5d0"
            ],
            [
             0.7,
             "#b8e186"
            ],
            [
             0.8,
             "#7fbc41"
            ],
            [
             0.9,
             "#4d9221"
            ],
            [
             1,
             "#276419"
            ]
           ],
           "sequential": [
            [
             0,
             "#0d0887"
            ],
            [
             0.1111111111111111,
             "#46039f"
            ],
            [
             0.2222222222222222,
             "#7201a8"
            ],
            [
             0.3333333333333333,
             "#9c179e"
            ],
            [
             0.4444444444444444,
             "#bd3786"
            ],
            [
             0.5555555555555556,
             "#d8576b"
            ],
            [
             0.6666666666666666,
             "#ed7953"
            ],
            [
             0.7777777777777778,
             "#fb9f3a"
            ],
            [
             0.8888888888888888,
             "#fdca26"
            ],
            [
             1,
             "#f0f921"
            ]
           ],
           "sequentialminus": [
            [
             0,
             "#0d0887"
            ],
            [
             0.1111111111111111,
             "#46039f"
            ],
            [
             0.2222222222222222,
             "#7201a8"
            ],
            [
             0.3333333333333333,
             "#9c179e"
            ],
            [
             0.4444444444444444,
             "#bd3786"
            ],
            [
             0.5555555555555556,
             "#d8576b"
            ],
            [
             0.6666666666666666,
             "#ed7953"
            ],
            [
             0.7777777777777778,
             "#fb9f3a"
            ],
            [
             0.8888888888888888,
             "#fdca26"
            ],
            [
             1,
             "#f0f921"
            ]
           ]
          },
          "colorway": [
           "#636efa",
           "#EF553B",
           "#00cc96",
           "#ab63fa",
           "#FFA15A",
           "#19d3f3",
           "#FF6692",
           "#B6E880",
           "#FF97FF",
           "#FECB52"
          ],
          "font": {
           "color": "#2a3f5f"
          },
          "geo": {
           "bgcolor": "white",
           "lakecolor": "white",
           "landcolor": "#E5ECF6",
           "showlakes": true,
           "showland": true,
           "subunitcolor": "white"
          },
          "hoverlabel": {
           "align": "left"
          },
          "hovermode": "closest",
          "mapbox": {
           "style": "light"
          },
          "paper_bgcolor": "white",
          "plot_bgcolor": "#E5ECF6",
          "polar": {
           "angularaxis": {
            "gridcolor": "white",
            "linecolor": "white",
            "ticks": ""
           },
           "bgcolor": "#E5ECF6",
           "radialaxis": {
            "gridcolor": "white",
            "linecolor": "white",
            "ticks": ""
           }
          },
          "scene": {
           "xaxis": {
            "backgroundcolor": "#E5ECF6",
            "gridcolor": "white",
            "gridwidth": 2,
            "linecolor": "white",
            "showbackground": true,
            "ticks": "",
            "zerolinecolor": "white"
           },
           "yaxis": {
            "backgroundcolor": "#E5ECF6",
            "gridcolor": "white",
            "gridwidth": 2,
            "linecolor": "white",
            "showbackground": true,
            "ticks": "",
            "zerolinecolor": "white"
           },
           "zaxis": {
            "backgroundcolor": "#E5ECF6",
            "gridcolor": "white",
            "gridwidth": 2,
            "linecolor": "white",
            "showbackground": true,
            "ticks": "",
            "zerolinecolor": "white"
           }
          },
          "shapedefaults": {
           "line": {
            "color": "#2a3f5f"
           }
          },
          "ternary": {
           "aaxis": {
            "gridcolor": "white",
            "linecolor": "white",
            "ticks": ""
           },
           "baxis": {
            "gridcolor": "white",
            "linecolor": "white",
            "ticks": ""
           },
           "bgcolor": "#E5ECF6",
           "caxis": {
            "gridcolor": "white",
            "linecolor": "white",
            "ticks": ""
           }
          },
          "title": {
           "x": 0.05
          },
          "xaxis": {
           "automargin": true,
           "gridcolor": "white",
           "linecolor": "white",
           "ticks": "",
           "title": {
            "standoff": 15
           },
           "zerolinecolor": "white",
           "zerolinewidth": 2
          },
          "yaxis": {
           "automargin": true,
           "gridcolor": "white",
           "linecolor": "white",
           "ticks": "",
           "title": {
            "standoff": 15
           },
           "zerolinecolor": "white",
           "zerolinewidth": 2
          }
         }
        },
        "title": {
         "text": "Latent Space"
        }
       }
      }
     },
     "metadata": {},
     "output_type": "display_data"
    }
   ],
   "source": [
    "model.eval()\n",
    "latents = []\n",
    "\n",
    "with torch.no_grad():\n",
    "    for batch in loader:\n",
    "        x_batch = batch[0].to(DEVICE)\n",
    "        enc = model.encoder(x_batch)\n",
    "        enc_flat = enc.view(x_batch.size(0), -1)\n",
    "        mu = model.fc_mu(enc_flat)\n",
    "        latents.append(mu.cpu().numpy())\n",
    "        \n",
    "\n",
    "latents = np.concatenate(latents, axis=0)\n",
    "\n",
    "pca = PCA(n_components=3)\n",
    "z_pca = pca.fit_transform(latents)\n",
    "\n",
    "\n",
    "fig = go.Figure(data=[go.Scatter3d(\n",
    "    x=z_pca[:, 0],\n",
    "    y=z_pca[:, 1],\n",
    "    z=z_pca[:, 2],\n",
    "    mode='markers',\n",
    "    marker=dict(\n",
    "        size=4,\n",
    "        color=labels,\n",
    "        colorscale='viridis',\n",
    "        opacity=0.8,\n",
    "        colorbar=dict(title='Species')\n",
    "    )\n",
    ")])\n",
    "\n",
    "fig.update_layout(\n",
    "    scene=dict(\n",
    "        xaxis_title='PC1',\n",
    "        yaxis_title='PC2',\n",
    "        zaxis_title='PC3'\n",
    "    ),\n",
    "    title='Latent Space',\n",
    "    margin=dict(l=0, r=0, b=0, t=30)\n",
    ")\n",
    "\n",
    "fig.show()\n"
   ]
  },
  {
   "cell_type": "code",
   "execution_count": null,
   "id": "cfdf9078",
   "metadata": {},
   "outputs": [],
   "source": []
  }
 ],
 "metadata": {
  "kernelspec": {
   "display_name": "Python 3",
   "language": "python",
   "name": "python3"
  },
  "language_info": {
   "codemirror_mode": {
    "name": "ipython",
    "version": 3
   },
   "file_extension": ".py",
   "mimetype": "text/x-python",
   "name": "python",
   "nbconvert_exporter": "python",
   "pygments_lexer": "ipython3",
   "version": "3.13.4"
  }
 },
 "nbformat": 4,
 "nbformat_minor": 5
}
