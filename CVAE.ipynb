{
 "cells": [
  {
   "cell_type": "markdown",
   "id": "90c17ddf",
   "metadata": {},
   "source": [
    "# Convolutional Variational Autoencoder Implementation on Burst Windows"
   ]
  },
  {
   "cell_type": "code",
   "execution_count": 166,
   "id": "1f66c603",
   "metadata": {},
   "outputs": [],
   "source": [
    "from ipyfilechooser import FileChooser\n",
    "import numpy as np\n",
    "import torch\n",
    "import torch.nn as nn\n",
    "import torch.nn.functional as F\n",
    "from torch.utils.data import TensorDataset, DataLoader\n",
    "from sklearn.decomposition import PCA\n",
    "import matplotlib.pyplot as plt\n",
    "import plotly.graph_objs as go\n",
    "from scipy.stats import linregress\n",
    "import os"
   ]
  },
  {
   "cell_type": "markdown",
   "id": "a031a7fc",
   "metadata": {},
   "source": [
    "### Import data"
   ]
  },
  {
   "cell_type": "code",
   "execution_count": 136,
   "id": "80cac8af",
   "metadata": {},
   "outputs": [
    {
     "data": {
      "application/vnd.jupyter.widget-view+json": {
       "model_id": "00a1494593c147f29dc464d7bfbbdd61",
       "version_major": 2,
       "version_minor": 0
      },
      "text/plain": [
       "FileChooser(path='C:\\Users\\omgui\\Desktop\\BASUS', filename='', title='<b>Select preprocessing parameter file</b…"
      ]
     },
     "metadata": {},
     "output_type": "display_data"
    }
   ],
   "source": [
    "fc = FileChooser('./')  # or use an absolute path if needed\n",
    "fc.title = \"<b>Select preprocessing parameter file</b>\"\n",
    "fc.filter_pattern = ['*.npz']  # Only show .par files\n",
    "display(fc)"
   ]
  },
  {
   "cell_type": "code",
   "execution_count": 167,
   "id": "af4f52d2",
   "metadata": {},
   "outputs": [],
   "source": [
    "data = dict(np.load(fc.selected, allow_pickle=True))"
   ]
  },
  {
   "cell_type": "code",
   "execution_count": 168,
   "id": "384cddaa",
   "metadata": {},
   "outputs": [
    {
     "data": {
      "text/plain": [
       "(861, 21)"
      ]
     },
     "execution_count": 168,
     "metadata": {},
     "output_type": "execute_result"
    }
   ],
   "source": [
    "windows = np.array(data['handlesA'].item()['burst_windows'])\n",
    "labels = data['handlesA'].item()['species']\n",
    "assert windows.shape[0] == labels.shape[0]\n",
    "windows.shape"
   ]
  },
  {
   "cell_type": "code",
   "execution_count": 169,
   "id": "d9f6e1b7",
   "metadata": {},
   "outputs": [],
   "source": [
    "X_raw = torch.tensor(windows, dtype=torch.float32)  # shape: (N, 21)\n",
    "min_val = X_raw.min()\n",
    "max_val = X_raw.max()\n",
    "\n",
    "X = (X_raw - min_val) / (max_val - min_val)\n",
    "X = X.unsqueeze(1)  # (N, 1, 21)\n",
    "#X = torch.log1p(X)\n",
    "if torch.cuda.is_available():\n",
    "    X = X.cuda()\n",
    "DEVICE = torch.device('cuda' if torch.cuda.is_available() else 'cpu')"
   ]
  },
  {
   "cell_type": "code",
   "execution_count": 170,
   "id": "bd152a69",
   "metadata": {},
   "outputs": [
    {
     "data": {
      "text/plain": [
       "tensor([[[9.2140e-05, 0.0000e+00, 0.0000e+00,  ..., 0.0000e+00,\n",
       "          0.0000e+00, 0.0000e+00]],\n",
       "\n",
       "        [[2.4271e-03, 0.0000e+00, 0.0000e+00,  ..., 0.0000e+00,\n",
       "          9.2166e-05, 1.8434e-03]],\n",
       "\n",
       "        [[0.0000e+00, 0.0000e+00, 6.7622e-04,  ..., 0.0000e+00,\n",
       "          0.0000e+00, 9.2512e-05]],\n",
       "\n",
       "        ...,\n",
       "\n",
       "        [[1.9133e-03, 7.4587e-04, 1.9134e-03,  ..., 0.0000e+00,\n",
       "          0.0000e+00, 0.0000e+00]],\n",
       "\n",
       "        [[1.9134e-03, 0.0000e+00, 1.3297e-03,  ..., 0.0000e+00,\n",
       "          7.4598e-04, 0.0000e+00]],\n",
       "\n",
       "        [[7.4645e-04, 0.0000e+00, 7.4646e-04,  ..., 1.6273e-04,\n",
       "          0.0000e+00, 1.3302e-03]]])"
      ]
     },
     "execution_count": 170,
     "metadata": {},
     "output_type": "execute_result"
    }
   ],
   "source": [
    "X"
   ]
  },
  {
   "cell_type": "markdown",
   "id": "a85cb504",
   "metadata": {},
   "source": [
    "## Convolutional VAE Architecture"
   ]
  },
  {
   "cell_type": "code",
   "execution_count": 171,
   "id": "9f3b0779",
   "metadata": {},
   "outputs": [],
   "source": [
    "class ConvVAE(nn.Module):\n",
    "    def __init__(self, input_length = 21, latent_dim = 3):\n",
    "        super(ConvVAE, self).__init__()\n",
    "        self.encoder = nn.Sequential(\n",
    "            nn.Conv1d(1, 16, kernel_size=3, padding=1), #(B, 16, 21)\n",
    "            nn.ReLU(),\n",
    "            nn.MaxPool1d(2), #(B, 16, 10)\n",
    "            nn.Conv1d(16, 32, kernel_size=3, padding=1), #(B, 32, 10)\n",
    "            nn.ReLU(),\n",
    "            nn.MaxPool1d(2), #(B, 32, 5)\n",
    "            #nn.Flatten() #(B, 160)\n",
    "        )\n",
    "        self.fc_mu = nn.Linear(32*5, latent_dim)\n",
    "        self.fc_logvar = nn.Linear(32*5, latent_dim)\n",
    "\n",
    "        self.decoder_input = nn.Linear(latent_dim, 32*5)\n",
    "        self.decoder= nn.Sequential(\n",
    "            nn.Unflatten(1, (32, 5)), # (B, 32, 5)\n",
    "            nn.ConvTranspose1d(32, 16, kernel_size=4, stride=2), #(B, 16, 12)\n",
    "            nn.ReLU(),\n",
    "            nn.ConvTranspose1d(16, 1, kernel_size=4, stride=2), #(B, 1, 26)\n",
    "            nn.ReLU(),\n",
    "            nn.Conv1d(1, 1, kernel_size=6) # (B, 1, 21)\n",
    "        )\n",
    "\n",
    "    def reparametrize(self, mu, logvar):\n",
    "        std = torch.exp(0.5 * logvar)\n",
    "        return mu + std * torch.randn_like(std)\n",
    "    \n",
    "    def forward(self, x):\n",
    "        enc = self.encoder(x)\n",
    "        enc_flat = enc.view(x.size(0), -1)\n",
    "        mu = self.fc_mu(enc_flat)\n",
    "        logvar = self.fc_logvar(enc_flat)\n",
    "        z = self.reparametrize(mu, logvar)\n",
    "        z_dec = self.decoder_input(z)\n",
    "        recon = self.decoder(z_dec)\n",
    "        return recon, mu, logvar\n",
    "    \n",
    "def vae_loss(recon, x, mu, logvar, beta=0.001):\n",
    "    recon_loss = F.mse_loss(recon, x, reduction='mean')\n",
    "    kl_div = -0.5 * torch.mean(1 + logvar - mu.pow(2) - logvar.exp())\n",
    "    return recon_loss + beta*kl_div"
   ]
  },
  {
   "cell_type": "code",
   "execution_count": 172,
   "id": "d3ff1a60",
   "metadata": {},
   "outputs": [],
   "source": [
    "loader = DataLoader(TensorDataset(X), batch_size = 8)\n",
    "model = ConvVAE(input_length=21, latent_dim=3).to(DEVICE)\n",
    "optimizer = torch.optim.Adam(model.parameters(), lr = 1e-3)\n",
    "num_epochs = 5"
   ]
  },
  {
   "cell_type": "markdown",
   "id": "b9c9feb3",
   "metadata": {},
   "source": [
    "### Training Loop"
   ]
  },
  {
   "cell_type": "code",
   "execution_count": 173,
   "id": "c97e3ecf",
   "metadata": {},
   "outputs": [
    {
     "name": "stdout",
     "output_type": "stream",
     "text": [
      "Epoch 1 - Loss: 0.0383\n",
      "Epoch 2 - Loss: 0.0058\n",
      "Epoch 3 - Loss: 0.0031\n",
      "Epoch 4 - Loss: 0.0016\n",
      "Epoch 5 - Loss: 0.0013\n"
     ]
    }
   ],
   "source": [
    "for epoch in range(num_epochs):\n",
    "    total_loss = 0\n",
    "    for batch in loader:\n",
    "        x_batch = batch[0].to(DEVICE)\n",
    "        recon, mu, logvar = model(x_batch)\n",
    "        loss = vae_loss(recon, x_batch, mu, logvar)\n",
    "\n",
    "        optimizer.zero_grad()\n",
    "        loss.backward()\n",
    "        optimizer.step()\n",
    "        total_loss += loss.item()\n",
    "\n",
    "    print(f\"Epoch {epoch+1} - Loss: {total_loss / len(loader):.4f}\")"
   ]
  },
  {
   "cell_type": "code",
   "execution_count": 174,
   "id": "35701c2b",
   "metadata": {},
   "outputs": [
    {
     "data": {
      "application/vnd.plotly.v1+json": {
       "config": {
        "plotlyServerURL": "https://plot.ly"
       },
       "data": [
        {
         "marker": {
          "color": {
           "bdata": "AAAAAAAAAAAAAAAAAAAAAAAAAAAAAAAAAAAAAAAAAAAAAAAAAAAAAAAAAAAAAAAAAAAAAAAAAAAAAAAAAAAAAAAAAAAAAAAAAAAAAAAA8D8AAAAAAAAAAAAAAAAAAAAAAAAAAAAAAAAAAAAAAAAAAAAAAAAAAAAAAAAAAAAAAAAAAAAAAAAAAAAAAAAAAAAAAAAAAAAA8D8AAAAAAAAAAAAAAAAAAAAAAAAAAAAA8D8AAAAAAAAAAAAAAAAAAAAAAAAAAAAAAAAAAAAAAAAAAAAAAAAAAAAAAAAAAAAAAAAAAAAAAAAAAAAAAAAAAPA/AAAAAAAA8D8AAAAAAAAAAAAAAAAAAAAAAAAAAAAAAAAAAAAAAADwPwAAAAAAAAAAAAAAAAAAAAAAAAAAAADwPwAAAAAAAAAAAAAAAAAAAAAAAAAAAAAAAAAAAAAAAAAAAAAAAAAAAAAAAAAAAADwPwAAAAAAAAAAAAAAAAAAAAAAAAAAAAAAAAAAAAAAAAAAAAAAAAAA8D8AAAAAAAAAAAAAAAAAAAAAAAAAAAAAAAAAAAAAAAAAAAAAAAAAAAAAAAAAAAAAAAAAAAAAAAAAAAAAAAAAAPA/AAAAAAAAAAAAAAAAAADwPwAAAAAAAAAAAAAAAAAA8D8AAAAAAAAAAAAAAAAAAAAAAAAAAAAAAAAAAAAAAADwPwAAAAAAAPA/AAAAAAAAAAAAAAAAAAAAAAAAAAAAAAAAAAAAAAAA8D8AAAAAAAAAAAAAAAAAAAAAAAAAAAAA8D8AAAAAAADwPwAAAAAAAAAAAAAAAAAA8D8AAAAAAADwPwAAAAAAAAAAAAAAAAAAAAAAAAAAAAAAAAAAAAAAAAAAAAAAAAAA8D8AAAAAAAAAAAAAAAAAAAAAAAAAAAAAAAAAAAAAAADwPwAAAAAAAPA/AAAAAAAAAAAAAAAAAAAAAAAAAAAAAAAAAAAAAAAAAAAAAAAAAAAAAAAAAAAAAPA/AAAAAAAAAAAAAAAAAADwPwAAAAAAAAAAAAAAAAAA8D8AAAAAAAAAAAAAAAAAAAAAAAAAAAAA8D8AAAAAAAAAAAAAAAAAAAAAAAAAAAAA8D8AAAAAAAAAAAAAAAAAAPA/AAAAAAAAAAAAAAAAAAAAAAAAAAAAAPA/AAAAAAAAAAAAAAAAAAAAAAAAAAAAAAAAAAAAAAAAAAAAAAAAAAAAAAAAAAAAAAAAAAAAAAAAAAAAAAAAAAAAAAAAAAAAAAAAAAAAAAAAAAAAAAAAAAAAAAAAAAAAAPA/AAAAAAAAAAAAAAAAAAAAAAAAAAAAAAAAAAAAAAAAAAAAAAAAAAAAAAAAAAAAAAAAAAAAAAAA8D8AAAAAAAAAAAAAAAAAAAAAAAAAAAAA8D8AAAAAAAAAAAAAAAAAAAAAAAAAAAAAAAAAAAAAAAAAAAAAAAAAAAAAAAAAAAAA8D8AAAAAAAAAAAAAAAAAAAAAAAAAAAAAAAAAAAAAAADwPwAAAAAAAPA/AAAAAAAAAAAAAAAAAAAAAAAAAAAAAAAAAAAAAAAAAAAAAAAAAADwPwAAAAAAAAAAAAAAAAAA8D8AAAAAAAAAAAAAAAAAAAAAAAAAAAAAAAAAAAAAAADwPwAAAAAAAAAAAAAAAAAA8D8AAAAAAAAAAAAAAAAAAAAAAAAAAAAAAAAAAAAAAAAAAAAAAAAAAAAAAAAAAAAA8D8AAAAAAAAAAAAAAAAAAAAAAAAAAAAA8D8AAAAAAAAAAAAAAAAAAAAAAAAAAAAAAAAAAAAAAADwPwAAAAAAAPA/AAAAAAAAAAAAAAAAAAAAAAAAAAAAAAAAAAAAAAAAAAAAAAAAAAAAAAAAAAAAAPA/AAAAAAAA8D8AAAAAAADwPwAAAAAAAAAAAAAAAAAAAAAAAAAAAADwPwAAAAAAAAAAAAAAAAAAAAAAAAAAAAAAAAAAAAAAAAAAAAAAAAAAAAAAAAAAAADwPwAAAAAAAPA/AAAAAAAAAAAAAAAAAADwPwAAAAAAAPA/AAAAAAAA8D8AAAAAAAAAAAAAAAAAAAAAAAAAAAAAAAAAAAAAAAAAAAAAAAAAAAAAAAAAAAAAAAAAAAAAAAAAAAAAAAAAAAAAAAAAAAAAAAAAAAAAAAAAAAAAAAAAAAAAAAAAAAAA8D8AAAAAAADwPwAAAAAAAAAAAAAAAAAAAAAAAAAAAAAAAAAAAAAAAAAAAAAAAAAAAAAAAAAAAAAAAAAAAAAAAAAAAAAAAAAAAAAAAAAAAAAAAAAAAAAAAAAAAAAAAAAAAAAAAAAAAAAAAAAAAAAAAAAAAAAAAAAAAAAAAAAAAAAAAAAAAAAAAPA/AAAAAAAAAAAAAAAAAADwPwAAAAAAAAAAAAAAAAAA8D8AAAAAAAAAAAAAAAAAAAAAAAAAAAAAAAAAAAAAAAAAAAAAAAAAAAAAAAAAAAAAAAAAAAAAAAAAAAAAAAAAAAAAAAAAAAAAAAAAAAAAAAAAAAAAAAAAAAAAAAAAAAAAAAAAAAAAAAAAAAAAAAAAAPA/AAAAAAAAAAAAAAAAAAAAAAAAAAAAAAAAAAAAAAAAAAAAAAAAAAAAAAAAAAAAAAAAAAAAAAAAAAAAAAAAAADwPwAAAAAAAAAAAAAAAAAAAAAAAAAAAAAAAAAAAAAAAAAAAAAAAAAAAAAAAAAAAADwPwAAAAAAAAAAAAAAAAAAAAAAAAAAAAAAAAAAAAAAAPA/AAAAAAAAAAAAAAAAAAAAAAAAAAAAAAAAAAAAAAAAAAAAAAAAAADwPwAAAAAAAAAAAAAAAAAAAAAAAAAAAAAAAAAAAAAAAPA/AAAAAAAA8D8AAAAAAAAAAAAAAAAAAAAAAAAAAAAAAAAAAAAAAAAAAAAAAAAAAAAAAAAAAAAAAAAAAAAAAAAAAAAAAAAAAAAAAAAAAAAAAAAAAAAAAAAAAAAAAAAAAAAAAAAAAAAAAAAAAAAAAAAAAAAAAAAAAAAAAAAAAAAA8D8AAAAAAAAAAAAAAAAAAAAAAAAAAAAAAAAAAAAAAAAAAAAAAAAAAAAAAAAAAAAAAAAAAAAAAAAAAAAAAAAAAPA/AAAAAAAAAAAAAAAAAAAAAAAAAAAAAAAAAAAAAAAAAAAAAAAAAADwPwAAAAAAAAAAAAAAAAAAAAAAAAAAAAAAAAAAAAAAAAAAAAAAAAAAAAAAAAAAAAAAAAAAAAAAAAAAAAAAAAAAAAAAAAAAAADwPwAAAAAAAAAAAAAAAAAAAAAAAAAAAADwPwAAAAAAAAAAAAAAAAAAAAAAAAAAAAAAAAAAAAAAAAAAAAAAAAAAAAAAAAAAAAAAAAAAAAAAAAAAAAAAAAAAAAAAAAAAAAAAAAAAAAAAAAAAAAAAAAAAAAAAAAAAAAAAAAAAAAAAAAAAAAAAAAAAAAAAAAAAAAAAAAAAAAAAAAAAAAAAAAAAAAAAAAAAAAAAAAAAAAAAAAAAAAAAAAAAAAAAAAAAAAAAAAAAAAAAAPA/AAAAAAAAAAAAAAAAAADwPwAAAAAAAAAAAAAAAAAAAAAAAAAAAAAAAAAAAAAAAAAAAAAAAAAA8D8AAAAAAAAAAAAAAAAAAAAAAAAAAAAAAAAAAAAAAAAAAAAAAAAAAAAAAAAAAAAAAAAAAAAAAAAAAAAAAAAAAAAAAAAAAAAAAAAAAAAAAAAAAAAAAAAAAAAAAAAAAAAAAAAAAAAAAAAAAAAAAAAAAPA/AAAAAAAAAAAAAAAAAAAAAAAAAAAAAPA/AAAAAAAAAAAAAAAAAAAAAAAAAAAAAPA/AAAAAAAAAAAAAAAAAAAAAAAAAAAAAAAAAAAAAAAAAAAAAAAAAADwPwAAAAAAAPA/AAAAAAAA8D8AAAAAAADwPwAAAAAAAAAAAAAAAAAAAAAAAAAAAAAAAAAAAAAAAAAAAAAAAAAAAAAAAAAAAAAAAAAAAAAAAAAAAAAAAAAAAAAAAAAAAAAAAAAAAAAAAAAAAAAAAAAAAAAAAAAAAAAAAAAAAAAAAAAAAAAAAAAAAAAAAAAAAAAAAAAAAAAAAPA/AAAAAAAAAAAAAAAAAAAAAAAAAAAAAAAAAAAAAAAAAAAAAAAAAAAAAAAAAAAAAAAAAAAAAAAAAAAAAAAAAAAAAAAAAAAAAPA/AAAAAAAAAAAAAAAAAAAAAAAAAAAAAAAAAAAAAAAAAAAAAAAAAADwPwAAAAAAAPA/AAAAAAAAAAAAAAAAAAAAAAAAAAAAAAAAAAAAAAAAAAAAAAAAAAAAAAAAAAAAAAAAAAAAAAAA8D8AAAAAAADwPwAAAAAAAAAAAAAAAAAAAAAAAAAAAAAAAAAAAAAAAAAAAAAAAAAAAAAAAAAAAADwPwAAAAAAAPA/AAAAAAAAAAAAAAAAAAAAAAAAAAAAAAAAAAAAAAAAAAAAAAAAAAAAAAAAAAAAAAAAAAAAAAAAAAAAAAAAAAAAAAAAAAAAAAAAAAAAAAAAAAAAAAAAAAAAAAAAAAAAAPA/AAAAAAAAAAAAAAAAAAAAAAAAAAAAAAAAAAAAAAAAAAAAAAAAAAAAAAAAAAAAAAAAAAAAAAAAAAAAAAAAAADwPwAAAAAAAAAAAAAAAAAAAAAAAAAAAAAAAAAAAAAAAPA/AAAAAAAAAAAAAAAAAADwPwAAAAAAAPA/AAAAAAAAAAAAAAAAAAAAAAAAAAAAAAAAAAAAAAAAAAAAAAAAAAAAAAAAAAAAAAAAAAAAAAAAAAAAAAAAAAAAAAAAAAAAAAAAAAAAAAAA8D8AAAAAAAAAAAAAAAAAAAAAAAAAAAAAAAAAAAAAAAAAAAAAAAAAAAAAAAAAAAAA8D8AAAAAAAAAAAAAAAAAAAAAAAAAAAAAAAAAAAAAAAAAAAAAAAAAAAAAAAAAAAAA8D8AAAAAAAAAAAAAAAAAAAAAAAAAAAAAAAAAAAAAAAAAAAAAAAAAAAAAAAAAAAAA8D8AAAAAAAAAAAAAAAAAAPA/AAAAAAAAAAAAAAAAAAAAAAAAAAAAAAAAAAAAAAAA8D8AAAAAAAAAAAAAAAAAAAAAAAAAAAAA8D8AAAAAAAAAAAAAAAAAAAAAAAAAAAAAAAAAAAAAAADwPwAAAAAAAAAAAAAAAAAA8D8AAAAAAAAAAAAAAAAAAAAAAAAAAAAAAAAAAAAAAAAAAAAAAAAAAPA/AAAAAAAAAAAAAAAAAAAAAAAAAAAAAAAAAAAAAAAAAAAAAAAAAAAAAAAAAAAAAAAAAAAAAAAAAAAAAAAAAAAAAAAAAAAAAAAAAAAAAAAAAAAAAAAAAAAAAAAAAAAAAAAAAAAAAAAA8D8AAAAAAAAAAAAAAAAAAAAAAAAAAAAAAAAAAAAAAADwPwAAAAAAAAAAAAAAAAAAAAAAAAAAAAAAAAAAAAAAAAAAAAAAAAAAAAAAAAAAAAAAAAAAAAAAAAAAAAAAAAAAAAAAAAAAAAAAAAAAAAAAAAAAAAAAAAAAAAAAAAAAAAAAAAAAAAAAAPA/AAAAAAAA8D8AAAAAAAAAAAAAAAAAAPA/AAAAAAAAAAAAAAAAAAAAAAAAAAAAAAAAAAAAAAAAAAAAAAAAAAAAAAAAAAAAAAAAAAAAAAAAAAAAAAAAAAAAAAAAAAAAAAAAAAAAAAAAAAAAAAAAAAAAAAAAAAAAAAAAAAAAAAAAAAAAAAAAAAAAAAAAAAAAAAAAAAAAAAAAAAAAAAAAAAAAAAAAAAAAAAAAAAAAAAAA8D8AAAAAAAAAAAAAAAAAAPA/AAAAAAAA8D8AAAAAAAAAAAAAAAAAAPA/AAAAAAAAAAAAAAAAAAAAAAAAAAAAAPA/AAAAAAAAAAAAAAAAAADwPwAAAAAAAAAAAAAAAAAA8D8AAAAAAAAAAAAAAAAAAAAAAAAAAAAAAAAAAAAAAADwPwAAAAAAAAAAAAAAAAAAAAAAAAAAAAAAAAAAAAAAAAAAAAAAAAAAAAAAAAAAAAAAAAAAAAAAAAAAAAAAAAAA8D8AAAAAAAAAAAAAAAAAAPA/AAAAAAAAAAAAAAAAAAAAAAAAAAAAAAAAAAAAAAAAAAAAAAAAAADwPwAAAAAAAAAAAAAAAAAAAAAAAAAAAAAAAAAAAAAAAAAAAAAAAAAAAAAAAAAAAAAAAAAAAAAAAAAAAAAAAAAAAAAAAAAAAAAAAAAAAAAAAAAAAAAAAAAAAAAAAAAAAADwPwAAAAAAAAAAAAAAAAAAAAAAAAAAAADwPwAAAAAAAAAAAAAAAAAA8D8AAAAAAAAAAAAAAAAAAAAAAAAAAAAAAAAAAAAAAAAAAAAAAAAAAAAAAAAAAAAAAAAAAAAAAAAAAAAAAAAAAPA/AAAAAAAA8D8AAAAAAAAAAAAAAAAAAAAAAAAAAAAAAAAAAAAAAAAAAAAAAAAAAPA/AAAAAAAAAAAAAAAAAAAAAAAAAAAAAPA/AAAAAAAAAAAAAAAAAAAAAAAAAAAAAAAAAAAAAAAAAAAAAAAAAAAAAAAAAAAAAAAAAAAAAAAAAAAAAAAAAAAAAAAAAAAAAAAAAAAAAAAAAAAAAAAAAAAAAAAAAAAAAAAAAAAAAAAAAAAAAAAAAAAAAAAAAAAAAAAAAAAAAAAAAAAAAAAAAAAAAAAAAAAAAAAAAAAAAAAAAAAAAAAAAAAAAAAAAAAAAAAAAAAAAAAA8D8AAAAAAAAAAAAAAAAAAAAAAAAAAAAAAAAAAAAAAAAAAAAAAAAAAAAAAAAAAAAA8D8AAAAAAAAAAAAAAAAAAAAAAAAAAAAAAAAAAAAAAADwPwAAAAAAAAAAAAAAAAAAAAAAAAAAAAAAAAAAAAAAAAAAAAAAAAAAAAAAAAAAAADwPwAAAAAAAAAAAAAAAAAAAAAAAAAAAAAAAAAAAAAAAAAAAAAAAAAA8D8AAAAAAAAAAAAAAAAAAPA/AAAAAAAAAAAAAAAAAAAAAAAAAAAAAPA/AAAAAAAA8D8AAAAAAADwPwAAAAAAAPA/AAAAAAAAAAAAAAAAAAAAAAAAAAAAAAAAAAAAAAAAAAAAAAAAAAAAAAAAAAAAAAAAAAAAAAAAAAAAAAAAAADwPwAAAAAAAPA/AAAAAAAA8D8AAAAAAAAAAAAAAAAAAAAAAAAAAAAAAAAAAAAAAAAAAAAAAAAAAPA/AAAAAAAAAAAAAAAAAAAAAAAAAAAAAPA/AAAAAAAAAAAAAAAAAAAAAAAAAAAAAAAAAAAAAAAAAAAAAAAAAAAAAAAAAAAAAPA/AAAAAAAAAAAAAAAAAADwPwAAAAAAAAAAAAAAAAAAAAAAAAAAAADwPwAAAAAAAAAAAAAAAAAAAAAAAAAAAAAAAAAAAAAAAAAAAAAAAAAAAAAAAAAAAAAAAAAAAAAAAAAAAAAAAAAAAAAAAAAAAAAAAAAAAAAAAAAAAAAAAAAA8D8AAAAAAAAAAAAAAAAAAAAAAAAAAAAAAAAAAAAAAADwPwAAAAAAAAAAAAAAAAAAAAAAAAAAAAAAAAAAAAAAAAAAAAAAAAAAAAAAAAAAAAAAAAAAAAAAAPA/AAAAAAAAAAAAAAAAAADwPwAAAAAAAPA/AAAAAAAAAAAAAAAAAAAAAAAAAAAAAAAAAAAAAAAAAAAAAAAAAAAAAAAAAAAAAPA/AAAAAAAAAAAAAAAAAAAAAAAAAAAAAPA/AAAAAAAAAAAAAAAAAAAAAAAAAAAAAPA/AAAAAAAAAAAAAAAAAAAAAAAAAAAAAAAAAAAAAAAAAAAAAAAAAAAAAAAAAAAAAPA/AAAAAAAAAAAAAAAAAAAAAAAAAAAAAAAAAAAAAAAAAAAAAAAAAADwPwAAAAAAAAAAAAAAAAAAAAAAAAAAAAAAAAAAAAAAAAAAAAAAAAAAAAAAAAAAAAAAAAAAAAAAAPA/AAAAAAAAAAAAAAAAAAAAAAAAAAAAAAAAAAAAAAAA8D8AAAAAAAAAAAAAAAAAAAAAAAAAAAAAAAAAAAAAAAAAAAAAAAAAAAAAAAAAAAAAAAAAAAAAAADwPwAAAAAAAAAAAAAAAAAAAAAAAAAAAAAAAAAAAAAAAPA/AAAAAAAAAAAAAAAAAAAAAAAAAAAAAAAAAAAAAAAA8D8AAAAAAAAAAAAAAAAAAAAAAAAAAAAAAAAAAAAAAAAAAAAAAAAAAAAAAAAAAAAAAAAAAAAAAAAAAAAAAAAAAAAAAAAAAAAAAAAAAAAAAAAAAAAAAAAAAAAAAAAAAAAA8D8AAAAAAAAAAAAAAAAAAAAAAAAAAAAAAAAAAAAAAAAAAAAAAAAAAAAAAAAAAAAAAAAAAAAAAAAAAAAAAAAAAAAAAAAAAAAAAAAAAAAAAAAAAAAAAAAAAPA/AAAAAAAA8D8AAAAAAAAAAAAAAAAAAAAAAAAAAAAA8D8AAAAAAAAAAAAAAAAAAAAAAAAAAAAAAAAAAAAAAAAAAAAAAAAAAAAAAAAAAAAAAAAAAAAAAAAAAAAAAAAAAAAAAAAAAAAAAAAAAAAAAAAAAAAAAAAAAAAAAAAAAAAAAAAAAAAAAAAAAAAAAAAAAAAAAAAAAAAA8D8AAAAAAAAAAAAAAAAAAAAAAAAAAAAAAAAAAAAAAAAAAAAAAAAAAAAAAAAAAAAAAAAAAAAAAADwPwAAAAAAAAAAAAAAAAAAAAAAAAAAAAAAAAAAAAAAAAAAAAAAAAAAAAAAAAAAAAAAAAAAAAAAAPA/AAAAAAAAAAAAAAAAAADwPwAAAAAAAAAAAAAAAAAAAAAAAAAAAADwPwAAAAAAAAAAAAAAAAAAAAAAAAAAAAAAAAAAAAAAAAAAAAAAAAAAAAAAAAAAAADwPwAAAAAAAAAAAAAAAAAAAAAAAAAAAAAAAAAAAAAAAAAAAAAAAAAAAAAAAAAAAAAAAAAAAAAAAAAAAAAAAAAAAAAAAAAAAAAAAAAAAAAAAAAAAAAAAAAAAAAAAAAAAAAAAAAAAAAAAAAAAAAAAAAAAAAAAAAAAAAAAAAAAAAAAAAAAAAAAAAAAAAAAAAAAAAAAAAAAAAAAAAAAAAAAAAAAAAAAAAAAAAAAAAAAAAAAAAAAAAAAAAAAAAAAAAAAADwPwAAAAAAAAAAAAAAAAAAAAAAAAAAAADwPwAAAAAAAAAAAAAAAAAAAAAAAAAAAAAAAAAAAAAAAAAAAAAAAAAAAAAAAAAAAAAAAAAAAAAAAAAAAAAAAAAAAAAAAAAAAADwPwAAAAAAAAAAAAAAAAAAAAAAAAAAAAAAAAAAAAAAAAAA",
           "dtype": "f8"
          },
          "colorbar": {
           "title": {
            "text": "Species"
           }
          },
          "colorscale": [
           [
            0,
            "#440154"
           ],
           [
            0.1111111111111111,
            "#482878"
           ],
           [
            0.2222222222222222,
            "#3e4989"
           ],
           [
            0.3333333333333333,
            "#31688e"
           ],
           [
            0.4444444444444444,
            "#26828e"
           ],
           [
            0.5555555555555556,
            "#1f9e89"
           ],
           [
            0.6666666666666666,
            "#35b779"
           ],
           [
            0.7777777777777778,
            "#6ece58"
           ],
           [
            0.8888888888888888,
            "#b5de2b"
           ],
           [
            1,
            "#fde725"
           ]
          ],
          "opacity": 0.8,
          "size": 4
         },
         "mode": "markers",
         "type": "scatter3d",
         "x": {
          "bdata": "0nQpwPEqfr8arLG95qY+v4LUtL0A0b++XYckvt6FuL2tdDK+KwYav5tGir46GMW9wzjAvtyZMMBKG8y+L+p1vvg00r1GAhq+bZkSv6LVA772ebe93rfGvZAII77j3h6+52Mjvq9n3r4ut7S93b16vuLitL0zoLu+dQdDvsb1+705UhG/oYoIvkvDx75SQPa9CSaGvueTvL+dQR2/usKvvWNjc77+frO9f9m0vhTIwb1OKbe9jJsavtqhrr4/MUC/chgXviFhc77+BLy9GsUDvp5Ctb1aEga+fwqov95Sv73G+Wy/ssaSvksOEcCuXP29DbK3vuha0r058Bm+Jbwgv9fZN7522Li/oMcdv3OWb77rR5y+oZABvrIYx7161ZO/xR4fv+nVjb6r0Pu+yzTKvi4r7b04nLm/i9d3vkMXkr41y2y+sftrvvYcvL02Ssy9z91rvhIcvb172x6+z+4Zvpw0072md/29KVIuvokNGsAy8wy/ePTSvdvRPr4H9i++DJxXvy2Jh75Nj1q+RtDNvQs+eb6E1Yq+uz55v16QxL0e1My96qMsv4UHVL8I/UG+Tvi2vjXGmL71QUTAe6hbvnKn2L4mF+K9iWe4vqYP1r2DcQK+D9Njv+pfvL1cmuq9QzEQwLEiCb7m7bO95J66vuqG/b3Of7G9UOfYvblDBL4UeM++9UHnvr4Uur1edKy9eXVSwGVRpr5o9d++IVOpvuLjsb3YWcq9sA3ivX9/E8AfcCa/qY8NwI7Jgr66WOS9yfMTvorgtL3jX1u+v4lVvjXkbb/ZNZy+wbBzv3ymCL9BoZu+rEU5v2OsF7/Gm7698DO3vRdHHb6SQuW9PnbGv6N/FL7yoce9FGKNvtT6vb2hJNm+X6PVvma4xb0XhXq+kH5hwOpdrr27jo6+hMivvacJBMCUSPe9QlDnvWYFzL0UiZq+Sp2uvdaqMr5wOzG+6H/cvTbC6L2x2Bu/sc85vloG+72SK9a9zQzyvvxMG74uAcO9Dp/NvV4z8L1aWcC9R436vqWefb97EwK/lCs4vhUga78PRC2+MegivrvJTsAtMyG+XgsEwOUy9b5p5UDA5+4Wv06TTb9RQvK+QS6Fvr6bML5xy42+Rsa8vUeMMb4l1e6+uiP8vVJwi76lWi2+cEkpvhix1L7QO4u+tJG4vdtJ/L+oU7W9/4LtvhGUyb4sbZe+YAywvcqSr75Sg7a9j9guv0vuHL560La9/vLDvbNOWb5e/Eq+Kcn1v/OcJ74tLC3AZQOUv089EL74WxK++QUTvib15L16zd+9VY6Kv43cxb+Rt/y+xLi9ve4/sL1PsTfAAaCtv+eM1L5e/7u9r8ZXvkMSz75543q+9iK0vYKVsr2uf+K9DFEBv6wKLL7GckC+ncEwv7jkAL8EUk/AnhO4vRKix72pLA++dYtPvqi+372uZwi/KcMzviqdsL07XDnAKIkGv8hmJ76s5q+9MT0Lv0r20b0cyBq+oyIuv6Fcmr7XXcq+BkO9vUePcb72SOS90KDtvcD2jr6jao2+MyWrvj677L2cdby9cTHFvvHlBL5DJG6+Rqy5vd07Yb5xmAm/ZwgAvs0nD75ymsm9ss7jvZDIFr5NGZy/iIWAvxcnHr72wca9YUwUv7dMIr8YZ6m+IrbgvQJOOL7+VIe/ibI4vkao+72K+pq+Che1vcXZML6eHdW9EZV+vvabtr1meRu/ZsUrviP1V75ePge+z77yvu2VFr6qzqO+ugDkvbIzv73L1gC+1pgKvhu92L6XeHm+Vi3fvfbW7b19Zwu+Rqm+vTEz2b7+6929gYMRviNsD745khzAmtzfvd69sb2vZD2/Ahg7v4IM/r1DtF2/js/cvVklU76k3vK9v3E1vhryrr2Kc7W9XnjuvdutX76+WXG/7Rcfv3SPs75ZEwa+bX5TwHFdYr9GzOS9Jz8zv2zP873+vbm9LRcPvj3uI740sPu9v6bdvp+k3b73p+y+fcZBvoEqXr72OkC+iTWWvkir8r0uOLu95H3hvSESS75jchi+ODfSvQ3BPb6LlUq+pSWOvzX4pr5n/Tm+rdTQvi9aEb/F022+C6iFvwMsHb4Wl7O9V1agvmT2sb0BOJm+nizVvdZw8L2xKwG+ct4Uvp53tb2YIbG95B2xvc7dsr11Ywa/mHXHvZmNY7/8tLa9+QI/voe3JL4upcq93b+HvnEimL4uHdu9gqIOvqncVL5pdFi+TG2ZvzatYsBOa7C9priSvrQBQr/09b6/Bfz1vozwCsBSS7S90SNlvxdzUb6e6LO9ZBjLvWsckL4RuLq+75e3vqNEU76ZOeq/PFDTvYfrWL6zORG/D81zv342wL5uZ/+9/Uz/vudje75XkSq+DAG+vabixL0F6P2+qVEtvrQ5rr3WRLe9H6Nuvx4lKL9ZJfm+EG8Hv28jkL7iteq9VWzBvx+FZMDjoXy+gkHmvbJbzL2pKzK+2qHLvZbysr3m5Le9pqnAvaoxFr4C+SK/Bt2uvb6C7b2b+Lm+mPIjvjEh2b5047++2weIvqY4S75vYze+cqUuwKZKu71qnD6+fKbsvU4LAL+ULlnA1PclvwRewb2Qysq9E9rzvtZ3Lr5toA/AM/nSvj7StL1Ac7W9K4U1vpB/z703XOi+rEfOvUYRub3ir7O+n1kkvhx3wr1yLbW9wEcvvvtQEr4Mmb++4sjXvYtSK7577ii+HnHIvQ9Xb77/14W+bs/IvVJ1+L1ZoQW/5pa2vao+W7+ixai+169Ivm6bxL0fQzbAc2QcviuRC75VDqi+n3FPvmnK7b7Ojx6+WnD2vTEg17729BC+0nO8vU7AFb6W5N+9BNHGvaKQuL2XHnC+dQH3vic/Db5KdOu9wz5GvpgYDL6fxh2+9N7Dvrt2B77+O7m93ku3vb4eDb6VwgC+bzdcvqfkVr8Fr+++nkPBvZIrxb3kGLu+IddCv1yz5r3nABa+GWknv9s7nb4bJQe+5vHjvSO7V76a67a9QIPavy9IWr5Wedi9QrSAvnw7tL20Sb+9e8MqvpDtQL40Uh6+pYLtvsVjPr8E/p6+724Cv6KeBb6KDR+/mr7IvVk8Ib6vM3W+4cIzvxleFb4mZT++dtu0vZdEBr4c8LG/L1R0vw8Hvr6SB4W+4jD4vY7f7L185cK94+eJv1Ko2b2e9fK9ZTZIvzBZ2L0n9by/GrPxvdl0Kr6yhK29/vG2vbDwHb5OwFjAevn0vfdUO777Xdy+x/cVvkdGWb4p6NO+pwlSvk/vqr6XNGW+l01jvqE7gr6x/gi+7eMAvhBp7b2lXgu+FuMyvp4EAr7Zn4y+wr0NvtJ26r1hWS++laMovhUFkb5xIy6+lDu2vYKG1L3lKa++ZTsBwBYP9b3KM/C9eY3nvgC54L7x0TW/6vfHvehRv71zTm6+K2wRvn3vPcBGgLO9D4R6vpC8xb9Lnwi/veoavkqa4717Ncu+ry0mv/8Z6b5esM69mZv9vivZAL6Mg5W+1vDPv1zOzL7bOhHAktTFvhbhlb4fuIa+ZFi1vRanPb6DIim/XlkWv84zHr7Ukdi9YRyNvtrDwr3889m93E/EvVLW5r3ltSC+mGC7vRJuzL00Bse+ejHyvT0HUb5K2L+9eWiHvmMrDr722gfAN1lVvhvO8r7CRzu+ACRDvjU3or6dn06+Vg34vY6Jwb3mEri9Ol21vXgJDL5PHUe+RyDqvv/vEb5VSWO+uVXJvonHzr9cFpW+yToYvjtGG76EhIG+imvbvS4dvL0gALK99Qm1vmTcur1J3qK+AwkQv+DLR74a27W9qbMfwIIbgL//7m6+5SVUvgyVuL1Wzx2/qiTUvV4XCL6afci9UfcvvqQJ+L0gj76+29OnvsLt8r0LqOG+4o2yvfqr1L072GO+b7ozwF6bCb85jpG/T2ldvtyQ0L2rkj++nF7yvRfxGL6ojT2+Ih44vw1BQb5KjLC9xpLxvV3clr6MWba9/7vSvw+cGr4+5cu9wIL3vTYd072nnm2/qY5pv6dPNb5SgsW92eXavkx5Cr4u0+29SR5Zv2+RGr6RyEa+cNuAvtalmb6aZ9u9G+hsvo3f4L44Ybu9XhONv083yb+3sV2+/h3TveJ1nb6KLsa9bhW3vXoz9r0OYMa9cRyqvyu8Gr+XK7O+m8j6vn5Csr2B2SG+DP+rvTekS8DO+8K9Ce4rvj2c6r42LQi/zja3veyZD74Vtqu+LCfhvX2InL7TaJ6/dddIv3MhJb84edO9Zw4kvuC1s70a8NW9h0cYvkkyHr9Gcsy/gHyyvabAwr1Ajwq+MjTcveETIb4gWsO9vy1TvovbJr6DpTS/bTlRvsGNg74MRtG9S84hvkrDvb2wM/u9q8FBvyUgHb8Cqrq9Iim6vQ/6mr409MO9umfxvV31ur5sWKu/sjPcvSMlm77BZCnAUaSFvlDmA77L/3W+OtPhvSb9xr3EkvC9ksPJvcjl3r3KcAa+i8x5v8KN172Tp56+V53mvl+ymL4Agau9pvmyvQUllb7zm3C+txJov8OCXr5zkAXAWs7yvZNyBr5DQAq+xjG7vTy8y75B/vO+H4umvhrfxb2K77S9J3NnvjBctr3GdN69",
          "dtype": "f4"
         },
         "y": {
          "bdata": "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",
          "dtype": "f4"
         },
         "z": {
          "bdata": "mc6AvXgDfT4KrMA+N42GPoD8wD6hgas+s5+6PtbGwD6zd7o+ceebPp5F9T4Uzr8+4PmnPs/6h70Ho7s+RDS2PsJcvz60c7s++WOYPnm5vj5Q9MQ+3c6/PrZcuj7syro+Bre6Pms2oz6H0cA+O/m1PiyJwD7CIqk+hKq3PlKjvT4epZc+XJa8PvWhpj6G3b0+WjeyPqxPHz5f7JU+J8PAPjVjtD7kFsE+IHqrPq7gvz7Bg8E+W6O6PgdZrD6qpog+uAO8PmfdtD4AKMA+keu8PtaswD7EW7w+std7PiACwD5zs4E+tWyxPkAw+TriQr0+0jmoPnpEvz72Yrs+kuqQPi2suD6qTRY+2HKSPoFwsz7rSbI+GBq9Phq/vz4IlHo+YMfoPguEsD5ryp0+d6elPpwTvj6Du6c+8Ti0PqlksD6cYLQ+LXK0PslxwD5avL8+1qG0PnI6wD7ODLs+PKe7Pt1Ovz40sr0+nB66PhBB9Tun6Zo+2na/PkW2uD4HYLg+8NCEPqsdsj4YbLc+Eta/PjBwtT5wprI+XjF3Ptvjvz7+Ob8+UHuTPvfkhz7mxbk+jvKrPtmRrT5anmm9lCK3PoaXoj5emtU+eYWpPhigvz5gl70+Mn5zPtUjwD5FLL4+qBwBPIRlvT4MhsA+O1yoPsZ3vT72yMA+5Ne/PpNUvT5P/6U+yX+hPgqCwD5NU8E+Ej8Rvk9BrD6MAqg+My6vPpYzwT4EYb8+2mHAPgBVd7vJoI8+bH6QPIAcsj6UYr4+0+K7Pp7pwj7eRrU+5my4PmLbcT5fsa0+8uBuPp0Gmj4NG64+RV+KPoADlz4wXsA+CZnBPn5MvD4JRr4+JgUOPhCPuz5U5r8+Tg2xPhQFwj6hmqQ+BbOlPhRhwD42HbU+sPIgvp35wD6tprA+MRbBPkoRgz2WFL4+BZ++PjWRvz7kNK8+VwzBPt2yuT56Y7o+2hS/PnuZvj6Sl5c+6tO4PujcvT6Skr8+HPKhPrKRuj4YJsA+mrq/PmahvT5Qy78+6yudPhdviT4RU6A+dfK5PgaGgj63hro+Jue6PoR8IL6Gcbo+JPwpPSJWnj6B0PK9nxGVPh7/mT4OyZ4+5K+xPoeCuT5ScLA+4VjAPqg8uj4666E+INy9PpWlsD6dhbk+mv65PluypD5gubA+HmrAPiE8jj1FncA+Ab+hPmu3pz6zC68+rvjAPp9Hqz4E8MA+GR6QPglBuz4SvcA+nhXAPhANtj4MSLc+88bQPYrDuj5svKm8wnxZPuNVvD7Ekrs+as68Pk/Xvj6rq74+YMVpPuKHIT7FN6I+3nrAPpa9wD6+SRq9tEs/Pktlpz7gaMA+qkC3Pg6cpj45arU+PuXAPtiVwD4GCL4+Cn6jPpmTuT7I2bc+JKKMPpssnD6qcxu+8JTAPsgiwD5SEbw+vp62Pp/70D5nAps+5BK5Pno5wT5pXre9KwWbPpUNuj78yMA+qpKbPuEv3z5ECrs+LkOPPrTdrT4h8aY+IrjAPkZUsz5hE8M+oATBPt5qsj6r0a8+VufaPvo8vj52lMA+XlqlPqmyvT6Sg7M+1N3APqFOtT5dP5o+OGW9PmcIvD7Lnr8+CW++Ph7svD7a00A+XkhlPo0kuz7cPsA+ok6WProFkj44MKw+bNm+Pl6XuD4wa2A+4uS4PkZXvT7QQ68+Pq3APmR3uT5mIr8+NRazPt7twD5eN5Y+LmO6PgNstj6pB70+/vymPku1uz5O0q4+Ogi/PuzEwD6TRb0+R7C8Pm8npj4ibLQ+6ea+Pj5Uvj7OJ7w+tnjAPmZgpj5udr8+F9W8PhCNuz50odo8LyS/PqQfwT6y1I4+zf+OPqQKvT4TQ4Y+wNi+PiuPtz7oUr4+YMa5PmfYwD4IlMA+q0O+PlDmtD6CKnE+3JiSPhn2rT4vNr0+Mnwjvra/eD7kZL4+qNaMPvOGvT4itcA+cdm7Puzsuj5ANb0+7jajPlyWyD43g8U+Adu3PgSitT5gWLg+5T+vPukrvj5U5cA+PBC/PgnXtz5axrs+DqG/PqoyuT4f1bc+jmVePtLmrT6gS7k+A86mPnrfmT7ZSbU+1AJoPh9yuz7LwcA+yHauPtIHwT6TB7A+LFy/PkPFvT5C0r0+WB+8PjW3wD4a+sA+ggfBPhimwD4z3KA+0gfAPmSbhD4oq8A+eLi3Pvb+uj424L8+5pq3PugmvD6oEL8+eN+7PvDmtT4zTrU+DEdDPujWTr4s+sA+5SivPrZKhj6CRBA+Q2iePqxr7Ty+nMA+kiN3PsKFtj6qs8A++He/Puj2rz6XEqk+qpCpPvxVKD810MI9p1q/PlIytz7Nj5Y+oNpoPh+Gpz4oUb0++nCyPvJ24z5al7k+zzvAPrbivz48qJ0+1IO5Pu4pwT4Ge8A+TAZxPt0BkT7c2p4+e0qcPuzorz6TN74+XB4TPgBWRL7rwrM+iaC+Pi8Txz5oO7o+0qC/Pp6jwD6qhcA+RAzAPkCbuz7ON5Q+xtbAPkY0vj7AT7U+kgy7PpdwpT49Kqo+IWKyPhUquD4EVbk+FNyVvE+hwD7fz7g+hI6+Pkr6oD6JQtS9yWmVPiNcwD743L8+PVyePsDTuj78KYU9Qz+oPkimwD4OOsM+MBK5PsYjvz7+aKA+i2y/PkRswD6KwKk+p6O7PoFPwD5NOsE+Qhq5PogZvD4gQ6g+tmC/PgLpuT6Rnrw+ddK/Piaktj7in7E+2Lm/PvyivT6dFZw++pTPPicqgj51Gqw+5Xi3PiaLvz6KGWW9Ql67Ph5K0j5RXbA+Ufm9PkNtoj58Sbs+GBi+PgLgpT6KT7w+XgjAPu7Kuz6b674+5RjAPp59wD4zOrU+6pSjPrLOuz5qvb4+Z8K4PmMPvT5jZbo+QEKqPgosvT5C1MA+08bAPmrovD4q1b0+6Zy/Psw+fT4PM58+hBvAPqn8vz4l8qc+JOqFPilhvj4zprs+P0OPPjb3rD5e3bw+osu+Pi1Stj4SksA+rQTgPfCItT7OFb8+KKGyPrXFwD6LWMA+OG26Piz2tj77lLs+GeWkPp1ckD4zzq8+zp2iPlGSvT40LJI+Yom/PnOTuj5jK7M+vOeLPhK6uz6pU7g+ja3APnBKvT5MND8+tFlvPouEqD4QUbI+ouPCPnw9wj5g9r8+eqxePhz8vj6MAb4+VUyJPiz5vj5aFR8+gILAPqe8uj7oc8E+1FDAPhZUuz5qowW+VOO9PjQYuT4cHqU+2wK8PpjQtD6sXbU+An30Pk4XuT6HcbY+RGW2PmT6sz4Elrw+Apu9Poj7vz7A37w+8PW5PjdIwD4PsbM+wai8PmrYvT6Ob7o+vra5PimxsT45a7k+WK/APjdUvz4aMqo+VgBBPV+cvT6nzL0+KFbDPrvryT50eoo+Gp6/PqJAwD6N4LY+dry7PgEN171LicA+2kUaP3bXFD7FVpo+jyW7PgZHvj6/iKc+pnaQPgaAoT6fv78+PReePpVVvT6a8a4+dwb+Pd/WpT7Ewcw8ZSqnPj9zrz7vgbI+HJjAPoyNuD4HD5Y+Tz+YPviDuz5IR78+OMywPiYrwD4QZr8+7CbAPomSvj4yIbs+xVrAPsaHvz5uOKk+CD6+PmyKtz6FbsA+SoeyPvKKvD5QOo89mD61PjH3oj40n7k+73+3PiTbrj7gErg+v3G9Pjr7vz7N3MA+nt7APtetvD5LB7c+HbekPudmvD4xn7U+8H6mPjip7z1owK4+ghO8Pj4quz4zL7I+0ca+PumVwD7ijMA+QpipPp6JwD7U0Kw+ytqXPilxtz7C08A+svYTvW4vcD4nSg0/iyK2PlzGwD7iXZI+yCm/PiS/vD4+DsA+nhS5PkxPvj4Vk6c+f4arPtxozD51zaM++AHBPiIRvz4uCrU+zQaPvUQnmz7ELVA+U7a1PvR2wD6b/rg+UnK+Pl5Xuz48grg+ObmMPj73tz5IxsA+SvW9PkyZrz69lcA+6NoxP7S8uz5ypb8+nbu9PsiHvz4kLHs+Zs9+PtIIuD5uxr8+S3OmPkI0vT6aEb4+pA6GPiBuuj4wibg+z+ezPteFsD65jr4+vRe2PmIwpj4jg8A+BDZNPiEz+j32KLc+t8q/Pn6LsD7Cur8+HnbAPvJpvT5OpL8+hTkqPmd/mT7Fs6k+PoedPsbewD7nM7s+ZCTCPvwEAb40XMA+dbS5PgHWoD6vqZo+++HAPngqvD7Pfas+u6W+PrfDrT7vDkA+gx+GPudJkj5MC78+dpe7PuazwD6GoME++LnnPt/TlT47Pgk+b7zAPmgkwD6/ir0+NuS+PnyOuj4YfMA+Ugu3PuYz7z6DfpE+Bl23PgbNsj7GOr8+0Qu7PjQ4wD7Pr7w+NQmLPib2lj7TpsA+kFnAPsKRrz7i1r8++xa+Phtjqj4LTD4+qgO/PiqYrz4wAde7ay22PjACxj5QAbU+9qW+Pti5wj4kc8A+f4K/Plwbvz4iar0+FjZ5PpX7vz4WcKw+E+6fPhuhrT4cSsE+hvbAPjGEsj4mxbo+KFh0PpwVtT54giM9XrC+Pim+vD5FR7w+ECDAPl3Rpz6qZZ8+PAWsPnXavz48lMA+xPa0PoD+wD5bWr8+",
          "dtype": "f4"
         }
        }
       ],
       "layout": {
        "margin": {
         "b": 0,
         "l": 0,
         "r": 0,
         "t": 30
        },
        "scene": {
         "xaxis": {
          "title": {
           "text": "PC1"
          }
         },
         "yaxis": {
          "title": {
           "text": "PC2"
          }
         },
         "zaxis": {
          "title": {
           "text": "PC3"
          }
         }
        },
        "template": {
         "data": {
          "bar": [
           {
            "error_x": {
             "color": "#2a3f5f"
            },
            "error_y": {
             "color": "#2a3f5f"
            },
            "marker": {
             "line": {
              "color": "#E5ECF6",
              "width": 0.5
             },
             "pattern": {
              "fillmode": "overlay",
              "size": 10,
              "solidity": 0.2
             }
            },
            "type": "bar"
           }
          ],
          "barpolar": [
           {
            "marker": {
             "line": {
              "color": "#E5ECF6",
              "width": 0.5
             },
             "pattern": {
              "fillmode": "overlay",
              "size": 10,
              "solidity": 0.2
             }
            },
            "type": "barpolar"
           }
          ],
          "carpet": [
           {
            "aaxis": {
             "endlinecolor": "#2a3f5f",
             "gridcolor": "white",
             "linecolor": "white",
             "minorgridcolor": "white",
             "startlinecolor": "#2a3f5f"
            },
            "baxis": {
             "endlinecolor": "#2a3f5f",
             "gridcolor": "white",
             "linecolor": "white",
             "minorgridcolor": "white",
             "startlinecolor": "#2a3f5f"
            },
            "type": "carpet"
           }
          ],
          "choropleth": [
           {
            "colorbar": {
             "outlinewidth": 0,
             "ticks": ""
            },
            "type": "choropleth"
           }
          ],
          "contour": [
           {
            "colorbar": {
             "outlinewidth": 0,
             "ticks": ""
            },
            "colorscale": [
             [
              0,
              "#0d0887"
             ],
             [
              0.1111111111111111,
              "#46039f"
             ],
             [
              0.2222222222222222,
              "#7201a8"
             ],
             [
              0.3333333333333333,
              "#9c179e"
             ],
             [
              0.4444444444444444,
              "#bd3786"
             ],
             [
              0.5555555555555556,
              "#d8576b"
             ],
             [
              0.6666666666666666,
              "#ed7953"
             ],
             [
              0.7777777777777778,
              "#fb9f3a"
             ],
             [
              0.8888888888888888,
              "#fdca26"
             ],
             [
              1,
              "#f0f921"
             ]
            ],
            "type": "contour"
           }
          ],
          "contourcarpet": [
           {
            "colorbar": {
             "outlinewidth": 0,
             "ticks": ""
            },
            "type": "contourcarpet"
           }
          ],
          "heatmap": [
           {
            "colorbar": {
             "outlinewidth": 0,
             "ticks": ""
            },
            "colorscale": [
             [
              0,
              "#0d0887"
             ],
             [
              0.1111111111111111,
              "#46039f"
             ],
             [
              0.2222222222222222,
              "#7201a8"
             ],
             [
              0.3333333333333333,
              "#9c179e"
             ],
             [
              0.4444444444444444,
              "#bd3786"
             ],
             [
              0.5555555555555556,
              "#d8576b"
             ],
             [
              0.6666666666666666,
              "#ed7953"
             ],
             [
              0.7777777777777778,
              "#fb9f3a"
             ],
             [
              0.8888888888888888,
              "#fdca26"
             ],
             [
              1,
              "#f0f921"
             ]
            ],
            "type": "heatmap"
           }
          ],
          "histogram": [
           {
            "marker": {
             "pattern": {
              "fillmode": "overlay",
              "size": 10,
              "solidity": 0.2
             }
            },
            "type": "histogram"
           }
          ],
          "histogram2d": [
           {
            "colorbar": {
             "outlinewidth": 0,
             "ticks": ""
            },
            "colorscale": [
             [
              0,
              "#0d0887"
             ],
             [
              0.1111111111111111,
              "#46039f"
             ],
             [
              0.2222222222222222,
              "#7201a8"
             ],
             [
              0.3333333333333333,
              "#9c179e"
             ],
             [
              0.4444444444444444,
              "#bd3786"
             ],
             [
              0.5555555555555556,
              "#d8576b"
             ],
             [
              0.6666666666666666,
              "#ed7953"
             ],
             [
              0.7777777777777778,
              "#fb9f3a"
             ],
             [
              0.8888888888888888,
              "#fdca26"
             ],
             [
              1,
              "#f0f921"
             ]
            ],
            "type": "histogram2d"
           }
          ],
          "histogram2dcontour": [
           {
            "colorbar": {
             "outlinewidth": 0,
             "ticks": ""
            },
            "colorscale": [
             [
              0,
              "#0d0887"
             ],
             [
              0.1111111111111111,
              "#46039f"
             ],
             [
              0.2222222222222222,
              "#7201a8"
             ],
             [
              0.3333333333333333,
              "#9c179e"
             ],
             [
              0.4444444444444444,
              "#bd3786"
             ],
             [
              0.5555555555555556,
              "#d8576b"
             ],
             [
              0.6666666666666666,
              "#ed7953"
             ],
             [
              0.7777777777777778,
              "#fb9f3a"
             ],
             [
              0.8888888888888888,
              "#fdca26"
             ],
             [
              1,
              "#f0f921"
             ]
            ],
            "type": "histogram2dcontour"
           }
          ],
          "mesh3d": [
           {
            "colorbar": {
             "outlinewidth": 0,
             "ticks": ""
            },
            "type": "mesh3d"
           }
          ],
          "parcoords": [
           {
            "line": {
             "colorbar": {
              "outlinewidth": 0,
              "ticks": ""
             }
            },
            "type": "parcoords"
           }
          ],
          "pie": [
           {
            "automargin": true,
            "type": "pie"
           }
          ],
          "scatter": [
           {
            "fillpattern": {
             "fillmode": "overlay",
             "size": 10,
             "solidity": 0.2
            },
            "type": "scatter"
           }
          ],
          "scatter3d": [
           {
            "line": {
             "colorbar": {
              "outlinewidth": 0,
              "ticks": ""
             }
            },
            "marker": {
             "colorbar": {
              "outlinewidth": 0,
              "ticks": ""
             }
            },
            "type": "scatter3d"
           }
          ],
          "scattercarpet": [
           {
            "marker": {
             "colorbar": {
              "outlinewidth": 0,
              "ticks": ""
             }
            },
            "type": "scattercarpet"
           }
          ],
          "scattergeo": [
           {
            "marker": {
             "colorbar": {
              "outlinewidth": 0,
              "ticks": ""
             }
            },
            "type": "scattergeo"
           }
          ],
          "scattergl": [
           {
            "marker": {
             "colorbar": {
              "outlinewidth": 0,
              "ticks": ""
             }
            },
            "type": "scattergl"
           }
          ],
          "scattermap": [
           {
            "marker": {
             "colorbar": {
              "outlinewidth": 0,
              "ticks": ""
             }
            },
            "type": "scattermap"
           }
          ],
          "scattermapbox": [
           {
            "marker": {
             "colorbar": {
              "outlinewidth": 0,
              "ticks": ""
             }
            },
            "type": "scattermapbox"
           }
          ],
          "scatterpolar": [
           {
            "marker": {
             "colorbar": {
              "outlinewidth": 0,
              "ticks": ""
             }
            },
            "type": "scatterpolar"
           }
          ],
          "scatterpolargl": [
           {
            "marker": {
             "colorbar": {
              "outlinewidth": 0,
              "ticks": ""
             }
            },
            "type": "scatterpolargl"
           }
          ],
          "scatterternary": [
           {
            "marker": {
             "colorbar": {
              "outlinewidth": 0,
              "ticks": ""
             }
            },
            "type": "scatterternary"
           }
          ],
          "surface": [
           {
            "colorbar": {
             "outlinewidth": 0,
             "ticks": ""
            },
            "colorscale": [
             [
              0,
              "#0d0887"
             ],
             [
              0.1111111111111111,
              "#46039f"
             ],
             [
              0.2222222222222222,
              "#7201a8"
             ],
             [
              0.3333333333333333,
              "#9c179e"
             ],
             [
              0.4444444444444444,
              "#bd3786"
             ],
             [
              0.5555555555555556,
              "#d8576b"
             ],
             [
              0.6666666666666666,
              "#ed7953"
             ],
             [
              0.7777777777777778,
              "#fb9f3a"
             ],
             [
              0.8888888888888888,
              "#fdca26"
             ],
             [
              1,
              "#f0f921"
             ]
            ],
            "type": "surface"
           }
          ],
          "table": [
           {
            "cells": {
             "fill": {
              "color": "#EBF0F8"
             },
             "line": {
              "color": "white"
             }
            },
            "header": {
             "fill": {
              "color": "#C8D4E3"
             },
             "line": {
              "color": "white"
             }
            },
            "type": "table"
           }
          ]
         },
         "layout": {
          "annotationdefaults": {
           "arrowcolor": "#2a3f5f",
           "arrowhead": 0,
           "arrowwidth": 1
          },
          "autotypenumbers": "strict",
          "coloraxis": {
           "colorbar": {
            "outlinewidth": 0,
            "ticks": ""
           }
          },
          "colorscale": {
           "diverging": [
            [
             0,
             "#8e0152"
            ],
            [
             0.1,
             "#c51b7d"
            ],
            [
             0.2,
             "#de77ae"
            ],
            [
             0.3,
             "#f1b6da"
            ],
            [
             0.4,
             "#fde0ef"
            ],
            [
             0.5,
             "#f7f7f7"
            ],
            [
             0.6,
             "#e6f5d0"
            ],
            [
             0.7,
             "#b8e186"
            ],
            [
             0.8,
             "#7fbc41"
            ],
            [
             0.9,
             "#4d9221"
            ],
            [
             1,
             "#276419"
            ]
           ],
           "sequential": [
            [
             0,
             "#0d0887"
            ],
            [
             0.1111111111111111,
             "#46039f"
            ],
            [
             0.2222222222222222,
             "#7201a8"
            ],
            [
             0.3333333333333333,
             "#9c179e"
            ],
            [
             0.4444444444444444,
             "#bd3786"
            ],
            [
             0.5555555555555556,
             "#d8576b"
            ],
            [
             0.6666666666666666,
             "#ed7953"
            ],
            [
             0.7777777777777778,
             "#fb9f3a"
            ],
            [
             0.8888888888888888,
             "#fdca26"
            ],
            [
             1,
             "#f0f921"
            ]
           ],
           "sequentialminus": [
            [
             0,
             "#0d0887"
            ],
            [
             0.1111111111111111,
             "#46039f"
            ],
            [
             0.2222222222222222,
             "#7201a8"
            ],
            [
             0.3333333333333333,
             "#9c179e"
            ],
            [
             0.4444444444444444,
             "#bd3786"
            ],
            [
             0.5555555555555556,
             "#d8576b"
            ],
            [
             0.6666666666666666,
             "#ed7953"
            ],
            [
             0.7777777777777778,
             "#fb9f3a"
            ],
            [
             0.8888888888888888,
             "#fdca26"
            ],
            [
             1,
             "#f0f921"
            ]
           ]
          },
          "colorway": [
           "#636efa",
           "#EF553B",
           "#00cc96",
           "#ab63fa",
           "#FFA15A",
           "#19d3f3",
           "#FF6692",
           "#B6E880",
           "#FF97FF",
           "#FECB52"
          ],
          "font": {
           "color": "#2a3f5f"
          },
          "geo": {
           "bgcolor": "white",
           "lakecolor": "white",
           "landcolor": "#E5ECF6",
           "showlakes": true,
           "showland": true,
           "subunitcolor": "white"
          },
          "hoverlabel": {
           "align": "left"
          },
          "hovermode": "closest",
          "mapbox": {
           "style": "light"
          },
          "paper_bgcolor": "white",
          "plot_bgcolor": "#E5ECF6",
          "polar": {
           "angularaxis": {
            "gridcolor": "white",
            "linecolor": "white",
            "ticks": ""
           },
           "bgcolor": "#E5ECF6",
           "radialaxis": {
            "gridcolor": "white",
            "linecolor": "white",
            "ticks": ""
           }
          },
          "scene": {
           "xaxis": {
            "backgroundcolor": "#E5ECF6",
            "gridcolor": "white",
            "gridwidth": 2,
            "linecolor": "white",
            "showbackground": true,
            "ticks": "",
            "zerolinecolor": "white"
           },
           "yaxis": {
            "backgroundcolor": "#E5ECF6",
            "gridcolor": "white",
            "gridwidth": 2,
            "linecolor": "white",
            "showbackground": true,
            "ticks": "",
            "zerolinecolor": "white"
           },
           "zaxis": {
            "backgroundcolor": "#E5ECF6",
            "gridcolor": "white",
            "gridwidth": 2,
            "linecolor": "white",
            "showbackground": true,
            "ticks": "",
            "zerolinecolor": "white"
           }
          },
          "shapedefaults": {
           "line": {
            "color": "#2a3f5f"
           }
          },
          "ternary": {
           "aaxis": {
            "gridcolor": "white",
            "linecolor": "white",
            "ticks": ""
           },
           "baxis": {
            "gridcolor": "white",
            "linecolor": "white",
            "ticks": ""
           },
           "bgcolor": "#E5ECF6",
           "caxis": {
            "gridcolor": "white",
            "linecolor": "white",
            "ticks": ""
           }
          },
          "title": {
           "x": 0.05
          },
          "xaxis": {
           "automargin": true,
           "gridcolor": "white",
           "linecolor": "white",
           "ticks": "",
           "title": {
            "standoff": 15
           },
           "zerolinecolor": "white",
           "zerolinewidth": 2
          },
          "yaxis": {
           "automargin": true,
           "gridcolor": "white",
           "linecolor": "white",
           "ticks": "",
           "title": {
            "standoff": 15
           },
           "zerolinecolor": "white",
           "zerolinewidth": 2
          }
         }
        },
        "title": {
         "text": "Latent Space"
        }
       }
      }
     },
     "metadata": {},
     "output_type": "display_data"
    },
    {
     "data": {
      "application/vnd.plotly.v1+json": {
       "config": {
        "plotlyServerURL": "https://plot.ly"
       },
       "data": [
        {
         "marker": {
          "color": {
           "bdata": "AAAAAAAA8D8AAAAAAADwPwAAAAAAAPA/AAAAAAAA8D8AAAAAAADwPwAAAAAAAPA/AAAAAAAA8D8AAAAAAADwPwAAAAAAAPA/AAAAAAAA8D8AAAAAAADwPwAAAAAAAPA/AAAAAAAA8D8AAAAAAADwPwAAAAAAAPA/AAAAAAAA8D8AAAAAAADwPwAAAAAAAPA/AAAAAAAA8D8AAAAAAADwPwAAAAAAAPA/AAAAAAAA8D8AAAAAAADwPwAAAAAAAPA/AAAAAAAA8D8AAAAAAADwPwAAAAAAAPA/AAAAAAAA8D8AAAAAAADwPwAAAAAAAPA/AAAAAAAA8D8AAAAAAADwPwAAAAAAAPA/AAAAAAAA8D8AAAAAAADwPwAAAAAAAPA/AAAAAAAA8D8AAAAAAADwPwAAAAAAAPA/AAAAAAAA8D8AAAAAAADwPwAAAAAAAPA/AAAAAAAA8D8AAAAAAADwPwAAAAAAAPA/AAAAAAAA8D8AAAAAAADwPwAAAAAAAPA/AAAAAAAA8D8AAAAAAADwPwAAAAAAAPA/AAAAAAAA8D8AAAAAAADwPwAAAAAAAPA/AAAAAAAA8D8AAAAAAADwPwAAAAAAAPA/AAAAAAAA8D8AAAAAAADwPwAAAAAAAPA/AAAAAAAA8D8AAAAAAADwPwAAAAAAAPA/AAAAAAAA8D8AAAAAAADwPwAAAAAAAPA/AAAAAAAA8D8AAAAAAADwPwAAAAAAAPA/AAAAAAAA8D8AAAAAAADwPwAAAAAAAPA/AAAAAAAA8D8AAAAAAADwPwAAAAAAAPA/AAAAAAAA8D8AAAAAAADwPwAAAAAAAPA/AAAAAAAA8D8AAAAAAADwPwAAAAAAAPA/AAAAAAAA8D8AAAAAAADwPwAAAAAAAPA/AAAAAAAA8D8AAAAAAADwPwAAAAAAAPA/AAAAAAAA8D8AAAAAAADwPwAAAAAAAPA/AAAAAAAA8D8AAAAAAADwPwAAAAAAAPA/AAAAAAAA8D8AAAAAAADwPwAAAAAAAPA/AAAAAAAA8D8AAAAAAADwPwAAAAAAAPA/AAAAAAAA8D8AAAAAAADwPwAAAAAAAPA/AAAAAAAA8D8AAAAAAADwPwAAAAAAAPA/AAAAAAAA8D8AAAAAAADwPwAAAAAAAPA/AAAAAAAA8D8AAAAAAADwPwAAAAAAAPA/AAAAAAAA8D8AAAAAAADwPwAAAAAAAPA/AAAAAAAA8D8AAAAAAADwPwAAAAAAAPA/AAAAAAAA8D8AAAAAAADwPwAAAAAAAPA/AAAAAAAA8D8AAAAAAADwPwAAAAAAAPA/AAAAAAAA8D8AAAAAAADwPwAAAAAAAPA/AAAAAAAA8D8AAAAAAADwPwAAAAAAAPA/AAAAAAAA8D8AAAAAAADwPwAAAAAAAPA/AAAAAAAA8D8AAAAAAADwPwAAAAAAAPA/AAAAAAAA8D8AAAAAAADwPwAAAAAAAPA/AAAAAAAA8D8AAAAAAADwPwAAAAAAAPA/AAAAAAAA8D8AAAAAAADwPwAAAAAAAPA/AAAAAAAA8D8AAAAAAADwPwAAAAAAAPA/AAAAAAAA8D8AAAAAAADwPwAAAAAAAPA/AAAAAAAA8D8AAAAAAADwPwAAAAAAAPA/AAAAAAAA8D8AAAAAAADwPwAAAAAAAPA/AAAAAAAA8D8AAAAAAADwPwAAAAAAAPA/AAAAAAAA8D8AAAAAAADwPwAAAAAAAPA/AAAAAAAA8D8AAAAAAADwPwAAAAAAAPA/AAAAAAAA8D8AAAAAAADwPwAAAAAAAPA/AAAAAAAA8D8AAAAAAADwPwAAAAAAAPA/",
           "dtype": "f8"
          },
          "colorbar": {
           "title": {
            "text": "Species"
           }
          },
          "colorscale": [
           [
            0,
            "#440154"
           ],
           [
            0.1111111111111111,
            "#482878"
           ],
           [
            0.2222222222222222,
            "#3e4989"
           ],
           [
            0.3333333333333333,
            "#31688e"
           ],
           [
            0.4444444444444444,
            "#26828e"
           ],
           [
            0.5555555555555556,
            "#1f9e89"
           ],
           [
            0.6666666666666666,
            "#35b779"
           ],
           [
            0.7777777777777778,
            "#6ece58"
           ],
           [
            0.8888888888888888,
            "#b5de2b"
           ],
           [
            1,
            "#fde725"
           ]
          ],
          "opacity": 0.8,
          "size": 4
         },
         "mode": "markers",
         "type": "scatter3d",
         "x": {
          "bdata": "KwYav22ZEr/et8a9M6C7vnUHQ75Lw8e+55O8vxTIwb1yGBe+xvlsv0sOEcANsre+19k3vnbYuL+hkAG+xR4fv+nVjb7LNMq+LivtvbH7a74SHL29e9sevjLzDL/b0T6+DJxXv0bQzb27Pnm/HtTMvQj9Qb5cmuq9UOfYvfVB574hU6m+f38TwB9wJr+K4LS9v4lVvnymCL+sRTm/PnbGvxRijb5muMW9F4V6vpRI971CUOe9ZgXMvdaqMr5aBvu9kivWvfxMG74uAcO9Dp/NvV4LBMDlMvW+0DuLvttJ/L//gu2+LSwtwI3cxb/njNS+eeN6vqwKLL4EUk/AnhO4vaMiLr+jao2+8eUEvpDIFr4XJx6+qs6jvrIzv71WLd+9Q7Rdv6Te8r2Kc7W9dI+zvlkTBr5tflPAcV1ivy44u71n/Tm+AywdvhaXs71y3hS+nne1vZmNY7/8tLa9TmuwvRdzUb4RuLq+o0RTvpk56r8MAb69H6Nuv1Vswb/aocu95uS3vQbdrr2Y8iO+pjhLvnKlLsCULlnArEfOvRx3wr1ZoQW/5pa2vaLFqL51Afe+SnTrvcM+Rr6fxh2+/ju5vb4eDb5vN1y+kivFvebx472a67a9fDu0vVk8Ib4ZXhW+dtu0vXzlwr3j54m/J/W8v7KErb3CvQ2+lDu2vRYP9b3oUb+9D4R6vkufCL97Ncu+ry0mv/8Z6b5esM69FuGVvh+4hr5kWLW91JHYvfzz2b00Bse+PQdRvmMrDr46XbW9/+8RvoSEgb4uHby9IACyvRrbtb3/7m6+Vs8dvyCPvr76q9S9q5I/viIeOL8PnBq+p55tv9nl2r5eE42/lyuzvpvI+r4M/6u9Zw4kvqbAwr2DpTS/wY2DvkrDvb0P+pq+BSWVvsOCXr4a38W9",
          "dtype": "f4"
         },
         "y": {
          "bdata": "FpC9vQKZvb1UjGI8c80/vUzzArz3ule98O6TvlRvcDxQlkw7+XIjvtvs+74Xeka9mKOquwE6mL4okeg7S8I1vV7N4Ly7aGO9ZCQfPA5Agbx0ZnY8QHI+OoQUrr347aq7pQ4VvvRpVzwCkzC+ZFFaPFhWm7uk1CM8FGhJPASBiL1nEgi9BeX/vrx37L2iEJE8jCQevP6NsL0S2wK+o/WdvnYP0rxEyWE8Tg+OvKQoDzykFyk85EdbPHDBMbsULgA8RM5IPECrGjpEvGw8lKxWPMoX4b5SyJq9BobTvEdOzr4qeYq9vnEKv/AMlr7vEli9tgeIvHASLbtuNTW/1IN+PDhL773eT+28SIrVOxBpVTsgEZw6f1gIvRQPbjxkSzk8j7QWvrQ3FDxSSoI8w5MgvaiO0juTtDe/0HgpvuocgTxYt4S7IMr8OlIQhDyQVmA7mmuBPLxNG74KJYE86uOFPGxuMLw7VkC9OhfRPZiovb6E9HY85UU1vrV4mr6E1108RHB/PGorhzxAkDE6eK/8uzCBCr8v8yu/FPlZPLT9aDx0Rqi90qH5PE9AHL0eQYy9FC0iPHiwy7uALJQ5lFF+PGgXnjtwB2q7BEtmPPRPMTz0JX88chOCPIC9rLmQAzE7epeCPHQBbjyCSU6+kcmSvio3iDyoOJ87svmAPORsDjyEzXM8hn6HPSL8sr2f6Fy9yhnkvfDZib1kEFk8/uT0vAZFtrwq6oI8hL5GPKS/QTw7AkO9nBsNvEimoDtSw4E80CReO7Zwt7zEZ3g8wniFPCKWgDzB4DY9nPPcvUvpTL1UJUw8+G+yuyC6/b1QkSA7xvwovnP/Yr2iBmW+t3Q9vRz9nr0yD4I8AMBTthR2bDyMd++9pruovFT+djz+KvW8/lXUvDwybLzEaGc8",
          "dtype": "f4"
         },
         "z": {
          "bdata": "ceebPvljmD7dzr8+wiKpPoSqtz71oaY+rE8fPq7gvz64A7w+c7OBPkAw+TrSOag+Lay4PqpNFj4YGr0+YMfoPguEsD53p6U+nBO+Pi1ytD5yOsA+zgy7Pqfpmj5Ftrg+8NCEPhLWvz5eMXc+/jm/PubFuT5FLL4+5Ne/Psl/oT4zLq8+AFV3u8mgjz6e6cI+5my4Pp0Gmj5FX4o+JgUOPk4NsT4UYcA+Nh21PpYUvj4Fn74+NZG/Pt2yuT7o3L0+kpK/PrKRuj4YJsA+mrq/PiT8KT0iVp4+YLmwPiE8jj0Bv6E+bLypvOKHIT5LZac+OWq1PpmTuT6qcxu+8JTAPi5Djz6r0a8+qbK9Ph7svD6NJLs+TtKuPuzEwD7p5r4+E0OGPuhSvj4IlMA+GfatPi82vT4yfCO+tr94PlTlwD6gS7k+H3K7PsvBwD5YH7w+NbfAPmSbhD4oq8A+LPrAPsKFtj6XEqk+/FUoPzXQwj3PO8A+TAZxPlweEz7SoL8+qoXAPsbWwD6SDLs+FSq4PhTclbyJQtS9i2y/PoFPwD6dFZw++pTPPnUarD7qlKM+ar2+PmfCuD5jZbo+QtTAPmrovD7pnL8+qfy/PqLLvj4SksA+tcXAPnOTuj4Surs+ja3APmD2vz56rF4+WhUfPuhzwT7BqLw+WK/APl+cvT6iQMA+2kUaP8VWmj6/iKc+pnaQPgaAoT6fv78+P3OvPu+Bsj4cmMA+SEe/PhBmvz5uOKk+bIq3PvKKvD6e3sA+52a8PjMvsj7plcA+4ozAPsLTwD4nSg0/4l2SPhWTpz4iEb8+m/64Pjm5jD60vLs+JCx7Pktzpj4ENk0+xbOpPj6HnT5kJMI+dpe7PmgkwD6DfpE+Bs2yPjQ4wD7Cka8+MYSyPpwVtT512r8+",
          "dtype": "f4"
         }
        }
       ],
       "layout": {
        "margin": {
         "b": 0,
         "l": 0,
         "r": 0,
         "t": 30
        },
        "scene": {
         "xaxis": {
          "title": {
           "text": "PC1"
          }
         },
         "yaxis": {
          "title": {
           "text": "PC2"
          }
         },
         "zaxis": {
          "title": {
           "text": "PC3"
          }
         }
        },
        "template": {
         "data": {
          "bar": [
           {
            "error_x": {
             "color": "#2a3f5f"
            },
            "error_y": {
             "color": "#2a3f5f"
            },
            "marker": {
             "line": {
              "color": "#E5ECF6",
              "width": 0.5
             },
             "pattern": {
              "fillmode": "overlay",
              "size": 10,
              "solidity": 0.2
             }
            },
            "type": "bar"
           }
          ],
          "barpolar": [
           {
            "marker": {
             "line": {
              "color": "#E5ECF6",
              "width": 0.5
             },
             "pattern": {
              "fillmode": "overlay",
              "size": 10,
              "solidity": 0.2
             }
            },
            "type": "barpolar"
           }
          ],
          "carpet": [
           {
            "aaxis": {
             "endlinecolor": "#2a3f5f",
             "gridcolor": "white",
             "linecolor": "white",
             "minorgridcolor": "white",
             "startlinecolor": "#2a3f5f"
            },
            "baxis": {
             "endlinecolor": "#2a3f5f",
             "gridcolor": "white",
             "linecolor": "white",
             "minorgridcolor": "white",
             "startlinecolor": "#2a3f5f"
            },
            "type": "carpet"
           }
          ],
          "choropleth": [
           {
            "colorbar": {
             "outlinewidth": 0,
             "ticks": ""
            },
            "type": "choropleth"
           }
          ],
          "contour": [
           {
            "colorbar": {
             "outlinewidth": 0,
             "ticks": ""
            },
            "colorscale": [
             [
              0,
              "#0d0887"
             ],
             [
              0.1111111111111111,
              "#46039f"
             ],
             [
              0.2222222222222222,
              "#7201a8"
             ],
             [
              0.3333333333333333,
              "#9c179e"
             ],
             [
              0.4444444444444444,
              "#bd3786"
             ],
             [
              0.5555555555555556,
              "#d8576b"
             ],
             [
              0.6666666666666666,
              "#ed7953"
             ],
             [
              0.7777777777777778,
              "#fb9f3a"
             ],
             [
              0.8888888888888888,
              "#fdca26"
             ],
             [
              1,
              "#f0f921"
             ]
            ],
            "type": "contour"
           }
          ],
          "contourcarpet": [
           {
            "colorbar": {
             "outlinewidth": 0,
             "ticks": ""
            },
            "type": "contourcarpet"
           }
          ],
          "heatmap": [
           {
            "colorbar": {
             "outlinewidth": 0,
             "ticks": ""
            },
            "colorscale": [
             [
              0,
              "#0d0887"
             ],
             [
              0.1111111111111111,
              "#46039f"
             ],
             [
              0.2222222222222222,
              "#7201a8"
             ],
             [
              0.3333333333333333,
              "#9c179e"
             ],
             [
              0.4444444444444444,
              "#bd3786"
             ],
             [
              0.5555555555555556,
              "#d8576b"
             ],
             [
              0.6666666666666666,
              "#ed7953"
             ],
             [
              0.7777777777777778,
              "#fb9f3a"
             ],
             [
              0.8888888888888888,
              "#fdca26"
             ],
             [
              1,
              "#f0f921"
             ]
            ],
            "type": "heatmap"
           }
          ],
          "histogram": [
           {
            "marker": {
             "pattern": {
              "fillmode": "overlay",
              "size": 10,
              "solidity": 0.2
             }
            },
            "type": "histogram"
           }
          ],
          "histogram2d": [
           {
            "colorbar": {
             "outlinewidth": 0,
             "ticks": ""
            },
            "colorscale": [
             [
              0,
              "#0d0887"
             ],
             [
              0.1111111111111111,
              "#46039f"
             ],
             [
              0.2222222222222222,
              "#7201a8"
             ],
             [
              0.3333333333333333,
              "#9c179e"
             ],
             [
              0.4444444444444444,
              "#bd3786"
             ],
             [
              0.5555555555555556,
              "#d8576b"
             ],
             [
              0.6666666666666666,
              "#ed7953"
             ],
             [
              0.7777777777777778,
              "#fb9f3a"
             ],
             [
              0.8888888888888888,
              "#fdca26"
             ],
             [
              1,
              "#f0f921"
             ]
            ],
            "type": "histogram2d"
           }
          ],
          "histogram2dcontour": [
           {
            "colorbar": {
             "outlinewidth": 0,
             "ticks": ""
            },
            "colorscale": [
             [
              0,
              "#0d0887"
             ],
             [
              0.1111111111111111,
              "#46039f"
             ],
             [
              0.2222222222222222,
              "#7201a8"
             ],
             [
              0.3333333333333333,
              "#9c179e"
             ],
             [
              0.4444444444444444,
              "#bd3786"
             ],
             [
              0.5555555555555556,
              "#d8576b"
             ],
             [
              0.6666666666666666,
              "#ed7953"
             ],
             [
              0.7777777777777778,
              "#fb9f3a"
             ],
             [
              0.8888888888888888,
              "#fdca26"
             ],
             [
              1,
              "#f0f921"
             ]
            ],
            "type": "histogram2dcontour"
           }
          ],
          "mesh3d": [
           {
            "colorbar": {
             "outlinewidth": 0,
             "ticks": ""
            },
            "type": "mesh3d"
           }
          ],
          "parcoords": [
           {
            "line": {
             "colorbar": {
              "outlinewidth": 0,
              "ticks": ""
             }
            },
            "type": "parcoords"
           }
          ],
          "pie": [
           {
            "automargin": true,
            "type": "pie"
           }
          ],
          "scatter": [
           {
            "fillpattern": {
             "fillmode": "overlay",
             "size": 10,
             "solidity": 0.2
            },
            "type": "scatter"
           }
          ],
          "scatter3d": [
           {
            "line": {
             "colorbar": {
              "outlinewidth": 0,
              "ticks": ""
             }
            },
            "marker": {
             "colorbar": {
              "outlinewidth": 0,
              "ticks": ""
             }
            },
            "type": "scatter3d"
           }
          ],
          "scattercarpet": [
           {
            "marker": {
             "colorbar": {
              "outlinewidth": 0,
              "ticks": ""
             }
            },
            "type": "scattercarpet"
           }
          ],
          "scattergeo": [
           {
            "marker": {
             "colorbar": {
              "outlinewidth": 0,
              "ticks": ""
             }
            },
            "type": "scattergeo"
           }
          ],
          "scattergl": [
           {
            "marker": {
             "colorbar": {
              "outlinewidth": 0,
              "ticks": ""
             }
            },
            "type": "scattergl"
           }
          ],
          "scattermap": [
           {
            "marker": {
             "colorbar": {
              "outlinewidth": 0,
              "ticks": ""
             }
            },
            "type": "scattermap"
           }
          ],
          "scattermapbox": [
           {
            "marker": {
             "colorbar": {
              "outlinewidth": 0,
              "ticks": ""
             }
            },
            "type": "scattermapbox"
           }
          ],
          "scatterpolar": [
           {
            "marker": {
             "colorbar": {
              "outlinewidth": 0,
              "ticks": ""
             }
            },
            "type": "scatterpolar"
           }
          ],
          "scatterpolargl": [
           {
            "marker": {
             "colorbar": {
              "outlinewidth": 0,
              "ticks": ""
             }
            },
            "type": "scatterpolargl"
           }
          ],
          "scatterternary": [
           {
            "marker": {
             "colorbar": {
              "outlinewidth": 0,
              "ticks": ""
             }
            },
            "type": "scatterternary"
           }
          ],
          "surface": [
           {
            "colorbar": {
             "outlinewidth": 0,
             "ticks": ""
            },
            "colorscale": [
             [
              0,
              "#0d0887"
             ],
             [
              0.1111111111111111,
              "#46039f"
             ],
             [
              0.2222222222222222,
              "#7201a8"
             ],
             [
              0.3333333333333333,
              "#9c179e"
             ],
             [
              0.4444444444444444,
              "#bd3786"
             ],
             [
              0.5555555555555556,
              "#d8576b"
             ],
             [
              0.6666666666666666,
              "#ed7953"
             ],
             [
              0.7777777777777778,
              "#fb9f3a"
             ],
             [
              0.8888888888888888,
              "#fdca26"
             ],
             [
              1,
              "#f0f921"
             ]
            ],
            "type": "surface"
           }
          ],
          "table": [
           {
            "cells": {
             "fill": {
              "color": "#EBF0F8"
             },
             "line": {
              "color": "white"
             }
            },
            "header": {
             "fill": {
              "color": "#C8D4E3"
             },
             "line": {
              "color": "white"
             }
            },
            "type": "table"
           }
          ]
         },
         "layout": {
          "annotationdefaults": {
           "arrowcolor": "#2a3f5f",
           "arrowhead": 0,
           "arrowwidth": 1
          },
          "autotypenumbers": "strict",
          "coloraxis": {
           "colorbar": {
            "outlinewidth": 0,
            "ticks": ""
           }
          },
          "colorscale": {
           "diverging": [
            [
             0,
             "#8e0152"
            ],
            [
             0.1,
             "#c51b7d"
            ],
            [
             0.2,
             "#de77ae"
            ],
            [
             0.3,
             "#f1b6da"
            ],
            [
             0.4,
             "#fde0ef"
            ],
            [
             0.5,
             "#f7f7f7"
            ],
            [
             0.6,
             "#e6f5d0"
            ],
            [
             0.7,
             "#b8e186"
            ],
            [
             0.8,
             "#7fbc41"
            ],
            [
             0.9,
             "#4d9221"
            ],
            [
             1,
             "#276419"
            ]
           ],
           "sequential": [
            [
             0,
             "#0d0887"
            ],
            [
             0.1111111111111111,
             "#46039f"
            ],
            [
             0.2222222222222222,
             "#7201a8"
            ],
            [
             0.3333333333333333,
             "#9c179e"
            ],
            [
             0.4444444444444444,
             "#bd3786"
            ],
            [
             0.5555555555555556,
             "#d8576b"
            ],
            [
             0.6666666666666666,
             "#ed7953"
            ],
            [
             0.7777777777777778,
             "#fb9f3a"
            ],
            [
             0.8888888888888888,
             "#fdca26"
            ],
            [
             1,
             "#f0f921"
            ]
           ],
           "sequentialminus": [
            [
             0,
             "#0d0887"
            ],
            [
             0.1111111111111111,
             "#46039f"
            ],
            [
             0.2222222222222222,
             "#7201a8"
            ],
            [
             0.3333333333333333,
             "#9c179e"
            ],
            [
             0.4444444444444444,
             "#bd3786"
            ],
            [
             0.5555555555555556,
             "#d8576b"
            ],
            [
             0.6666666666666666,
             "#ed7953"
            ],
            [
             0.7777777777777778,
             "#fb9f3a"
            ],
            [
             0.8888888888888888,
             "#fdca26"
            ],
            [
             1,
             "#f0f921"
            ]
           ]
          },
          "colorway": [
           "#636efa",
           "#EF553B",
           "#00cc96",
           "#ab63fa",
           "#FFA15A",
           "#19d3f3",
           "#FF6692",
           "#B6E880",
           "#FF97FF",
           "#FECB52"
          ],
          "font": {
           "color": "#2a3f5f"
          },
          "geo": {
           "bgcolor": "white",
           "lakecolor": "white",
           "landcolor": "#E5ECF6",
           "showlakes": true,
           "showland": true,
           "subunitcolor": "white"
          },
          "hoverlabel": {
           "align": "left"
          },
          "hovermode": "closest",
          "mapbox": {
           "style": "light"
          },
          "paper_bgcolor": "white",
          "plot_bgcolor": "#E5ECF6",
          "polar": {
           "angularaxis": {
            "gridcolor": "white",
            "linecolor": "white",
            "ticks": ""
           },
           "bgcolor": "#E5ECF6",
           "radialaxis": {
            "gridcolor": "white",
            "linecolor": "white",
            "ticks": ""
           }
          },
          "scene": {
           "xaxis": {
            "backgroundcolor": "#E5ECF6",
            "gridcolor": "white",
            "gridwidth": 2,
            "linecolor": "white",
            "showbackground": true,
            "ticks": "",
            "zerolinecolor": "white"
           },
           "yaxis": {
            "backgroundcolor": "#E5ECF6",
            "gridcolor": "white",
            "gridwidth": 2,
            "linecolor": "white",
            "showbackground": true,
            "ticks": "",
            "zerolinecolor": "white"
           },
           "zaxis": {
            "backgroundcolor": "#E5ECF6",
            "gridcolor": "white",
            "gridwidth": 2,
            "linecolor": "white",
            "showbackground": true,
            "ticks": "",
            "zerolinecolor": "white"
           }
          },
          "shapedefaults": {
           "line": {
            "color": "#2a3f5f"
           }
          },
          "ternary": {
           "aaxis": {
            "gridcolor": "white",
            "linecolor": "white",
            "ticks": ""
           },
           "baxis": {
            "gridcolor": "white",
            "linecolor": "white",
            "ticks": ""
           },
           "bgcolor": "#E5ECF6",
           "caxis": {
            "gridcolor": "white",
            "linecolor": "white",
            "ticks": ""
           }
          },
          "title": {
           "x": 0.05
          },
          "xaxis": {
           "automargin": true,
           "gridcolor": "white",
           "linecolor": "white",
           "ticks": "",
           "title": {
            "standoff": 15
           },
           "zerolinecolor": "white",
           "zerolinewidth": 2
          },
          "yaxis": {
           "automargin": true,
           "gridcolor": "white",
           "linecolor": "white",
           "ticks": "",
           "title": {
            "standoff": 15
           },
           "zerolinecolor": "white",
           "zerolinewidth": 2
          }
         }
        },
        "title": {
         "text": "Latent Space"
        }
       }
      }
     },
     "metadata": {},
     "output_type": "display_data"
    },
    {
     "data": {
      "application/vnd.plotly.v1+json": {
       "config": {
        "plotlyServerURL": "https://plot.ly"
       },
       "data": [
        {
         "marker": {
          "color": {
           "bdata": "AAAAAAAAAAAAAAAAAAAAAAAAAAAAAAAAAAAAAAAAAAAAAAAAAAAAAAAAAAAAAAAAAAAAAAAAAAAAAAAAAAAAAAAAAAAAAAAAAAAAAAAAAAAAAAAAAAAAAAAAAAAAAAAAAAAAAAAAAAAAAAAAAAAAAAAAAAAAAAAAAAAAAAAAAAAAAAAAAAAAAAAAAAAAAAAAAAAAAAAAAAAAAAAAAAAAAAAAAAAAAAAAAAAAAAAAAAAAAAAAAAAAAAAAAAAAAAAAAAAAAAAAAAAAAAAAAAAAAAAAAAAAAAAAAAAAAAAAAAAAAAAAAAAAAAAAAAAAAAAAAAAAAAAAAAAAAAAAAAAAAAAAAAAAAAAAAAAAAAAAAAAAAAAAAAAAAAAAAAAAAAAAAAAAAAAAAAAAAAAAAAAAAAAAAAAAAAAAAAAAAAAAAAAAAAAAAAAAAAAAAAAAAAAAAAAAAAAAAAAAAAAAAAAAAAAAAAAAAAAAAAAAAAAAAAAAAAAAAAAAAAAAAAAAAAAAAAAAAAAAAAAAAAAAAAAAAAAAAAAAAAAAAAAAAAAAAAAAAAAAAAAAAAAAAAAAAAAAAAAAAAAAAAAAAAAAAAAAAAAAAAAAAAAAAAAAAAAAAAAAAAAAAAAAAAAAAAAAAAAAAAAAAAAAAAAAAAAAAAAAAAAAAAAAAAAAAAAAAAAAAAAAAAAAAAAAAAAAAAAAAAAAAAAAAAAAAAAAAAAAAAAAAAAAAAAAAAAAAAAAAAAAAAAAAAAAAAAAAAAAAAAAAAAAAAAAAAAAAAAAAAAAAAAAAAAAAAAAAAAAAAAAAAAAAAAAAAAAAAAAAAAAAAAAAAAAAAAAAAAAAAAAAAAAAAAAAAAAAAAAAAAAAAAAAAAAAAAAAAAAAAAAAAAAAAAAAAAAAAAAAAAAAAAAAAAAAAAAAAAAAAAAAAAAAAAAAAAAAAAAAAAAAAAAAAAAAAAAAAAAAAAAAAAAAAAAAAAAAAAAAAAAAAAAAAAAAAAAAAAAAAAAAAAAAAAAAAAAAAAAAAAAAAAAAAAAAAAAAAAAAAAAAAAAAAAAAAAAAAAAAAAAAAAAAAAAAAAAAAAAAAAAAAAAAAAAAAAAAAAAAAAAAAAAAAAAAAAAAAAAAAAAAAAAAAAAAAAAAAAAAAAAAAAAAAAAAAAAAAAAAAAAAAAAAAAAAAAAAAAAAAAAAAAAAAAAAAAAAAAAAAAAAAAAAAAAAAAAAAAAAAAAAAAAAAAAAAAAAAAAAAAAAAAAAAAAAAAAAAAAAAAAAAAAAAAAAAAAAAAAAAAAAAAAAAAAAAAAAAAAAAAAAAAAAAAAAAAAAAAAAAAAAAAAAAAAAAAAAAAAAAAAAAAAAAAAAAAAAAAAAAAAAAAAAAAAAAAAAAAAAAAAAAAAAAAAAAAAAAAAAAAAAAAAAAAAAAAAAAAAAAAAAAAAAAAAAAAAAAAAAAAAAAAAAAAAAAAAAAAAAAAAAAAAAAAAAAAAAAAAAAAAAAAAAAAAAAAAAAAAAAAAAAAAAAAAAAAAAAAAAAAAAAAAAAAAAAAAAAAAAAAAAAAAAAAAAAAAAAAAAAAAAAAAAAAAAAAAAAAAAAAAAAAAAAAAAAAAAAAAAAAAAAAAAAAAAAAAAAAAAAAAAAAAAAAAAAAAAAAAAAAAAAAAAAAAAAAAAAAAAAAAAAAAAAAAAAAAAAAAAAAAAAAAAAAAAAAAAAAAAAAAAAAAAAAAAAAAAAAAAAAAAAAAAAAAAAAAAAAAAAAAAAAAAAAAAAAAAAAAAAAAAAAAAAAAAAAAAAAAAAAAAAAAAAAAAAAAAAAAAAAAAAAAAAAAAAAAAAAAAAAAAAAAAAAAAAAAAAAAAAAAAAAAAAAAAAAAAAAAAAAAAAAAAAAAAAAAAAAAAAAAAAAAAAAAAAAAAAAAAAAAAAAAAAAAAAAAAAAAAAAAAAAAAAAAAAAAAAAAAAAAAAAAAAAAAAAAAAAAAAAAAAAAAAAAAAAAAAAAAAAAAAAAAAAAAAAAAAAAAAAAAAAAAAAAAAAAAAAAAAAAAAAAAAAAAAAAAAAAAAAAAAAAAAAAAAAAAAAAAAAAAAAAAAAAAAAAAAAAAAAAAAAAAAAAAAAAAAAAAAAAAAAAAAAAAAAAAAAAAAAAAAAAAAAAAAAAAAAAAAAAAAAAAAAAAAAAAAAAAAAAAAAAAAAAAAAAAAAAAAAAAAAAAAAAAAAAAAAAAAAAAAAAAAAAAAAAAAAAAAAAAAAAAAAAAAAAAAAAAAAAAAAAAAAAAAAAAAAAAAAAAAAAAAAAAAAAAAAAAAAAAAAAAAAAAAAAAAAAAAAAAAAAAAAAAAAAAAAAAAAAAAAAAAAAAAAAAAAAAAAAAAAAAAAAAAAAAAAAAAAAAAAAAAAAAAAAAAAAAAAAAAAAAAAAAAAAAAAAAAAAAAAAAAAAAAAAAAAAAAAAAAAAAAAAAAAAAAAAAAAAAAAAAAAAAAAAAAAAAAAAAAAAAAAAAAAAAAAAAAAAAAAAAAAAAAAAAAAAAAAAAAAAAAAAAAAAAAAAAAAAAAAAAAAAAAAAAAAAAAAAAAAAAAAAAAAAAAAAAAAAAAAAAAAAAAAAAAAAAAAAAAAAAAAAAAAAAAAAAAAAAAAAAAAAAAAAAAAAAAAAAAAAAAAAAAAAAAAAAAAAAAAAAAAAAAAAAAAAAAAAAAAAAAAAAAAAAAAAAAAAAAAAAAAAAAAAAAAAAAAAAAAAAAAAAAAAAAAAAAAAAAAAAAAAAAAAAAAAAAAAAAAAAAAAAAAAAAAAAAAAAAAAAAAAAAAAAAAAAAAAAAAAAAAAAAAAAAAAAAAAAAAAAAAAAAAAAAAAAAAAAAAAAAAAAAAAAAAAAAAAAAAAAAAAAAAAAAAAAAAAAAAAAAAAAAAAAAAAAAAAAAAAAAAAAAAAAAAAAAAAAAAAAAAAAAAAAAAAAAAAAAAAAAAAAAAAAAAAAAAAAAAAAAAAAAAAAAAAAAAAAAAAAAAAAAAAAAAAAAAAAAAAAAAAAAAAAAAAAAAAAAAAAAAAAAAAAAAAAAAAAAAAAAAAAAAAAAAAAAAAAAAAAAAAAAAAAAAAAAAAAAAAAAAAAAAAAAAAAAAAAAAAAAAAAAAAAAAAAAAAAAAAAAAAAAAAAAAAAAAAAAAAAAAAAAAAAAAAAAAAAAAAAAAAAAAAAAAAAAAAAAAAAAAAAAAAAAAAAAAAAAAAAAAAAAAAAAAAAAAAAAAAAAAAAAAAAAAAAAAAAAAAAAAAAAAAAAAAAAAAAAAAAAAAAAAAAAAAAAAAAAAAAAAAAAAAAAAAAAAAAAAAAAAAAAAAAAAAAAAAAAAAAAAAAAAAAAAAAAAAAAAAAAAAAAAAAAAAAAAAAAAAAAAAAAAAAAAAAAAAAAAAAAAAAAAAAAAAAAAAAAAAAAAAAAAAAAAAAAAAAAAAAAAAAAAAAAAAAAAAAAAAAAAAAAAAAAAAAAAAAAAAAAAAAAAAAAAAAAAAAAAAAAAAAAAAAAAAAAAAAAAAAAAAAAAAAAAAAAAAAAAAAAAAAAAAAAAAAAAAAAAAAAAAAAAAAAAAAAAAAAAAAAAAAAAAAAAAAAAAAAAAAAAAAAAAAAAAAAAAAAAAAAAAAAAAAAAAAAAAAAAAAAAAAAAAAAAAAAAAAAAAAAAAAAAAAAAAAAAAAAAAAAAAAAAAAAAAAAAAAAAAAAAAAAAAAAAAAAAAAAAAAAAAAAAAAAAAAAAAAAAAAAAAAAAAAAAAAAAAAAAAAAAAAAAAAAAAAAAAAAAAAAAAAAAAAAAAAAAAAAAAAAAAAAAAAAAAAAAAAAAAAAAAAAAAAAAAAAAAAAAAAAAAAAAAAAAAAAAAAAAAAAAAAAAAAAAAAAAAAAAAAAAAAAAAAAAAAAAAAAAAAAAAAAAAAAAAAAAAAAAAAAAAAAAAAAAAAAAAAAAAAAAAAAAAAAAAAAAAAAAAAAAAAAAAAAAAAAAAAAAAAAAAAAAAAAAAAAAAAAAAAAAAAAAAAAAAAAAAAAAAAAAAAAAAAAAAAAAAAAAAAAAAAAAAAAAAAAAAAAAAAAAAAAAAAAAAAAAAAAAAAAAAAAAAAAAAAAAAAAAAAAAAAAAAAAAAAAAAAAAAAAAAAAAAAAAAAAAAAAAAAAAAAAAAAAAAAAAAAAAAAAAAAAAAAAAAAAAAAAAAAAAAAAAAAAAAAAAAAAAAAAAAAAAAAAAAAAAAAAAAAAAAAAAAAAAAAAAAAAAAAAAAAAAAAAAAAAAAAAAAAAAAAAAAAAAAAAAAAAAAAAAAAAAAAAAAAAAAAAAAAAAAAAAAAAAAAAAAAAAAAAAAAAAAAAAAAAAAAAAAAAAAAAAAAAAAAAAAAAAAAAAAAAAAAAAAAAAAAAAAAAAAAAAAAAAAAAAAAAAAAAAAAAAAAAAAAAAAAAAAAAAAAAAAAAAAAAAAAAAAAAAAAAAAAAAAAAAAAAAAAAAAAAAAAAAAAAAAAAAAAAAAAAAAAAAAAAAAAAAAAAAAAAAAAAAAAAAAAAAAAAAAAAAAAAAAAAAAAAAAAAAAAAAAAAAAAAAAAAAAAAAAAAAAAAAAAAAAAAAAAAAAAAAAAAAAAAAAAAAAAAAAAAAAAAAAAAAAAAAAAAAAAAAAAAAAAAAAAAAAAAAAAAAAAAAAAAAAAAAAAAAAAAAAAAAAAAAAAAAAAAAAAAAAAAAAAAAAAAAAAAAAAAAAAAAAAAAAAAAAAAAAAAAAAAAAAAAAAAAAAAAAAAAAAAAAAAAAAAAAAAAAAAAAAAAAAAAAAAAAAAAAAAAAAAAAAAAAAAAAAAAAAAAAAAAAAAAAAAAAAAAAAAAAAAAAAAAAAAAAAAAAAAAAAAAAAAAAAAAAAAAAAAAAAAAAAAAAAAAAAAAAAAAAAAAAAAAAAAAAAAAAAAAAAAAAAAAAAAAAAAAAAAAAAAAAAAAAAAAAAAAAAAAAAAAAAAAAAAAAAAAAAAAAAAAAAAAAAAAAAAAAAAAAAAAAAAAAAAAAAAAAAAAAAAAAAAAAAAAAAAAAAAAAAAAAAAAAAAAAAAAAAAAAAAAAAAAAAAAAAAAAAAAAAAAAAAAAAAAAAAAAAAAAAAAAAAAAAAAAAAAAAAAAAAAAAAAAAAAAAAAAAAAAAAAAAAAAAAAAAAAAAAAAAAAAAAAAAAAAAAAAAAAAAAAAAAAAAAAAAAAAAAAAAAAAAAAAAAAAAAAAAAAAAAAAAAAAAAAAAAAAAAAAAAAAAAAAAAAAAAAAAAAAAAAAAAAAAAAAAAAAAAAAAAAAAAAAAAAAAAAAAAAAAAAAAAAAAAAAAAAAAAAAAAAAAAAAAAAAAAAAAAAAAAAAAAAAAAAAAAAAAAAAAAAAAAAAAAAAAAAAAAAAAAAAAAAAAAAAAAAAAAAAAAAAAAAAAAAAAAAAAAAAAAAAAAAAAAAAAAAAAAAAAAAAAAAAAAAAAAAAAAAAAAAAAAAAAAAAAAAAAAAAAAAAAAAAAAAAAAAAAAAAAAAAAAAAAAAAAAAAAAAAAAAAAAAAAAAAAAAAAAAAAAAAAAAAAAAAAAAAAAAAAAAAAAAAAAAAAAAAAAAAAAAAAAAAAAAAAAAAAAAAAAAAAAAAAAAAAAAAAAAAAAAAAAAAAAAAAAAAAAAAAAAAAAAAAAAAAAAAAAAAAAAAAAAAAAAAAAAAAAAAAAAAAAAAAAAAAAAAAAAAAAAAAAAAAAAAAAAAAAAAAAAAAAAAAAAAAAAAAAAAAAAAAAAAAAAAAAAAAAAAAAAAAAAAAAAAAAAAAAAAAAAAAAAAAAAAAAAAAAAAAAAAAAAAAAAAAAAAAAAAAAAAAAAAAAAAAAAAAAAAAAAAAAAAAAAAAAAAAAAAAAAAAAAAAAAAAAAAAAAAAAAAAAAAAAAAAAAAAAAAAAAAAAAAAAAAAAAAAAAAAAAAAAAAAAAAAAAAAAAAAAAAAAAAAAAAAAAAAAAAAAAAAAAAAAAAAAAAAAAAAAAAAAAAAAAAAAAAAAAAAAAAAAAAAAAAAAAAAAAAAAAAAAAAAAAAAAAAAAAAAAAAAAAAAAAAAAAAAAAAAAAAAAAAAAAAAAAAAAAAAAAAAAAAAAAAAAAAAAAAAAAAAAAAAAAAAAAAAAAAAAAAAAAAAAAAAAAAAAAAAAAAAAAAAAAAAAAAAAAAAAAAAAAAAAAAAAAAAAAAAAAAAAAAAAAAAAAAAAAAAAAAAAAAAAAAAAAAAAAAAAAAAAAAAAAAAAAAAAAAAAAAAAAAAAAAAAAAAAAAAAAAAAAAAAAAAAAAAAAAAAAAAAAAAAAAAAAAAAAAAAAAAAAAAAAAAAAAAAAAAAAAAAAAAAAAAAAAAAAAAAAAAAAAAAAAAAAAAAAAAAAAAAAAAAAAAAAAAAAAAAAAAAAAAAAAAAAAAAAAAAAAAAAAAAAAAAAAAAAAAAAAAAAAAAAAAAAAAAAAAAAAAAAAAAAAAAAAAAAAAAAAAAAAAAAAAAAAAAAAAAAAAAAAAAAAAAAAAAAAAAAAAAAAAAAAAAAAAAAAAAAAAAAAAAAAAAAAAAAAAAAAAAAAAAAAAAAAAAAAAAAAAAAAAAAAAAAAAAAAAAAAAAAAAAAAAAAAAAAAAAAAAAAAAAAAAAAAAAAAAAAAAAAAAAAAAAAAAAAAAAAAAAAAAAAAAAAAAAAAAAAAAAAAAAAAAAAAAAAAAAAAAAAAAAAAAAAAAAAAAAAAAAAAAAAAAAAAAAAAAAAAAAAAAAAAAAAAAAAAAAAAAAAAAAAAAAAAAAAAAAAAAAAAAAAAAAAAAAAAAAAAAAAAAAAAAAAAAAAAAAAAAAAAAAAAAAAAAAAAAAAAAAAAAAAAAAAAAAAAAAAAAAAAAAAAAAAAAAAAAAAAAAAAAAAAAAAAAAAAAAAAAAAAAAAAAAAAAAAAAAAAAAAAAAAAAAAAAAAAAAAAAAAAAAAAAAAAAAAAAAAAAAAAAAAAAAAAAAAAAAAAAAAAAAAAAAAAAAAAAAAAAAAAAAAAAAAAAAAAAAAAAAAAAAAAAAAAAAAAAAAAAAAAAAAAAAAAAAAAAAAAAAAAAAAAAAAAAAAAAAAAAAAAAAAAAAAAAAAAAAAAAAAAAAAAAAAAAAAAAAAAAAAAAAAAAAAAAAAAAAAAAAAAAAAAAAAAAAAAAAAAAAAAAAAAAAAAAAAAAAAAAAAAAAAAAAAAAAAAAAAAAAAAAAAAAAAAAAAAAAAAAAAAAAAAAAAAAAAAAAAAAAAAAAAAAAAAAAAAAAAAAAAAAAAAAAAAAAAAAAAAAAAAAAAAAAAAAAAAAAAAAAAAAAAAAAAAAAAAAAAAAAAAAAAAAAAAAAAAAAAAAAAAAAAAAAAAAAAAAAAAAAAAAAAAAAAAAAAAAAAAAAAAAAAAAAAAAAAAAAAAAAAAAAAAAAAAAAAAAAAA",
           "dtype": "f8"
          },
          "colorbar": {
           "title": {
            "text": "Species"
           }
          },
          "colorscale": [
           [
            0,
            "#440154"
           ],
           [
            0.1111111111111111,
            "#482878"
           ],
           [
            0.2222222222222222,
            "#3e4989"
           ],
           [
            0.3333333333333333,
            "#31688e"
           ],
           [
            0.4444444444444444,
            "#26828e"
           ],
           [
            0.5555555555555556,
            "#1f9e89"
           ],
           [
            0.6666666666666666,
            "#35b779"
           ],
           [
            0.7777777777777778,
            "#6ece58"
           ],
           [
            0.8888888888888888,
            "#b5de2b"
           ],
           [
            1,
            "#fde725"
           ]
          ],
          "opacity": 0.8,
          "size": 4
         },
         "mode": "markers",
         "type": "scatter3d",
         "x": {
          "bdata": "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",
          "dtype": "f4"
         },
         "y": {
          "bdata": "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",
          "dtype": "f4"
         },
         "z": {
          "bdata": "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",
          "dtype": "f4"
         }
        }
       ],
       "layout": {
        "margin": {
         "b": 0,
         "l": 0,
         "r": 0,
         "t": 30
        },
        "scene": {
         "xaxis": {
          "title": {
           "text": "PC1"
          }
         },
         "yaxis": {
          "title": {
           "text": "PC2"
          }
         },
         "zaxis": {
          "title": {
           "text": "PC3"
          }
         }
        },
        "template": {
         "data": {
          "bar": [
           {
            "error_x": {
             "color": "#2a3f5f"
            },
            "error_y": {
             "color": "#2a3f5f"
            },
            "marker": {
             "line": {
              "color": "#E5ECF6",
              "width": 0.5
             },
             "pattern": {
              "fillmode": "overlay",
              "size": 10,
              "solidity": 0.2
             }
            },
            "type": "bar"
           }
          ],
          "barpolar": [
           {
            "marker": {
             "line": {
              "color": "#E5ECF6",
              "width": 0.5
             },
             "pattern": {
              "fillmode": "overlay",
              "size": 10,
              "solidity": 0.2
             }
            },
            "type": "barpolar"
           }
          ],
          "carpet": [
           {
            "aaxis": {
             "endlinecolor": "#2a3f5f",
             "gridcolor": "white",
             "linecolor": "white",
             "minorgridcolor": "white",
             "startlinecolor": "#2a3f5f"
            },
            "baxis": {
             "endlinecolor": "#2a3f5f",
             "gridcolor": "white",
             "linecolor": "white",
             "minorgridcolor": "white",
             "startlinecolor": "#2a3f5f"
            },
            "type": "carpet"
           }
          ],
          "choropleth": [
           {
            "colorbar": {
             "outlinewidth": 0,
             "ticks": ""
            },
            "type": "choropleth"
           }
          ],
          "contour": [
           {
            "colorbar": {
             "outlinewidth": 0,
             "ticks": ""
            },
            "colorscale": [
             [
              0,
              "#0d0887"
             ],
             [
              0.1111111111111111,
              "#46039f"
             ],
             [
              0.2222222222222222,
              "#7201a8"
             ],
             [
              0.3333333333333333,
              "#9c179e"
             ],
             [
              0.4444444444444444,
              "#bd3786"
             ],
             [
              0.5555555555555556,
              "#d8576b"
             ],
             [
              0.6666666666666666,
              "#ed7953"
             ],
             [
              0.7777777777777778,
              "#fb9f3a"
             ],
             [
              0.8888888888888888,
              "#fdca26"
             ],
             [
              1,
              "#f0f921"
             ]
            ],
            "type": "contour"
           }
          ],
          "contourcarpet": [
           {
            "colorbar": {
             "outlinewidth": 0,
             "ticks": ""
            },
            "type": "contourcarpet"
           }
          ],
          "heatmap": [
           {
            "colorbar": {
             "outlinewidth": 0,
             "ticks": ""
            },
            "colorscale": [
             [
              0,
              "#0d0887"
             ],
             [
              0.1111111111111111,
              "#46039f"
             ],
             [
              0.2222222222222222,
              "#7201a8"
             ],
             [
              0.3333333333333333,
              "#9c179e"
             ],
             [
              0.4444444444444444,
              "#bd3786"
             ],
             [
              0.5555555555555556,
              "#d8576b"
             ],
             [
              0.6666666666666666,
              "#ed7953"
             ],
             [
              0.7777777777777778,
              "#fb9f3a"
             ],
             [
              0.8888888888888888,
              "#fdca26"
             ],
             [
              1,
              "#f0f921"
             ]
            ],
            "type": "heatmap"
           }
          ],
          "histogram": [
           {
            "marker": {
             "pattern": {
              "fillmode": "overlay",
              "size": 10,
              "solidity": 0.2
             }
            },
            "type": "histogram"
           }
          ],
          "histogram2d": [
           {
            "colorbar": {
             "outlinewidth": 0,
             "ticks": ""
            },
            "colorscale": [
             [
              0,
              "#0d0887"
             ],
             [
              0.1111111111111111,
              "#46039f"
             ],
             [
              0.2222222222222222,
              "#7201a8"
             ],
             [
              0.3333333333333333,
              "#9c179e"
             ],
             [
              0.4444444444444444,
              "#bd3786"
             ],
             [
              0.5555555555555556,
              "#d8576b"
             ],
             [
              0.6666666666666666,
              "#ed7953"
             ],
             [
              0.7777777777777778,
              "#fb9f3a"
             ],
             [
              0.8888888888888888,
              "#fdca26"
             ],
             [
              1,
              "#f0f921"
             ]
            ],
            "type": "histogram2d"
           }
          ],
          "histogram2dcontour": [
           {
            "colorbar": {
             "outlinewidth": 0,
             "ticks": ""
            },
            "colorscale": [
             [
              0,
              "#0d0887"
             ],
             [
              0.1111111111111111,
              "#46039f"
             ],
             [
              0.2222222222222222,
              "#7201a8"
             ],
             [
              0.3333333333333333,
              "#9c179e"
             ],
             [
              0.4444444444444444,
              "#bd3786"
             ],
             [
              0.5555555555555556,
              "#d8576b"
             ],
             [
              0.6666666666666666,
              "#ed7953"
             ],
             [
              0.7777777777777778,
              "#fb9f3a"
             ],
             [
              0.8888888888888888,
              "#fdca26"
             ],
             [
              1,
              "#f0f921"
             ]
            ],
            "type": "histogram2dcontour"
           }
          ],
          "mesh3d": [
           {
            "colorbar": {
             "outlinewidth": 0,
             "ticks": ""
            },
            "type": "mesh3d"
           }
          ],
          "parcoords": [
           {
            "line": {
             "colorbar": {
              "outlinewidth": 0,
              "ticks": ""
             }
            },
            "type": "parcoords"
           }
          ],
          "pie": [
           {
            "automargin": true,
            "type": "pie"
           }
          ],
          "scatter": [
           {
            "fillpattern": {
             "fillmode": "overlay",
             "size": 10,
             "solidity": 0.2
            },
            "type": "scatter"
           }
          ],
          "scatter3d": [
           {
            "line": {
             "colorbar": {
              "outlinewidth": 0,
              "ticks": ""
             }
            },
            "marker": {
             "colorbar": {
              "outlinewidth": 0,
              "ticks": ""
             }
            },
            "type": "scatter3d"
           }
          ],
          "scattercarpet": [
           {
            "marker": {
             "colorbar": {
              "outlinewidth": 0,
              "ticks": ""
             }
            },
            "type": "scattercarpet"
           }
          ],
          "scattergeo": [
           {
            "marker": {
             "colorbar": {
              "outlinewidth": 0,
              "ticks": ""
             }
            },
            "type": "scattergeo"
           }
          ],
          "scattergl": [
           {
            "marker": {
             "colorbar": {
              "outlinewidth": 0,
              "ticks": ""
             }
            },
            "type": "scattergl"
           }
          ],
          "scattermap": [
           {
            "marker": {
             "colorbar": {
              "outlinewidth": 0,
              "ticks": ""
             }
            },
            "type": "scattermap"
           }
          ],
          "scattermapbox": [
           {
            "marker": {
             "colorbar": {
              "outlinewidth": 0,
              "ticks": ""
             }
            },
            "type": "scattermapbox"
           }
          ],
          "scatterpolar": [
           {
            "marker": {
             "colorbar": {
              "outlinewidth": 0,
              "ticks": ""
             }
            },
            "type": "scatterpolar"
           }
          ],
          "scatterpolargl": [
           {
            "marker": {
             "colorbar": {
              "outlinewidth": 0,
              "ticks": ""
             }
            },
            "type": "scatterpolargl"
           }
          ],
          "scatterternary": [
           {
            "marker": {
             "colorbar": {
              "outlinewidth": 0,
              "ticks": ""
             }
            },
            "type": "scatterternary"
           }
          ],
          "surface": [
           {
            "colorbar": {
             "outlinewidth": 0,
             "ticks": ""
            },
            "colorscale": [
             [
              0,
              "#0d0887"
             ],
             [
              0.1111111111111111,
              "#46039f"
             ],
             [
              0.2222222222222222,
              "#7201a8"
             ],
             [
              0.3333333333333333,
              "#9c179e"
             ],
             [
              0.4444444444444444,
              "#bd3786"
             ],
             [
              0.5555555555555556,
              "#d8576b"
             ],
             [
              0.6666666666666666,
              "#ed7953"
             ],
             [
              0.7777777777777778,
              "#fb9f3a"
             ],
             [
              0.8888888888888888,
              "#fdca26"
             ],
             [
              1,
              "#f0f921"
             ]
            ],
            "type": "surface"
           }
          ],
          "table": [
           {
            "cells": {
             "fill": {
              "color": "#EBF0F8"
             },
             "line": {
              "color": "white"
             }
            },
            "header": {
             "fill": {
              "color": "#C8D4E3"
             },
             "line": {
              "color": "white"
             }
            },
            "type": "table"
           }
          ]
         },
         "layout": {
          "annotationdefaults": {
           "arrowcolor": "#2a3f5f",
           "arrowhead": 0,
           "arrowwidth": 1
          },
          "autotypenumbers": "strict",
          "coloraxis": {
           "colorbar": {
            "outlinewidth": 0,
            "ticks": ""
           }
          },
          "colorscale": {
           "diverging": [
            [
             0,
             "#8e0152"
            ],
            [
             0.1,
             "#c51b7d"
            ],
            [
             0.2,
             "#de77ae"
            ],
            [
             0.3,
             "#f1b6da"
            ],
            [
             0.4,
             "#fde0ef"
            ],
            [
             0.5,
             "#f7f7f7"
            ],
            [
             0.6,
             "#e6f5d0"
            ],
            [
             0.7,
             "#b8e186"
            ],
            [
             0.8,
             "#7fbc41"
            ],
            [
             0.9,
             "#4d9221"
            ],
            [
             1,
             "#276419"
            ]
           ],
           "sequential": [
            [
             0,
             "#0d0887"
            ],
            [
             0.1111111111111111,
             "#46039f"
            ],
            [
             0.2222222222222222,
             "#7201a8"
            ],
            [
             0.3333333333333333,
             "#9c179e"
            ],
            [
             0.4444444444444444,
             "#bd3786"
            ],
            [
             0.5555555555555556,
             "#d8576b"
            ],
            [
             0.6666666666666666,
             "#ed7953"
            ],
            [
             0.7777777777777778,
             "#fb9f3a"
            ],
            [
             0.8888888888888888,
             "#fdca26"
            ],
            [
             1,
             "#f0f921"
            ]
           ],
           "sequentialminus": [
            [
             0,
             "#0d0887"
            ],
            [
             0.1111111111111111,
             "#46039f"
            ],
            [
             0.2222222222222222,
             "#7201a8"
            ],
            [
             0.3333333333333333,
             "#9c179e"
            ],
            [
             0.4444444444444444,
             "#bd3786"
            ],
            [
             0.5555555555555556,
             "#d8576b"
            ],
            [
             0.6666666666666666,
             "#ed7953"
            ],
            [
             0.7777777777777778,
             "#fb9f3a"
            ],
            [
             0.8888888888888888,
             "#fdca26"
            ],
            [
             1,
             "#f0f921"
            ]
           ]
          },
          "colorway": [
           "#636efa",
           "#EF553B",
           "#00cc96",
           "#ab63fa",
           "#FFA15A",
           "#19d3f3",
           "#FF6692",
           "#B6E880",
           "#FF97FF",
           "#FECB52"
          ],
          "font": {
           "color": "#2a3f5f"
          },
          "geo": {
           "bgcolor": "white",
           "lakecolor": "white",
           "landcolor": "#E5ECF6",
           "showlakes": true,
           "showland": true,
           "subunitcolor": "white"
          },
          "hoverlabel": {
           "align": "left"
          },
          "hovermode": "closest",
          "mapbox": {
           "style": "light"
          },
          "paper_bgcolor": "white",
          "plot_bgcolor": "#E5ECF6",
          "polar": {
           "angularaxis": {
            "gridcolor": "white",
            "linecolor": "white",
            "ticks": ""
           },
           "bgcolor": "#E5ECF6",
           "radialaxis": {
            "gridcolor": "white",
            "linecolor": "white",
            "ticks": ""
           }
          },
          "scene": {
           "xaxis": {
            "backgroundcolor": "#E5ECF6",
            "gridcolor": "white",
            "gridwidth": 2,
            "linecolor": "white",
            "showbackground": true,
            "ticks": "",
            "zerolinecolor": "white"
           },
           "yaxis": {
            "backgroundcolor": "#E5ECF6",
            "gridcolor": "white",
            "gridwidth": 2,
            "linecolor": "white",
            "showbackground": true,
            "ticks": "",
            "zerolinecolor": "white"
           },
           "zaxis": {
            "backgroundcolor": "#E5ECF6",
            "gridcolor": "white",
            "gridwidth": 2,
            "linecolor": "white",
            "showbackground": true,
            "ticks": "",
            "zerolinecolor": "white"
           }
          },
          "shapedefaults": {
           "line": {
            "color": "#2a3f5f"
           }
          },
          "ternary": {
           "aaxis": {
            "gridcolor": "white",
            "linecolor": "white",
            "ticks": ""
           },
           "baxis": {
            "gridcolor": "white",
            "linecolor": "white",
            "ticks": ""
           },
           "bgcolor": "#E5ECF6",
           "caxis": {
            "gridcolor": "white",
            "linecolor": "white",
            "ticks": ""
           }
          },
          "title": {
           "x": 0.05
          },
          "xaxis": {
           "automargin": true,
           "gridcolor": "white",
           "linecolor": "white",
           "ticks": "",
           "title": {
            "standoff": 15
           },
           "zerolinecolor": "white",
           "zerolinewidth": 2
          },
          "yaxis": {
           "automargin": true,
           "gridcolor": "white",
           "linecolor": "white",
           "ticks": "",
           "title": {
            "standoff": 15
           },
           "zerolinecolor": "white",
           "zerolinewidth": 2
          }
         }
        },
        "title": {
         "text": "Latent Space"
        }
       }
      }
     },
     "metadata": {},
     "output_type": "display_data"
    }
   ],
   "source": [
    "model.eval()\n",
    "latents = []\n",
    "\n",
    "with torch.no_grad():\n",
    "    for batch in loader:\n",
    "        x_batch = batch[0].to(DEVICE)\n",
    "        enc = model.encoder(x_batch)\n",
    "        enc_flat = enc.view(x_batch.size(0), -1)\n",
    "        mu = model.fc_mu(enc_flat)\n",
    "        latents.append(mu.cpu().numpy())\n",
    "        \n",
    "\n",
    "latents = np.concatenate(latents, axis=0)\n",
    "\n",
    "assert latents.shape[0] == len(labels)\n",
    "\n",
    "#pca = PCA(n_components=3)\n",
    "#z_pca = pca.fit_transform(latents)\n",
    "\n",
    "\n",
    "fig = go.Figure(data=[go.Scatter3d(\n",
    "    x=latents[:, 0],\n",
    "    y=latents[:, 1],\n",
    "    z=latents[:, 2],\n",
    "    mode='markers',\n",
    "    marker=dict(\n",
    "        size=4,\n",
    "        color=labels,\n",
    "        colorscale='viridis',\n",
    "        opacity=0.8,\n",
    "        colorbar=dict(title='Species')\n",
    "    )\n",
    ")])\n",
    "\n",
    "fig.update_layout(\n",
    "    scene=dict(\n",
    "        xaxis_title='PC1',\n",
    "        yaxis_title='PC2',\n",
    "        zaxis_title='PC3'\n",
    "    ),\n",
    "    title='Latent Space',\n",
    "    margin=dict(l=0, r=0, b=0, t=30)\n",
    ")\n",
    "\n",
    "fig.show()\n",
    "\n",
    "\n",
    "fig = go.Figure(data=[go.Scatter3d(\n",
    "    x=latents[:, 0][labels!=0],\n",
    "    y=latents[:, 1][labels!=0],\n",
    "    z=latents[:, 2][labels!=0],\n",
    "    mode='markers',\n",
    "    marker=dict(\n",
    "        size=4,\n",
    "        color=labels[labels!=0],\n",
    "        colorscale='viridis',\n",
    "        opacity=0.8,\n",
    "        colorbar=dict(title='Species')\n",
    "    )\n",
    ")])\n",
    "\n",
    "fig.update_layout(\n",
    "    scene=dict(\n",
    "        xaxis_title='PC1',\n",
    "        yaxis_title='PC2',\n",
    "        zaxis_title='PC3'\n",
    "    ),\n",
    "    title='Latent Space',\n",
    "    margin=dict(l=0, r=0, b=0, t=30)\n",
    ")\n",
    "\n",
    "fig.show()\n",
    "\n",
    "fig = go.Figure(data=[go.Scatter3d(\n",
    "    x=latents[:, 0][labels!=1],\n",
    "    y=latents[:, 1][labels!=1],\n",
    "    z=latents[:, 2][labels!=1],\n",
    "    mode='markers',\n",
    "    marker=dict(\n",
    "        size=4,\n",
    "        color=labels[labels!=1],\n",
    "        colorscale='viridis',\n",
    "        opacity=0.8,\n",
    "        colorbar=dict(title='Species')\n",
    "    )\n",
    ")])\n",
    "\n",
    "fig.update_layout(\n",
    "    scene=dict(\n",
    "        xaxis_title='PC1',\n",
    "        yaxis_title='PC2',\n",
    "        zaxis_title='PC3'\n",
    "    ),\n",
    "    title='Latent Space',\n",
    "    margin=dict(l=0, r=0, b=0, t=30)\n",
    ")\n",
    "\n",
    "fig.show()\n"
   ]
  },
  {
   "cell_type": "code",
   "execution_count": 184,
   "id": "cfdf9078",
   "metadata": {},
   "outputs": [
    {
     "data": {
      "image/png": "[encoded data removed]",
      "text/plain": [
       "<Figure size 800x600 with 1 Axes>"
      ]
     },
     "metadata": {},
     "output_type": "display_data"
    }
   ],
   "source": [
    "latent_dim = 3\n",
    "num_samples = windows.shape[0]\n",
    "z = torch.randn(num_samples, latent_dim).to(DEVICE)\n",
    "with torch.no_grad():\n",
    "    decoded = model.decoder(model.decoder_input(z)) #[num_samples, 1, 21]\n",
    "    decoded = decoded.squeeze(1) #[num_samples, 21]\n",
    "generated_unscaled = decoded * (max_val - min_val) + min_val\n",
    "amplitudes = generated_unscaled.max(dim=1).values.cpu().numpy()\n",
    "\n",
    "#generated_amplitudes = np.max(decoded, axis = 1)\n",
    "#print(generated_amplitudes)\n",
    "bins = np.logspace(np.log10(max(min(amplitudes), 1e-6)), np.log10(max(amplitudes)), 20)\n",
    "hist, bin_edges = np.histogram(amplitudes, bins=bins)\n",
    "bin_centers = (bin_edges[:-1] + bin_edges[1:]) / 2\n",
    "\n",
    "nonzero = hist > 0 & (bin_centers > 0)\n",
    "x = bin_centers[nonzero]\n",
    "y = hist[nonzero]\n",
    "\n",
    "log_x = np.log10(x)\n",
    "log_y = np.log10(y)\n",
    "slope, intercept, r_value, p_value, std_err = linregress(log_x, log_y)\n",
    "fit_y = 10**(slope * log_x + intercept)\n",
    "\n",
    "plt.figure(figsize=(8, 6))\n",
    "plt.loglog(x, y, '-ro', label='Amplitude')\n",
    "plt.loglog(x, fit_y, '-bx', label=f'Power law: {slope:.2f}')\n",
    "plt.xlabel('Amplitude')\n",
    "plt.ylabel('Frequency')\n",
    "plt.title('Distribution of Burst Amplitudes')\n",
    "plt.legend()\n",
    "plt.grid(True, which=\"both\", ls=\"--\")\n",
    "plt.tight_layout()\n",
    "#plt.savefig(os.path.join(f'{data['newdir'].item()}', \"ampdist\"))\n",
    "plt.show()\n",
    "\n"
   ]
  },
  {
   "cell_type": "code",
   "execution_count": 185,
   "id": "746e2591",
   "metadata": {},
   "outputs": [
    {
     "name": "stdout",
     "output_type": "stream",
     "text": [
      "[0.05338249 0.05173412 0.04859038 0.01045392 0.02531977 0.06962019\n",
      " 0.02754345 0.0330334  0.0424683  0.01460524 0.0191315  0.06351254\n",
      " 0.02224274 0.02310329 0.09223638 0.01370514 0.03237998 0.0460257\n",
      " 0.01434576 0.01300114 0.04992604 0.04220045 0.07832409 0.01218281\n",
      " 0.10703302 0.01387502 0.01997256 0.02555333 0.01069367 0.02981857\n",
      " 0.03638002 0.01889136 0.03166639 0.04847716 0.05601783 0.01584275\n",
      " 0.02404819 0.02453987 0.02552305 0.02833446 0.04492195 0.02234481\n",
      " 0.00753305 0.01377142 0.01953527 0.01246282 0.07097235 0.05041915\n",
      " 0.01310911 0.05603217 0.08626235 0.07127524 0.01548527 0.05014001\n",
      " 0.03584792 0.04851954 0.01596689 0.03877033 0.01535381 0.07084961\n",
      " 0.02454347 0.05299712 0.06196656 0.02375554 0.03655779 0.01892686\n",
      " 0.02877666 0.02733181 0.0082232  0.01940254 0.07133524 0.08414544\n",
      " 0.00913544 0.02334489 0.02320797 0.04350955 0.03836806 0.01278511\n",
      " 0.12935959 0.16250761 0.02839118 0.12259287 0.1130034  0.02105268\n",
      " 0.00868518 0.0101624  0.03101301 0.04629732 0.03259932 0.04020489\n",
      " 0.01270178 0.07219438 0.04865483 0.1134759  0.02624716 0.00887187\n",
      " 0.01526029 0.07398576 0.04382015 0.01000416 0.0222529  0.06233031\n",
      " 0.05232344 0.02791345 0.03662924 0.01580858 0.05189459 0.02322806\n",
      " 0.04704871 0.0301223  0.02474401 0.01532618 0.01011841 0.06749227\n",
      " 0.0642217  0.01795868 0.0515482  0.01044647 0.02612155 0.03552399\n",
      " 0.02057475 0.04229369 0.01568025 0.01369333 0.02805752 0.00984065\n",
      " 0.05404321 0.02651235 0.0193695  0.24770957 0.08306783 0.01231924\n",
      " 0.02899371 0.01828388 0.04246132 0.01704302 0.05535177 0.01843425\n",
      " 0.00912054 0.02125351 0.06411184 0.06760651 0.0117919  0.01696134\n",
      " 0.01101159 0.06550055 0.05844326 0.02381347 0.02177815 0.01616492\n",
      " 0.08741882 0.08725359 0.02685584 0.03464677 0.03209549 0.05361553\n",
      " 0.01753319 0.02884077 0.09095509 0.04402499 0.02596199 0.00876607\n",
      " 0.0935434  0.0273992  0.06639856 0.06501978 0.01627752 0.07223415\n",
      " 0.0226775  0.03025511 0.01026657 0.12564473 0.05718265 0.01384661\n",
      " 0.05018991 0.03136921 0.01105211 0.0110232  0.02637524 0.00849838\n",
      " 0.0445755  0.12000317 0.11454499 0.04001171 0.02217489 0.06396528\n",
      " 0.02671676 0.00994294 0.02290977 0.02184093 0.03969263 0.04695856\n",
      " 0.09561193 0.01687097 0.0576954  0.07078431 0.04067365 0.0708048\n",
      " 0.05253138 0.06065618 0.01632692 0.0407906  0.04658122 0.02604944\n",
      " 0.04255524 0.15637304 0.01526272 0.03452162 0.00900835 0.01484048\n",
      " 0.01288818 0.03187065 0.05195392 0.17545195 0.02456919 0.01402667\n",
      " 0.02779056 0.0227243  0.06006416 0.05386383 0.01758311 0.0455095\n",
      " 0.04691104 0.08335918 0.02872959 0.0359524  0.01296782 0.02994435\n",
      " 0.01439819 0.0563231  0.01984386 0.01884067 0.01944338 0.01425339\n",
      " 0.0261809  0.04232097 0.05306862 0.0231332  0.03877207 0.11195154\n",
      " 0.02090364 0.04704312 0.14470704 0.05795597 0.01855344 0.01443102\n",
      " 0.01297715 0.0828714  0.01343361 0.04161695 0.03621759 0.04646162\n",
      " 0.09478864 0.02003184 0.01769935 0.03227501 0.02687322 0.02599961\n",
      " 0.01087799 0.01092913 0.04416305 0.11005861 0.0973085  0.03024266\n",
      " 0.05420092 0.01916767 0.05429781 0.00990213 0.03249502 0.04203304\n",
      " 0.0401286  0.0101872  0.01754084 0.05665233 0.02196905 0.03438371\n",
      " 0.01939755 0.1467693  0.04976847 0.01456357 0.01394933 0.04221431\n",
      " 0.05965451 0.0100001  0.01057968 0.03833421 0.02080947 0.02299218\n",
      " 0.02751622 0.14478059 0.04532846 0.03426987 0.01777185 0.01085496\n",
      " 0.0433339  0.00872728 0.07051349 0.04664585 0.03020722 0.04267065\n",
      " 0.05642007 0.01100613 0.0497703  0.05292623 0.02109335 0.05532872\n",
      " 0.01285187 0.01407657 0.03217291 0.01495424 0.02192539 0.0722807\n",
      " 0.01120029 0.01571042 0.0419065  0.07213967 0.02068023 0.09788779\n",
      " 0.0248504  0.09364802 0.08338878 0.02423527 0.02175938 0.01429031\n",
      " 0.0354709  0.05004664 0.04609617 0.03644651 0.01196948 0.12813507\n",
      " 0.01883527 0.02771975 0.02045549 0.01948477 0.01916538 0.01698154\n",
      " 0.02781412 0.11352343 0.00708711 0.0186408  0.03445658 0.03032567\n",
      " 0.02890133 0.01484243 0.06255021 0.03201646 0.05967075 0.04794843\n",
      " 0.01447948 0.01324929 0.04959609 0.0146904  0.05417535 0.03694459\n",
      " 0.02793345 0.01927557 0.02945226 0.01348804 0.03170636 0.01237398\n",
      " 0.01701557 0.03578601 0.04258022 0.09831631 0.0090729  0.03473718\n",
      " 0.0090596  0.01449921 0.08370885 0.01063138 0.06152838 0.03911808\n",
      " 0.05860528 0.02187983 0.01755909 0.01422222 0.03104884 0.0435176\n",
      " 0.00851241 0.09763803 0.03486025 0.06025546 0.02027482 0.06828737\n",
      " 0.01211109 0.02115079 0.01554067 0.08056506 0.03201956 0.1285883\n",
      " 0.0189224  0.0696502  0.06135707 0.02106674 0.10841023 0.01887712\n",
      " 0.01597758 0.01212957 0.06946602 0.03893323 0.0089326  0.02531237\n",
      " 0.0095514  0.01913751 0.03172175 0.01469317 0.03410416 0.03765051\n",
      " 0.03722688 0.1064529  0.02291214 0.10484394 0.06149024 0.01640053\n",
      " 0.01772579 0.0500518  0.0187113  0.03434812 0.0117507  0.05495819\n",
      " 0.08265354 0.05610662 0.00899842 0.01444457 0.06231005 0.12749778\n",
      " 0.0108835  0.03933964 0.02118632 0.05862805 0.01413228 0.10182203\n",
      " 0.07697444 0.01291911 0.01301121 0.03252611 0.0349863  0.02666226\n",
      " 0.01255297 0.03456793 0.01287998 0.10948998 0.09711956 0.11311658\n",
      " 0.05012631 0.02775379 0.01461111 0.10583612 0.02706332 0.01719771\n",
      " 0.0121479  0.01218793 0.01624695 0.02504401 0.02616098 0.03088134\n",
      " 0.01244033 0.02381376 0.03258315 0.07291613 0.04311486 0.03206594\n",
      " 0.00824052 0.02357143 0.05047178 0.02258383 0.01818391 0.07730392\n",
      " 0.03370254 0.01666932 0.01728953 0.04025225 0.02775027 0.01199831\n",
      " 0.01324137 0.05605572 0.0457317  0.02818357 0.0281484  0.01791859\n",
      " 0.05288187 0.04543432 0.01659788 0.04750441 0.06010199 0.04476416\n",
      " 0.04312889 0.0141155  0.05525551 0.03631201 0.09350825 0.01029764\n",
      " 0.00709644 0.01577677 0.12331325 0.02932714 0.06601309 0.02971514\n",
      " 0.02607436 0.05214994 0.02118227 0.01382969 0.03556592 0.06653491\n",
      " 0.02205371 0.05301375 0.13299103 0.01221058 0.01068202 0.07563156\n",
      " 0.02876026 0.00901343 0.05580746 0.02217068 0.0661185  0.01601449\n",
      " 0.01606208 0.0140417  0.02409216 0.02542289 0.01939246 0.07016064\n",
      " 0.0438727  0.0462795  0.01488527 0.09808761 0.14771964 0.05438804\n",
      " 0.14725748 0.06467745 0.0094646  0.06442551 0.05428637 0.0216988\n",
      " 0.03589731 0.03951164 0.01642568 0.06793931 0.08225203 0.02139162\n",
      " 0.01287281 0.01984245 0.02135571 0.08528373 0.05304612 0.01916191\n",
      " 0.02010283 0.06165921 0.01627312 0.04285943 0.06681056 0.01235093\n",
      " 0.04816081 0.03566637 0.01873467 0.01879995 0.03707506 0.04488645\n",
      " 0.06302374 0.01875465 0.10885958 0.04659058 0.02209692 0.03298705\n",
      " 0.04625725 0.02732813 0.02524008 0.03012919 0.01144525 0.0362763\n",
      " 0.03766674 0.02017663 0.09955742 0.00955102 0.04677796 0.03939179\n",
      " 0.08691155 0.05229351 0.02091987 0.02265292 0.01092659 0.01022405\n",
      " 0.04841977 0.01470205 0.02893352 0.04764656 0.03641526 0.01496529\n",
      " 0.05215504 0.03325724 0.03689568 0.03185731 0.08936492 0.02546039\n",
      " 0.02655335 0.03008511 0.06719426 0.0261367  0.05153529 0.05208346\n",
      " 0.01821234 0.0261712  0.02897794 0.05923642 0.01871371 0.00947607\n",
      " 0.02139417 0.03028614 0.03803841 0.01833339 0.04936874 0.04089496\n",
      " 0.00953176 0.03527171 0.01727262 0.039731   0.01771963 0.01361897\n",
      " 0.01171808 0.12626408 0.02809776 0.03057345 0.0282004  0.01101322\n",
      " 0.17602417 0.02082887 0.04688736 0.02175177 0.05362723 0.04107204\n",
      " 0.0837874  0.04226519 0.04098666 0.05007897 0.02236018 0.02473611\n",
      " 0.01064284 0.0467953  0.04095634 0.03625832 0.01156182 0.01613925\n",
      " 0.00893486 0.0550817  0.05019915 0.03922651 0.06309312 0.03847851\n",
      " 0.0166951  0.00799895 0.03693372 0.01644088 0.05832449 0.05466962\n",
      " 0.01009192 0.02573878 0.01256267 0.01266971 0.01452038 0.05045409\n",
      " 0.0093742  0.03117905 0.02251234 0.07241914 0.00908257 0.04179651\n",
      " 0.08548289 0.10455895 0.06175338 0.03854897 0.08116227 0.03989143\n",
      " 0.01496149 0.01449291 0.06547534 0.03420949 0.03109527 0.00969533\n",
      " 0.04558194 0.02651553 0.01292523 0.0220912  0.02887665 0.13751724\n",
      " 0.02142999 0.02576046 0.05373401 0.07180829 0.02109674 0.04613448\n",
      " 0.12934856 0.06098278 0.09727346 0.02573868 0.02461166 0.06582751\n",
      " 0.04502496 0.01921011 0.02242093 0.06116023 0.02543862 0.02767921\n",
      " 0.11880989 0.03419822 0.03316057 0.01342815 0.04194916 0.07410112\n",
      " 0.01665878 0.01430822 0.0127853  0.02787366 0.08898286 0.04355055\n",
      " 0.07145459 0.1672163  0.0458447  0.05935925 0.0229418  0.02196919\n",
      " 0.01305145 0.02379077 0.01981822 0.01013606 0.02441693 0.01228263\n",
      " 0.02134556 0.01393168 0.0113047  0.06293123 0.05236104 0.01953752\n",
      " 0.01124803 0.08199894 0.03513014 0.02005538 0.03947729 0.02186466\n",
      " 0.01441855 0.01712182 0.01236691 0.05019196 0.01128082 0.02347067\n",
      " 0.00956277 0.02377168 0.03721699 0.16428742 0.07259281 0.05450714\n",
      " 0.01277531 0.02741791 0.05546253 0.11434788 0.03129619 0.03125183\n",
      " 0.01770192 0.02348848 0.07827745 0.06506597 0.02818115 0.01086837\n",
      " 0.00738139 0.02796297 0.08266046 0.06100344 0.01661523 0.0134079\n",
      " 0.04969263 0.03583572 0.11580557 0.10672887 0.042311   0.03506013\n",
      " 0.01955336 0.02874089 0.01296688 0.05784165 0.02732726 0.01584856\n",
      " 0.04271131 0.01282049 0.00867339 0.01764333 0.04531701 0.01431549\n",
      " 0.03028798 0.01859849 0.01267888 0.0179872  0.09153274 0.01810552\n",
      " 0.01172989 0.01217191 0.03647833 0.01589077 0.02899944 0.11084773\n",
      " 0.0122328  0.08173125 0.02001316 0.01251302 0.02016654 0.03154374\n",
      " 0.02514617 0.03380409 0.01941283 0.02960155 0.01152641 0.06070452\n",
      " 0.01670352 0.02017254 0.01405471 0.01088971 0.09556431 0.0290684\n",
      " 0.05764966 0.01746035 0.01545294 0.02608107 0.0206964  0.13482775\n",
      " 0.05952812 0.00818048 0.04292717 0.01873581 0.00894509 0.05804215\n",
      " 0.04945355 0.02481225 0.01399267 0.01180405 0.04937895 0.04494408\n",
      " 0.02085228 0.02281778 0.0188936  0.02713619 0.04156657 0.06387486\n",
      " 0.02413888 0.00838684 0.04410506 0.07467186 0.08856086 0.11916972\n",
      " 0.12687097 0.05772759 0.03555551 0.01370942 0.02430777 0.01852829\n",
      " 0.01037958 0.06242958 0.02296025 0.02839343 0.04532893 0.04696598\n",
      " 0.02871251 0.03201364 0.08608449 0.04719163 0.05295215 0.01968037\n",
      " 0.02276767 0.04431166 0.03117975 0.01593139 0.05868718 0.06816391\n",
      " 0.00974632 0.03240599 0.03350662 0.05605135 0.01444892 0.01073752\n",
      " 0.01681191 0.0118103  0.05097537 0.02982908 0.02973325 0.02281032\n",
      " 0.05651027 0.00813156 0.02499045 0.01576171 0.02406318 0.04742811\n",
      " 0.01199656 0.14187081 0.03194424 0.04443233 0.03086671 0.03766695\n",
      " 0.01699298 0.05919469 0.01793865 0.05240718 0.16517226 0.0111516\n",
      " 0.05477386 0.03046041 0.02989161 0.0203623  0.03272636 0.14104517\n",
      " 0.04953236 0.06253007 0.01131802 0.08410992 0.09156753 0.01939806\n",
      " 0.01206239 0.01365919 0.03112704 0.0213301  0.01635608 0.07865463\n",
      " 0.04183018 0.02525645 0.01930921 0.03993606 0.04056311 0.00998098\n",
      " 0.01407014 0.03627637 0.07195307 0.07541903 0.0375771  0.01187624\n",
      " 0.04756841 0.01015802 0.0154836  0.01265741 0.03951525 0.05283321\n",
      " 0.04621046 0.01255581 0.03471037 0.12373451 0.05355872 0.00828469\n",
      " 0.00778721 0.01110107 0.04850322 0.05610239 0.02821581 0.02071411\n",
      " 0.11864737 0.04632369 0.01157178 0.06571082 0.01785892 0.0487654\n",
      " 0.0264444  0.0142448  0.01641422 0.02512723 0.05512619 0.02276242\n",
      " 0.01397762 0.06651172 0.01170093 0.01961013 0.05155542 0.02965538\n",
      " 0.01985985 0.01925188 0.02358329 0.01405203 0.03301077 0.09418807\n",
      " 0.01200975 0.01280449 0.04207255 0.01544327 0.03608267 0.0386538\n",
      " 0.01898277 0.03961407 0.05812525 0.05824032 0.01304066 0.02560094\n",
      " 0.02071715 0.0445951  0.04293337 0.01127799 0.06725606 0.04816863\n",
      " 0.03641484 0.03879534 0.01162775 0.01576304 0.0342477  0.03360543\n",
      " 0.05893341 0.02681356 0.01346426 0.06637298]\n"
     ]
    }
   ],
   "source": [
    "model.eval()\n",
    "with torch.no_grad():\n",
    "    z_sample = torch.randn(1000, latent_dim).to(DEVICE)\n",
    "    recon = model.decoder(model.decoder_input(z_sample)).squeeze(1).cpu().numpy()\n",
    "    print(np.std(recon, axis=1))  # should not be all zero"
   ]
  },
  {
   "cell_type": "code",
   "execution_count": 163,
   "id": "92997ee5",
   "metadata": {},
   "outputs": [
    {
     "name": "stdout",
     "output_type": "stream",
     "text": [
      "Latent mean: [-0.03487613 -0.03885567 -0.08877257]\n",
      "Latent std: [0.01039921 0.19640358 0.27281585]\n"
     ]
    }
   ],
   "source": [
    "model.eval()\n",
    "latents = []\n",
    "with torch.no_grad():\n",
    "    for batch in loader:\n",
    "        x_batch = batch[0].to(DEVICE)\n",
    "        enc = model.encoder(x_batch)\n",
    "        enc_flat = enc.view(x_batch.size(0), -1)\n",
    "        mu = model.fc_mu(enc_flat)\n",
    "        latents.append(mu.cpu().numpy())\n",
    "\n",
    "latents = np.vstack(latents)\n",
    "print(\"Latent mean:\", np.mean(latents, axis=0))\n",
    "print(\"Latent std:\", np.std(latents, axis=0))\n"
   ]
  },
  {
   "cell_type": "code",
   "execution_count": 164,
   "id": "18cb3091",
   "metadata": {},
   "outputs": [
    {
     "name": "stdout",
     "output_type": "stream",
     "text": [
      "tensor([-0.0327,  0.0553,  0.0422])\n",
      "tensor([0.0005, 0.0182, 0.0260])\n"
     ]
    }
   ],
   "source": [
    "print(torch.mean(mu, dim=0))\n",
    "print(torch.std(mu, dim=0))"
   ]
  },
  {
   "cell_type": "code",
   "execution_count": 186,
   "id": "b7feea80",
   "metadata": {},
   "outputs": [
    {
     "data": {
      "text/plain": [
       "<Axes: >"
      ]
     },
     "execution_count": 186,
     "metadata": {},
     "output_type": "execute_result"
    },
    {
     "data": {
      "image/png": "[encoded data removed]",
      "text/plain": [
       "<Figure size 640x480 with 2 Axes>"
      ]
     },
     "metadata": {},
     "output_type": "display_data"
    }
   ],
   "source": [
    "import seaborn as sns\n",
    "sns.heatmap(mu.cpu().detach().numpy(), cmap=\"viridis\")\n"
   ]
  },
  {
   "cell_type": "code",
   "execution_count": null,
   "id": "d68d72e8",
   "metadata": {},
   "outputs": [],
   "source": []
  }
 ],
 "metadata": {
  "kernelspec": {
   "display_name": "Python 3",
   "language": "python",
   "name": "python3"
  },
  "language_info": {
   "codemirror_mode": {
    "name": "ipython",
    "version": 3
   },
   "file_extension": ".py",
   "mimetype": "text/x-python",
   "name": "python",
   "nbconvert_exporter": "python",
   "pygments_lexer": "ipython3",
   "version": "3.13.4"
  }
 },
 "nbformat": 4,
 "nbformat_minor": 5
}
