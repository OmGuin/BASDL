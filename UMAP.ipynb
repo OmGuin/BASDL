{
 "cells": [
  {
   "cell_type": "markdown",
   "id": "96a77d61",
   "metadata": {},
   "source": [
    "# UMAP Implementation on Burst features and windows"
   ]
  },
  {
   "cell_type": "code",
   "execution_count": 1,
   "id": "e4a0a0e2",
   "metadata": {},
   "outputs": [],
   "source": [
    "from ipyfilechooser import FileChooser\n",
    "import numpy as np\n",
    "import matplotlib.pyplot as plt\n",
    "import plotly.express as px\n",
    "import pandas as pd\n",
    "from sklearn.preprocessing import StandardScaler\n",
    "import umap"
   ]
  },
  {
   "cell_type": "code",
   "execution_count": null,
   "id": "b7d5fc0a",
   "metadata": {},
   "outputs": [
    {
     "data": {
      "application/vnd.jupyter.widget-view+json": {
       "model_id": "94f74c216e244e31a3ecb55b833e4e3b",
       "version_major": 2,
       "version_minor": 0
      },
      "text/plain": [
       "FileChooser(path='C:\\Users\\omgui\\Desktop\\BASUS', filename='', title='<b>Select preprocessing parameter file</b…"
      ]
     },
     "metadata": {},
     "output_type": "display_data"
    }
   ],
   "source": [
    "fc = FileChooser('./')\n",
    "fc.title = \"<b>Select preprocessing parameter file</b>\"\n",
    "fc.filter_pattern = ['*.npz']\n",
    "display(fc)"
   ]
  },
  {
   "cell_type": "code",
   "execution_count": 15,
   "id": "2b0c6f13",
   "metadata": {},
   "outputs": [],
   "source": [
    "path = r'C:\\Users\\omgui\\Desktop\\BASUS\\sim_data\\TentSim_v1p9p3_23Jun25-114549\\Pre_v1p1_23Jun25-121748\\Pre_v1p123Jun25-114549-preparams.par23Jun25-121748.npz'"
   ]
  },
  {
   "cell_type": "code",
   "execution_count": 16,
   "id": "af2a237b",
   "metadata": {},
   "outputs": [
    {
     "data": {
      "text/plain": [
       "(796, 13)"
      ]
     },
     "execution_count": 16,
     "metadata": {},
     "output_type": "execute_result"
    }
   ],
   "source": [
    "data = np.load(path, allow_pickle=True)\n",
    "windows = np.array(data['handlesA'].item()['burst_windows'])\n",
    "labels = data['handlesA'].item()['species']\n",
    "assert windows.shape[0] == labels.shape[0]\n",
    "windows.shape"
   ]
  },
  {
   "cell_type": "code",
   "execution_count": 17,
   "id": "e2a07c06",
   "metadata": {},
   "outputs": [],
   "source": [
    "amplitudes = data['handlesA'].item()['amplitude']\n",
    "widths = data['handlesA'].item()['width']\n",
    "rises = data['handlesA'].item()['rise']\n",
    "falls = data['handlesA'].item()['fall']\n",
    "skews = data['handlesA'].item()['skew']\n",
    "kurts = data['handlesA'].item()['kurt']\n",
    "ibis = data['handlesA'].item()['ibis']\n",
    "assert amplitudes.shape == widths.shape == rises.shape == falls.shape == skews.shape == kurts.shape == labels.shape\n",
    "assert (labels == -1).sum() == 0\n",
    "df = pd.DataFrame({\n",
    "    'Amplitude':amplitudes,\n",
    "    'Width':widths,\n",
    "    'IBIs':ibis,\n",
    "    'Labels':labels,\n",
    "    #'Area':areas,\n",
    "    'RiseTime':rises,\n",
    "    'FallTime':falls,\n",
    "    'Skewness':skews,\n",
    "    'Kurtosis':kurts,\n",
    "})"
   ]
  },
  {
   "cell_type": "code",
   "execution_count": 18,
   "id": "96c8f8db",
   "metadata": {},
   "outputs": [
    {
     "data": {
      "text/plain": [
       "array([[ 3.14202434,  0.        ,  1.14202485, ...,  0.14202716,\n",
       "         0.        ,  2.14202779],\n",
       "       [ 2.14219996,  0.        ,  9.14220289, ...,  5.14221528,\n",
       "         3.14221686,  0.        ],\n",
       "       [ 0.        ,  0.        ,  2.14252383, ...,  0.        ,\n",
       "         0.14254502,  5.1425474 ],\n",
       "       ...,\n",
       "       [ 2.07750513,  6.07751455,  4.07752395, ..., 12.0775988 ,\n",
       "         2.07760811,  0.        ],\n",
       "       [ 2.07833467,  1.07834303,  1.07835139, ...,  4.07841792,\n",
       "         0.        ,  0.0784344 ],\n",
       "       [ 1.08100592,  2.08100626,  0.08100665, ...,  0.08100875,\n",
       "        12.08100894, 18.08100911]], shape=(796, 13))"
      ]
     },
     "execution_count": 18,
     "metadata": {},
     "output_type": "execute_result"
    }
   ],
   "source": [
    "windows = data['handlesA'].item()['burst_windows']\n",
    "windows"
   ]
  },
  {
   "cell_type": "code",
   "execution_count": 19,
   "id": "696299b2",
   "metadata": {},
   "outputs": [],
   "source": [
    "features = df.drop(columns=['Labels'])\n",
    "scaler = StandardScaler()\n",
    "X_scaled = scaler.fit_transform(features)"
   ]
  },
  {
   "cell_type": "code",
   "execution_count": 36,
   "id": "15bfb125",
   "metadata": {},
   "outputs": [
    {
     "name": "stderr",
     "output_type": "stream",
     "text": [
      "c:\\Users\\omgui\\AppData\\Local\\Programs\\Python\\Python313\\Lib\\site-packages\\sklearn\\utils\\deprecation.py:151: FutureWarning:\n",
      "\n",
      "'force_all_finite' was renamed to 'ensure_all_finite' in 1.6 and will be removed in 1.8.\n",
      "\n",
      "c:\\Users\\omgui\\AppData\\Local\\Programs\\Python\\Python313\\Lib\\site-packages\\umap\\umap_.py:1952: UserWarning:\n",
      "\n",
      "n_jobs value 1 overridden to 1 by setting random_state. Use no seed for parallelism.\n",
      "\n"
     ]
    }
   ],
   "source": [
    "reducer = umap.UMAP(n_components=3, random_state=42, n_neighbors=100, min_dist=0.0001)\n",
    "#embedding = reducer.fit_transform(X_scaled)\n",
    "embedding = reducer.fit_transform(windows)"
   ]
  },
  {
   "cell_type": "code",
   "execution_count": 37,
   "id": "e397fbbe",
   "metadata": {},
   "outputs": [
    {
     "data": {
      "application/vnd.plotly.v1+json": {
       "config": {
        "plotlyServerURL": "https://plot.ly"
       },
       "data": [
        {
         "hovertemplate": "UMAP1=%{x}<br>UMAP2=%{y}<br>UMAP3=%{z}<br>Burst Type=%{marker.color}<extra></extra>",
         "legendgroup": "",
         "marker": {
          "color": {
           "bdata": "AAAAAAAA8D8AAAAAAADwPwAAAAAAAAAAAAAAAAAAAEAAAAAAAAAAAAAAAAAAAAAAAAAAAAAAAAAAAAAAAAAAAAAAAAAAAAAAAAAAAAAAAAAAAAAAAAAAAAAAAAAAAAAAAAAAAAAAAAAAAAAAAAAAAAAAAAAAAAAAAAAAAAAAAAAAAAAAAAAAAAAAAAAAAABAAAAAAAAAAAAAAAAAAAAAAAAAAAAAAAAAAAAAAAAAAAAAAAAAAAAAQAAAAAAAAAAAAAAAAAAAAEAAAAAAAAAAAAAAAAAAAAAAAAAAAAAAAAAAAAAAAAAAAAAAAAAAAAAAAAAAAAAAAAAAAAAAAAAAQAAAAAAAAPA/AAAAAAAA8D8AAAAAAAAAAAAAAAAAAAAAAAAAAAAAAAAAAAAAAAAAAAAAAAAAAABAAAAAAAAAAAAAAAAAAADwPwAAAAAAAAAAAAAAAAAAAAAAAAAAAADwPwAAAAAAAPA/AAAAAAAA8D8AAAAAAAAAAAAAAAAAAAAAAAAAAAAA8D8AAAAAAAAAAAAAAAAAAPA/AAAAAAAAAEAAAAAAAAAAAAAAAAAAAPA/AAAAAAAAAAAAAAAAAAAAAAAAAAAAAAAAAAAAAAAAAEAAAAAAAAAAAAAAAAAAAPA/AAAAAAAA8D8AAAAAAAAAAAAAAAAAAABAAAAAAAAAAEAAAAAAAAAAAAAAAAAAAAAAAAAAAAAAAAAAAAAAAADwPwAAAAAAAABAAAAAAAAAAAAAAAAAAAAAAAAAAAAAAAAAAAAAAAAA8D8AAAAAAAAAQAAAAAAAAABAAAAAAAAAAEAAAAAAAAAAQAAAAAAAAPA/AAAAAAAAAAAAAAAAAAAAAAAAAAAAAAAAAAAAAAAAAEAAAAAAAADwPwAAAAAAAAAAAAAAAAAAAAAAAAAAAADwPwAAAAAAAAAAAAAAAAAA8D8AAAAAAAAAAAAAAAAAAABAAAAAAAAAAAAAAAAAAAAAAAAAAAAAAABAAAAAAAAA8D8AAAAAAAAAAAAAAAAAAPA/AAAAAAAAAEAAAAAAAAAAAAAAAAAAAABAAAAAAAAAAAAAAAAAAADwPwAAAAAAAPA/AAAAAAAAAAAAAAAAAADwPwAAAAAAAABAAAAAAAAAAAAAAAAAAAAAAAAAAAAAAPA/AAAAAAAAAAAAAAAAAAAAAAAAAAAAAABAAAAAAAAA8D8AAAAAAAAAAAAAAAAAAAAAAAAAAAAAAAAAAAAAAAAAAAAAAAAAAPA/AAAAAAAAAAAAAAAAAAAAAAAAAAAAAPA/AAAAAAAAAAAAAAAAAAAAQAAAAAAAAPA/AAAAAAAAAAAAAAAAAAAAAAAAAAAAAPA/AAAAAAAAAAAAAAAAAADwPwAAAAAAAAAAAAAAAAAAAAAAAAAAAADwPwAAAAAAAABAAAAAAAAAAAAAAAAAAAAAQAAAAAAAAABAAAAAAAAAAAAAAAAAAAAAAAAAAAAAAAAAAAAAAAAA8D8AAAAAAAAAQAAAAAAAAAAAAAAAAAAAAAAAAAAAAAAAQAAAAAAAAAAAAAAAAAAAAAAAAAAAAAAAAAAAAAAAAAAAAAAAAAAAAAAAAAAAAAAAAAAAAAAAAABAAAAAAAAAAEAAAAAAAAAAAAAAAAAAAAAAAAAAAAAAAEAAAAAAAADwPwAAAAAAAPA/AAAAAAAAAAAAAAAAAADwPwAAAAAAAPA/AAAAAAAAAEAAAAAAAAAAQAAAAAAAAABAAAAAAAAAAAAAAAAAAAAAAAAAAAAAAABAAAAAAAAAAEAAAAAAAAAAQAAAAAAAAAAAAAAAAAAAAAAAAAAAAADwPwAAAAAAAAAAAAAAAAAAAAAAAAAAAAAAAAAAAAAAAPA/AAAAAAAA8D8AAAAAAAAAAAAAAAAAAAAAAAAAAAAA8D8AAAAAAAAAAAAAAAAAAAAAAAAAAAAAAAAAAAAAAAAAAAAAAAAAAAAAAAAAAAAAAEAAAAAAAAAAQAAAAAAAAAAAAAAAAAAA8D8AAAAAAAAAQAAAAAAAAAAAAAAAAAAAAAAAAAAAAAAAAAAAAAAAAABAAAAAAAAA8D8AAAAAAADwPwAAAAAAAPA/AAAAAAAAAAAAAAAAAAAAQAAAAAAAAPA/AAAAAAAAAAAAAAAAAADwPwAAAAAAAAAAAAAAAAAAAAAAAAAAAAAAAAAAAAAAAAAAAAAAAAAA8D8AAAAAAAAAQAAAAAAAAAAAAAAAAAAAAEAAAAAAAAAAAAAAAAAAAPA/AAAAAAAAAEAAAAAAAAAAAAAAAAAAAABAAAAAAAAAAEAAAAAAAADwPwAAAAAAAAAAAAAAAAAAAAAAAAAAAAAAAAAAAAAAAPA/AAAAAAAAAAAAAAAAAAAAAAAAAAAAAAAAAAAAAAAAAAAAAAAAAAAAAAAAAAAAAAAAAAAAAAAA8D8AAAAAAAAAAAAAAAAAAAAAAAAAAAAA8D8AAAAAAADwPwAAAAAAAAAAAAAAAAAA8D8AAAAAAAAAAAAAAAAAAAAAAAAAAAAA8D8AAAAAAAAAAAAAAAAAAPA/AAAAAAAA8D8AAAAAAAAAAAAAAAAAAAAAAAAAAAAAAAAAAAAAAADwPwAAAAAAAAAAAAAAAAAAAAAAAAAAAAAAAAAAAAAAAAAAAAAAAAAAAAAAAAAAAAAAQAAAAAAAAABAAAAAAAAAAAAAAAAAAAAAAAAAAAAAAPA/AAAAAAAAAAAAAAAAAAAAAAAAAAAAAPA/AAAAAAAA8D8AAAAAAAAAAAAAAAAAAAAAAAAAAAAA8D8AAAAAAAAAQAAAAAAAAPA/AAAAAAAAAEAAAAAAAAAAAAAAAAAAAABAAAAAAAAAAAAAAAAAAAAAQAAAAAAAAPA/AAAAAAAAAAAAAAAAAADwPwAAAAAAAAAAAAAAAAAAAAAAAAAAAAAAAAAAAAAAAAAAAAAAAAAA8D8AAAAAAAAAAAAAAAAAAABAAAAAAAAAAAAAAAAAAADwPwAAAAAAAAAAAAAAAAAAAEAAAAAAAAAAQAAAAAAAAAAAAAAAAAAAAAAAAAAAAAAAAAAAAAAAAPA/AAAAAAAAAAAAAAAAAADwPwAAAAAAAABAAAAAAAAAAAAAAAAAAAAAAAAAAAAAAAAAAAAAAAAAAAAAAAAAAAAAAAAAAAAAAAAAAAAAAAAAAAAAAAAAAAAAAAAAAAAAAPA/AAAAAAAAAAAAAAAAAAAAAAAAAAAAAAAAAAAAAAAAAAAAAAAAAAAAAAAAAAAAAPA/AAAAAAAA8D8AAAAAAAAAAAAAAAAAAPA/AAAAAAAAAAAAAAAAAAAAAAAAAAAAAPA/AAAAAAAAAAAAAAAAAAAAAAAAAAAAAAAAAAAAAAAAAAAAAAAAAAAAAAAAAAAAAAAAAAAAAAAAAAAAAAAAAAAAQAAAAAAAAAAAAAAAAAAA8D8AAAAAAAAAAAAAAAAAAAAAAAAAAAAAAAAAAAAAAAAAAAAAAAAAAPA/AAAAAAAAAAAAAAAAAADwPwAAAAAAAAAAAAAAAAAAAAAAAAAAAADwPwAAAAAAAABAAAAAAAAAAAAAAAAAAAAAAAAAAAAAAAAAAAAAAAAA8D8AAAAAAAAAAAAAAAAAAPA/AAAAAAAAAAAAAAAAAAAAAAAAAAAAAABAAAAAAAAAAEAAAAAAAAAAAAAAAAAAAAAAAAAAAAAAAAAAAAAAAAAAAAAAAAAAAAAAAAAAAAAAAEAAAAAAAADwPwAAAAAAAAAAAAAAAAAAAAAAAAAAAAAAQAAAAAAAAPA/AAAAAAAA8D8AAAAAAAAAAAAAAAAAAPA/AAAAAAAAAEAAAAAAAAAAAAAAAAAAAAAAAAAAAAAA8D8AAAAAAAAAAAAAAAAAAAAAAAAAAAAAAAAAAAAAAADwPwAAAAAAAPA/AAAAAAAAAAAAAAAAAAAAAAAAAAAAAAAAAAAAAAAAAAAAAAAAAAAAAAAAAAAAAAAAAAAAAAAAAAAAAAAAAAAAQAAAAAAAAPA/AAAAAAAA8D8AAAAAAADwPwAAAAAAAABAAAAAAAAA8D8AAAAAAAAAAAAAAAAAAABAAAAAAAAA8D8AAAAAAAAAAAAAAAAAAAAAAAAAAAAAAAAAAAAAAAAAAAAAAAAAAABAAAAAAAAAAEAAAAAAAAAAQAAAAAAAAAAAAAAAAAAAAAAAAAAAAAAAAAAAAAAAAABAAAAAAAAAAEAAAAAAAADwPwAAAAAAAAAAAAAAAAAA8D8AAAAAAAAAAAAAAAAAAPA/AAAAAAAA8D8AAAAAAADwPwAAAAAAAPA/AAAAAAAAAAAAAAAAAAAAQAAAAAAAAAAAAAAAAAAAAAAAAAAAAAAAAAAAAAAAAABAAAAAAAAAAEAAAAAAAAAAQAAAAAAAAPA/AAAAAAAAAEAAAAAAAAAAAAAAAAAAAAAAAAAAAAAAAAAAAAAAAAAAAAAAAAAAAAAAAAAAAAAAAAAAAAAAAAAAAAAAAAAAAABAAAAAAAAA8D8AAAAAAAAAQAAAAAAAAAAAAAAAAAAAAAAAAAAAAADwPwAAAAAAAABAAAAAAAAAAAAAAAAAAAAAQAAAAAAAAABAAAAAAAAAAEAAAAAAAAAAAAAAAAAAAPA/AAAAAAAAAAAAAAAAAAAAAAAAAAAAAAAAAAAAAAAA8D8AAAAAAAAAQAAAAAAAAAAAAAAAAAAAAAAAAAAAAAAAQAAAAAAAAPA/AAAAAAAAAAAAAAAAAAAAQAAAAAAAAAAAAAAAAAAAAAAAAAAAAAAAAAAAAAAAAAAAAAAAAAAA8D8AAAAAAAAAAAAAAAAAAAAAAAAAAAAAAAAAAAAAAAAAAAAAAAAAAAAAAAAAAAAAAAAAAAAAAAAAAAAAAAAAAAAAAAAAAAAAAAAAAAAAAAAAAAAAAAAAAAAAAAAAAAAAAAAAAAAAAAAAQAAAAAAAAAAAAAAAAAAAAAAAAAAAAAAAQAAAAAAAAABAAAAAAAAAAAAAAAAAAADwPwAAAAAAAPA/AAAAAAAAAAAAAAAAAAAAAAAAAAAAAAAAAAAAAAAAAAAAAAAAAAAAQAAAAAAAAABAAAAAAAAAAAAAAAAAAAAAAAAAAAAAAPA/AAAAAAAAAAAAAAAAAAAAAAAAAAAAAAAAAAAAAAAAAAAAAAAAAAAAAAAAAAAAAAAAAAAAAAAAAEAAAAAAAADwPwAAAAAAAAAAAAAAAAAAAAAAAAAAAAAAQAAAAAAAAAAAAAAAAAAAAAAAAAAAAAAAQAAAAAAAAPA/AAAAAAAAAEAAAAAAAAAAAAAAAAAAAAAAAAAAAAAAAEAAAAAAAAAAAAAAAAAAAPA/AAAAAAAAAEAAAAAAAADwPwAAAAAAAAAAAAAAAAAA8D8AAAAAAADwPwAAAAAAAAAAAAAAAAAA8D8AAAAAAADwPwAAAAAAAAAAAAAAAAAAAAAAAAAAAAAAAAAAAAAAAAAAAAAAAAAA8D8AAAAAAAAAAAAAAAAAAPA/AAAAAAAAAAAAAAAAAAAAAAAAAAAAAAAAAAAAAAAAAAAAAAAAAAAAQAAAAAAAAAAAAAAAAAAAAEAAAAAAAAAAQAAAAAAAAPA/AAAAAAAA8D8AAAAAAAAAAAAAAAAAAPA/AAAAAAAAAAAAAAAAAAAAAAAAAAAAAAAAAAAAAAAAAEAAAAAAAAAAAAAAAAAAAPA/AAAAAAAA8D8AAAAAAAAAAAAAAAAAAAAAAAAAAAAAAAAAAAAAAAAAQAAAAAAAAAAAAAAAAAAAAEAAAAAAAAAAQAAAAAAAAPA/AAAAAAAAAAAAAAAAAAAAQAAAAAAAAAAAAAAAAAAAAAAAAAAAAADwPwAAAAAAAAAAAAAAAAAAAAAAAAAAAAAAQAAAAAAAAPA/AAAAAAAA8D8AAAAAAAAAAAAAAAAAAPA/AAAAAAAAAAAAAAAAAAAAAAAAAAAAAABAAAAAAAAAAAAAAAAAAADwPwAAAAAAAAAAAAAAAAAAAEAAAAAAAAAAQAAAAAAAAPA/AAAAAAAAAAAAAAAAAAAAQAAAAAAAAPA/AAAAAAAA8D8AAAAAAADwPwAAAAAAAABAAAAAAAAAAAAAAAAAAAAAAAAAAAAAAAAAAAAAAAAAAAAAAAAAAAAAQAAAAAAAAABAAAAAAAAAAEAAAAAAAADwPwAAAAAAAPA/AAAAAAAAAAAAAAAAAAAAAAAAAAAAAPA/AAAAAAAAAAAAAAAAAAAAAAAAAAAAAAAAAAAAAAAAAEAAAAAAAADwPwAAAAAAAAAAAAAAAAAAAAAAAAAAAAAAAAAAAAAAAAAAAAAAAAAAAAAAAAAAAAAAAAAAAAAAAAAAAAAAAAAAAEAAAAAAAAAAAAAAAAAAAABAAAAAAAAAAAAAAAAAAAAAQAAAAAAAAPA/AAAAAAAA8D8AAAAAAAAAAAAAAAAAAAAAAAAAAAAAAAAAAAAAAAAAQAAAAAAAAABAAAAAAAAAAAAAAAAAAAAAAAAAAAAAAABAAAAAAAAA8D8AAAAAAAAAAAAAAAAAAPA/AAAAAAAA8D8AAAAAAAAAQAAAAAAAAAAAAAAAAAAAAEAAAAAAAAAAAAAAAAAAAPA/AAAAAAAAAAAAAAAAAAAAAAAAAAAAAAAAAAAAAAAAAAAAAAAAAAAAQAAAAAAAAAAAAAAAAAAA8D8AAAAAAAAAQAAAAAAAAABAAAAAAAAAAAAAAAAAAAAAAAAAAAAAAAAAAAAAAAAAAAAAAAAAAADwPwAAAAAAAAAAAAAAAAAA8D8AAAAAAAAAAAAAAAAAAABAAAAAAAAAAAAAAAAAAAAAAAAAAAAAAABAAAAAAAAAAAAAAAAAAAAAAAAAAAAAAAAAAAAAAAAAAEAAAAAAAAAAAAAAAAAAAAAAAAAAAAAAAAAAAAAAAAAAQAAAAAAAAAAAAAAAAAAAAAAAAAAAAAAAAAAAAAAAAABAAAAAAAAA8D8AAAAAAAAAAAAAAAAAAAAAAAAAAAAA8D8AAAAAAAAAAAAAAAAAAABAAAAAAAAA8D8AAAAAAAAAAAAAAAAAAABAAAAAAAAAAAAAAAAAAAAAAAAAAAAAAAAAAAAAAAAAAAAAAAAAAADwPwAAAAAAAAAAAAAAAAAAAAAAAAAAAAAAAAAAAAAAAPA/AAAAAAAAAEAAAAAAAAAAAAAAAAAAAPA/AAAAAAAAAAAAAAAAAAAAQAAAAAAAAAAAAAAAAAAA8D8AAAAAAAAAQAAAAAAAAABAAAAAAAAAAAAAAAAAAAAAAAAAAAAAAAAAAAAAAAAAAAAAAAAAAADwPwAAAAAAAAAAAAAAAAAA8D8AAAAAAAAAAAAAAAAAAAAAAAAAAAAAAAAAAAAAAAAAAAAAAAAAAAAAAAAAAAAAAAAAAAAAAADwPwAAAAAAAAAAAAAAAAAA8D8AAAAAAAAAQAAAAAAAAAAAAAAAAAAAAAAAAAAAAAAAAAAAAAAAAABAAAAAAAAAAEAAAAAAAAAAAAAAAAAAAPA/AAAAAAAAAEAAAAAAAAAAAAAAAAAAAAAAAAAAAAAAAAAAAAAAAADwPwAAAAAAAAAAAAAAAAAAAAAAAAAAAAAAAAAAAAAAAAAAAAAAAAAAAAAAAAAAAAAAAAAAAAAAAPA/AAAAAAAAAEAAAAAAAADwPwAAAAAAAAAAAAAAAAAAAAAAAAAAAAAAAAAAAAAAAAAAAAAAAAAA8D8AAAAAAADwPwAAAAAAAPA/AAAAAAAAAAAAAAAAAAAAAAAAAAAAAAAAAAAAAAAAAAAAAAAAAAAAAAAAAAAAAPA/AAAAAAAAAAAAAAAAAAAAAAAAAAAAAAAAAAAAAAAAAAAAAAAAAAAAAAAAAAAAAPA/AAAAAAAAAAAAAAAAAAAAAAAAAAAAAPA/AAAAAAAA8D8AAAAAAAAAAAAAAAAAAPA/AAAAAAAAAAAAAAAAAAAAAAAAAAAAAAAAAAAAAAAAAAAAAAAAAAAAAAAAAAAAAPA/AAAAAAAA8D8AAAAAAAAAAAAAAAAAAAAAAAAAAAAAAAAAAAAAAAAAAAAAAAAAAPA/AAAAAAAAAAAAAAAAAAAAQAAAAAAAAAAAAAAAAAAA8D8AAAAAAAAAAAAAAAAAAPA/AAAAAAAA8D8AAAAAAAAAQAAAAAAAAPA/AAAAAAAAAAAAAAAAAAAAAAAAAAAAAABAAAAAAAAAAAAAAAAAAAAAQAAAAAAAAAAAAAAAAAAAAEAAAAAAAAAAQAAAAAAAAABAAAAAAAAA8D8AAAAAAAAAAAAAAAAAAAAAAAAAAAAA8D8AAAAAAAAAQAAAAAAAAAAAAAAAAAAAAEAAAAAAAADwPwAAAAAAAAAAAAAAAAAAAEAAAAAAAAAAQAAAAAAAAAAAAAAAAAAA8D8AAAAAAAAAQAAAAAAAAAAAAAAAAAAAAAAAAAAAAADwPwAAAAAAAPA/AAAAAAAAAEAAAAAAAAAAAAAAAAAAAPA/AAAAAAAAAAAAAAAAAAAAAAAAAAAAAPA/AAAAAAAAAAAAAAAAAAAAAAAAAAAAAPA/AAAAAAAAAAAAAAAAAAAAAAAAAAAAAAAAAAAAAAAAAAA=",
           "dtype": "f8"
          },
          "coloraxis": "coloraxis",
          "size": 5,
          "symbol": "circle"
         },
         "mode": "markers",
         "name": "",
         "scene": "scene",
         "showlegend": false,
         "type": "scatter3d",
         "x": {
          "bdata": "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",
          "dtype": "f4"
         },
         "y": {
          "bdata": "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",
          "dtype": "f4"
         },
         "z": {
          "bdata": "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",
          "dtype": "f4"
         }
        }
       ],
       "layout": {
        "coloraxis": {
         "colorbar": {
          "title": {
           "text": "Burst Type"
          }
         },
         "colorscale": [
          [
           0,
           "#0d0887"
          ],
          [
           0.1111111111111111,
           "#46039f"
          ],
          [
           0.2222222222222222,
           "#7201a8"
          ],
          [
           0.3333333333333333,
           "#9c179e"
          ],
          [
           0.4444444444444444,
           "#bd3786"
          ],
          [
           0.5555555555555556,
           "#d8576b"
          ],
          [
           0.6666666666666666,
           "#ed7953"
          ],
          [
           0.7777777777777778,
           "#fb9f3a"
          ],
          [
           0.8888888888888888,
           "#fdca26"
          ],
          [
           1,
           "#f0f921"
          ]
         ]
        },
        "height": 700,
        "legend": {
         "tracegroupgap": 0
        },
        "scene": {
         "domain": {
          "x": [
           0,
           1
          ],
          "y": [
           0,
           1
          ]
         },
         "xaxis": {
          "title": {
           "text": "UMAP1"
          }
         },
         "yaxis": {
          "title": {
           "text": "UMAP2"
          }
         },
         "zaxis": {
          "title": {
           "text": "UMAP3"
          }
         }
        },
        "template": {
         "data": {
          "bar": [
           {
            "error_x": {
             "color": "#2a3f5f"
            },
            "error_y": {
             "color": "#2a3f5f"
            },
            "marker": {
             "line": {
              "color": "#E5ECF6",
              "width": 0.5
             },
             "pattern": {
              "fillmode": "overlay",
              "size": 10,
              "solidity": 0.2
             }
            },
            "type": "bar"
           }
          ],
          "barpolar": [
           {
            "marker": {
             "line": {
              "color": "#E5ECF6",
              "width": 0.5
             },
             "pattern": {
              "fillmode": "overlay",
              "size": 10,
              "solidity": 0.2
             }
            },
            "type": "barpolar"
           }
          ],
          "carpet": [
           {
            "aaxis": {
             "endlinecolor": "#2a3f5f",
             "gridcolor": "white",
             "linecolor": "white",
             "minorgridcolor": "white",
             "startlinecolor": "#2a3f5f"
            },
            "baxis": {
             "endlinecolor": "#2a3f5f",
             "gridcolor": "white",
             "linecolor": "white",
             "minorgridcolor": "white",
             "startlinecolor": "#2a3f5f"
            },
            "type": "carpet"
           }
          ],
          "choropleth": [
           {
            "colorbar": {
             "outlinewidth": 0,
             "ticks": ""
            },
            "type": "choropleth"
           }
          ],
          "contour": [
           {
            "colorbar": {
             "outlinewidth": 0,
             "ticks": ""
            },
            "colorscale": [
             [
              0,
              "#0d0887"
             ],
             [
              0.1111111111111111,
              "#46039f"
             ],
             [
              0.2222222222222222,
              "#7201a8"
             ],
             [
              0.3333333333333333,
              "#9c179e"
             ],
             [
              0.4444444444444444,
              "#bd3786"
             ],
             [
              0.5555555555555556,
              "#d8576b"
             ],
             [
              0.6666666666666666,
              "#ed7953"
             ],
             [
              0.7777777777777778,
              "#fb9f3a"
             ],
             [
              0.8888888888888888,
              "#fdca26"
             ],
             [
              1,
              "#f0f921"
             ]
            ],
            "type": "contour"
           }
          ],
          "contourcarpet": [
           {
            "colorbar": {
             "outlinewidth": 0,
             "ticks": ""
            },
            "type": "contourcarpet"
           }
          ],
          "heatmap": [
           {
            "colorbar": {
             "outlinewidth": 0,
             "ticks": ""
            },
            "colorscale": [
             [
              0,
              "#0d0887"
             ],
             [
              0.1111111111111111,
              "#46039f"
             ],
             [
              0.2222222222222222,
              "#7201a8"
             ],
             [
              0.3333333333333333,
              "#9c179e"
             ],
             [
              0.4444444444444444,
              "#bd3786"
             ],
             [
              0.5555555555555556,
              "#d8576b"
             ],
             [
              0.6666666666666666,
              "#ed7953"
             ],
             [
              0.7777777777777778,
              "#fb9f3a"
             ],
             [
              0.8888888888888888,
              "#fdca26"
             ],
             [
              1,
              "#f0f921"
             ]
            ],
            "type": "heatmap"
           }
          ],
          "histogram": [
           {
            "marker": {
             "pattern": {
              "fillmode": "overlay",
              "size": 10,
              "solidity": 0.2
             }
            },
            "type": "histogram"
           }
          ],
          "histogram2d": [
           {
            "colorbar": {
             "outlinewidth": 0,
             "ticks": ""
            },
            "colorscale": [
             [
              0,
              "#0d0887"
             ],
             [
              0.1111111111111111,
              "#46039f"
             ],
             [
              0.2222222222222222,
              "#7201a8"
             ],
             [
              0.3333333333333333,
              "#9c179e"
             ],
             [
              0.4444444444444444,
              "#bd3786"
             ],
             [
              0.5555555555555556,
              "#d8576b"
             ],
             [
              0.6666666666666666,
              "#ed7953"
             ],
             [
              0.7777777777777778,
              "#fb9f3a"
             ],
             [
              0.8888888888888888,
              "#fdca26"
             ],
             [
              1,
              "#f0f921"
             ]
            ],
            "type": "histogram2d"
           }
          ],
          "histogram2dcontour": [
           {
            "colorbar": {
             "outlinewidth": 0,
             "ticks": ""
            },
            "colorscale": [
             [
              0,
              "#0d0887"
             ],
             [
              0.1111111111111111,
              "#46039f"
             ],
             [
              0.2222222222222222,
              "#7201a8"
             ],
             [
              0.3333333333333333,
              "#9c179e"
             ],
             [
              0.4444444444444444,
              "#bd3786"
             ],
             [
              0.5555555555555556,
              "#d8576b"
             ],
             [
              0.6666666666666666,
              "#ed7953"
             ],
             [
              0.7777777777777778,
              "#fb9f3a"
             ],
             [
              0.8888888888888888,
              "#fdca26"
             ],
             [
              1,
              "#f0f921"
             ]
            ],
            "type": "histogram2dcontour"
           }
          ],
          "mesh3d": [
           {
            "colorbar": {
             "outlinewidth": 0,
             "ticks": ""
            },
            "type": "mesh3d"
           }
          ],
          "parcoords": [
           {
            "line": {
             "colorbar": {
              "outlinewidth": 0,
              "ticks": ""
             }
            },
            "type": "parcoords"
           }
          ],
          "pie": [
           {
            "automargin": true,
            "type": "pie"
           }
          ],
          "scatter": [
           {
            "fillpattern": {
             "fillmode": "overlay",
             "size": 10,
             "solidity": 0.2
            },
            "type": "scatter"
           }
          ],
          "scatter3d": [
           {
            "line": {
             "colorbar": {
              "outlinewidth": 0,
              "ticks": ""
             }
            },
            "marker": {
             "colorbar": {
              "outlinewidth": 0,
              "ticks": ""
             }
            },
            "type": "scatter3d"
           }
          ],
          "scattercarpet": [
           {
            "marker": {
             "colorbar": {
              "outlinewidth": 0,
              "ticks": ""
             }
            },
            "type": "scattercarpet"
           }
          ],
          "scattergeo": [
           {
            "marker": {
             "colorbar": {
              "outlinewidth": 0,
              "ticks": ""
             }
            },
            "type": "scattergeo"
           }
          ],
          "scattergl": [
           {
            "marker": {
             "colorbar": {
              "outlinewidth": 0,
              "ticks": ""
             }
            },
            "type": "scattergl"
           }
          ],
          "scattermap": [
           {
            "marker": {
             "colorbar": {
              "outlinewidth": 0,
              "ticks": ""
             }
            },
            "type": "scattermap"
           }
          ],
          "scattermapbox": [
           {
            "marker": {
             "colorbar": {
              "outlinewidth": 0,
              "ticks": ""
             }
            },
            "type": "scattermapbox"
           }
          ],
          "scatterpolar": [
           {
            "marker": {
             "colorbar": {
              "outlinewidth": 0,
              "ticks": ""
             }
            },
            "type": "scatterpolar"
           }
          ],
          "scatterpolargl": [
           {
            "marker": {
             "colorbar": {
              "outlinewidth": 0,
              "ticks": ""
             }
            },
            "type": "scatterpolargl"
           }
          ],
          "scatterternary": [
           {
            "marker": {
             "colorbar": {
              "outlinewidth": 0,
              "ticks": ""
             }
            },
            "type": "scatterternary"
           }
          ],
          "surface": [
           {
            "colorbar": {
             "outlinewidth": 0,
             "ticks": ""
            },
            "colorscale": [
             [
              0,
              "#0d0887"
             ],
             [
              0.1111111111111111,
              "#46039f"
             ],
             [
              0.2222222222222222,
              "#7201a8"
             ],
             [
              0.3333333333333333,
              "#9c179e"
             ],
             [
              0.4444444444444444,
              "#bd3786"
             ],
             [
              0.5555555555555556,
              "#d8576b"
             ],
             [
              0.6666666666666666,
              "#ed7953"
             ],
             [
              0.7777777777777778,
              "#fb9f3a"
             ],
             [
              0.8888888888888888,
              "#fdca26"
             ],
             [
              1,
              "#f0f921"
             ]
            ],
            "type": "surface"
           }
          ],
          "table": [
           {
            "cells": {
             "fill": {
              "color": "#EBF0F8"
             },
             "line": {
              "color": "white"
             }
            },
            "header": {
             "fill": {
              "color": "#C8D4E3"
             },
             "line": {
              "color": "white"
             }
            },
            "type": "table"
           }
          ]
         },
         "layout": {
          "annotationdefaults": {
           "arrowcolor": "#2a3f5f",
           "arrowhead": 0,
           "arrowwidth": 1
          },
          "autotypenumbers": "strict",
          "coloraxis": {
           "colorbar": {
            "outlinewidth": 0,
            "ticks": ""
           }
          },
          "colorscale": {
           "diverging": [
            [
             0,
             "#8e0152"
            ],
            [
             0.1,
             "#c51b7d"
            ],
            [
             0.2,
             "#de77ae"
            ],
            [
             0.3,
             "#f1b6da"
            ],
            [
             0.4,
             "#fde0ef"
            ],
            [
             0.5,
             "#f7f7f7"
            ],
            [
             0.6,
             "#e6f5d0"
            ],
            [
             0.7,
             "#b8e186"
            ],
            [
             0.8,
             "#7fbc41"
            ],
            [
             0.9,
             "#4d9221"
            ],
            [
             1,
             "#276419"
            ]
           ],
           "sequential": [
            [
             0,
             "#0d0887"
            ],
            [
             0.1111111111111111,
             "#46039f"
            ],
            [
             0.2222222222222222,
             "#7201a8"
            ],
            [
             0.3333333333333333,
             "#9c179e"
            ],
            [
             0.4444444444444444,
             "#bd3786"
            ],
            [
             0.5555555555555556,
             "#d8576b"
            ],
            [
             0.6666666666666666,
             "#ed7953"
            ],
            [
             0.7777777777777778,
             "#fb9f3a"
            ],
            [
             0.8888888888888888,
             "#fdca26"
            ],
            [
             1,
             "#f0f921"
            ]
           ],
           "sequentialminus": [
            [
             0,
             "#0d0887"
            ],
            [
             0.1111111111111111,
             "#46039f"
            ],
            [
             0.2222222222222222,
             "#7201a8"
            ],
            [
             0.3333333333333333,
             "#9c179e"
            ],
            [
             0.4444444444444444,
             "#bd3786"
            ],
            [
             0.5555555555555556,
             "#d8576b"
            ],
            [
             0.6666666666666666,
             "#ed7953"
            ],
            [
             0.7777777777777778,
             "#fb9f3a"
            ],
            [
             0.8888888888888888,
             "#fdca26"
            ],
            [
             1,
             "#f0f921"
            ]
           ]
          },
          "colorway": [
           "#636efa",
           "#EF553B",
           "#00cc96",
           "#ab63fa",
           "#FFA15A",
           "#19d3f3",
           "#FF6692",
           "#B6E880",
           "#FF97FF",
           "#FECB52"
          ],
          "font": {
           "color": "#2a3f5f"
          },
          "geo": {
           "bgcolor": "white",
           "lakecolor": "white",
           "landcolor": "#E5ECF6",
           "showlakes": true,
           "showland": true,
           "subunitcolor": "white"
          },
          "hoverlabel": {
           "align": "left"
          },
          "hovermode": "closest",
          "mapbox": {
           "style": "light"
          },
          "paper_bgcolor": "white",
          "plot_bgcolor": "#E5ECF6",
          "polar": {
           "angularaxis": {
            "gridcolor": "white",
            "linecolor": "white",
            "ticks": ""
           },
           "bgcolor": "#E5ECF6",
           "radialaxis": {
            "gridcolor": "white",
            "linecolor": "white",
            "ticks": ""
           }
          },
          "scene": {
           "xaxis": {
            "backgroundcolor": "#E5ECF6",
            "gridcolor": "white",
            "gridwidth": 2,
            "linecolor": "white",
            "showbackground": true,
            "ticks": "",
            "zerolinecolor": "white"
           },
           "yaxis": {
            "backgroundcolor": "#E5ECF6",
            "gridcolor": "white",
            "gridwidth": 2,
            "linecolor": "white",
            "showbackground": true,
            "ticks": "",
            "zerolinecolor": "white"
           },
           "zaxis": {
            "backgroundcolor": "#E5ECF6",
            "gridcolor": "white",
            "gridwidth": 2,
            "linecolor": "white",
            "showbackground": true,
            "ticks": "",
            "zerolinecolor": "white"
           }
          },
          "shapedefaults": {
           "line": {
            "color": "#2a3f5f"
           }
          },
          "ternary": {
           "aaxis": {
            "gridcolor": "white",
            "linecolor": "white",
            "ticks": ""
           },
           "baxis": {
            "gridcolor": "white",
            "linecolor": "white",
            "ticks": ""
           },
           "bgcolor": "#E5ECF6",
           "caxis": {
            "gridcolor": "white",
            "linecolor": "white",
            "ticks": ""
           }
          },
          "title": {
           "x": 0.05
          },
          "xaxis": {
           "automargin": true,
           "gridcolor": "white",
           "linecolor": "white",
           "ticks": "",
           "title": {
            "standoff": 15
           },
           "zerolinecolor": "white",
           "zerolinewidth": 2
          },
          "yaxis": {
           "automargin": true,
           "gridcolor": "white",
           "linecolor": "white",
           "ticks": "",
           "title": {
            "standoff": 15
           },
           "zerolinecolor": "white",
           "zerolinewidth": 2
          }
         }
        },
        "title": {
         "text": "UMAP for burst windows"
        },
        "width": 800
       }
      }
     },
     "metadata": {},
     "output_type": "display_data"
    },
    {
     "name": "stderr",
     "output_type": "stream",
     "text": [
      "c:\\Users\\omgui\\AppData\\Local\\Programs\\Python\\Python313\\Lib\\site-packages\\sklearn\\utils\\deprecation.py:151: FutureWarning:\n",
      "\n",
      "'force_all_finite' was renamed to 'ensure_all_finite' in 1.6 and will be removed in 1.8.\n",
      "\n"
     ]
    },
    {
     "data": {
      "application/vnd.plotly.v1+json": {
       "config": {
        "plotlyServerURL": "https://plot.ly"
       },
       "data": [
        {
         "hovertemplate": "UMAP1=%{x}<br>UMAP2=%{y}<br>UMAP3=%{z}<br>Burst Type=%{marker.color}<extra></extra>",
         "legendgroup": "",
         "marker": {
          "color": {
           "bdata": "AAAAAAAA8D8AAAAAAADwPwAAAAAAAAAAAAAAAAAAAEAAAAAAAAAAAAAAAAAAAAAAAAAAAAAAAAAAAAAAAAAAAAAAAAAAAAAAAAAAAAAAAAAAAAAAAAAAAAAAAAAAAAAAAAAAAAAAAAAAAAAAAAAAAAAAAAAAAAAAAAAAAAAAAAAAAAAAAAAAAAAAAAAAAABAAAAAAAAAAAAAAAAAAAAAAAAAAAAAAAAAAAAAAAAAAAAAAAAAAAAAQAAAAAAAAAAAAAAAAAAAAEAAAAAAAAAAAAAAAAAAAAAAAAAAAAAAAAAAAAAAAAAAAAAAAAAAAAAAAAAAAAAAAAAAAAAAAAAAQAAAAAAAAPA/AAAAAAAA8D8AAAAAAAAAAAAAAAAAAAAAAAAAAAAAAAAAAAAAAAAAAAAAAAAAAABAAAAAAAAAAAAAAAAAAADwPwAAAAAAAAAAAAAAAAAAAAAAAAAAAADwPwAAAAAAAPA/AAAAAAAA8D8AAAAAAAAAAAAAAAAAAAAAAAAAAAAA8D8AAAAAAAAAAAAAAAAAAPA/AAAAAAAAAEAAAAAAAAAAAAAAAAAAAPA/AAAAAAAAAAAAAAAAAAAAAAAAAAAAAAAAAAAAAAAAAEAAAAAAAAAAAAAAAAAAAPA/AAAAAAAA8D8AAAAAAAAAAAAAAAAAAABAAAAAAAAAAEAAAAAAAAAAAAAAAAAAAAAAAAAAAAAAAAAAAAAAAADwPwAAAAAAAABAAAAAAAAAAAAAAAAAAAAAAAAAAAAAAAAAAAAAAAAA8D8AAAAAAAAAQAAAAAAAAABAAAAAAAAAAEAAAAAAAAAAQAAAAAAAAPA/AAAAAAAAAAAAAAAAAAAAAAAAAAAAAAAAAAAAAAAAAEAAAAAAAADwPwAAAAAAAAAAAAAAAAAAAAAAAAAAAADwPwAAAAAAAAAAAAAAAAAA8D8AAAAAAAAAAAAAAAAAAABAAAAAAAAAAAAAAAAAAAAAAAAAAAAAAABAAAAAAAAA8D8AAAAAAAAAAAAAAAAAAPA/AAAAAAAAAEAAAAAAAAAAAAAAAAAAAABAAAAAAAAAAAAAAAAAAADwPwAAAAAAAPA/AAAAAAAAAAAAAAAAAADwPwAAAAAAAABAAAAAAAAAAAAAAAAAAAAAAAAAAAAAAPA/AAAAAAAAAAAAAAAAAAAAAAAAAAAAAABAAAAAAAAA8D8AAAAAAAAAAAAAAAAAAAAAAAAAAAAAAAAAAAAAAAAAAAAAAAAAAPA/AAAAAAAAAAAAAAAAAAAAAAAAAAAAAPA/AAAAAAAAAAAAAAAAAAAAQAAAAAAAAPA/AAAAAAAAAAAAAAAAAAAAAAAAAAAAAPA/AAAAAAAAAAAAAAAAAADwPwAAAAAAAAAAAAAAAAAAAAAAAAAAAADwPwAAAAAAAABAAAAAAAAAAAAAAAAAAAAAQAAAAAAAAABAAAAAAAAAAAAAAAAAAAAAAAAAAAAAAAAAAAAAAAAA8D8AAAAAAAAAQAAAAAAAAAAAAAAAAAAAAAAAAAAAAAAAQAAAAAAAAAAAAAAAAAAAAAAAAAAAAAAAAAAAAAAAAAAAAAAAAAAAAAAAAAAAAAAAAAAAAAAAAABAAAAAAAAAAEAAAAAAAAAAAAAAAAAAAAAAAAAAAAAAAEAAAAAAAADwPwAAAAAAAPA/AAAAAAAAAAAAAAAAAADwPwAAAAAAAPA/AAAAAAAAAEAAAAAAAAAAQAAAAAAAAABAAAAAAAAAAAAAAAAAAAAAAAAAAAAAAABAAAAAAAAAAEAAAAAAAAAAQAAAAAAAAAAAAAAAAAAAAAAAAAAAAADwPwAAAAAAAAAAAAAAAAAAAAAAAAAAAAAAAAAAAAAAAPA/AAAAAAAA8D8AAAAAAAAAAAAAAAAAAAAAAAAAAAAA8D8AAAAAAAAAAAAAAAAAAAAAAAAAAAAAAAAAAAAAAAAAAAAAAAAAAAAAAAAAAAAAAEAAAAAAAAAAQAAAAAAAAAAAAAAAAAAA8D8AAAAAAAAAQAAAAAAAAAAAAAAAAAAAAAAAAAAAAAAAAAAAAAAAAABAAAAAAAAA8D8AAAAAAADwPwAAAAAAAPA/AAAAAAAAAAAAAAAAAAAAQAAAAAAAAPA/AAAAAAAAAAAAAAAAAADwPwAAAAAAAAAAAAAAAAAAAAAAAAAAAAAAAAAAAAAAAAAAAAAAAAAA8D8AAAAAAAAAQAAAAAAAAAAAAAAAAAAAAEAAAAAAAAAAAAAAAAAAAPA/AAAAAAAAAEAAAAAAAAAAAAAAAAAAAABAAAAAAAAAAEAAAAAAAADwPwAAAAAAAAAAAAAAAAAAAAAAAAAAAAAAAAAAAAAAAPA/AAAAAAAAAAAAAAAAAAAAAAAAAAAAAAAAAAAAAAAAAAAAAAAAAAAAAAAAAAAAAAAAAAAAAAAA8D8AAAAAAAAAAAAAAAAAAAAAAAAAAAAA8D8AAAAAAADwPwAAAAAAAAAAAAAAAAAA8D8AAAAAAAAAAAAAAAAAAAAAAAAAAAAA8D8AAAAAAAAAAAAAAAAAAPA/AAAAAAAA8D8AAAAAAAAAAAAAAAAAAAAAAAAAAAAAAAAAAAAAAADwPwAAAAAAAAAAAAAAAAAAAAAAAAAAAAAAAAAAAAAAAAAAAAAAAAAAAAAAAAAAAAAAQAAAAAAAAABAAAAAAAAAAAAAAAAAAAAAAAAAAAAAAPA/AAAAAAAAAAAAAAAAAAAAAAAAAAAAAPA/AAAAAAAA8D8AAAAAAAAAAAAAAAAAAAAAAAAAAAAA8D8AAAAAAAAAQAAAAAAAAPA/AAAAAAAAAEAAAAAAAAAAAAAAAAAAAABAAAAAAAAAAAAAAAAAAAAAQAAAAAAAAPA/AAAAAAAAAAAAAAAAAADwPwAAAAAAAAAAAAAAAAAAAAAAAAAAAAAAAAAAAAAAAAAAAAAAAAAA8D8AAAAAAAAAAAAAAAAAAABAAAAAAAAAAAAAAAAAAADwPwAAAAAAAAAAAAAAAAAAAEAAAAAAAAAAQAAAAAAAAAAAAAAAAAAAAAAAAAAAAAAAAAAAAAAAAPA/AAAAAAAAAAAAAAAAAADwPwAAAAAAAABAAAAAAAAAAAAAAAAAAAAAAAAAAAAAAAAAAAAAAAAAAAAAAAAAAAAAAAAAAAAAAAAAAAAAAAAAAAAAAAAAAAAAAAAAAAAAAPA/AAAAAAAAAAAAAAAAAAAAAAAAAAAAAAAAAAAAAAAAAAAAAAAAAAAAAAAAAAAAAPA/AAAAAAAA8D8AAAAAAAAAAAAAAAAAAPA/AAAAAAAAAAAAAAAAAAAAAAAAAAAAAPA/AAAAAAAAAAAAAAAAAAAAAAAAAAAAAAAAAAAAAAAAAAAAAAAAAAAAAAAAAAAAAAAAAAAAAAAAAAAAAAAAAAAAQAAAAAAAAAAAAAAAAAAA8D8AAAAAAAAAAAAAAAAAAAAAAAAAAAAAAAAAAAAAAAAAAAAAAAAAAPA/AAAAAAAAAAAAAAAAAADwPwAAAAAAAAAAAAAAAAAAAAAAAAAAAADwPwAAAAAAAABAAAAAAAAAAAAAAAAAAAAAAAAAAAAAAAAAAAAAAAAA8D8AAAAAAAAAAAAAAAAAAPA/AAAAAAAAAAAAAAAAAAAAAAAAAAAAAABAAAAAAAAAAEAAAAAAAAAAAAAAAAAAAAAAAAAAAAAAAAAAAAAAAAAAAAAAAAAAAAAAAAAAAAAAAEAAAAAAAADwPwAAAAAAAAAAAAAAAAAAAAAAAAAAAAAAQAAAAAAAAPA/AAAAAAAA8D8AAAAAAAAAAAAAAAAAAPA/AAAAAAAAAEAAAAAAAAAAAAAAAAAAAAAAAAAAAAAA8D8AAAAAAAAAAAAAAAAAAAAAAAAAAAAAAAAAAAAAAADwPwAAAAAAAPA/AAAAAAAAAAAAAAAAAAAAAAAAAAAAAAAAAAAAAAAAAAAAAAAAAAAAAAAAAAAAAAAAAAAAAAAAAAAAAAAAAAAAQAAAAAAAAPA/AAAAAAAA8D8AAAAAAADwPwAAAAAAAABAAAAAAAAA8D8AAAAAAAAAAAAAAAAAAABAAAAAAAAA8D8AAAAAAAAAAAAAAAAAAAAAAAAAAAAAAAAAAAAAAAAAAAAAAAAAAABAAAAAAAAAAEAAAAAAAAAAQAAAAAAAAAAAAAAAAAAAAAAAAAAAAAAAAAAAAAAAAABAAAAAAAAAAEAAAAAAAADwPwAAAAAAAAAAAAAAAAAA8D8AAAAAAAAAAAAAAAAAAPA/AAAAAAAA8D8AAAAAAADwPwAAAAAAAPA/AAAAAAAAAAAAAAAAAAAAQAAAAAAAAAAAAAAAAAAAAAAAAAAAAAAAAAAAAAAAAABAAAAAAAAAAEAAAAAAAAAAQAAAAAAAAPA/AAAAAAAAAEAAAAAAAAAAAAAAAAAAAAAAAAAAAAAAAAAAAAAAAAAAAAAAAAAAAAAAAAAAAAAAAAAAAAAAAAAAAAAAAAAAAABAAAAAAAAA8D8AAAAAAAAAQAAAAAAAAAAAAAAAAAAAAAAAAAAAAADwPwAAAAAAAABAAAAAAAAAAAAAAAAAAAAAQAAAAAAAAABAAAAAAAAAAEAAAAAAAAAAAAAAAAAAAPA/AAAAAAAAAAAAAAAAAAAAAAAAAAAAAAAAAAAAAAAA8D8AAAAAAAAAQAAAAAAAAAAAAAAAAAAAAAAAAAAAAAAAQAAAAAAAAPA/AAAAAAAAAAAAAAAAAAAAQAAAAAAAAAAAAAAAAAAAAAAAAAAAAAAAAAAAAAAAAAAAAAAAAAAA8D8AAAAAAAAAAAAAAAAAAAAAAAAAAAAAAAAAAAAAAAAAAAAAAAAAAAAAAAAAAAAAAAAAAAAAAAAAAAAAAAAAAAAAAAAAAAAAAAAAAAAAAAAAAAAAAAAAAAAAAAAAAAAAAAAAAAAAAAAAQAAAAAAAAAAAAAAAAAAAAAAAAAAAAAAAQAAAAAAAAABAAAAAAAAAAAAAAAAAAADwPwAAAAAAAPA/AAAAAAAAAAAAAAAAAAAAAAAAAAAAAAAAAAAAAAAAAAAAAAAAAAAAQAAAAAAAAABAAAAAAAAAAAAAAAAAAAAAAAAAAAAAAPA/AAAAAAAAAAAAAAAAAAAAAAAAAAAAAAAAAAAAAAAAAAAAAAAAAAAAAAAAAAAAAAAAAAAAAAAAAEAAAAAAAADwPwAAAAAAAAAAAAAAAAAAAAAAAAAAAAAAQAAAAAAAAAAAAAAAAAAAAAAAAAAAAAAAQAAAAAAAAPA/AAAAAAAAAEAAAAAAAAAAAAAAAAAAAAAAAAAAAAAAAEAAAAAAAAAAAAAAAAAAAPA/AAAAAAAAAEAAAAAAAADwPwAAAAAAAAAAAAAAAAAA8D8AAAAAAADwPwAAAAAAAAAAAAAAAAAA8D8AAAAAAADwPwAAAAAAAAAAAAAAAAAAAAAAAAAAAAAAAAAAAAAAAAAAAAAAAAAA8D8AAAAAAAAAAAAAAAAAAPA/AAAAAAAAAAAAAAAAAAAAAAAAAAAAAAAAAAAAAAAAAAAAAAAAAAAAQAAAAAAAAAAAAAAAAAAAAEAAAAAAAAAAQAAAAAAAAPA/AAAAAAAA8D8AAAAAAAAAAAAAAAAAAPA/AAAAAAAAAAAAAAAAAAAAAAAAAAAAAAAAAAAAAAAAAEAAAAAAAAAAAAAAAAAAAPA/AAAAAAAA8D8AAAAAAAAAAAAAAAAAAAAAAAAAAAAAAAAAAAAAAAAAQAAAAAAAAAAAAAAAAAAAAEAAAAAAAAAAQAAAAAAAAPA/AAAAAAAAAAAAAAAAAAAAQAAAAAAAAAAAAAAAAAAAAAAAAAAAAADwPwAAAAAAAAAAAAAAAAAAAAAAAAAAAAAAQAAAAAAAAPA/AAAAAAAA8D8AAAAAAAAAAAAAAAAAAPA/AAAAAAAAAAAAAAAAAAAAAAAAAAAAAABAAAAAAAAAAAAAAAAAAADwPwAAAAAAAAAAAAAAAAAAAEAAAAAAAAAAQAAAAAAAAPA/AAAAAAAAAAAAAAAAAAAAQAAAAAAAAPA/AAAAAAAA8D8AAAAAAADwPwAAAAAAAABAAAAAAAAAAAAAAAAAAAAAAAAAAAAAAAAAAAAAAAAAAAAAAAAAAAAAQAAAAAAAAABAAAAAAAAAAEAAAAAAAADwPwAAAAAAAPA/AAAAAAAAAAAAAAAAAAAAAAAAAAAAAPA/AAAAAAAAAAAAAAAAAAAAAAAAAAAAAAAAAAAAAAAAAEAAAAAAAADwPwAAAAAAAAAAAAAAAAAAAAAAAAAAAAAAAAAAAAAAAAAAAAAAAAAAAAAAAAAAAAAAAAAAAAAAAAAAAAAAAAAAAEAAAAAAAAAAAAAAAAAAAABAAAAAAAAAAAAAAAAAAAAAQAAAAAAAAPA/AAAAAAAA8D8AAAAAAAAAAAAAAAAAAAAAAAAAAAAAAAAAAAAAAAAAQAAAAAAAAABAAAAAAAAAAAAAAAAAAAAAAAAAAAAAAABAAAAAAAAA8D8AAAAAAAAAAAAAAAAAAPA/AAAAAAAA8D8AAAAAAAAAQAAAAAAAAAAAAAAAAAAAAEAAAAAAAAAAAAAAAAAAAPA/AAAAAAAAAAAAAAAAAAAAAAAAAAAAAAAAAAAAAAAAAAAAAAAAAAAAQAAAAAAAAAAAAAAAAAAA8D8AAAAAAAAAQAAAAAAAAABAAAAAAAAAAAAAAAAAAAAAAAAAAAAAAAAAAAAAAAAAAAAAAAAAAADwPwAAAAAAAAAAAAAAAAAA8D8AAAAAAAAAAAAAAAAAAABAAAAAAAAAAAAAAAAAAAAAAAAAAAAAAABAAAAAAAAAAAAAAAAAAAAAAAAAAAAAAAAAAAAAAAAAAEAAAAAAAAAAAAAAAAAAAAAAAAAAAAAAAAAAAAAAAAAAQAAAAAAAAAAAAAAAAAAAAAAAAAAAAAAAAAAAAAAAAABAAAAAAAAA8D8AAAAAAAAAAAAAAAAAAAAAAAAAAAAA8D8AAAAAAAAAAAAAAAAAAABAAAAAAAAA8D8AAAAAAAAAAAAAAAAAAABAAAAAAAAAAAAAAAAAAAAAAAAAAAAAAAAAAAAAAAAAAAAAAAAAAADwPwAAAAAAAAAAAAAAAAAAAAAAAAAAAAAAAAAAAAAAAPA/AAAAAAAAAEAAAAAAAAAAAAAAAAAAAPA/AAAAAAAAAAAAAAAAAAAAQAAAAAAAAAAAAAAAAAAA8D8AAAAAAAAAQAAAAAAAAABAAAAAAAAAAAAAAAAAAAAAAAAAAAAAAAAAAAAAAAAAAAAAAAAAAADwPwAAAAAAAAAAAAAAAAAA8D8AAAAAAAAAAAAAAAAAAAAAAAAAAAAAAAAAAAAAAAAAAAAAAAAAAAAAAAAAAAAAAAAAAAAAAADwPwAAAAAAAAAAAAAAAAAA8D8AAAAAAAAAQAAAAAAAAAAAAAAAAAAAAAAAAAAAAAAAAAAAAAAAAABAAAAAAAAAAEAAAAAAAAAAAAAAAAAAAPA/AAAAAAAAAEAAAAAAAAAAAAAAAAAAAAAAAAAAAAAAAAAAAAAAAADwPwAAAAAAAAAAAAAAAAAAAAAAAAAAAAAAAAAAAAAAAAAAAAAAAAAAAAAAAAAAAAAAAAAAAAAAAPA/AAAAAAAAAEAAAAAAAADwPwAAAAAAAAAAAAAAAAAAAAAAAAAAAAAAAAAAAAAAAAAAAAAAAAAA8D8AAAAAAADwPwAAAAAAAPA/AAAAAAAAAAAAAAAAAAAAAAAAAAAAAAAAAAAAAAAAAAAAAAAAAAAAAAAAAAAAAPA/AAAAAAAAAAAAAAAAAAAAAAAAAAAAAAAAAAAAAAAAAAAAAAAAAAAAAAAAAAAAAPA/AAAAAAAAAAAAAAAAAAAAAAAAAAAAAPA/AAAAAAAA8D8AAAAAAAAAAAAAAAAAAPA/AAAAAAAAAAAAAAAAAAAAAAAAAAAAAAAAAAAAAAAAAAAAAAAAAAAAAAAAAAAAAPA/AAAAAAAA8D8AAAAAAAAAAAAAAAAAAAAAAAAAAAAAAAAAAAAAAAAAAAAAAAAAAPA/AAAAAAAAAAAAAAAAAAAAQAAAAAAAAAAAAAAAAAAA8D8AAAAAAAAAAAAAAAAAAPA/AAAAAAAA8D8AAAAAAAAAQAAAAAAAAPA/AAAAAAAAAAAAAAAAAAAAAAAAAAAAAABAAAAAAAAAAAAAAAAAAAAAQAAAAAAAAAAAAAAAAAAAAEAAAAAAAAAAQAAAAAAAAABAAAAAAAAA8D8AAAAAAAAAAAAAAAAAAAAAAAAAAAAA8D8AAAAAAAAAQAAAAAAAAAAAAAAAAAAAAEAAAAAAAADwPwAAAAAAAAAAAAAAAAAAAEAAAAAAAAAAQAAAAAAAAAAAAAAAAAAA8D8AAAAAAAAAQAAAAAAAAAAAAAAAAAAAAAAAAAAAAADwPwAAAAAAAPA/AAAAAAAAAEAAAAAAAAAAAAAAAAAAAPA/AAAAAAAAAAAAAAAAAAAAAAAAAAAAAPA/AAAAAAAAAAAAAAAAAAAAAAAAAAAAAPA/AAAAAAAAAAAAAAAAAAAAAAAAAAAAAAAAAAAAAAAAAAA=",
           "dtype": "f8"
          },
          "coloraxis": "coloraxis",
          "size": 5,
          "symbol": "circle"
         },
         "mode": "markers",
         "name": "",
         "scene": "scene",
         "showlegend": false,
         "type": "scatter3d",
         "x": {
          "bdata": "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",
          "dtype": "f4"
         },
         "y": {
          "bdata": "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",
          "dtype": "f4"
         },
         "z": {
          "bdata": "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",
          "dtype": "f4"
         }
        }
       ],
       "layout": {
        "coloraxis": {
         "colorbar": {
          "title": {
           "text": "Burst Type"
          }
         },
         "colorscale": [
          [
           0,
           "#0d0887"
          ],
          [
           0.1111111111111111,
           "#46039f"
          ],
          [
           0.2222222222222222,
           "#7201a8"
          ],
          [
           0.3333333333333333,
           "#9c179e"
          ],
          [
           0.4444444444444444,
           "#bd3786"
          ],
          [
           0.5555555555555556,
           "#d8576b"
          ],
          [
           0.6666666666666666,
           "#ed7953"
          ],
          [
           0.7777777777777778,
           "#fb9f3a"
          ],
          [
           0.8888888888888888,
           "#fdca26"
          ],
          [
           1,
           "#f0f921"
          ]
         ]
        },
        "height": 700,
        "legend": {
         "tracegroupgap": 0
        },
        "scene": {
         "domain": {
          "x": [
           0,
           1
          ],
          "y": [
           0,
           1
          ]
         },
         "xaxis": {
          "title": {
           "text": "UMAP1"
          }
         },
         "yaxis": {
          "title": {
           "text": "UMAP2"
          }
         },
         "zaxis": {
          "title": {
           "text": "UMAP3"
          }
         }
        },
        "template": {
         "data": {
          "bar": [
           {
            "error_x": {
             "color": "#2a3f5f"
            },
            "error_y": {
             "color": "#2a3f5f"
            },
            "marker": {
             "line": {
              "color": "#E5ECF6",
              "width": 0.5
             },
             "pattern": {
              "fillmode": "overlay",
              "size": 10,
              "solidity": 0.2
             }
            },
            "type": "bar"
           }
          ],
          "barpolar": [
           {
            "marker": {
             "line": {
              "color": "#E5ECF6",
              "width": 0.5
             },
             "pattern": {
              "fillmode": "overlay",
              "size": 10,
              "solidity": 0.2
             }
            },
            "type": "barpolar"
           }
          ],
          "carpet": [
           {
            "aaxis": {
             "endlinecolor": "#2a3f5f",
             "gridcolor": "white",
             "linecolor": "white",
             "minorgridcolor": "white",
             "startlinecolor": "#2a3f5f"
            },
            "baxis": {
             "endlinecolor": "#2a3f5f",
             "gridcolor": "white",
             "linecolor": "white",
             "minorgridcolor": "white",
             "startlinecolor": "#2a3f5f"
            },
            "type": "carpet"
           }
          ],
          "choropleth": [
           {
            "colorbar": {
             "outlinewidth": 0,
             "ticks": ""
            },
            "type": "choropleth"
           }
          ],
          "contour": [
           {
            "colorbar": {
             "outlinewidth": 0,
             "ticks": ""
            },
            "colorscale": [
             [
              0,
              "#0d0887"
             ],
             [
              0.1111111111111111,
              "#46039f"
             ],
             [
              0.2222222222222222,
              "#7201a8"
             ],
             [
              0.3333333333333333,
              "#9c179e"
             ],
             [
              0.4444444444444444,
              "#bd3786"
             ],
             [
              0.5555555555555556,
              "#d8576b"
             ],
             [
              0.6666666666666666,
              "#ed7953"
             ],
             [
              0.7777777777777778,
              "#fb9f3a"
             ],
             [
              0.8888888888888888,
              "#fdca26"
             ],
             [
              1,
              "#f0f921"
             ]
            ],
            "type": "contour"
           }
          ],
          "contourcarpet": [
           {
            "colorbar": {
             "outlinewidth": 0,
             "ticks": ""
            },
            "type": "contourcarpet"
           }
          ],
          "heatmap": [
           {
            "colorbar": {
             "outlinewidth": 0,
             "ticks": ""
            },
            "colorscale": [
             [
              0,
              "#0d0887"
             ],
             [
              0.1111111111111111,
              "#46039f"
             ],
             [
              0.2222222222222222,
              "#7201a8"
             ],
             [
              0.3333333333333333,
              "#9c179e"
             ],
             [
              0.4444444444444444,
              "#bd3786"
             ],
             [
              0.5555555555555556,
              "#d8576b"
             ],
             [
              0.6666666666666666,
              "#ed7953"
             ],
             [
              0.7777777777777778,
              "#fb9f3a"
             ],
             [
              0.8888888888888888,
              "#fdca26"
             ],
             [
              1,
              "#f0f921"
             ]
            ],
            "type": "heatmap"
           }
          ],
          "histogram": [
           {
            "marker": {
             "pattern": {
              "fillmode": "overlay",
              "size": 10,
              "solidity": 0.2
             }
            },
            "type": "histogram"
           }
          ],
          "histogram2d": [
           {
            "colorbar": {
             "outlinewidth": 0,
             "ticks": ""
            },
            "colorscale": [
             [
              0,
              "#0d0887"
             ],
             [
              0.1111111111111111,
              "#46039f"
             ],
             [
              0.2222222222222222,
              "#7201a8"
             ],
             [
              0.3333333333333333,
              "#9c179e"
             ],
             [
              0.4444444444444444,
              "#bd3786"
             ],
             [
              0.5555555555555556,
              "#d8576b"
             ],
             [
              0.6666666666666666,
              "#ed7953"
             ],
             [
              0.7777777777777778,
              "#fb9f3a"
             ],
             [
              0.8888888888888888,
              "#fdca26"
             ],
             [
              1,
              "#f0f921"
             ]
            ],
            "type": "histogram2d"
           }
          ],
          "histogram2dcontour": [
           {
            "colorbar": {
             "outlinewidth": 0,
             "ticks": ""
            },
            "colorscale": [
             [
              0,
              "#0d0887"
             ],
             [
              0.1111111111111111,
              "#46039f"
             ],
             [
              0.2222222222222222,
              "#7201a8"
             ],
             [
              0.3333333333333333,
              "#9c179e"
             ],
             [
              0.4444444444444444,
              "#bd3786"
             ],
             [
              0.5555555555555556,
              "#d8576b"
             ],
             [
              0.6666666666666666,
              "#ed7953"
             ],
             [
              0.7777777777777778,
              "#fb9f3a"
             ],
             [
              0.8888888888888888,
              "#fdca26"
             ],
             [
              1,
              "#f0f921"
             ]
            ],
            "type": "histogram2dcontour"
           }
          ],
          "mesh3d": [
           {
            "colorbar": {
             "outlinewidth": 0,
             "ticks": ""
            },
            "type": "mesh3d"
           }
          ],
          "parcoords": [
           {
            "line": {
             "colorbar": {
              "outlinewidth": 0,
              "ticks": ""
             }
            },
            "type": "parcoords"
           }
          ],
          "pie": [
           {
            "automargin": true,
            "type": "pie"
           }
          ],
          "scatter": [
           {
            "fillpattern": {
             "fillmode": "overlay",
             "size": 10,
             "solidity": 0.2
            },
            "type": "scatter"
           }
          ],
          "scatter3d": [
           {
            "line": {
             "colorbar": {
              "outlinewidth": 0,
              "ticks": ""
             }
            },
            "marker": {
             "colorbar": {
              "outlinewidth": 0,
              "ticks": ""
             }
            },
            "type": "scatter3d"
           }
          ],
          "scattercarpet": [
           {
            "marker": {
             "colorbar": {
              "outlinewidth": 0,
              "ticks": ""
             }
            },
            "type": "scattercarpet"
           }
          ],
          "scattergeo": [
           {
            "marker": {
             "colorbar": {
              "outlinewidth": 0,
              "ticks": ""
             }
            },
            "type": "scattergeo"
           }
          ],
          "scattergl": [
           {
            "marker": {
             "colorbar": {
              "outlinewidth": 0,
              "ticks": ""
             }
            },
            "type": "scattergl"
           }
          ],
          "scattermap": [
           {
            "marker": {
             "colorbar": {
              "outlinewidth": 0,
              "ticks": ""
             }
            },
            "type": "scattermap"
           }
          ],
          "scattermapbox": [
           {
            "marker": {
             "colorbar": {
              "outlinewidth": 0,
              "ticks": ""
             }
            },
            "type": "scattermapbox"
           }
          ],
          "scatterpolar": [
           {
            "marker": {
             "colorbar": {
              "outlinewidth": 0,
              "ticks": ""
             }
            },
            "type": "scatterpolar"
           }
          ],
          "scatterpolargl": [
           {
            "marker": {
             "colorbar": {
              "outlinewidth": 0,
              "ticks": ""
             }
            },
            "type": "scatterpolargl"
           }
          ],
          "scatterternary": [
           {
            "marker": {
             "colorbar": {
              "outlinewidth": 0,
              "ticks": ""
             }
            },
            "type": "scatterternary"
           }
          ],
          "surface": [
           {
            "colorbar": {
             "outlinewidth": 0,
             "ticks": ""
            },
            "colorscale": [
             [
              0,
              "#0d0887"
             ],
             [
              0.1111111111111111,
              "#46039f"
             ],
             [
              0.2222222222222222,
              "#7201a8"
             ],
             [
              0.3333333333333333,
              "#9c179e"
             ],
             [
              0.4444444444444444,
              "#bd3786"
             ],
             [
              0.5555555555555556,
              "#d8576b"
             ],
             [
              0.6666666666666666,
              "#ed7953"
             ],
             [
              0.7777777777777778,
              "#fb9f3a"
             ],
             [
              0.8888888888888888,
              "#fdca26"
             ],
             [
              1,
              "#f0f921"
             ]
            ],
            "type": "surface"
           }
          ],
          "table": [
           {
            "cells": {
             "fill": {
              "color": "#EBF0F8"
             },
             "line": {
              "color": "white"
             }
            },
            "header": {
             "fill": {
              "color": "#C8D4E3"
             },
             "line": {
              "color": "white"
             }
            },
            "type": "table"
           }
          ]
         },
         "layout": {
          "annotationdefaults": {
           "arrowcolor": "#2a3f5f",
           "arrowhead": 0,
           "arrowwidth": 1
          },
          "autotypenumbers": "strict",
          "coloraxis": {
           "colorbar": {
            "outlinewidth": 0,
            "ticks": ""
           }
          },
          "colorscale": {
           "diverging": [
            [
             0,
             "#8e0152"
            ],
            [
             0.1,
             "#c51b7d"
            ],
            [
             0.2,
             "#de77ae"
            ],
            [
             0.3,
             "#f1b6da"
            ],
            [
             0.4,
             "#fde0ef"
            ],
            [
             0.5,
             "#f7f7f7"
            ],
            [
             0.6,
             "#e6f5d0"
            ],
            [
             0.7,
             "#b8e186"
            ],
            [
             0.8,
             "#7fbc41"
            ],
            [
             0.9,
             "#4d9221"
            ],
            [
             1,
             "#276419"
            ]
           ],
           "sequential": [
            [
             0,
             "#0d0887"
            ],
            [
             0.1111111111111111,
             "#46039f"
            ],
            [
             0.2222222222222222,
             "#7201a8"
            ],
            [
             0.3333333333333333,
             "#9c179e"
            ],
            [
             0.4444444444444444,
             "#bd3786"
            ],
            [
             0.5555555555555556,
             "#d8576b"
            ],
            [
             0.6666666666666666,
             "#ed7953"
            ],
            [
             0.7777777777777778,
             "#fb9f3a"
            ],
            [
             0.8888888888888888,
             "#fdca26"
            ],
            [
             1,
             "#f0f921"
            ]
           ],
           "sequentialminus": [
            [
             0,
             "#0d0887"
            ],
            [
             0.1111111111111111,
             "#46039f"
            ],
            [
             0.2222222222222222,
             "#7201a8"
            ],
            [
             0.3333333333333333,
             "#9c179e"
            ],
            [
             0.4444444444444444,
             "#bd3786"
            ],
            [
             0.5555555555555556,
             "#d8576b"
            ],
            [
             0.6666666666666666,
             "#ed7953"
            ],
            [
             0.7777777777777778,
             "#fb9f3a"
            ],
            [
             0.8888888888888888,
             "#fdca26"
            ],
            [
             1,
             "#f0f921"
            ]
           ]
          },
          "colorway": [
           "#636efa",
           "#EF553B",
           "#00cc96",
           "#ab63fa",
           "#FFA15A",
           "#19d3f3",
           "#FF6692",
           "#B6E880",
           "#FF97FF",
           "#FECB52"
          ],
          "font": {
           "color": "#2a3f5f"
          },
          "geo": {
           "bgcolor": "white",
           "lakecolor": "white",
           "landcolor": "#E5ECF6",
           "showlakes": true,
           "showland": true,
           "subunitcolor": "white"
          },
          "hoverlabel": {
           "align": "left"
          },
          "hovermode": "closest",
          "mapbox": {
           "style": "light"
          },
          "paper_bgcolor": "white",
          "plot_bgcolor": "#E5ECF6",
          "polar": {
           "angularaxis": {
            "gridcolor": "white",
            "linecolor": "white",
            "ticks": ""
           },
           "bgcolor": "#E5ECF6",
           "radialaxis": {
            "gridcolor": "white",
            "linecolor": "white",
            "ticks": ""
           }
          },
          "scene": {
           "xaxis": {
            "backgroundcolor": "#E5ECF6",
            "gridcolor": "white",
            "gridwidth": 2,
            "linecolor": "white",
            "showbackground": true,
            "ticks": "",
            "zerolinecolor": "white"
           },
           "yaxis": {
            "backgroundcolor": "#E5ECF6",
            "gridcolor": "white",
            "gridwidth": 2,
            "linecolor": "white",
            "showbackground": true,
            "ticks": "",
            "zerolinecolor": "white"
           },
           "zaxis": {
            "backgroundcolor": "#E5ECF6",
            "gridcolor": "white",
            "gridwidth": 2,
            "linecolor": "white",
            "showbackground": true,
            "ticks": "",
            "zerolinecolor": "white"
           }
          },
          "shapedefaults": {
           "line": {
            "color": "#2a3f5f"
           }
          },
          "ternary": {
           "aaxis": {
            "gridcolor": "white",
            "linecolor": "white",
            "ticks": ""
           },
           "baxis": {
            "gridcolor": "white",
            "linecolor": "white",
            "ticks": ""
           },
           "bgcolor": "#E5ECF6",
           "caxis": {
            "gridcolor": "white",
            "linecolor": "white",
            "ticks": ""
           }
          },
          "title": {
           "x": 0.05
          },
          "xaxis": {
           "automargin": true,
           "gridcolor": "white",
           "linecolor": "white",
           "ticks": "",
           "title": {
            "standoff": 15
           },
           "zerolinecolor": "white",
           "zerolinewidth": 2
          },
          "yaxis": {
           "automargin": true,
           "gridcolor": "white",
           "linecolor": "white",
           "ticks": "",
           "title": {
            "standoff": 15
           },
           "zerolinecolor": "white",
           "zerolinewidth": 2
          }
         }
        },
        "title": {
         "text": "UMAP for burst features"
        },
        "width": 800
       }
      }
     },
     "metadata": {},
     "output_type": "display_data"
    }
   ],
   "source": [
    "df_umap = pd.DataFrame(embedding, columns=['UMAP1', 'UMAP2', 'UMAP3'])\n",
    "df_umap['Species'] = df['Labels'].values\n",
    "\n",
    "fig = px.scatter_3d(\n",
    "    df_umap,\n",
    "    x='UMAP1',\n",
    "    y='UMAP2',\n",
    "    z='UMAP3',\n",
    "    color='Species',\n",
    "    title='UMAP for burst windows',\n",
    "    labels={'Species': 'Burst Type'},\n",
    "    width=800,\n",
    "    height=700\n",
    ")\n",
    "\n",
    "fig.update_traces(marker=dict(size=5))\n",
    "fig.show()\n",
    "\n",
    "embedding = reducer.fit_transform(X_scaled)\n",
    "df_umap = pd.DataFrame(embedding, columns=['UMAP1', 'UMAP2', 'UMAP3'])\n",
    "df_umap['Species'] = df['Labels'].values\n",
    "\n",
    "fig = px.scatter_3d(\n",
    "    df_umap,\n",
    "    x='UMAP1',\n",
    "    y='UMAP2',\n",
    "    z='UMAP3',\n",
    "    color='Species',\n",
    "    title='UMAP for burst features',\n",
    "    labels={'Species': 'Burst Type'},\n",
    "    width=800,\n",
    "    height=700\n",
    ")\n",
    "\n",
    "fig.update_traces(marker=dict(size=5))\n",
    "fig.show()"
   ]
  },
  {
   "cell_type": "code",
   "execution_count": 38,
   "id": "0eee2f0e",
   "metadata": {},
   "outputs": [
    {
     "name": "stderr",
     "output_type": "stream",
     "text": [
      "c:\\Users\\omgui\\AppData\\Local\\Programs\\Python\\Python313\\Lib\\site-packages\\sklearn\\utils\\deprecation.py:151: FutureWarning:\n",
      "\n",
      "'force_all_finite' was renamed to 'ensure_all_finite' in 1.6 and will be removed in 1.8.\n",
      "\n",
      "c:\\Users\\omgui\\AppData\\Local\\Programs\\Python\\Python313\\Lib\\site-packages\\umap\\umap_.py:1952: UserWarning:\n",
      "\n",
      "n_jobs value 1 overridden to 1 by setting random_state. Use no seed for parallelism.\n",
      "\n"
     ]
    },
    {
     "data": {
      "application/vnd.plotly.v1+json": {
       "config": {
        "plotlyServerURL": "https://plot.ly"
       },
       "data": [
        {
         "hovertemplate": "UMAP1=%{x}<br>UMAP2=%{y}<br>UMAP3=%{z}<br>Burst Type=%{marker.color}<extra></extra>",
         "legendgroup": "",
         "marker": {
          "color": {
           "bdata": "AAAAAAAA8D8AAAAAAADwPwAAAAAAAAAAAAAAAAAAAEAAAAAAAAAAAAAAAAAAAAAAAAAAAAAAAAAAAAAAAAAAAAAAAAAAAAAAAAAAAAAAAAAAAAAAAAAAAAAAAAAAAAAAAAAAAAAAAAAAAAAAAAAAAAAAAAAAAAAAAAAAAAAAAAAAAAAAAAAAAAAAAAAAAABAAAAAAAAAAAAAAAAAAAAAAAAAAAAAAAAAAAAAAAAAAAAAAAAAAAAAQAAAAAAAAAAAAAAAAAAAAEAAAAAAAAAAAAAAAAAAAAAAAAAAAAAAAAAAAAAAAAAAAAAAAAAAAAAAAAAAAAAAAAAAAAAAAAAAQAAAAAAAAPA/AAAAAAAA8D8AAAAAAAAAAAAAAAAAAAAAAAAAAAAAAAAAAAAAAAAAAAAAAAAAAABAAAAAAAAAAAAAAAAAAADwPwAAAAAAAAAAAAAAAAAAAAAAAAAAAADwPwAAAAAAAPA/AAAAAAAA8D8AAAAAAAAAAAAAAAAAAAAAAAAAAAAA8D8AAAAAAAAAAAAAAAAAAPA/AAAAAAAAAEAAAAAAAAAAAAAAAAAAAPA/AAAAAAAAAAAAAAAAAAAAAAAAAAAAAAAAAAAAAAAAAEAAAAAAAAAAAAAAAAAAAPA/AAAAAAAA8D8AAAAAAAAAAAAAAAAAAABAAAAAAAAAAEAAAAAAAAAAAAAAAAAAAAAAAAAAAAAAAAAAAAAAAADwPwAAAAAAAABAAAAAAAAAAAAAAAAAAAAAAAAAAAAAAAAAAAAAAAAA8D8AAAAAAAAAQAAAAAAAAABAAAAAAAAAAEAAAAAAAAAAQAAAAAAAAPA/AAAAAAAAAAAAAAAAAAAAAAAAAAAAAAAAAAAAAAAAAEAAAAAAAADwPwAAAAAAAAAAAAAAAAAAAAAAAAAAAADwPwAAAAAAAAAAAAAAAAAA8D8AAAAAAAAAAAAAAAAAAABAAAAAAAAAAAAAAAAAAAAAAAAAAAAAAABAAAAAAAAA8D8AAAAAAAAAAAAAAAAAAPA/AAAAAAAAAEAAAAAAAAAAAAAAAAAAAABAAAAAAAAAAAAAAAAAAADwPwAAAAAAAPA/AAAAAAAAAAAAAAAAAADwPwAAAAAAAABAAAAAAAAAAAAAAAAAAAAAAAAAAAAAAPA/AAAAAAAAAAAAAAAAAAAAAAAAAAAAAABAAAAAAAAA8D8AAAAAAAAAAAAAAAAAAAAAAAAAAAAAAAAAAAAAAAAAAAAAAAAAAPA/AAAAAAAAAAAAAAAAAAAAAAAAAAAAAPA/AAAAAAAAAAAAAAAAAAAAQAAAAAAAAPA/AAAAAAAAAAAAAAAAAAAAAAAAAAAAAPA/AAAAAAAAAAAAAAAAAADwPwAAAAAAAAAAAAAAAAAAAAAAAAAAAADwPwAAAAAAAABAAAAAAAAAAAAAAAAAAAAAQAAAAAAAAABAAAAAAAAAAAAAAAAAAAAAAAAAAAAAAAAAAAAAAAAA8D8AAAAAAAAAQAAAAAAAAAAAAAAAAAAAAAAAAAAAAAAAQAAAAAAAAAAAAAAAAAAAAAAAAAAAAAAAAAAAAAAAAAAAAAAAAAAAAAAAAAAAAAAAAAAAAAAAAABAAAAAAAAAAEAAAAAAAAAAAAAAAAAAAAAAAAAAAAAAAEAAAAAAAADwPwAAAAAAAPA/AAAAAAAAAAAAAAAAAADwPwAAAAAAAPA/AAAAAAAAAEAAAAAAAAAAQAAAAAAAAABAAAAAAAAAAAAAAAAAAAAAAAAAAAAAAABAAAAAAAAAAEAAAAAAAAAAQAAAAAAAAAAAAAAAAAAAAAAAAAAAAADwPwAAAAAAAAAAAAAAAAAAAAAAAAAAAAAAAAAAAAAAAPA/AAAAAAAA8D8AAAAAAAAAAAAAAAAAAAAAAAAAAAAA8D8AAAAAAAAAAAAAAAAAAAAAAAAAAAAAAAAAAAAAAAAAAAAAAAAAAAAAAAAAAAAAAEAAAAAAAAAAQAAAAAAAAAAAAAAAAAAA8D8AAAAAAAAAQAAAAAAAAAAAAAAAAAAAAAAAAAAAAAAAAAAAAAAAAABAAAAAAAAA8D8AAAAAAADwPwAAAAAAAPA/AAAAAAAAAAAAAAAAAAAAQAAAAAAAAPA/AAAAAAAAAAAAAAAAAADwPwAAAAAAAAAAAAAAAAAAAAAAAAAAAAAAAAAAAAAAAAAAAAAAAAAA8D8AAAAAAAAAQAAAAAAAAAAAAAAAAAAAAEAAAAAAAAAAAAAAAAAAAPA/AAAAAAAAAEAAAAAAAAAAAAAAAAAAAABAAAAAAAAAAEAAAAAAAADwPwAAAAAAAAAAAAAAAAAAAAAAAAAAAAAAAAAAAAAAAPA/AAAAAAAAAAAAAAAAAAAAAAAAAAAAAAAAAAAAAAAAAAAAAAAAAAAAAAAAAAAAAAAAAAAAAAAA8D8AAAAAAAAAAAAAAAAAAAAAAAAAAAAA8D8AAAAAAADwPwAAAAAAAAAAAAAAAAAA8D8AAAAAAAAAAAAAAAAAAAAAAAAAAAAA8D8AAAAAAAAAAAAAAAAAAPA/AAAAAAAA8D8AAAAAAAAAAAAAAAAAAAAAAAAAAAAAAAAAAAAAAADwPwAAAAAAAAAAAAAAAAAAAAAAAAAAAAAAAAAAAAAAAAAAAAAAAAAAAAAAAAAAAAAAQAAAAAAAAABAAAAAAAAAAAAAAAAAAAAAAAAAAAAAAPA/AAAAAAAAAAAAAAAAAAAAAAAAAAAAAPA/AAAAAAAA8D8AAAAAAAAAAAAAAAAAAAAAAAAAAAAA8D8AAAAAAAAAQAAAAAAAAPA/AAAAAAAAAEAAAAAAAAAAAAAAAAAAAABAAAAAAAAAAAAAAAAAAAAAQAAAAAAAAPA/AAAAAAAAAAAAAAAAAADwPwAAAAAAAAAAAAAAAAAAAAAAAAAAAAAAAAAAAAAAAAAAAAAAAAAA8D8AAAAAAAAAAAAAAAAAAABAAAAAAAAAAAAAAAAAAADwPwAAAAAAAAAAAAAAAAAAAEAAAAAAAAAAQAAAAAAAAAAAAAAAAAAAAAAAAAAAAAAAAAAAAAAAAPA/AAAAAAAAAAAAAAAAAADwPwAAAAAAAABAAAAAAAAAAAAAAAAAAAAAAAAAAAAAAAAAAAAAAAAAAAAAAAAAAAAAAAAAAAAAAAAAAAAAAAAAAAAAAAAAAAAAAAAAAAAAAPA/AAAAAAAAAAAAAAAAAAAAAAAAAAAAAAAAAAAAAAAAAAAAAAAAAAAAAAAAAAAAAPA/AAAAAAAA8D8AAAAAAAAAAAAAAAAAAPA/AAAAAAAAAAAAAAAAAAAAAAAAAAAAAPA/AAAAAAAAAAAAAAAAAAAAAAAAAAAAAAAAAAAAAAAAAAAAAAAAAAAAAAAAAAAAAAAAAAAAAAAAAAAAAAAAAAAAQAAAAAAAAAAAAAAAAAAA8D8AAAAAAAAAAAAAAAAAAAAAAAAAAAAAAAAAAAAAAAAAAAAAAAAAAPA/AAAAAAAAAAAAAAAAAADwPwAAAAAAAAAAAAAAAAAAAAAAAAAAAADwPwAAAAAAAABAAAAAAAAAAAAAAAAAAAAAAAAAAAAAAAAAAAAAAAAA8D8AAAAAAAAAAAAAAAAAAPA/AAAAAAAAAAAAAAAAAAAAAAAAAAAAAABAAAAAAAAAAEAAAAAAAAAAAAAAAAAAAAAAAAAAAAAAAAAAAAAAAAAAAAAAAAAAAAAAAAAAAAAAAEAAAAAAAADwPwAAAAAAAAAAAAAAAAAAAAAAAAAAAAAAQAAAAAAAAPA/AAAAAAAA8D8AAAAAAAAAAAAAAAAAAPA/AAAAAAAAAEAAAAAAAAAAAAAAAAAAAAAAAAAAAAAA8D8AAAAAAAAAAAAAAAAAAAAAAAAAAAAAAAAAAAAAAADwPwAAAAAAAPA/AAAAAAAAAAAAAAAAAAAAAAAAAAAAAAAAAAAAAAAAAAAAAAAAAAAAAAAAAAAAAAAAAAAAAAAAAAAAAAAAAAAAQAAAAAAAAPA/AAAAAAAA8D8AAAAAAADwPwAAAAAAAABAAAAAAAAA8D8AAAAAAAAAAAAAAAAAAABAAAAAAAAA8D8AAAAAAAAAAAAAAAAAAAAAAAAAAAAAAAAAAAAAAAAAAAAAAAAAAABAAAAAAAAAAEAAAAAAAAAAQAAAAAAAAAAAAAAAAAAAAAAAAAAAAAAAAAAAAAAAAABAAAAAAAAAAEAAAAAAAADwPwAAAAAAAAAAAAAAAAAA8D8AAAAAAAAAAAAAAAAAAPA/AAAAAAAA8D8AAAAAAADwPwAAAAAAAPA/AAAAAAAAAAAAAAAAAAAAQAAAAAAAAAAAAAAAAAAAAAAAAAAAAAAAAAAAAAAAAABAAAAAAAAAAEAAAAAAAAAAQAAAAAAAAPA/AAAAAAAAAEAAAAAAAAAAAAAAAAAAAAAAAAAAAAAAAAAAAAAAAAAAAAAAAAAAAAAAAAAAAAAAAAAAAAAAAAAAAAAAAAAAAABAAAAAAAAA8D8AAAAAAAAAQAAAAAAAAAAAAAAAAAAAAAAAAAAAAADwPwAAAAAAAABAAAAAAAAAAAAAAAAAAAAAQAAAAAAAAABAAAAAAAAAAEAAAAAAAAAAAAAAAAAAAPA/AAAAAAAAAAAAAAAAAAAAAAAAAAAAAAAAAAAAAAAA8D8AAAAAAAAAQAAAAAAAAAAAAAAAAAAAAAAAAAAAAAAAQAAAAAAAAPA/AAAAAAAAAAAAAAAAAAAAQAAAAAAAAAAAAAAAAAAAAAAAAAAAAAAAAAAAAAAAAAAAAAAAAAAA8D8AAAAAAAAAAAAAAAAAAAAAAAAAAAAAAAAAAAAAAAAAAAAAAAAAAAAAAAAAAAAAAAAAAAAAAAAAAAAAAAAAAAAAAAAAAAAAAAAAAAAAAAAAAAAAAAAAAAAAAAAAAAAAAAAAAAAAAAAAQAAAAAAAAAAAAAAAAAAAAAAAAAAAAAAAQAAAAAAAAABAAAAAAAAAAAAAAAAAAADwPwAAAAAAAPA/AAAAAAAAAAAAAAAAAAAAAAAAAAAAAAAAAAAAAAAAAAAAAAAAAAAAQAAAAAAAAABAAAAAAAAAAAAAAAAAAAAAAAAAAAAAAPA/AAAAAAAAAAAAAAAAAAAAAAAAAAAAAAAAAAAAAAAAAAAAAAAAAAAAAAAAAAAAAAAAAAAAAAAAAEAAAAAAAADwPwAAAAAAAAAAAAAAAAAAAAAAAAAAAAAAQAAAAAAAAAAAAAAAAAAAAAAAAAAAAAAAQAAAAAAAAPA/AAAAAAAAAEAAAAAAAAAAAAAAAAAAAAAAAAAAAAAAAEAAAAAAAAAAAAAAAAAAAPA/AAAAAAAAAEAAAAAAAADwPwAAAAAAAAAAAAAAAAAA8D8AAAAAAADwPwAAAAAAAAAAAAAAAAAA8D8AAAAAAADwPwAAAAAAAAAAAAAAAAAAAAAAAAAAAAAAAAAAAAAAAAAAAAAAAAAA8D8AAAAAAAAAAAAAAAAAAPA/AAAAAAAAAAAAAAAAAAAAAAAAAAAAAAAAAAAAAAAAAAAAAAAAAAAAQAAAAAAAAAAAAAAAAAAAAEAAAAAAAAAAQAAAAAAAAPA/AAAAAAAA8D8AAAAAAAAAAAAAAAAAAPA/AAAAAAAAAAAAAAAAAAAAAAAAAAAAAAAAAAAAAAAAAEAAAAAAAAAAAAAAAAAAAPA/AAAAAAAA8D8AAAAAAAAAAAAAAAAAAAAAAAAAAAAAAAAAAAAAAAAAQAAAAAAAAAAAAAAAAAAAAEAAAAAAAAAAQAAAAAAAAPA/AAAAAAAAAAAAAAAAAAAAQAAAAAAAAAAAAAAAAAAAAAAAAAAAAADwPwAAAAAAAAAAAAAAAAAAAAAAAAAAAAAAQAAAAAAAAPA/AAAAAAAA8D8AAAAAAAAAAAAAAAAAAPA/AAAAAAAAAAAAAAAAAAAAAAAAAAAAAABAAAAAAAAAAAAAAAAAAADwPwAAAAAAAAAAAAAAAAAAAEAAAAAAAAAAQAAAAAAAAPA/AAAAAAAAAAAAAAAAAAAAQAAAAAAAAPA/AAAAAAAA8D8AAAAAAADwPwAAAAAAAABAAAAAAAAAAAAAAAAAAAAAAAAAAAAAAAAAAAAAAAAAAAAAAAAAAAAAQAAAAAAAAABAAAAAAAAAAEAAAAAAAADwPwAAAAAAAPA/AAAAAAAAAAAAAAAAAAAAAAAAAAAAAPA/AAAAAAAAAAAAAAAAAAAAAAAAAAAAAAAAAAAAAAAAAEAAAAAAAADwPwAAAAAAAAAAAAAAAAAAAAAAAAAAAAAAAAAAAAAAAAAAAAAAAAAAAAAAAAAAAAAAAAAAAAAAAAAAAAAAAAAAAEAAAAAAAAAAAAAAAAAAAABAAAAAAAAAAAAAAAAAAAAAQAAAAAAAAPA/AAAAAAAA8D8AAAAAAAAAAAAAAAAAAAAAAAAAAAAAAAAAAAAAAAAAQAAAAAAAAABAAAAAAAAAAAAAAAAAAAAAAAAAAAAAAABAAAAAAAAA8D8AAAAAAAAAAAAAAAAAAPA/AAAAAAAA8D8AAAAAAAAAQAAAAAAAAAAAAAAAAAAAAEAAAAAAAAAAAAAAAAAAAPA/AAAAAAAAAAAAAAAAAAAAAAAAAAAAAAAAAAAAAAAAAAAAAAAAAAAAQAAAAAAAAAAAAAAAAAAA8D8AAAAAAAAAQAAAAAAAAABAAAAAAAAAAAAAAAAAAAAAAAAAAAAAAAAAAAAAAAAAAAAAAAAAAADwPwAAAAAAAAAAAAAAAAAA8D8AAAAAAAAAAAAAAAAAAABAAAAAAAAAAAAAAAAAAAAAAAAAAAAAAABAAAAAAAAAAAAAAAAAAAAAAAAAAAAAAAAAAAAAAAAAAEAAAAAAAAAAAAAAAAAAAAAAAAAAAAAAAAAAAAAAAAAAQAAAAAAAAAAAAAAAAAAAAAAAAAAAAAAAAAAAAAAAAABAAAAAAAAA8D8AAAAAAAAAAAAAAAAAAAAAAAAAAAAA8D8AAAAAAAAAAAAAAAAAAABAAAAAAAAA8D8AAAAAAAAAAAAAAAAAAABAAAAAAAAAAAAAAAAAAAAAAAAAAAAAAAAAAAAAAAAAAAAAAAAAAADwPwAAAAAAAAAAAAAAAAAAAAAAAAAAAAAAAAAAAAAAAPA/AAAAAAAAAEAAAAAAAAAAAAAAAAAAAPA/AAAAAAAAAAAAAAAAAAAAQAAAAAAAAAAAAAAAAAAA8D8AAAAAAAAAQAAAAAAAAABAAAAAAAAAAAAAAAAAAAAAAAAAAAAAAAAAAAAAAAAAAAAAAAAAAADwPwAAAAAAAAAAAAAAAAAA8D8AAAAAAAAAAAAAAAAAAAAAAAAAAAAAAAAAAAAAAAAAAAAAAAAAAAAAAAAAAAAAAAAAAAAAAADwPwAAAAAAAAAAAAAAAAAA8D8AAAAAAAAAQAAAAAAAAAAAAAAAAAAAAAAAAAAAAAAAAAAAAAAAAABAAAAAAAAAAEAAAAAAAAAAAAAAAAAAAPA/AAAAAAAAAEAAAAAAAAAAAAAAAAAAAAAAAAAAAAAAAAAAAAAAAADwPwAAAAAAAAAAAAAAAAAAAAAAAAAAAAAAAAAAAAAAAAAAAAAAAAAAAAAAAAAAAAAAAAAAAAAAAPA/AAAAAAAAAEAAAAAAAADwPwAAAAAAAAAAAAAAAAAAAAAAAAAAAAAAAAAAAAAAAAAAAAAAAAAA8D8AAAAAAADwPwAAAAAAAPA/AAAAAAAAAAAAAAAAAAAAAAAAAAAAAAAAAAAAAAAAAAAAAAAAAAAAAAAAAAAAAPA/AAAAAAAAAAAAAAAAAAAAAAAAAAAAAAAAAAAAAAAAAAAAAAAAAAAAAAAAAAAAAPA/AAAAAAAAAAAAAAAAAAAAAAAAAAAAAPA/AAAAAAAA8D8AAAAAAAAAAAAAAAAAAPA/AAAAAAAAAAAAAAAAAAAAAAAAAAAAAAAAAAAAAAAAAAAAAAAAAAAAAAAAAAAAAPA/AAAAAAAA8D8AAAAAAAAAAAAAAAAAAAAAAAAAAAAAAAAAAAAAAAAAAAAAAAAAAPA/AAAAAAAAAAAAAAAAAAAAQAAAAAAAAAAAAAAAAAAA8D8AAAAAAAAAAAAAAAAAAPA/AAAAAAAA8D8AAAAAAAAAQAAAAAAAAPA/AAAAAAAAAAAAAAAAAAAAAAAAAAAAAABAAAAAAAAAAAAAAAAAAAAAQAAAAAAAAAAAAAAAAAAAAEAAAAAAAAAAQAAAAAAAAABAAAAAAAAA8D8AAAAAAAAAAAAAAAAAAAAAAAAAAAAA8D8AAAAAAAAAQAAAAAAAAAAAAAAAAAAAAEAAAAAAAADwPwAAAAAAAAAAAAAAAAAAAEAAAAAAAAAAQAAAAAAAAAAAAAAAAAAA8D8AAAAAAAAAQAAAAAAAAAAAAAAAAAAAAAAAAAAAAADwPwAAAAAAAPA/AAAAAAAAAEAAAAAAAAAAAAAAAAAAAPA/AAAAAAAAAAAAAAAAAAAAAAAAAAAAAPA/AAAAAAAAAAAAAAAAAAAAAAAAAAAAAPA/AAAAAAAAAAAAAAAAAAAAAAAAAAAAAAAAAAAAAAAAAAA=",
           "dtype": "f8"
          },
          "coloraxis": "coloraxis",
          "size": 5,
          "symbol": "circle"
         },
         "mode": "markers",
         "name": "",
         "scene": "scene",
         "showlegend": false,
         "type": "scatter3d",
         "x": {
          "bdata": "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",
          "dtype": "f4"
         },
         "y": {
          "bdata": "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",
          "dtype": "f4"
         },
         "z": {
          "bdata": "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",
          "dtype": "f4"
         }
        }
       ],
       "layout": {
        "coloraxis": {
         "colorbar": {
          "title": {
           "text": "Burst Type"
          }
         },
         "colorscale": [
          [
           0,
           "#0d0887"
          ],
          [
           0.1111111111111111,
           "#46039f"
          ],
          [
           0.2222222222222222,
           "#7201a8"
          ],
          [
           0.3333333333333333,
           "#9c179e"
          ],
          [
           0.4444444444444444,
           "#bd3786"
          ],
          [
           0.5555555555555556,
           "#d8576b"
          ],
          [
           0.6666666666666666,
           "#ed7953"
          ],
          [
           0.7777777777777778,
           "#fb9f3a"
          ],
          [
           0.8888888888888888,
           "#fdca26"
          ],
          [
           1,
           "#f0f921"
          ]
         ]
        },
        "height": 700,
        "legend": {
         "tracegroupgap": 0
        },
        "scene": {
         "domain": {
          "x": [
           0,
           1
          ],
          "y": [
           0,
           1
          ]
         },
         "xaxis": {
          "title": {
           "text": "UMAP1"
          }
         },
         "yaxis": {
          "title": {
           "text": "UMAP2"
          }
         },
         "zaxis": {
          "title": {
           "text": "UMAP3"
          }
         }
        },
        "template": {
         "data": {
          "bar": [
           {
            "error_x": {
             "color": "#2a3f5f"
            },
            "error_y": {
             "color": "#2a3f5f"
            },
            "marker": {
             "line": {
              "color": "#E5ECF6",
              "width": 0.5
             },
             "pattern": {
              "fillmode": "overlay",
              "size": 10,
              "solidity": 0.2
             }
            },
            "type": "bar"
           }
          ],
          "barpolar": [
           {
            "marker": {
             "line": {
              "color": "#E5ECF6",
              "width": 0.5
             },
             "pattern": {
              "fillmode": "overlay",
              "size": 10,
              "solidity": 0.2
             }
            },
            "type": "barpolar"
           }
          ],
          "carpet": [
           {
            "aaxis": {
             "endlinecolor": "#2a3f5f",
             "gridcolor": "white",
             "linecolor": "white",
             "minorgridcolor": "white",
             "startlinecolor": "#2a3f5f"
            },
            "baxis": {
             "endlinecolor": "#2a3f5f",
             "gridcolor": "white",
             "linecolor": "white",
             "minorgridcolor": "white",
             "startlinecolor": "#2a3f5f"
            },
            "type": "carpet"
           }
          ],
          "choropleth": [
           {
            "colorbar": {
             "outlinewidth": 0,
             "ticks": ""
            },
            "type": "choropleth"
           }
          ],
          "contour": [
           {
            "colorbar": {
             "outlinewidth": 0,
             "ticks": ""
            },
            "colorscale": [
             [
              0,
              "#0d0887"
             ],
             [
              0.1111111111111111,
              "#46039f"
             ],
             [
              0.2222222222222222,
              "#7201a8"
             ],
             [
              0.3333333333333333,
              "#9c179e"
             ],
             [
              0.4444444444444444,
              "#bd3786"
             ],
             [
              0.5555555555555556,
              "#d8576b"
             ],
             [
              0.6666666666666666,
              "#ed7953"
             ],
             [
              0.7777777777777778,
              "#fb9f3a"
             ],
             [
              0.8888888888888888,
              "#fdca26"
             ],
             [
              1,
              "#f0f921"
             ]
            ],
            "type": "contour"
           }
          ],
          "contourcarpet": [
           {
            "colorbar": {
             "outlinewidth": 0,
             "ticks": ""
            },
            "type": "contourcarpet"
           }
          ],
          "heatmap": [
           {
            "colorbar": {
             "outlinewidth": 0,
             "ticks": ""
            },
            "colorscale": [
             [
              0,
              "#0d0887"
             ],
             [
              0.1111111111111111,
              "#46039f"
             ],
             [
              0.2222222222222222,
              "#7201a8"
             ],
             [
              0.3333333333333333,
              "#9c179e"
             ],
             [
              0.4444444444444444,
              "#bd3786"
             ],
             [
              0.5555555555555556,
              "#d8576b"
             ],
             [
              0.6666666666666666,
              "#ed7953"
             ],
             [
              0.7777777777777778,
              "#fb9f3a"
             ],
             [
              0.8888888888888888,
              "#fdca26"
             ],
             [
              1,
              "#f0f921"
             ]
            ],
            "type": "heatmap"
           }
          ],
          "histogram": [
           {
            "marker": {
             "pattern": {
              "fillmode": "overlay",
              "size": 10,
              "solidity": 0.2
             }
            },
            "type": "histogram"
           }
          ],
          "histogram2d": [
           {
            "colorbar": {
             "outlinewidth": 0,
             "ticks": ""
            },
            "colorscale": [
             [
              0,
              "#0d0887"
             ],
             [
              0.1111111111111111,
              "#46039f"
             ],
             [
              0.2222222222222222,
              "#7201a8"
             ],
             [
              0.3333333333333333,
              "#9c179e"
             ],
             [
              0.4444444444444444,
              "#bd3786"
             ],
             [
              0.5555555555555556,
              "#d8576b"
             ],
             [
              0.6666666666666666,
              "#ed7953"
             ],
             [
              0.7777777777777778,
              "#fb9f3a"
             ],
             [
              0.8888888888888888,
              "#fdca26"
             ],
             [
              1,
              "#f0f921"
             ]
            ],
            "type": "histogram2d"
           }
          ],
          "histogram2dcontour": [
           {
            "colorbar": {
             "outlinewidth": 0,
             "ticks": ""
            },
            "colorscale": [
             [
              0,
              "#0d0887"
             ],
             [
              0.1111111111111111,
              "#46039f"
             ],
             [
              0.2222222222222222,
              "#7201a8"
             ],
             [
              0.3333333333333333,
              "#9c179e"
             ],
             [
              0.4444444444444444,
              "#bd3786"
             ],
             [
              0.5555555555555556,
              "#d8576b"
             ],
             [
              0.6666666666666666,
              "#ed7953"
             ],
             [
              0.7777777777777778,
              "#fb9f3a"
             ],
             [
              0.8888888888888888,
              "#fdca26"
             ],
             [
              1,
              "#f0f921"
             ]
            ],
            "type": "histogram2dcontour"
           }
          ],
          "mesh3d": [
           {
            "colorbar": {
             "outlinewidth": 0,
             "ticks": ""
            },
            "type": "mesh3d"
           }
          ],
          "parcoords": [
           {
            "line": {
             "colorbar": {
              "outlinewidth": 0,
              "ticks": ""
             }
            },
            "type": "parcoords"
           }
          ],
          "pie": [
           {
            "automargin": true,
            "type": "pie"
           }
          ],
          "scatter": [
           {
            "fillpattern": {
             "fillmode": "overlay",
             "size": 10,
             "solidity": 0.2
            },
            "type": "scatter"
           }
          ],
          "scatter3d": [
           {
            "line": {
             "colorbar": {
              "outlinewidth": 0,
              "ticks": ""
             }
            },
            "marker": {
             "colorbar": {
              "outlinewidth": 0,
              "ticks": ""
             }
            },
            "type": "scatter3d"
           }
          ],
          "scattercarpet": [
           {
            "marker": {
             "colorbar": {
              "outlinewidth": 0,
              "ticks": ""
             }
            },
            "type": "scattercarpet"
           }
          ],
          "scattergeo": [
           {
            "marker": {
             "colorbar": {
              "outlinewidth": 0,
              "ticks": ""
             }
            },
            "type": "scattergeo"
           }
          ],
          "scattergl": [
           {
            "marker": {
             "colorbar": {
              "outlinewidth": 0,
              "ticks": ""
             }
            },
            "type": "scattergl"
           }
          ],
          "scattermap": [
           {
            "marker": {
             "colorbar": {
              "outlinewidth": 0,
              "ticks": ""
             }
            },
            "type": "scattermap"
           }
          ],
          "scattermapbox": [
           {
            "marker": {
             "colorbar": {
              "outlinewidth": 0,
              "ticks": ""
             }
            },
            "type": "scattermapbox"
           }
          ],
          "scatterpolar": [
           {
            "marker": {
             "colorbar": {
              "outlinewidth": 0,
              "ticks": ""
             }
            },
            "type": "scatterpolar"
           }
          ],
          "scatterpolargl": [
           {
            "marker": {
             "colorbar": {
              "outlinewidth": 0,
              "ticks": ""
             }
            },
            "type": "scatterpolargl"
           }
          ],
          "scatterternary": [
           {
            "marker": {
             "colorbar": {
              "outlinewidth": 0,
              "ticks": ""
             }
            },
            "type": "scatterternary"
           }
          ],
          "surface": [
           {
            "colorbar": {
             "outlinewidth": 0,
             "ticks": ""
            },
            "colorscale": [
             [
              0,
              "#0d0887"
             ],
             [
              0.1111111111111111,
              "#46039f"
             ],
             [
              0.2222222222222222,
              "#7201a8"
             ],
             [
              0.3333333333333333,
              "#9c179e"
             ],
             [
              0.4444444444444444,
              "#bd3786"
             ],
             [
              0.5555555555555556,
              "#d8576b"
             ],
             [
              0.6666666666666666,
              "#ed7953"
             ],
             [
              0.7777777777777778,
              "#fb9f3a"
             ],
             [
              0.8888888888888888,
              "#fdca26"
             ],
             [
              1,
              "#f0f921"
             ]
            ],
            "type": "surface"
           }
          ],
          "table": [
           {
            "cells": {
             "fill": {
              "color": "#EBF0F8"
             },
             "line": {
              "color": "white"
             }
            },
            "header": {
             "fill": {
              "color": "#C8D4E3"
             },
             "line": {
              "color": "white"
             }
            },
            "type": "table"
           }
          ]
         },
         "layout": {
          "annotationdefaults": {
           "arrowcolor": "#2a3f5f",
           "arrowhead": 0,
           "arrowwidth": 1
          },
          "autotypenumbers": "strict",
          "coloraxis": {
           "colorbar": {
            "outlinewidth": 0,
            "ticks": ""
           }
          },
          "colorscale": {
           "diverging": [
            [
             0,
             "#8e0152"
            ],
            [
             0.1,
             "#c51b7d"
            ],
            [
             0.2,
             "#de77ae"
            ],
            [
             0.3,
             "#f1b6da"
            ],
            [
             0.4,
             "#fde0ef"
            ],
            [
             0.5,
             "#f7f7f7"
            ],
            [
             0.6,
             "#e6f5d0"
            ],
            [
             0.7,
             "#b8e186"
            ],
            [
             0.8,
             "#7fbc41"
            ],
            [
             0.9,
             "#4d9221"
            ],
            [
             1,
             "#276419"
            ]
           ],
           "sequential": [
            [
             0,
             "#0d0887"
            ],
            [
             0.1111111111111111,
             "#46039f"
            ],
            [
             0.2222222222222222,
             "#7201a8"
            ],
            [
             0.3333333333333333,
             "#9c179e"
            ],
            [
             0.4444444444444444,
             "#bd3786"
            ],
            [
             0.5555555555555556,
             "#d8576b"
            ],
            [
             0.6666666666666666,
             "#ed7953"
            ],
            [
             0.7777777777777778,
             "#fb9f3a"
            ],
            [
             0.8888888888888888,
             "#fdca26"
            ],
            [
             1,
             "#f0f921"
            ]
           ],
           "sequentialminus": [
            [
             0,
             "#0d0887"
            ],
            [
             0.1111111111111111,
             "#46039f"
            ],
            [
             0.2222222222222222,
             "#7201a8"
            ],
            [
             0.3333333333333333,
             "#9c179e"
            ],
            [
             0.4444444444444444,
             "#bd3786"
            ],
            [
             0.5555555555555556,
             "#d8576b"
            ],
            [
             0.6666666666666666,
             "#ed7953"
            ],
            [
             0.7777777777777778,
             "#fb9f3a"
            ],
            [
             0.8888888888888888,
             "#fdca26"
            ],
            [
             1,
             "#f0f921"
            ]
           ]
          },
          "colorway": [
           "#636efa",
           "#EF553B",
           "#00cc96",
           "#ab63fa",
           "#FFA15A",
           "#19d3f3",
           "#FF6692",
           "#B6E880",
           "#FF97FF",
           "#FECB52"
          ],
          "font": {
           "color": "#2a3f5f"
          },
          "geo": {
           "bgcolor": "white",
           "lakecolor": "white",
           "landcolor": "#E5ECF6",
           "showlakes": true,
           "showland": true,
           "subunitcolor": "white"
          },
          "hoverlabel": {
           "align": "left"
          },
          "hovermode": "closest",
          "mapbox": {
           "style": "light"
          },
          "paper_bgcolor": "white",
          "plot_bgcolor": "#E5ECF6",
          "polar": {
           "angularaxis": {
            "gridcolor": "white",
            "linecolor": "white",
            "ticks": ""
           },
           "bgcolor": "#E5ECF6",
           "radialaxis": {
            "gridcolor": "white",
            "linecolor": "white",
            "ticks": ""
           }
          },
          "scene": {
           "xaxis": {
            "backgroundcolor": "#E5ECF6",
            "gridcolor": "white",
            "gridwidth": 2,
            "linecolor": "white",
            "showbackground": true,
            "ticks": "",
            "zerolinecolor": "white"
           },
           "yaxis": {
            "backgroundcolor": "#E5ECF6",
            "gridcolor": "white",
            "gridwidth": 2,
            "linecolor": "white",
            "showbackground": true,
            "ticks": "",
            "zerolinecolor": "white"
           },
           "zaxis": {
            "backgroundcolor": "#E5ECF6",
            "gridcolor": "white",
            "gridwidth": 2,
            "linecolor": "white",
            "showbackground": true,
            "ticks": "",
            "zerolinecolor": "white"
           }
          },
          "shapedefaults": {
           "line": {
            "color": "#2a3f5f"
           }
          },
          "ternary": {
           "aaxis": {
            "gridcolor": "white",
            "linecolor": "white",
            "ticks": ""
           },
           "baxis": {
            "gridcolor": "white",
            "linecolor": "white",
            "ticks": ""
           },
           "bgcolor": "#E5ECF6",
           "caxis": {
            "gridcolor": "white",
            "linecolor": "white",
            "ticks": ""
           }
          },
          "title": {
           "x": 0.05
          },
          "xaxis": {
           "automargin": true,
           "gridcolor": "white",
           "linecolor": "white",
           "ticks": "",
           "title": {
            "standoff": 15
           },
           "zerolinecolor": "white",
           "zerolinewidth": 2
          },
          "yaxis": {
           "automargin": true,
           "gridcolor": "white",
           "linecolor": "white",
           "ticks": "",
           "title": {
            "standoff": 15
           },
           "zerolinecolor": "white",
           "zerolinewidth": 2
          }
         }
        },
        "title": {
         "text": "UMAP: Burst Windows + Features"
        },
        "width": 800
       }
      }
     },
     "metadata": {},
     "output_type": "display_data"
    }
   ],
   "source": [
    "# 1. Select the 7 numerical features (exclude 'Labels')\n",
    "feature_cols = ['Amplitude', 'Width', 'RiseTime', 'FallTime', 'Skewness', 'Kurtosis', 'IBIs']\n",
    "features = df[feature_cols].values  # shape (N, 7)\n",
    "\n",
    "# 2. Combine windows and features\n",
    "combined_data = np.concatenate([windows, features], axis=1)  # shape (N, 20)\n",
    "\n",
    "# 3. Run UMAP on the combined data\n",
    "import umap\n",
    "reducer = umap.UMAP(n_components=3, random_state=42)\n",
    "embedding = reducer.fit_transform(combined_data)\n",
    "\n",
    "# 4. Plot\n",
    "import plotly.express as px\n",
    "df_umap = pd.DataFrame(embedding, columns=['UMAP1', 'UMAP2', 'UMAP3'])\n",
    "df_umap['Species'] = df['Labels'].values\n",
    "\n",
    "fig = px.scatter_3d(\n",
    "    df_umap,\n",
    "    x='UMAP1',\n",
    "    y='UMAP2',\n",
    "    z='UMAP3',\n",
    "    color='Species',\n",
    "    title='UMAP: Burst Windows + Features',\n",
    "    labels={'Species': 'Burst Type'},\n",
    "    width=800,\n",
    "    height=700\n",
    ")\n",
    "fig.update_traces(marker=dict(size=5))\n",
    "fig.show()"
   ]
  },
  {
   "cell_type": "code",
   "execution_count": null,
   "id": "7fbf5e75",
   "metadata": {},
   "outputs": [],
   "source": []
  }
 ],
 "metadata": {
  "kernelspec": {
   "display_name": "Python 3",
   "language": "python",
   "name": "python3"
  },
  "language_info": {
   "codemirror_mode": {
    "name": "ipython",
    "version": 3
   },
   "file_extension": ".py",
   "mimetype": "text/x-python",
   "name": "python",
   "nbconvert_exporter": "python",
   "pygments_lexer": "ipython3",
   "version": "3.13.4"
  }
 },
 "nbformat": 4,
 "nbformat_minor": 5
}
