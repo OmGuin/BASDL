{
 "cells": [
  {
   "cell_type": "markdown",
   "id": "b3441f3a",
   "metadata": {},
   "source": [
    "# High Concentration BAS Simulation"
   ]
  },
  {
   "cell_type": "markdown",
   "id": "a6211c07",
   "metadata": {},
   "source": [
    "## Functions"
   ]
  },
  {
   "cell_type": "code",
   "execution_count": 33,
   "id": "63eab3b3",
   "metadata": {},
   "outputs": [],
   "source": [
    "import time\n",
    "import numpy as np\n",
    "import matplotlib.pyplot as plt\n",
    "from scipy.io import savemat\n",
    "import os\n",
    "from datetime import datetime\n",
    "import json\n",
    "import plotly.graph_objects as go\n"
   ]
  },
  {
   "cell_type": "code",
   "execution_count": 28,
   "id": "44c9c090",
   "metadata": {},
   "outputs": [],
   "source": [
    "def RebinIntensity(timeBins, counts, newDt):\n",
    "    \"\"\"\n",
    "    RebinIntensity  Efficiently re-bin an intensity trace to a new time resolution\n",
    "    \n",
    "      Inputs:\n",
    "        timeBins    - Original bin-center times [s]\n",
    "        counts      - Photon counts per original bin\n",
    "        newDt       - Desired new bin width [s]\n",
    "    \n",
    "      Outputs:\n",
    "        newTimeBins - New bin-center times [s]\n",
    "        newCounts   - Photon counts per new bin\n",
    "    \"\"\"\n",
    "\n",
    "    # 1) Original bin width and span\n",
    "    tOld = timeBins[1] - timeBins[0]\n",
    "    tStart = timeBins[0] - tOld/2\n",
    "    tEnd = timeBins[-1] + tOld/2\n",
    "\n",
    "    # 2) Number of new bins\n",
    "    duration = tEnd - tStart\n",
    "    nNew = np.floor(duration / newDt).astype(int)\n",
    "\n",
    "    # 3) Compute new bin indices for each original bin\n",
    "    defIdx = np.floor((timeBins - tStart) / newDt).astype(int)\n",
    "    # ensure indices are within [0, nNew-1]\n",
    "    binIdx = np.clip(defIdx, 0, nNew-1)\n",
    "\n",
    "    # 4) Sum counts into new bins (vectorized)\n",
    "    newCounts = np.bincount(binIdx, weights=counts.flatten(), minlength=nNew)\n",
    "\n",
    "    # 5) Compute new bin centers\n",
    "    newTimeBins = tStart + np.arange(nNew)*newDt + newDt/2\n",
    "\n",
    "    # 6) Plot the rebinned intensity trace\n",
    "    # plt.figure()\n",
    "    # plt.plot(newTimeBins, newCounts, '-')\n",
    "    # plt.xlabel('Time (s)')\n",
    "    # plt.ylabel('Counts per bin')\n",
    "    # plt.title('Re-binned Intensity Trace')\n",
    "    # plt.grid(True)\n",
    "    # plt.show()\n",
    "\n",
    "    fig = go.Figure()\n",
    "\n",
    "    fig.add_trace(go.Scatter(\n",
    "        x=newTimeBins,\n",
    "        y=newCounts,\n",
    "        mode='lines',\n",
    "        name='Counts per bin'\n",
    "    ))\n",
    "\n",
    "    fig.update_layout(\n",
    "        title='Re-binned Intensity Trace',\n",
    "        xaxis_title='Time (s)',\n",
    "        yaxis_title='Counts per bin',\n",
    "        template='simple_white',\n",
    "        showlegend=False\n",
    "    )\n",
    "\n",
    "    fig.show()\n",
    "\n",
    "    return newTimeBins, newCounts"
   ]
  },
  {
   "cell_type": "code",
   "execution_count": 29,
   "id": "23c44a2f",
   "metadata": {},
   "outputs": [],
   "source": [
    "def SimPhotDiffFlowGL6(C_molar, Rp, D, totalTime, binDt, w0, axialFactor, includeBg, bgRate, beamShape, vFlow, resFactor=10):\n",
    "    \"\"\"\n",
    "    SimPhotDiffFlowGL6  Simulate photon arrivals via sweeping reservoir + reflection\n",
    "    Core elements:\n",
    "        - Pre-generated reservoir spanning resFactor * Lbox in x, ±Lbox in y,z\n",
    "        - Advective flow + diffusion each dt-step\n",
    "        - Diffusion: reflecting boundaries in excitation volume (±Lbox)\n",
    "        - No births/deaths: sweeping reservoir reused via column-wise permutation\n",
    "        - Photon thinning via fixed dt binning\n",
    "        - Binning and preview via RebinIntensity\n",
    "            This two-stage randomness\n",
    "        \n",
    "            Stage 1 (brightness jitter): Ri=biRp with bi drawn once from a non-Poisson distribution.\n",
    "        \n",
    "            Stage 2 (shot noise): photon counts in each Δt are Poisson with mean ∑RiWiΔt.\n",
    "        \n",
    "    Inputs:\n",
    "        C_molar     - concentration [mol/L]\n",
    "        Rp          - emission rate at beam center [photons/s]\n",
    "        D           - diffusion coefficient [m^2/s]\n",
    "        totalTime   - total simulation duration [s]\n",
    "        binDt       - time bin width [s]\n",
    "        w0          - lateral beam waist [m]\n",
    "        axialFactor - ratio w_z/w0 (unitless)\n",
    "        includeBg   - boolean: include Poisson background\n",
    "        bgRate      - background rate [photons/s]\n",
    "        beamShape   - 'gaussian' or 'gl'\n",
    "        vFlow       - advective flow speed in x [m/s]\n",
    "        resFactor   - reservoir length factor (multiples of Lbox) in x (default 10)\n",
    "    Outputs:\n",
    "        arrivalTimes - photon timestamps [s]\n",
    "        counts       - counts per bin\n",
    "        timeBins     - bin centers [s]\n",
    "    \"\"\"\n",
    "\n",
    "    tic = time.time()\n",
    "    # if resFactor == 10:\n",
    "    #     pass\n",
    "    # if vFlow == 0:\n",
    "    #     pass\n",
    "\n",
    "    # 1) Geometry & Constraints\n",
    "    NA = 6.022e23                   # Avogadro (#/mol)\n",
    "    C_m3 = C_molar * 1e3            # mol/L --> mol/m^3\n",
    "    w_z = axialFactor * w0          # axial waist [m]\n",
    "    Lbox = 5 * max(w0, w_z)         # half-box size [m]\n",
    "    Lres = resFactor * Lbox         # reservoir half-length [m]\n",
    "\n",
    "\n",
    "    # 2) Reservoir initialization\n",
    "    area_yz = (2*Lbox)**2           # cross-section area [m^2]\n",
    "    Vres = (2*Lres) * area_yz       # reservoir volume [m^3]\n",
    "    Nres = max(1, np.random.poisson(C_m3 * NA * Vres))  # reservoir molecules (>=1)\n",
    "    # Uniform positions in x∈[-Lres,Lres], y, z∈[-Lbox,Lbox]\n",
    "    x = (np.random.rand(Nres,1)-0.5)*2*Lres\n",
    "    y = (np.random.rand(Nres,1)-0.5)*2*Lbox\n",
    "    z = (np.random.rand(Nres,1)-0.5)*2*Lbox\n",
    "    pos = np.concatenate([x, y, z], axis=1)\n",
    "\n",
    "    # 3) Time step and diffusion\n",
    "    dt = binDt                      # timestep [s]\n",
    "    sigma = np.sqrt(2 * D * dt)     # diffusion std [m]\n",
    "    nSteps = np.ceil(totalTime/dt).astype(int)\n",
    "    if vFlow > 0:\n",
    "        stepsPerSweep = np.ceil((2*Lres) / (vFlow * dt)).astype(int)\n",
    "    else:\n",
    "        stepsPerSweep = float('inf')\n",
    "\n",
    "    # 4) Preallocate photon times\n",
    "    Veff = np.pi ** (3/2) * w0**2 * w_z                 # focal vol [m^3]\n",
    "    Navg = C_m3 * NA * Veff         # avg in focus\n",
    "    expCount = np.ceil((Navg*Rp + bgRate) * totalTime * 1.2).astype(int)\n",
    "    arrivalTimes = []#np.zeros((expCount, 1))\n",
    "    idx = 0\n",
    "\n",
    "    # 4.5) Other noise effects in emission (particle brightness variation)\n",
    "    # std of brightness fluctuations (e.g. 0.2 for ±20% jitter)\n",
    "    sigma_b = 0.2\n",
    "    #per molecule brightness factors, mean = 1\n",
    "    #b = np.exp(sigma_b * np.random.randn(Nres, 1) - 0.5 * sigma_b**2)\n",
    "    Rp_i = np.exp(np.random.normal(loc=np.log(Rp), scale=sigma_b, size=(Nres, 1)))\n",
    "\n",
    "\n",
    "    # 5) Simulation loop\n",
    "    for k in range(1, nSteps+1):\n",
    "        t0 = (k-1) * dt\n",
    "\n",
    "        # 5a) Advect reservoir in x\n",
    "        pos[:, 0] = pos[:, 0] + vFlow * dt\n",
    "\n",
    "        # 5a-ii) Periodic wrap full reservoir in x\n",
    "        pos[:, 0] = np.mod(pos[:, 0] + Lres, 2*Lres) - Lres\n",
    "\n",
    "\n",
    "        # 5b) Diffuse particles within excitation volume\n",
    "        inBox = np.abs(pos[:, 0]) <= Lbox\n",
    "        pos[inBox, :] = pos[inBox, :] + sigma * np.random.randn(np.sum(inBox), 3)\n",
    "\n",
    "        # 5c) Reflecting boundaries for diffusion inBox\n",
    "        # reflect x\n",
    "        ix = inBox & (pos[:, 0] > +Lbox)\n",
    "        pos[ix, 0] = 2*Lbox - pos[ix, 0]\n",
    "        ix = inBox & (pos[:, 0] < -Lbox)\n",
    "        pos[ix, 0] = -2 * Lbox - pos[ix, 0]\n",
    "        # reflect y\n",
    "        iy = inBox & (pos[:, 1] > +Lbox)\n",
    "        pos[iy, 1] = 2*Lbox - pos[iy, 1]\n",
    "        iy = inBox & (pos[:, 1] < -Lbox)\n",
    "        pos[iy, 1] = -2*Lbox - pos[iy, 1]\n",
    "        #reflect z\n",
    "        iz = inBox & (pos[:, 2] > +Lbox)\n",
    "        pos[iz, 2] = 2*Lbox - pos[iz, 2]\n",
    "        iz = inBox & (pos[:, 2] < -Lbox)\n",
    "        pos[iz, 2] = -2 * Lbox - pos[iz, 2]\n",
    "\n",
    "        # 5d) Photon emission + background counts\n",
    "        xy2 = np.power(pos[:, 0], 2) + np.power(pos[:, 1], 2)\n",
    "        z2 = np.power(pos[:, 2], 2)\n",
    "\n",
    "        if beamShape.lower() == 'gaussian':\n",
    "                W = np.exp(-2 * xy2/w0**2 - 2*z2/w_z**2)\n",
    "        elif beamShape.lower() == 'gl':\n",
    "                Wlat = np.exp(-2*xy2/w0**2)\n",
    "                Wax = 1 / (1 + z2/w_z**2)\n",
    "                W = Wlat * Wax\n",
    "        else:\n",
    "            raise ValueError(f\"Unknown beamShape: {beamShape}\")\n",
    "            \n",
    "        # Rtot = Rp * np.sum(W)\n",
    "        #Rtot = Rp * np.sum(b.flatten() * W)           # photons/s with particle brightness variation\n",
    "        Rtot = np.sum(Rp_i.flatten() * W)\n",
    "        Nph = np.random.poisson(Rtot * dt)\n",
    "        if includeBg:\n",
    "            Nbg = np.random.poisson(bgRate * dt)\n",
    "        else:\n",
    "            Nbg = 0\n",
    "        NtotEv = Nph + Nbg\n",
    "        if NtotEv > 0:\n",
    "            arrivalTimes.extend((t0 + np.random.rand(NtotEv) * dt).tolist())\n",
    "            #arrivalTimes[idx:idx+NtotEv, 0] = (t0 + np.random.rand(NtotEv, 1) * dt)\n",
    "            idx += NtotEv\n",
    "\n",
    "        # 5e) Permute reservoir columns every full sweep\n",
    "        if np.mod(k, stepsPerSweep) == 0:\n",
    "            perm = np.random.permutation(Nres)\n",
    "            pos[:, 0] = pos[perm, 0]\n",
    "            perm = np.random.permutation(Nres)\n",
    "            pos[:, 1] = pos[perm, 1]\n",
    "            perm = np.random.permutation(Nres)\n",
    "            pos[:, 2] = pos[perm, 2]\n",
    "    # 6) Trim arrivals\n",
    "    arrivalTimes = np.array(arrivalTimes)\n",
    "    arrivalTimes = arrivalTimes[:idx-1]\n",
    "\n",
    "    # 7) Bin into intensity trace\n",
    "    edges = np.arange(0, totalTime, binDt)\n",
    "    counts, _ = np.histogram(arrivalTimes, bins=edges)\n",
    "    timeBins = edges[:-1] + binDt/2\n",
    "\n",
    "    # 8) Preview plot (course rebin)\n",
    "    newDt = min(binDt*100, totalTime/1000)\n",
    "    newDt = 0.0005\n",
    "\n",
    "    newTimeBins, newCounts = RebinIntensity(timeBins, counts, newDt)\n",
    "    toc = time.time()\n",
    "    return arrivalTimes, counts, timeBins, Rp_i"
   ]
  },
  {
   "cell_type": "markdown",
   "id": "90d1271e",
   "metadata": {},
   "source": [
    "## Random Sim Params"
   ]
  },
  {
   "cell_type": "code",
   "execution_count": 30,
   "id": "858f26a9",
   "metadata": {},
   "outputs": [],
   "source": [
    "num_species = np.random.randint(1,4) #[1,3]\n",
    "AmpS1 = np.random.randint(500, 3000)\n",
    "AmpS2 = np.random.randint(AmpS1+1500, AmpS1+1500+2000)\n",
    "AmpS3 = np.random.randint(AmpS2+1500, AmpS2+1500+2500)\n",
    "total_conc = np.random.uniform(9e-12, 7e-11)\n",
    "min_frac = 0.15\n",
    "\n",
    "while True:\n",
    "    fractions = np.random.dirichlet([1.5] * num_species)\n",
    "    if np.all(fractions > min_frac):\n",
    "        break\n",
    "\n",
    "Frac1 = fractions[0]\n",
    "Frac2 = fractions[1] if num_species >= 2 else 0.0\n",
    "Frac3 = fractions[2] if num_species == 3 else 0.0\n",
    "conc1 = Frac1 * total_conc\n",
    "conc2 = Frac2 * total_conc\n",
    "conc3 = Frac3 * total_conc"
   ]
  },
  {
   "cell_type": "code",
   "execution_count": 35,
   "id": "7d469fcb",
   "metadata": {},
   "outputs": [
    {
     "data": {
      "application/vnd.plotly.v1+json": {
       "config": {
        "plotlyServerURL": "https://plot.ly"
       },
       "data": [
        {
         "mode": "lines",
         "name": "Counts per bin",
         "type": "scatter",
         "x": {
          "bdata": "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",
          "dtype": "f8"
         },
         "y": {
          "bdata": "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",
          "dtype": "f8"
         }
        }
       ],
       "layout": {
        "showlegend": false,
        "template": {
         "data": {
          "bar": [
           {
            "error_x": {
             "color": "rgb(36,36,36)"
            },
            "error_y": {
             "color": "rgb(36,36,36)"
            },
            "marker": {
             "line": {
              "color": "white",
              "width": 0.5
             },
             "pattern": {
              "fillmode": "overlay",
              "size": 10,
              "solidity": 0.2
             }
            },
            "type": "bar"
           }
          ],
          "barpolar": [
           {
            "marker": {
             "line": {
              "color": "white",
              "width": 0.5
             },
             "pattern": {
              "fillmode": "overlay",
              "size": 10,
              "solidity": 0.2
             }
            },
            "type": "barpolar"
           }
          ],
          "carpet": [
           {
            "aaxis": {
             "endlinecolor": "rgb(36,36,36)",
             "gridcolor": "white",
             "linecolor": "white",
             "minorgridcolor": "white",
             "startlinecolor": "rgb(36,36,36)"
            },
            "baxis": {
             "endlinecolor": "rgb(36,36,36)",
             "gridcolor": "white",
             "linecolor": "white",
             "minorgridcolor": "white",
             "startlinecolor": "rgb(36,36,36)"
            },
            "type": "carpet"
           }
          ],
          "choropleth": [
           {
            "colorbar": {
             "outlinewidth": 1,
             "tickcolor": "rgb(36,36,36)",
             "ticks": "outside"
            },
            "type": "choropleth"
           }
          ],
          "contour": [
           {
            "colorbar": {
             "outlinewidth": 1,
             "tickcolor": "rgb(36,36,36)",
             "ticks": "outside"
            },
            "colorscale": [
             [
              0,
              "#440154"
             ],
             [
              0.1111111111111111,
              "#482878"
             ],
             [
              0.2222222222222222,
              "#3e4989"
             ],
             [
              0.3333333333333333,
              "#31688e"
             ],
             [
              0.4444444444444444,
              "#26828e"
             ],
             [
              0.5555555555555556,
              "#1f9e89"
             ],
             [
              0.6666666666666666,
              "#35b779"
             ],
             [
              0.7777777777777778,
              "#6ece58"
             ],
             [
              0.8888888888888888,
              "#b5de2b"
             ],
             [
              1,
              "#fde725"
             ]
            ],
            "type": "contour"
           }
          ],
          "contourcarpet": [
           {
            "colorbar": {
             "outlinewidth": 1,
             "tickcolor": "rgb(36,36,36)",
             "ticks": "outside"
            },
            "type": "contourcarpet"
           }
          ],
          "heatmap": [
           {
            "colorbar": {
             "outlinewidth": 1,
             "tickcolor": "rgb(36,36,36)",
             "ticks": "outside"
            },
            "colorscale": [
             [
              0,
              "#440154"
             ],
             [
              0.1111111111111111,
              "#482878"
             ],
             [
              0.2222222222222222,
              "#3e4989"
             ],
             [
              0.3333333333333333,
              "#31688e"
             ],
             [
              0.4444444444444444,
              "#26828e"
             ],
             [
              0.5555555555555556,
              "#1f9e89"
             ],
             [
              0.6666666666666666,
              "#35b779"
             ],
             [
              0.7777777777777778,
              "#6ece58"
             ],
             [
              0.8888888888888888,
              "#b5de2b"
             ],
             [
              1,
              "#fde725"
             ]
            ],
            "type": "heatmap"
           }
          ],
          "histogram": [
           {
            "marker": {
             "line": {
              "color": "white",
              "width": 0.6
             }
            },
            "type": "histogram"
           }
          ],
          "histogram2d": [
           {
            "colorbar": {
             "outlinewidth": 1,
             "tickcolor": "rgb(36,36,36)",
             "ticks": "outside"
            },
            "colorscale": [
             [
              0,
              "#440154"
             ],
             [
              0.1111111111111111,
              "#482878"
             ],
             [
              0.2222222222222222,
              "#3e4989"
             ],
             [
              0.3333333333333333,
              "#31688e"
             ],
             [
              0.4444444444444444,
              "#26828e"
             ],
             [
              0.5555555555555556,
              "#1f9e89"
             ],
             [
              0.6666666666666666,
              "#35b779"
             ],
             [
              0.7777777777777778,
              "#6ece58"
             ],
             [
              0.8888888888888888,
              "#b5de2b"
             ],
             [
              1,
              "#fde725"
             ]
            ],
            "type": "histogram2d"
           }
          ],
          "histogram2dcontour": [
           {
            "colorbar": {
             "outlinewidth": 1,
             "tickcolor": "rgb(36,36,36)",
             "ticks": "outside"
            },
            "colorscale": [
             [
              0,
              "#440154"
             ],
             [
              0.1111111111111111,
              "#482878"
             ],
             [
              0.2222222222222222,
              "#3e4989"
             ],
             [
              0.3333333333333333,
              "#31688e"
             ],
             [
              0.4444444444444444,
              "#26828e"
             ],
             [
              0.5555555555555556,
              "#1f9e89"
             ],
             [
              0.6666666666666666,
              "#35b779"
             ],
             [
              0.7777777777777778,
              "#6ece58"
             ],
             [
              0.8888888888888888,
              "#b5de2b"
             ],
             [
              1,
              "#fde725"
             ]
            ],
            "type": "histogram2dcontour"
           }
          ],
          "mesh3d": [
           {
            "colorbar": {
             "outlinewidth": 1,
             "tickcolor": "rgb(36,36,36)",
             "ticks": "outside"
            },
            "type": "mesh3d"
           }
          ],
          "parcoords": [
           {
            "line": {
             "colorbar": {
              "outlinewidth": 1,
              "tickcolor": "rgb(36,36,36)",
              "ticks": "outside"
             }
            },
            "type": "parcoords"
           }
          ],
          "pie": [
           {
            "automargin": true,
            "type": "pie"
           }
          ],
          "scatter": [
           {
            "fillpattern": {
             "fillmode": "overlay",
             "size": 10,
             "solidity": 0.2
            },
            "type": "scatter"
           }
          ],
          "scatter3d": [
           {
            "line": {
             "colorbar": {
              "outlinewidth": 1,
              "tickcolor": "rgb(36,36,36)",
              "ticks": "outside"
             }
            },
            "marker": {
             "colorbar": {
              "outlinewidth": 1,
              "tickcolor": "rgb(36,36,36)",
              "ticks": "outside"
             }
            },
            "type": "scatter3d"
           }
          ],
          "scattercarpet": [
           {
            "marker": {
             "colorbar": {
              "outlinewidth": 1,
              "tickcolor": "rgb(36,36,36)",
              "ticks": "outside"
             }
            },
            "type": "scattercarpet"
           }
          ],
          "scattergeo": [
           {
            "marker": {
             "colorbar": {
              "outlinewidth": 1,
              "tickcolor": "rgb(36,36,36)",
              "ticks": "outside"
             }
            },
            "type": "scattergeo"
           }
          ],
          "scattergl": [
           {
            "marker": {
             "colorbar": {
              "outlinewidth": 1,
              "tickcolor": "rgb(36,36,36)",
              "ticks": "outside"
             }
            },
            "type": "scattergl"
           }
          ],
          "scattermap": [
           {
            "marker": {
             "colorbar": {
              "outlinewidth": 1,
              "tickcolor": "rgb(36,36,36)",
              "ticks": "outside"
             }
            },
            "type": "scattermap"
           }
          ],
          "scattermapbox": [
           {
            "marker": {
             "colorbar": {
              "outlinewidth": 1,
              "tickcolor": "rgb(36,36,36)",
              "ticks": "outside"
             }
            },
            "type": "scattermapbox"
           }
          ],
          "scatterpolar": [
           {
            "marker": {
             "colorbar": {
              "outlinewidth": 1,
              "tickcolor": "rgb(36,36,36)",
              "ticks": "outside"
             }
            },
            "type": "scatterpolar"
           }
          ],
          "scatterpolargl": [
           {
            "marker": {
             "colorbar": {
              "outlinewidth": 1,
              "tickcolor": "rgb(36,36,36)",
              "ticks": "outside"
             }
            },
            "type": "scatterpolargl"
           }
          ],
          "scatterternary": [
           {
            "marker": {
             "colorbar": {
              "outlinewidth": 1,
              "tickcolor": "rgb(36,36,36)",
              "ticks": "outside"
             }
            },
            "type": "scatterternary"
           }
          ],
          "surface": [
           {
            "colorbar": {
             "outlinewidth": 1,
             "tickcolor": "rgb(36,36,36)",
             "ticks": "outside"
            },
            "colorscale": [
             [
              0,
              "#440154"
             ],
             [
              0.1111111111111111,
              "#482878"
             ],
             [
              0.2222222222222222,
              "#3e4989"
             ],
             [
              0.3333333333333333,
              "#31688e"
             ],
             [
              0.4444444444444444,
              "#26828e"
             ],
             [
              0.5555555555555556,
              "#1f9e89"
             ],
             [
              0.6666666666666666,
              "#35b779"
             ],
             [
              0.7777777777777778,
              "#6ece58"
             ],
             [
              0.8888888888888888,
              "#b5de2b"
             ],
             [
              1,
              "#fde725"
             ]
            ],
            "type": "surface"
           }
          ],
          "table": [
           {
            "cells": {
             "fill": {
              "color": "rgb(237,237,237)"
             },
             "line": {
              "color": "white"
             }
            },
            "header": {
             "fill": {
              "color": "rgb(217,217,217)"
             },
             "line": {
              "color": "white"
             }
            },
            "type": "table"
           }
          ]
         },
         "layout": {
          "annotationdefaults": {
           "arrowhead": 0,
           "arrowwidth": 1
          },
          "autotypenumbers": "strict",
          "coloraxis": {
           "colorbar": {
            "outlinewidth": 1,
            "tickcolor": "rgb(36,36,36)",
            "ticks": "outside"
           }
          },
          "colorscale": {
           "diverging": [
            [
             0,
             "rgb(103,0,31)"
            ],
            [
             0.1,
             "rgb(178,24,43)"
            ],
            [
             0.2,
             "rgb(214,96,77)"
            ],
            [
             0.3,
             "rgb(244,165,130)"
            ],
            [
             0.4,
             "rgb(253,219,199)"
            ],
            [
             0.5,
             "rgb(247,247,247)"
            ],
            [
             0.6,
             "rgb(209,229,240)"
            ],
            [
             0.7,
             "rgb(146,197,222)"
            ],
            [
             0.8,
             "rgb(67,147,195)"
            ],
            [
             0.9,
             "rgb(33,102,172)"
            ],
            [
             1,
             "rgb(5,48,97)"
            ]
           ],
           "sequential": [
            [
             0,
             "#440154"
            ],
            [
             0.1111111111111111,
             "#482878"
            ],
            [
             0.2222222222222222,
             "#3e4989"
            ],
            [
             0.3333333333333333,
             "#31688e"
            ],
            [
             0.4444444444444444,
             "#26828e"
            ],
            [
             0.5555555555555556,
             "#1f9e89"
            ],
            [
             0.6666666666666666,
             "#35b779"
            ],
            [
             0.7777777777777778,
             "#6ece58"
            ],
            [
             0.8888888888888888,
             "#b5de2b"
            ],
            [
             1,
             "#fde725"
            ]
           ],
           "sequentialminus": [
            [
             0,
             "#440154"
            ],
            [
             0.1111111111111111,
             "#482878"
            ],
            [
             0.2222222222222222,
             "#3e4989"
            ],
            [
             0.3333333333333333,
             "#31688e"
            ],
            [
             0.4444444444444444,
             "#26828e"
            ],
            [
             0.5555555555555556,
             "#1f9e89"
            ],
            [
             0.6666666666666666,
             "#35b779"
            ],
            [
             0.7777777777777778,
             "#6ece58"
            ],
            [
             0.8888888888888888,
             "#b5de2b"
            ],
            [
             1,
             "#fde725"
            ]
           ]
          },
          "colorway": [
           "#1F77B4",
           "#FF7F0E",
           "#2CA02C",
           "#D62728",
           "#9467BD",
           "#8C564B",
           "#E377C2",
           "#7F7F7F",
           "#BCBD22",
           "#17BECF"
          ],
          "font": {
           "color": "rgb(36,36,36)"
          },
          "geo": {
           "bgcolor": "white",
           "lakecolor": "white",
           "landcolor": "white",
           "showlakes": true,
           "showland": true,
           "subunitcolor": "white"
          },
          "hoverlabel": {
           "align": "left"
          },
          "hovermode": "closest",
          "mapbox": {
           "style": "light"
          },
          "paper_bgcolor": "white",
          "plot_bgcolor": "white",
          "polar": {
           "angularaxis": {
            "gridcolor": "rgb(232,232,232)",
            "linecolor": "rgb(36,36,36)",
            "showgrid": false,
            "showline": true,
            "ticks": "outside"
           },
           "bgcolor": "white",
           "radialaxis": {
            "gridcolor": "rgb(232,232,232)",
            "linecolor": "rgb(36,36,36)",
            "showgrid": false,
            "showline": true,
            "ticks": "outside"
           }
          },
          "scene": {
           "xaxis": {
            "backgroundcolor": "white",
            "gridcolor": "rgb(232,232,232)",
            "gridwidth": 2,
            "linecolor": "rgb(36,36,36)",
            "showbackground": true,
            "showgrid": false,
            "showline": true,
            "ticks": "outside",
            "zeroline": false,
            "zerolinecolor": "rgb(36,36,36)"
           },
           "yaxis": {
            "backgroundcolor": "white",
            "gridcolor": "rgb(232,232,232)",
            "gridwidth": 2,
            "linecolor": "rgb(36,36,36)",
            "showbackground": true,
            "showgrid": false,
            "showline": true,
            "ticks": "outside",
            "zeroline": false,
            "zerolinecolor": "rgb(36,36,36)"
           },
           "zaxis": {
            "backgroundcolor": "white",
            "gridcolor": "rgb(232,232,232)",
            "gridwidth": 2,
            "linecolor": "rgb(36,36,36)",
            "showbackground": true,
            "showgrid": false,
            "showline": true,
            "ticks": "outside",
            "zeroline": false,
            "zerolinecolor": "rgb(36,36,36)"
           }
          },
          "shapedefaults": {
           "fillcolor": "black",
           "line": {
            "width": 0
           },
           "opacity": 0.3
          },
          "ternary": {
           "aaxis": {
            "gridcolor": "rgb(232,232,232)",
            "linecolor": "rgb(36,36,36)",
            "showgrid": false,
            "showline": true,
            "ticks": "outside"
           },
           "baxis": {
            "gridcolor": "rgb(232,232,232)",
            "linecolor": "rgb(36,36,36)",
            "showgrid": false,
            "showline": true,
            "ticks": "outside"
           },
           "bgcolor": "white",
           "caxis": {
            "gridcolor": "rgb(232,232,232)",
            "linecolor": "rgb(36,36,36)",
            "showgrid": false,
            "showline": true,
            "ticks": "outside"
           }
          },
          "title": {
           "x": 0.05
          },
          "xaxis": {
           "automargin": true,
           "gridcolor": "rgb(232,232,232)",
           "linecolor": "rgb(36,36,36)",
           "showgrid": false,
           "showline": true,
           "ticks": "outside",
           "title": {
            "standoff": 15
           },
           "zeroline": false,
           "zerolinecolor": "rgb(36,36,36)"
          },
          "yaxis": {
           "automargin": true,
           "gridcolor": "rgb(232,232,232)",
           "linecolor": "rgb(36,36,36)",
           "showgrid": false,
           "showline": true,
           "ticks": "outside",
           "title": {
            "standoff": 15
           },
           "zeroline": false,
           "zerolinecolor": "rgb(36,36,36)"
          }
         }
        },
        "title": {
         "text": "Re-binned Intensity Trace"
        },
        "xaxis": {
         "title": {
          "text": "Time (s)"
         }
        },
        "yaxis": {
         "title": {
          "text": "Counts per bin"
         }
        }
       }
      }
     },
     "metadata": {},
     "output_type": "display_data"
    },
    {
     "data": {
      "application/vnd.plotly.v1+json": {
       "config": {
        "plotlyServerURL": "https://plot.ly"
       },
       "data": [
        {
         "mode": "lines",
         "name": "Counts per bin",
         "type": "scatter",
         "x": {
          "bdata": "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",
          "dtype": "f8"
         },
         "y": {
          "bdata": "AAAAAAAAAAAAAAAAAAAAAAAAAAAAAAAAAAAAAAAAAAAAAAAAAAAAAAAAAAAAAAAAAAAAAAAAAAAAAAAAAAAAAAAAAAAAAAAAAAAAAAAAAAAAAAAAAAAAAAAAAAAAAAAAAAAAAAAAAAAAAAAAAAAAAAAAAAAAAAAAAAAAAAAAAAAAAAAAAAAAAAAAAAAAAAAAAAAAAAAAAAAAAAAAAAAAAAAAAAAAAAAAAAAAAAAAAAAAAAAAAAAAAAAAAAAAAAAAAAAAAAAAAAAAAAAAAAAAAAAAAAAAAAAAAAAAAAAAAAAAAAAAAAAAAAAAAAAAAAAAAAAAAAAAAAAAAAAAAAAAAAAAAAAAAAAAAAAAAAAAAAAAAAAAAAAAAAAAAAAAAAAAAAAAAAAAAAAAAAAAAAAAAAAAAAAAACBAAAAAAAAgdEAAAAAAAHiLQAAAAAAAoGxAAAAAAACAUEAAAAAAACBhQAAAAAAAAD5AAAAAAAAA8D8AAAAAAAAAAAAAAAAAAAAAAAAAAAAAAAAAAAAAAAAAAAAAAAAAAAAAAAAAAAAAAAAAAAAAAAAAAAAAAAAAAAAAAAAAAAAAAAAAAAAAAAAAAAAAAAAAAAAAAAAAAAAAAAAAAAAAAAAAAAAAAAAAAAAAAAAAAAAAAAAAAAAAAAAAAAAAAAAAAAAAAAAAAAAAAAAAAAAAAAAAAAAAAAAAAAAAAAAAAAAAAAAAAAAAAAAAAAAAAAAAAAAAAAAAAAAAAAAAAAAAAAAAAAAAAAAAAAAAAAAAAAAAAAAAAAAAAAAAAAAAAAAAAAAAAAAAAAAAAAAAAAAAAAAAAAAAAAAAAAAAAAAAAAAAAAAAAAAAAAAAAAAAAAAAAAAAAAAAAAAAAAAAAAAAAAAAAAAAAAAAAAAAAAAAAAAAAAAAAAAAAAAAAAAAAAAAAAAAAAAAAAAAAAAAAAAAAAAAAAAAAAAAAAAAAAAAAAAAAAAAAAAAAAAIQAAAAAAAADVAAAAAAACAQUAAAAAAAAA7QAAAAAAAAAhAAAAAAAAAAAAAAAAAAAAAAAAAAAAAAAAAAAAAAAAAAAAAAAAAAAAAAAAAAAAAAAAAAAAAAAAAAAAAAAAAAAAAAAAAAAAAAAAAAAAAAAAAAAAAAAAAAAAAAAAAAAAAAAAAAAAAAAAAAAAAAAAAAAAAAAAAAAAAAAAAAAAAAAAAAAAAAAAAAAAAAAAAAAAAAAAAAAAAAAAAAAAAAAAAAAAAAAAAAAAAAAAAAAAAAAAAAAAAAAAAAAAAAAAAAAAAAAAAAAAAAAAAAAAAAAAAAAAAAAAAAAAAAAAAAAAAAAAAAAAAAAAAAAAAAAAAAAAAAAAAAAAAAAAAAAAAAAAAAAAAAAAAAAAAAAAAAAAAAAAAAAAAAAAAAAAAAAAAAAAAAAAAAAAAAAAAAAAAAAAAAAAAAAAAAAAAAAAAAAAAAAAAIEAAAAAAAAA2QAAAAAAAAAAAAAAAAAAAAAAAAAAAAAAAAAAAAAAAAAAAAAAAAAAAAAAAAAAAAAAAAAAAAAAAAAAAAAAAAAAAAAAAAAAAAAAAAAAAAAAAAAAAAAAAAAAAAAAAAAAAAAAAAAAAAAAAAAAAAAAAAAAAAAAAAAAAAAAAAAAAAAAAAAAAAAAAAAAAAAAAAAAAAAAAAAAAAAAAAAAAAAAAAAAAAAAAAAAAAAAAAAAAAAAAAAAAAAAAAAAAAAAAAAAAAAAAAAAAAAAAAAAAAAAAAAAAAAAAAAAAAAAAAAAAAAAAAAAAAAAAAAAAAAAAAAAAAAAAAAAAAAAAAAAAAAAAAAAAAAAAAAAAAAAAAAAAAAAAAAAAAAAAAAAAAAAAAAAAAAAAAAAAAAAAAAAAAAAAAAAAAAAAAAAAAAAAAAAAAAAAAAAAAAAAAAAAAAAAAAAAAAAAAAAAAAAAAAAAAAAAAAAAAAAAAAAAAAAAAAAAAAAAAAAAAAAAAAAAAAAAAAAAAAAAAAAAAAAAAAAAAAAAAAAAAAAAAAAAAAAAAAAAAAAAAAAAAAAAAAAAAAAAAAAAAAAAAAAAAAAAAAAAAAAAAAAAAAAAAAAAAAAAAAAAAAAAAAAAAAAAAAAAAAAAAAAAAAAAAAAAAAAAAAAAAAAAAAAAAAA=",
          "dtype": "f8"
         }
        }
       ],
       "layout": {
        "showlegend": false,
        "template": {
         "data": {
          "bar": [
           {
            "error_x": {
             "color": "rgb(36,36,36)"
            },
            "error_y": {
             "color": "rgb(36,36,36)"
            },
            "marker": {
             "line": {
              "color": "white",
              "width": 0.5
             },
             "pattern": {
              "fillmode": "overlay",
              "size": 10,
              "solidity": 0.2
             }
            },
            "type": "bar"
           }
          ],
          "barpolar": [
           {
            "marker": {
             "line": {
              "color": "white",
              "width": 0.5
             },
             "pattern": {
              "fillmode": "overlay",
              "size": 10,
              "solidity": 0.2
             }
            },
            "type": "barpolar"
           }
          ],
          "carpet": [
           {
            "aaxis": {
             "endlinecolor": "rgb(36,36,36)",
             "gridcolor": "white",
             "linecolor": "white",
             "minorgridcolor": "white",
             "startlinecolor": "rgb(36,36,36)"
            },
            "baxis": {
             "endlinecolor": "rgb(36,36,36)",
             "gridcolor": "white",
             "linecolor": "white",
             "minorgridcolor": "white",
             "startlinecolor": "rgb(36,36,36)"
            },
            "type": "carpet"
           }
          ],
          "choropleth": [
           {
            "colorbar": {
             "outlinewidth": 1,
             "tickcolor": "rgb(36,36,36)",
             "ticks": "outside"
            },
            "type": "choropleth"
           }
          ],
          "contour": [
           {
            "colorbar": {
             "outlinewidth": 1,
             "tickcolor": "rgb(36,36,36)",
             "ticks": "outside"
            },
            "colorscale": [
             [
              0,
              "#440154"
             ],
             [
              0.1111111111111111,
              "#482878"
             ],
             [
              0.2222222222222222,
              "#3e4989"
             ],
             [
              0.3333333333333333,
              "#31688e"
             ],
             [
              0.4444444444444444,
              "#26828e"
             ],
             [
              0.5555555555555556,
              "#1f9e89"
             ],
             [
              0.6666666666666666,
              "#35b779"
             ],
             [
              0.7777777777777778,
              "#6ece58"
             ],
             [
              0.8888888888888888,
              "#b5de2b"
             ],
             [
              1,
              "#fde725"
             ]
            ],
            "type": "contour"
           }
          ],
          "contourcarpet": [
           {
            "colorbar": {
             "outlinewidth": 1,
             "tickcolor": "rgb(36,36,36)",
             "ticks": "outside"
            },
            "type": "contourcarpet"
           }
          ],
          "heatmap": [
           {
            "colorbar": {
             "outlinewidth": 1,
             "tickcolor": "rgb(36,36,36)",
             "ticks": "outside"
            },
            "colorscale": [
             [
              0,
              "#440154"
             ],
             [
              0.1111111111111111,
              "#482878"
             ],
             [
              0.2222222222222222,
              "#3e4989"
             ],
             [
              0.3333333333333333,
              "#31688e"
             ],
             [
              0.4444444444444444,
              "#26828e"
             ],
             [
              0.5555555555555556,
              "#1f9e89"
             ],
             [
              0.6666666666666666,
              "#35b779"
             ],
             [
              0.7777777777777778,
              "#6ece58"
             ],
             [
              0.8888888888888888,
              "#b5de2b"
             ],
             [
              1,
              "#fde725"
             ]
            ],
            "type": "heatmap"
           }
          ],
          "histogram": [
           {
            "marker": {
             "line": {
              "color": "white",
              "width": 0.6
             }
            },
            "type": "histogram"
           }
          ],
          "histogram2d": [
           {
            "colorbar": {
             "outlinewidth": 1,
             "tickcolor": "rgb(36,36,36)",
             "ticks": "outside"
            },
            "colorscale": [
             [
              0,
              "#440154"
             ],
             [
              0.1111111111111111,
              "#482878"
             ],
             [
              0.2222222222222222,
              "#3e4989"
             ],
             [
              0.3333333333333333,
              "#31688e"
             ],
             [
              0.4444444444444444,
              "#26828e"
             ],
             [
              0.5555555555555556,
              "#1f9e89"
             ],
             [
              0.6666666666666666,
              "#35b779"
             ],
             [
              0.7777777777777778,
              "#6ece58"
             ],
             [
              0.8888888888888888,
              "#b5de2b"
             ],
             [
              1,
              "#fde725"
             ]
            ],
            "type": "histogram2d"
           }
          ],
          "histogram2dcontour": [
           {
            "colorbar": {
             "outlinewidth": 1,
             "tickcolor": "rgb(36,36,36)",
             "ticks": "outside"
            },
            "colorscale": [
             [
              0,
              "#440154"
             ],
             [
              0.1111111111111111,
              "#482878"
             ],
             [
              0.2222222222222222,
              "#3e4989"
             ],
             [
              0.3333333333333333,
              "#31688e"
             ],
             [
              0.4444444444444444,
              "#26828e"
             ],
             [
              0.5555555555555556,
              "#1f9e89"
             ],
             [
              0.6666666666666666,
              "#35b779"
             ],
             [
              0.7777777777777778,
              "#6ece58"
             ],
             [
              0.8888888888888888,
              "#b5de2b"
             ],
             [
              1,
              "#fde725"
             ]
            ],
            "type": "histogram2dcontour"
           }
          ],
          "mesh3d": [
           {
            "colorbar": {
             "outlinewidth": 1,
             "tickcolor": "rgb(36,36,36)",
             "ticks": "outside"
            },
            "type": "mesh3d"
           }
          ],
          "parcoords": [
           {
            "line": {
             "colorbar": {
              "outlinewidth": 1,
              "tickcolor": "rgb(36,36,36)",
              "ticks": "outside"
             }
            },
            "type": "parcoords"
           }
          ],
          "pie": [
           {
            "automargin": true,
            "type": "pie"
           }
          ],
          "scatter": [
           {
            "fillpattern": {
             "fillmode": "overlay",
             "size": 10,
             "solidity": 0.2
            },
            "type": "scatter"
           }
          ],
          "scatter3d": [
           {
            "line": {
             "colorbar": {
              "outlinewidth": 1,
              "tickcolor": "rgb(36,36,36)",
              "ticks": "outside"
             }
            },
            "marker": {
             "colorbar": {
              "outlinewidth": 1,
              "tickcolor": "rgb(36,36,36)",
              "ticks": "outside"
             }
            },
            "type": "scatter3d"
           }
          ],
          "scattercarpet": [
           {
            "marker": {
             "colorbar": {
              "outlinewidth": 1,
              "tickcolor": "rgb(36,36,36)",
              "ticks": "outside"
             }
            },
            "type": "scattercarpet"
           }
          ],
          "scattergeo": [
           {
            "marker": {
             "colorbar": {
              "outlinewidth": 1,
              "tickcolor": "rgb(36,36,36)",
              "ticks": "outside"
             }
            },
            "type": "scattergeo"
           }
          ],
          "scattergl": [
           {
            "marker": {
             "colorbar": {
              "outlinewidth": 1,
              "tickcolor": "rgb(36,36,36)",
              "ticks": "outside"
             }
            },
            "type": "scattergl"
           }
          ],
          "scattermap": [
           {
            "marker": {
             "colorbar": {
              "outlinewidth": 1,
              "tickcolor": "rgb(36,36,36)",
              "ticks": "outside"
             }
            },
            "type": "scattermap"
           }
          ],
          "scattermapbox": [
           {
            "marker": {
             "colorbar": {
              "outlinewidth": 1,
              "tickcolor": "rgb(36,36,36)",
              "ticks": "outside"
             }
            },
            "type": "scattermapbox"
           }
          ],
          "scatterpolar": [
           {
            "marker": {
             "colorbar": {
              "outlinewidth": 1,
              "tickcolor": "rgb(36,36,36)",
              "ticks": "outside"
             }
            },
            "type": "scatterpolar"
           }
          ],
          "scatterpolargl": [
           {
            "marker": {
             "colorbar": {
              "outlinewidth": 1,
              "tickcolor": "rgb(36,36,36)",
              "ticks": "outside"
             }
            },
            "type": "scatterpolargl"
           }
          ],
          "scatterternary": [
           {
            "marker": {
             "colorbar": {
              "outlinewidth": 1,
              "tickcolor": "rgb(36,36,36)",
              "ticks": "outside"
             }
            },
            "type": "scatterternary"
           }
          ],
          "surface": [
           {
            "colorbar": {
             "outlinewidth": 1,
             "tickcolor": "rgb(36,36,36)",
             "ticks": "outside"
            },
            "colorscale": [
             [
              0,
              "#440154"
             ],
             [
              0.1111111111111111,
              "#482878"
             ],
             [
              0.2222222222222222,
              "#3e4989"
             ],
             [
              0.3333333333333333,
              "#31688e"
             ],
             [
              0.4444444444444444,
              "#26828e"
             ],
             [
              0.5555555555555556,
              "#1f9e89"
             ],
             [
              0.6666666666666666,
              "#35b779"
             ],
             [
              0.7777777777777778,
              "#6ece58"
             ],
             [
              0.8888888888888888,
              "#b5de2b"
             ],
             [
              1,
              "#fde725"
             ]
            ],
            "type": "surface"
           }
          ],
          "table": [
           {
            "cells": {
             "fill": {
              "color": "rgb(237,237,237)"
             },
             "line": {
              "color": "white"
             }
            },
            "header": {
             "fill": {
              "color": "rgb(217,217,217)"
             },
             "line": {
              "color": "white"
             }
            },
            "type": "table"
           }
          ]
         },
         "layout": {
          "annotationdefaults": {
           "arrowhead": 0,
           "arrowwidth": 1
          },
          "autotypenumbers": "strict",
          "coloraxis": {
           "colorbar": {
            "outlinewidth": 1,
            "tickcolor": "rgb(36,36,36)",
            "ticks": "outside"
           }
          },
          "colorscale": {
           "diverging": [
            [
             0,
             "rgb(103,0,31)"
            ],
            [
             0.1,
             "rgb(178,24,43)"
            ],
            [
             0.2,
             "rgb(214,96,77)"
            ],
            [
             0.3,
             "rgb(244,165,130)"
            ],
            [
             0.4,
             "rgb(253,219,199)"
            ],
            [
             0.5,
             "rgb(247,247,247)"
            ],
            [
             0.6,
             "rgb(209,229,240)"
            ],
            [
             0.7,
             "rgb(146,197,222)"
            ],
            [
             0.8,
             "rgb(67,147,195)"
            ],
            [
             0.9,
             "rgb(33,102,172)"
            ],
            [
             1,
             "rgb(5,48,97)"
            ]
           ],
           "sequential": [
            [
             0,
             "#440154"
            ],
            [
             0.1111111111111111,
             "#482878"
            ],
            [
             0.2222222222222222,
             "#3e4989"
            ],
            [
             0.3333333333333333,
             "#31688e"
            ],
            [
             0.4444444444444444,
             "#26828e"
            ],
            [
             0.5555555555555556,
             "#1f9e89"
            ],
            [
             0.6666666666666666,
             "#35b779"
            ],
            [
             0.7777777777777778,
             "#6ece58"
            ],
            [
             0.8888888888888888,
             "#b5de2b"
            ],
            [
             1,
             "#fde725"
            ]
           ],
           "sequentialminus": [
            [
             0,
             "#440154"
            ],
            [
             0.1111111111111111,
             "#482878"
            ],
            [
             0.2222222222222222,
             "#3e4989"
            ],
            [
             0.3333333333333333,
             "#31688e"
            ],
            [
             0.4444444444444444,
             "#26828e"
            ],
            [
             0.5555555555555556,
             "#1f9e89"
            ],
            [
             0.6666666666666666,
             "#35b779"
            ],
            [
             0.7777777777777778,
             "#6ece58"
            ],
            [
             0.8888888888888888,
             "#b5de2b"
            ],
            [
             1,
             "#fde725"
            ]
           ]
          },
          "colorway": [
           "#1F77B4",
           "#FF7F0E",
           "#2CA02C",
           "#D62728",
           "#9467BD",
           "#8C564B",
           "#E377C2",
           "#7F7F7F",
           "#BCBD22",
           "#17BECF"
          ],
          "font": {
           "color": "rgb(36,36,36)"
          },
          "geo": {
           "bgcolor": "white",
           "lakecolor": "white",
           "landcolor": "white",
           "showlakes": true,
           "showland": true,
           "subunitcolor": "white"
          },
          "hoverlabel": {
           "align": "left"
          },
          "hovermode": "closest",
          "mapbox": {
           "style": "light"
          },
          "paper_bgcolor": "white",
          "plot_bgcolor": "white",
          "polar": {
           "angularaxis": {
            "gridcolor": "rgb(232,232,232)",
            "linecolor": "rgb(36,36,36)",
            "showgrid": false,
            "showline": true,
            "ticks": "outside"
           },
           "bgcolor": "white",
           "radialaxis": {
            "gridcolor": "rgb(232,232,232)",
            "linecolor": "rgb(36,36,36)",
            "showgrid": false,
            "showline": true,
            "ticks": "outside"
           }
          },
          "scene": {
           "xaxis": {
            "backgroundcolor": "white",
            "gridcolor": "rgb(232,232,232)",
            "gridwidth": 2,
            "linecolor": "rgb(36,36,36)",
            "showbackground": true,
            "showgrid": false,
            "showline": true,
            "ticks": "outside",
            "zeroline": false,
            "zerolinecolor": "rgb(36,36,36)"
           },
           "yaxis": {
            "backgroundcolor": "white",
            "gridcolor": "rgb(232,232,232)",
            "gridwidth": 2,
            "linecolor": "rgb(36,36,36)",
            "showbackground": true,
            "showgrid": false,
            "showline": true,
            "ticks": "outside",
            "zeroline": false,
            "zerolinecolor": "rgb(36,36,36)"
           },
           "zaxis": {
            "backgroundcolor": "white",
            "gridcolor": "rgb(232,232,232)",
            "gridwidth": 2,
            "linecolor": "rgb(36,36,36)",
            "showbackground": true,
            "showgrid": false,
            "showline": true,
            "ticks": "outside",
            "zeroline": false,
            "zerolinecolor": "rgb(36,36,36)"
           }
          },
          "shapedefaults": {
           "fillcolor": "black",
           "line": {
            "width": 0
           },
           "opacity": 0.3
          },
          "ternary": {
           "aaxis": {
            "gridcolor": "rgb(232,232,232)",
            "linecolor": "rgb(36,36,36)",
            "showgrid": false,
            "showline": true,
            "ticks": "outside"
           },
           "baxis": {
            "gridcolor": "rgb(232,232,232)",
            "linecolor": "rgb(36,36,36)",
            "showgrid": false,
            "showline": true,
            "ticks": "outside"
           },
           "bgcolor": "white",
           "caxis": {
            "gridcolor": "rgb(232,232,232)",
            "linecolor": "rgb(36,36,36)",
            "showgrid": false,
            "showline": true,
            "ticks": "outside"
           }
          },
          "title": {
           "x": 0.05
          },
          "xaxis": {
           "automargin": true,
           "gridcolor": "rgb(232,232,232)",
           "linecolor": "rgb(36,36,36)",
           "showgrid": false,
           "showline": true,
           "ticks": "outside",
           "title": {
            "standoff": 15
           },
           "zeroline": false,
           "zerolinecolor": "rgb(36,36,36)"
          },
          "yaxis": {
           "automargin": true,
           "gridcolor": "rgb(232,232,232)",
           "linecolor": "rgb(36,36,36)",
           "showgrid": false,
           "showline": true,
           "ticks": "outside",
           "title": {
            "standoff": 15
           },
           "zeroline": false,
           "zerolinecolor": "rgb(36,36,36)"
          }
         }
        },
        "title": {
         "text": "Re-binned Intensity Trace"
        },
        "xaxis": {
         "title": {
          "text": "Time (s)"
         }
        },
        "yaxis": {
         "title": {
          "text": "Counts per bin"
         }
        }
       }
      }
     },
     "metadata": {},
     "output_type": "display_data"
    }
   ],
   "source": [
    "truedist1 = np.array([])\n",
    "truedist2 = np.array([])\n",
    "truedist3 = np.array([])\n",
    "at1 = np.array([])\n",
    "at2 = np.array([])\n",
    "at3 = np.array([])\n",
    "\n",
    "arrivalTimes1, counts, timeBins, Rp_i1 = SimPhotDiffFlowGL6(C_molar = conc1,\n",
    "                                                     Rp = AmpS1/500e-6, \n",
    "                                                     D = 1e-12, \n",
    "                                                     totalTime = 0.1, \n",
    "                                                     binDt = 1e-6, \n",
    "                                                     w0 = 3e-7, \n",
    "                                                     axialFactor = 3, \n",
    "                                                     includeBg = True, \n",
    "                                                     bgRate = 5e3, \n",
    "                                                     beamShape = 'gl',\n",
    "                                                     vFlow=5e-4)\n",
    "truedist1 = Rp_i1\n",
    "at1 = arrivalTimes1\n",
    "\n",
    "if num_species >= 2:\n",
    "    arrivalTimes2, counts, timeBins, Rp_i2 = SimPhotDiffFlowGL6(C_molar = conc2,\n",
    "                                                        Rp = AmpS2/500e-6, \n",
    "                                                        D = 1e-12, \n",
    "                                                        totalTime = 0.1, \n",
    "                                                        binDt = 1e-6, \n",
    "                                                        w0 = 3e-7, \n",
    "                                                        axialFactor = 3, \n",
    "                                                        includeBg = False, \n",
    "                                                        bgRate = 0, \n",
    "                                                        beamShape = 'gl',\n",
    "                                                        vFlow=5e-4)\n",
    "    truedist2 = Rp_i2\n",
    "    at2 = arrivalTimes2\n",
    "if num_species == 3:\n",
    "    arrivalTimes3, counts, timeBins, Rp_i3 = SimPhotDiffFlowGL6(C_molar = conc3,\n",
    "                                                        Rp = AmpS3/500e-6, \n",
    "                                                        D = 1e-12, \n",
    "                                                        totalTime = 0.1, \n",
    "                                                        binDt = 1e-6, \n",
    "                                                        w0 = 3e-7, \n",
    "                                                        axialFactor = 3, \n",
    "                                                        includeBg = False, \n",
    "                                                        bgRate = 0, \n",
    "                                                        beamShape = 'gl',\n",
    "                                                        vFlow=5e-4)\n",
    "    truedist3 = Rp_i3\n",
    "    at3 = arrivalTimes3"
   ]
  },
  {
   "cell_type": "code",
   "execution_count": null,
   "id": "5c7c45f0",
   "metadata": {},
   "outputs": [
    {
     "data": {
      "image/png": "[encoded data removed]",
      "text/plain": [
       "<Figure size 640x480 with 1 Axes>"
      ]
     },
     "metadata": {},
     "output_type": "display_data"
    }
   ],
   "source": [
    "fullBrightDist = np.concatenate([truedist1.flatten()*500e-6, truedist2.flatten()*500e-6, truedist3.flatten()*500e-6])\n",
    "bins = np.linspace(0, 12000, 21)\n",
    "truedist, bin_edges_true_dist = np.histogram(fullBrightDist, bins = bins)\n",
    "plt.bar(bin_edges_true_dist[:-1], truedist, width=np.diff(bin_edges_true_dist), edgecolor='black', align='edge')\n",
    "plt.title('Underlying Brightness Distribution', fontsize=14)\n",
    "plt.xlabel('Fluorescence Intensity', fontsize=12)\n",
    "plt.ylabel('Number of particles', fontsize=12)\n",
    "plt.grid(True, linestyle='--', alpha=0.7)"
   ]
  },
  {
   "cell_type": "code",
   "execution_count": 37,
   "id": "bbd3f194",
   "metadata": {},
   "outputs": [],
   "source": [
    "fullTOAs = np.concatenate([at1, at2, at3])\n",
    "fullTOAs = np.sort(fullTOAs)"
   ]
  },
  {
   "cell_type": "markdown",
   "id": "e37264d9",
   "metadata": {},
   "source": [
    "## Mild Preprocessing \n",
    "Generate PCH for model input"
   ]
  },
  {
   "cell_type": "code",
   "execution_count": 61,
   "id": "19b29a75",
   "metadata": {},
   "outputs": [
    {
     "data": {
      "image/png": "[encoded data removed]",
      "text/plain": [
       "<Figure size 640x480 with 1 Axes>"
      ]
     },
     "metadata": {},
     "output_type": "display_data"
    }
   ],
   "source": [
    "bins_hist = np.linspace(0, 0.1, int((0.1)/(500e-6)) + 1)\n",
    "histA, edges = np.histogram(fullTOAs, bins_hist)\n",
    "PCHedges = np.linspace(0, 12000, 101) \n",
    "PCHbins, _ = np.histogram(histA, bins=PCHedges)\n",
    "plt.bar(PCHedges[:-1], PCHbins, width=np.diff(PCHedges), edgecolor='black', align='edge')\n",
    "plt.title('Photon Counting Histogram', fontsize=14)\n",
    "plt.xlabel('Counts per bin', fontsize=12)\n",
    "plt.ylabel('Number of bins', fontsize=12)\n",
    "plt.grid(True, linestyle='--', alpha=0.7)\n",
    "plt.show()"
   ]
  },
  {
   "cell_type": "code",
   "execution_count": 94,
   "id": "ee515e01",
   "metadata": {},
   "outputs": [],
   "source": [
    "GT = {\n",
    "    \"Amplitudes\":{\n",
    "        \"AmpS1\":AmpS1,\n",
    "        \"AmpS2\":AmpS2,\n",
    "        \"AmpS3\":AmpS3\n",
    "    },\n",
    "    \"ActualFractions\": {\n",
    "        \"Frac1\": Frac1,\n",
    "        \"Frac2\": Frac2,\n",
    "        \"Frac3\": Frac3\n",
    "    },\n",
    "    \"ActualConcentrations\":{\n",
    "        \"Species1\":conc1,\n",
    "        \"Species2\":conc2,\n",
    "        \"Species3\":conc3\n",
    "    },\n",
    "    \"Extra\":{\n",
    "        \"Concentration\":total_conc\n",
    "    }\n",
    "}"
   ]
  },
  {
   "cell_type": "markdown",
   "id": "318c4aa9",
   "metadata": {},
   "source": [
    "## Save simulation files"
   ]
  },
  {
   "cell_type": "code",
   "execution_count": 288,
   "id": "500f7ea5",
   "metadata": {},
   "outputs": [
    {
     "data": {
      "text/plain": [
       "<Figure size 640x480 with 0 Axes>"
      ]
     },
     "metadata": {},
     "output_type": "display_data"
    }
   ],
   "source": [
    "data_dir = \"sim_data_highconc\"\n",
    "os.makedirs(data_dir, exist_ok=True)\n",
    "tstr = datetime.now().strftime('%d%b%y-%H%M%S')\n",
    "savedir = os.path.join(data_dir, f\"HCSim_{tstr}\")\n",
    "os.makedirs(savedir, exist_ok=True)\n",
    "with open(os.path.join(savedir, f\"GT.json\"), 'w') as f:\n",
    "    json.dump(GT, f, indent=4)\n",
    "parfile = os.path.join(savedir, f\"{tstr}-preparams.par\")\n",
    "plt.savefig(os.path.join(savedir, 'truedist.png'), dpi=300, bbox_inches='tight')\n",
    "with open(parfile, 'w') as fpar:\n",
    "    fpar.write('%%%% (maintain 5 header lines) \\n')\n",
    "    fpar.write('These data represent simulated data with up to 3 independent populations \\n')\n",
    "    fpar.write('This is \\'high concentration\\' data -- data at a concentration where diffusion is significant \\n')\n",
    "    fpar.write('. \\n')\n",
    "    fpar.write('%%%% \\n\\n')\n",
    "\n",
    "    filenamedat = f\"{tstr}-1\"\n",
    "    fpar.write(filenamedat + \"\\n\")\n",
    "    filenamedatpath = os.path.join(savedir, filenamedat)\n",
    "    with open(filenamedatpath, \"w\") as fdata:\n",
    "        fdata.write(f'{tstr}\\n\\n')\n",
    "        fdata.write('Total acquisition time: 60 sec \\n')\n",
    "        fdata.write('MT Clock: 1 sec\\n')\n",
    "        fdata.write('Bin width for correlator intensity data: 500.00 usec \\n')\n",
    "        fdata.write('Scan diamater: 0.40 mm \\n')\n",
    "        fdata.write('Scan speed: 0.50 mm/sec \\n')\n",
    "        fdata.write('Lasers Active: 488 @ 0.050 mW \\n')\n",
    "        fdata.write('Laser modulation not active \\n')\n",
    "        fdata.write('Notes: \\n')\n",
    "        fdata.write('Simulated data\\n')\n",
    "        fdata.write('***end header*** \\n\\n')\n",
    "        fdata.write('I_A\\n')\n",
    "\n",
    "        for row in fullTOAs:\n",
    "            fdata.write(f\"{row:.17e}\\n\")\n",
    "\n",
    "with open(parfile, 'a') as fpar:\n",
    "    fpar.write(\"\\n\")\n",
    "    fpar.write(\"datatype TotTime MTclock bintime driftwinA driftwinB driftwinC threshA threshB threshC corrt dofit colA colB colC\\n\")\n",
    "    formatSpec = '%d %f %.2e %.6f %d %d %d %d %d %d %.3f %d %d %d %d\\n'\n",
    "    fpar.write(formatSpec % (1, 0.1, 1, 0.000500, 0, 0, 0, 1, 1, 1, 0.003, 0, 1, 0, 0))\n"
   ]
  },
  {
   "cell_type": "markdown",
   "id": "80c03918",
   "metadata": {},
   "source": [
    "## Save for MATLAB FCS Autocorrelation\n",
    "run `load('arrivalTimes.mat')` in MATLAB terminal\n",
    "\n",
    "then, run `FCSParams`\n",
    "\n",
    "last, run `InteractiveFCSArrivalPlot_flow(arrivalTimes, w0, 3)`"
   ]
  },
  {
   "cell_type": "code",
   "execution_count": null,
   "id": "4a11e1e0",
   "metadata": {},
   "outputs": [],
   "source": [
    "savemat(os.path.join(\"MATLAB_originals\", \"arrivalTimes.mat\"), {\"arrivalTimes\": fullTOAs.reshape(-1, 1)})"
   ]
  },
  {
   "cell_type": "code",
   "execution_count": null,
   "id": "de4384b9",
   "metadata": {},
   "outputs": [],
   "source": []
  }
 ],
 "metadata": {
  "kernelspec": {
   "display_name": "Python 3",
   "language": "python",
   "name": "python3"
  },
  "language_info": {
   "codemirror_mode": {
    "name": "ipython",
    "version": 3
   },
   "file_extension": ".py",
   "mimetype": "text/x-python",
   "name": "python",
   "nbconvert_exporter": "python",
   "pygments_lexer": "ipython3",
   "version": "3.13.4"
  }
 },
 "nbformat": 4,
 "nbformat_minor": 5
}
