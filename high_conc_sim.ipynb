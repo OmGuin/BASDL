{
 "cells": [
  {
   "cell_type": "markdown",
   "id": "b3441f3a",
   "metadata": {},
   "source": [
    "# High Concentration BAS Simulation"
   ]
  },
  {
   "cell_type": "markdown",
   "id": "a6211c07",
   "metadata": {},
   "source": [
    "## Functions"
   ]
  },
  {
   "cell_type": "code",
   "execution_count": 1,
   "id": "63eab3b3",
   "metadata": {},
   "outputs": [],
   "source": [
    "import time\n",
    "import numpy as np\n",
    "import matplotlib.pyplot as plt\n",
    "from scipy.io import savemat\n",
    "import os\n",
    "from datetime import datetime\n",
    "import json\n",
    "import plotly.graph_objects as go"
   ]
  },
  {
   "cell_type": "code",
   "execution_count": 2,
   "id": "44c9c090",
   "metadata": {},
   "outputs": [],
   "source": [
    "def RebinIntensity(timeBins, counts, newDt):\n",
    "    \"\"\"\n",
    "    RebinIntensity  Efficiently re-bin an intensity trace to a new time resolution\n",
    "    \n",
    "      Inputs:\n",
    "        timeBins    - Original bin-center times [s]\n",
    "        counts      - Photon counts per original bin\n",
    "        newDt       - Desired new bin width [s]\n",
    "    \n",
    "      Outputs:\n",
    "        newTimeBins - New bin-center times [s]\n",
    "        newCounts   - Photon counts per new bin\n",
    "    \"\"\"\n",
    "\n",
    "    # 1) Original bin width and span\n",
    "    tOld = timeBins[1] - timeBins[0]\n",
    "    tStart = timeBins[0] - tOld/2\n",
    "    tEnd = timeBins[-1] + tOld/2\n",
    "\n",
    "    # 2) Number of new bins\n",
    "    duration = tEnd - tStart\n",
    "    nNew = np.floor(duration / newDt).astype(int)\n",
    "\n",
    "    # 3) Compute new bin indices for each original bin\n",
    "    defIdx = np.floor((timeBins - tStart) / newDt).astype(int)\n",
    "    # ensure indices are within [0, nNew-1]\n",
    "    binIdx = np.clip(defIdx, 0, nNew-1)\n",
    "\n",
    "    # 4) Sum counts into new bins (vectorized)\n",
    "    newCounts = np.bincount(binIdx, weights=counts.flatten(), minlength=nNew)\n",
    "\n",
    "    # 5) Compute new bin centers\n",
    "    newTimeBins = tStart + np.arange(nNew)*newDt + newDt/2\n",
    "\n",
    "    # 6) Plot the rebinned intensity trace\n",
    "    # plt.figure()\n",
    "    # plt.plot(newTimeBins, newCounts, '-')\n",
    "    # plt.xlabel('Time (s)')\n",
    "    # plt.ylabel('Counts per bin')\n",
    "    # plt.title('Re-binned Intensity Trace')\n",
    "    # plt.grid(True)\n",
    "    # plt.show()\n",
    "\n",
    "    fig = go.Figure()\n",
    "\n",
    "    fig.add_trace(go.Scatter(\n",
    "        x=newTimeBins,\n",
    "        y=newCounts,\n",
    "        mode='lines',\n",
    "        name='Counts per bin'\n",
    "    ))\n",
    "\n",
    "    fig.update_layout(\n",
    "        title='Re-binned Intensity Trace',\n",
    "        xaxis_title='Time (s)',\n",
    "        yaxis_title='Counts per bin',\n",
    "        template='simple_white',\n",
    "        showlegend=False\n",
    "    )\n",
    "\n",
    "    fig.show()\n",
    "\n",
    "    return newTimeBins, newCounts"
   ]
  },
  {
   "cell_type": "code",
   "execution_count": 3,
   "id": "23c44a2f",
   "metadata": {},
   "outputs": [],
   "source": [
    "def SimPhotDiffFlowGL6(C_molar, Rp, D, totalTime, binDt, w0, axialFactor, includeBg, bgRate, beamShape, vFlow, resFactor=10):\n",
    "    \"\"\"\n",
    "    SimPhotDiffFlowGL6  Simulate photon arrivals via sweeping reservoir + reflection\n",
    "    Core elements:\n",
    "        - Pre-generated reservoir spanning resFactor * Lbox in x, ±Lbox in y,z\n",
    "        - Advective flow + diffusion each dt-step\n",
    "        - Diffusion: reflecting boundaries in excitation volume (±Lbox)\n",
    "        - No births/deaths: sweeping reservoir reused via column-wise permutation\n",
    "        - Photon thinning via fixed dt binning\n",
    "        - Binning and preview via RebinIntensity\n",
    "            This two-stage randomness\n",
    "        \n",
    "            Stage 1 (brightness jitter): Ri=biRp with bi drawn once from a non-Poisson distribution.\n",
    "        \n",
    "            Stage 2 (shot noise): photon counts in each Δt are Poisson with mean ∑RiWiΔt.\n",
    "        \n",
    "    Inputs:\n",
    "        C_molar     - concentration [mol/L]\n",
    "        Rp          - emission rate at beam center [photons/s]\n",
    "        D           - diffusion coefficient [m^2/s]\n",
    "        totalTime   - total simulation duration [s]\n",
    "        binDt       - time bin width [s]\n",
    "        w0          - lateral beam waist [m]\n",
    "        axialFactor - ratio w_z/w0 (unitless)\n",
    "        includeBg   - boolean: include Poisson background\n",
    "        bgRate      - background rate [photons/s]\n",
    "        beamShape   - 'gaussian' or 'gl'\n",
    "        vFlow       - advective flow speed in x [m/s]\n",
    "        resFactor   - reservoir length factor (multiples of Lbox) in x (default 10)\n",
    "    Outputs:\n",
    "        arrivalTimes - photon timestamps [s]\n",
    "        counts       - counts per bin\n",
    "        timeBins     - bin centers [s]\n",
    "    \"\"\"\n",
    "\n",
    "    tic = time.time()\n",
    "    # if resFactor == 10:\n",
    "    #     pass\n",
    "    # if vFlow == 0:\n",
    "    #     pass\n",
    "\n",
    "    # 1) Geometry & Constraints\n",
    "    NA = 6.022e23                   # Avogadro (#/mol)\n",
    "    C_m3 = C_molar * 1e3            # mol/L --> mol/m^3\n",
    "    w_z = axialFactor * w0          # axial waist [m]\n",
    "    Lbox = 5 * max(w0, w_z)         # half-box size [m]\n",
    "    Lres = resFactor * Lbox         # reservoir half-length [m]\n",
    "\n",
    "\n",
    "    # 2) Reservoir initialization\n",
    "    area_yz = (2*Lbox)**2           # cross-section area [m^2]\n",
    "    Vres = (2*Lres) * area_yz       # reservoir volume [m^3]\n",
    "    Nres = max(1, np.random.poisson(C_m3 * NA * Vres))  # reservoir molecules (>=1)\n",
    "    # Uniform positions in x∈[-Lres,Lres], y, z∈[-Lbox,Lbox]\n",
    "    x = (np.random.rand(Nres,1)-0.5)*2*Lres\n",
    "    y = (np.random.rand(Nres,1)-0.5)*2*Lbox\n",
    "    z = (np.random.rand(Nres,1)-0.5)*2*Lbox\n",
    "    pos = np.concatenate([x, y, z], axis=1)\n",
    "\n",
    "    # 3) Time step and diffusion\n",
    "    dt = binDt                      # timestep [s]\n",
    "    sigma = np.sqrt(2 * D * dt)     # diffusion std [m]\n",
    "    nSteps = np.ceil(totalTime/dt).astype(int)\n",
    "    if vFlow > 0:\n",
    "        stepsPerSweep = np.ceil((2*Lres) / (vFlow * dt)).astype(int)\n",
    "    else:\n",
    "        stepsPerSweep = float('inf')\n",
    "\n",
    "    # 4) Preallocate photon times\n",
    "    Veff = np.pi ** (3/2) * w0**2 * w_z                 # focal vol [m^3]\n",
    "    Navg = C_m3 * NA * Veff         # avg in focus\n",
    "    expCount = np.ceil((Navg*Rp + bgRate) * totalTime * 1.2).astype(int)\n",
    "    arrivalTimes = []#np.zeros((expCount, 1))\n",
    "    idx = 0\n",
    "\n",
    "    # 4.5) Other noise effects in emission (particle brightness variation)\n",
    "    # std of brightness fluctuations (e.g. 0.2 for ±20% jitter)\n",
    "    sigma_b = 0.2\n",
    "    #per molecule brightness factors, mean = 1\n",
    "    #b = np.exp(sigma_b * np.random.randn(Nres, 1) - 0.5 * sigma_b**2)\n",
    "    Rp_i = np.exp(np.random.normal(loc=np.log(Rp), scale=sigma_b, size=(Nres, 1)))\n",
    "\n",
    "\n",
    "    # 5) Simulation loop\n",
    "    for k in range(1, nSteps+1):\n",
    "        t0 = (k-1) * dt\n",
    "\n",
    "        # 5a) Advect reservoir in x\n",
    "        pos[:, 0] = pos[:, 0] + vFlow * dt\n",
    "\n",
    "        # 5a-ii) Periodic wrap full reservoir in x\n",
    "        pos[:, 0] = np.mod(pos[:, 0] + Lres, 2*Lres) - Lres\n",
    "\n",
    "\n",
    "        # 5b) Diffuse particles within excitation volume\n",
    "        inBox = np.abs(pos[:, 0]) <= Lbox\n",
    "        pos[inBox, :] = pos[inBox, :] + sigma * np.random.randn(np.sum(inBox), 3)\n",
    "\n",
    "        # 5c) Reflecting boundaries for diffusion inBox\n",
    "        # reflect x\n",
    "        ix = inBox & (pos[:, 0] > +Lbox)\n",
    "        pos[ix, 0] = 2*Lbox - pos[ix, 0]\n",
    "        ix = inBox & (pos[:, 0] < -Lbox)\n",
    "        pos[ix, 0] = -2 * Lbox - pos[ix, 0]\n",
    "        # reflect y\n",
    "        iy = inBox & (pos[:, 1] > +Lbox)\n",
    "        pos[iy, 1] = 2*Lbox - pos[iy, 1]\n",
    "        iy = inBox & (pos[:, 1] < -Lbox)\n",
    "        pos[iy, 1] = -2*Lbox - pos[iy, 1]\n",
    "        #reflect z\n",
    "        iz = inBox & (pos[:, 2] > +Lbox)\n",
    "        pos[iz, 2] = 2*Lbox - pos[iz, 2]\n",
    "        iz = inBox & (pos[:, 2] < -Lbox)\n",
    "        pos[iz, 2] = -2 * Lbox - pos[iz, 2]\n",
    "\n",
    "        # 5d) Photon emission + background counts\n",
    "        xy2 = np.power(pos[:, 0], 2) + np.power(pos[:, 1], 2)\n",
    "        z2 = np.power(pos[:, 2], 2)\n",
    "\n",
    "        if beamShape.lower() == 'gaussian':\n",
    "                W = np.exp(-2 * xy2/w0**2 - 2*z2/w_z**2)\n",
    "        elif beamShape.lower() == 'gl':\n",
    "                Wlat = np.exp(-2*xy2/w0**2)\n",
    "                Wax = 1 / (1 + z2/w_z**2)\n",
    "                W = Wlat * Wax\n",
    "        else:\n",
    "            raise ValueError(f\"Unknown beamShape: {beamShape}\")\n",
    "            \n",
    "        # Rtot = Rp * np.sum(W)\n",
    "        #Rtot = Rp * np.sum(b.flatten() * W)           # photons/s with particle brightness variation\n",
    "        Rtot = np.sum(Rp_i.flatten() * W)\n",
    "        Nph = np.random.poisson(Rtot * dt)\n",
    "        if includeBg:\n",
    "            Nbg = np.random.poisson(bgRate * dt)\n",
    "        else:\n",
    "            Nbg = 0\n",
    "        NtotEv = Nph + Nbg\n",
    "        if NtotEv > 0:\n",
    "            arrivalTimes.extend((t0 + np.random.rand(NtotEv) * dt).tolist())\n",
    "            #arrivalTimes[idx:idx+NtotEv, 0] = (t0 + np.random.rand(NtotEv, 1) * dt)\n",
    "            idx += NtotEv\n",
    "\n",
    "        # 5e) Permute reservoir columns every full sweep\n",
    "        if np.mod(k, stepsPerSweep) == 0:\n",
    "            perm = np.random.permutation(Nres)\n",
    "            pos[:, 0] = pos[perm, 0]\n",
    "            perm = np.random.permutation(Nres)\n",
    "            pos[:, 1] = pos[perm, 1]\n",
    "            perm = np.random.permutation(Nres)\n",
    "            pos[:, 2] = pos[perm, 2]\n",
    "    # 6) Trim arrivals\n",
    "    arrivalTimes = np.array(arrivalTimes)\n",
    "    arrivalTimes = arrivalTimes[:idx-1]\n",
    "\n",
    "    # 7) Bin into intensity trace\n",
    "    edges = np.arange(0, totalTime, binDt)\n",
    "    counts, _ = np.histogram(arrivalTimes, bins=edges)\n",
    "    timeBins = edges[:-1] + binDt/2\n",
    "\n",
    "    # 8) Preview plot (course rebin)\n",
    "    newDt = min(binDt*100, totalTime/1000)\n",
    "    newDt = 0.0005\n",
    "\n",
    "    newTimeBins, newCounts = RebinIntensity(timeBins, counts, newDt)\n",
    "    toc = time.time()\n",
    "    return arrivalTimes, counts, timeBins, Rp_i"
   ]
  },
  {
   "cell_type": "markdown",
   "id": "90d1271e",
   "metadata": {},
   "source": [
    "## Simulation Params"
   ]
  },
  {
   "cell_type": "markdown",
   "id": "0a0338c3",
   "metadata": {},
   "source": [
    "### Fixed"
   ]
  },
  {
   "cell_type": "code",
   "execution_count": 219,
   "id": "0923a716",
   "metadata": {},
   "outputs": [],
   "source": [
    "w0 = 3e-7\n",
    "D = 1e-11\n",
    "tau_d = w0**2 / (24*D)\n",
    "binDt = tau_d/1000\n",
    "\n",
    "vFlow = 5e-4\n",
    "totaltime = 10\n",
    "axialFactor = 3\n",
    "tau_d, binDt\n",
    "binDt = 1e-6"
   ]
  },
  {
   "cell_type": "code",
   "execution_count": 220,
   "id": "858f26a9",
   "metadata": {},
   "outputs": [],
   "source": [
    "\n",
    "num_species = 1#np.random.randint(1,4) #[1,3]\n",
    "AmpS1 = 1000#np.random.randint(500, 3000)\n",
    "AmpS2 = 6500#np.random.randint(AmpS1+1500, AmpS1+1500+2000)\n",
    "AmpS3 = 10500#np.random.randint(AmpS2+1500, AmpS2+1500+2500)\n",
    "total_conc = 3e-11#np.random.uniform(9e-12, 7e-11)\n",
    "min_frac = 0.15\n",
    "\n",
    "while True:\n",
    "    fractions = np.random.dirichlet([1.5] * num_species)\n",
    "    if np.all(fractions > min_frac):\n",
    "        break\n",
    "\n",
    "Frac1 = fractions[0]\n",
    "Frac2 = fractions[1] if num_species >= 2 else 0.0\n",
    "Frac3 = fractions[2] if num_species == 3 else 0.0\n",
    "conc1 = Frac1 * total_conc\n",
    "conc2 = Frac2 * total_conc\n",
    "conc3 = Frac3 * total_conc"
   ]
  },
  {
   "cell_type": "code",
   "execution_count": null,
   "id": "7d469fcb",
   "metadata": {},
   "outputs": [
    {
     "ename": "KeyboardInterrupt",
     "evalue": "",
     "output_type": "error",
     "traceback": [
      "\u001b[31m---------------------------------------------------------------------------\u001b[39m",
      "\u001b[31mKeyboardInterrupt\u001b[39m                         Traceback (most recent call last)",
      "\u001b[36mCell\u001b[39m\u001b[36m \u001b[39m\u001b[32mIn[221]\u001b[39m\u001b[32m, line 8\u001b[39m\n\u001b[32m      5\u001b[39m at2 = np.array([])\n\u001b[32m      6\u001b[39m at3 = np.array([])\n\u001b[32m----> \u001b[39m\u001b[32m8\u001b[39m arrivalTimes1, counts, timeBins, Rp_i1 = \u001b[43mSimPhotDiffFlowGL6\u001b[49m\u001b[43m(\u001b[49m\u001b[43mC_molar\u001b[49m\u001b[43m \u001b[49m\u001b[43m=\u001b[49m\u001b[43m \u001b[49m\u001b[43mconc1\u001b[49m\u001b[43m,\u001b[49m\u001b[43m                   \u001b[49m\u001b[38;5;66;43;03m#M\u001b[39;49;00m\n\u001b[32m      9\u001b[39m \u001b[43m                                                            \u001b[49m\u001b[43mRp\u001b[49m\u001b[43m \u001b[49m\u001b[43m=\u001b[49m\u001b[43m \u001b[49m\u001b[43mAmpS1\u001b[49m\u001b[43m/\u001b[49m\u001b[32;43m500e-6\u001b[39;49m\u001b[43m,\u001b[49m\u001b[43m                 \u001b[49m\u001b[38;5;66;43;03m#counts/s\u001b[39;49;00m\n\u001b[32m     10\u001b[39m \u001b[43m                                                            \u001b[49m\u001b[43mD\u001b[49m\u001b[43m \u001b[49m\u001b[43m=\u001b[49m\u001b[43m \u001b[49m\u001b[43mD\u001b[49m\u001b[43m,\u001b[49m\u001b[43m                             \u001b[49m\u001b[38;5;66;43;03m#m^2/s\u001b[39;49;00m\n\u001b[32m     11\u001b[39m \u001b[43m                                                            \u001b[49m\u001b[43mtotalTime\u001b[49m\u001b[43m \u001b[49m\u001b[43m=\u001b[49m\u001b[43m \u001b[49m\u001b[43mtotaltime\u001b[49m\u001b[43m,\u001b[49m\u001b[43m             \u001b[49m\u001b[38;5;66;43;03m#s\u001b[39;49;00m\n\u001b[32m     12\u001b[39m \u001b[43m                                                            \u001b[49m\u001b[43mbinDt\u001b[49m\u001b[43m \u001b[49m\u001b[43m=\u001b[49m\u001b[43m \u001b[49m\u001b[32;43m1e-6\u001b[39;49m\u001b[43m,\u001b[49m\u001b[43m                      \u001b[49m\u001b[38;5;66;43;03m#s\u001b[39;49;00m\n\u001b[32m     13\u001b[39m \u001b[43m                                                            \u001b[49m\u001b[43mw0\u001b[49m\u001b[43m \u001b[49m\u001b[43m=\u001b[49m\u001b[43m \u001b[49m\u001b[43mw0\u001b[49m\u001b[43m,\u001b[49m\u001b[43m                           \u001b[49m\u001b[38;5;66;43;03m#m\u001b[39;49;00m\n\u001b[32m     14\u001b[39m \u001b[43m                                                            \u001b[49m\u001b[43maxialFactor\u001b[49m\u001b[43m \u001b[49m\u001b[43m=\u001b[49m\u001b[43m \u001b[49m\u001b[43maxialFactor\u001b[49m\u001b[43m,\u001b[49m\u001b[43m \u001b[49m\n\u001b[32m     15\u001b[39m \u001b[43m                                                            \u001b[49m\u001b[43mincludeBg\u001b[49m\u001b[43m \u001b[49m\u001b[43m=\u001b[49m\u001b[43m \u001b[49m\u001b[38;5;28;43;01mTrue\u001b[39;49;00m\u001b[43m,\u001b[49m\u001b[43m \u001b[49m\n\u001b[32m     16\u001b[39m \u001b[43m                                                            \u001b[49m\u001b[43mbgRate\u001b[49m\u001b[43m \u001b[49m\u001b[43m=\u001b[49m\u001b[43m \u001b[49m\u001b[32;43m5e3\u001b[39;49m\u001b[43m,\u001b[49m\u001b[43m                      \u001b[49m\u001b[38;5;66;43;03m#counts/s\u001b[39;49;00m\n\u001b[32m     17\u001b[39m \u001b[43m                                                            \u001b[49m\u001b[43mbeamShape\u001b[49m\u001b[43m \u001b[49m\u001b[43m=\u001b[49m\u001b[43m \u001b[49m\u001b[33;43m'\u001b[39;49m\u001b[33;43mgl\u001b[39;49m\u001b[33;43m'\u001b[39;49m\u001b[43m,\u001b[49m\n\u001b[32m     18\u001b[39m \u001b[43m                                                            \u001b[49m\u001b[43mvFlow\u001b[49m\u001b[43m=\u001b[49m\u001b[43mvFlow\u001b[49m\u001b[43m)\u001b[49m                       \u001b[38;5;66;03m#m/s\u001b[39;00m\n\u001b[32m     19\u001b[39m truedist1 = Rp_i1       \n\u001b[32m     20\u001b[39m at1 = arrivalTimes1\n",
      "\u001b[36mCell\u001b[39m\u001b[36m \u001b[39m\u001b[32mIn[3]\u001b[39m\u001b[32m, line 97\u001b[39m, in \u001b[36mSimPhotDiffFlowGL6\u001b[39m\u001b[34m(C_molar, Rp, D, totalTime, binDt, w0, axialFactor, includeBg, bgRate, beamShape, vFlow, resFactor)\u001b[39m\n\u001b[32m     95\u001b[39m \u001b[38;5;66;03m# 5b) Diffuse particles within excitation volume\u001b[39;00m\n\u001b[32m     96\u001b[39m inBox = np.abs(pos[:, \u001b[32m0\u001b[39m]) <= Lbox\n\u001b[32m---> \u001b[39m\u001b[32m97\u001b[39m pos[inBox, :] = pos[inBox, :] + sigma * \u001b[43mnp\u001b[49m\u001b[43m.\u001b[49m\u001b[43mrandom\u001b[49m\u001b[43m.\u001b[49m\u001b[43mrandn\u001b[49m\u001b[43m(\u001b[49m\u001b[43mnp\u001b[49m\u001b[43m.\u001b[49m\u001b[43msum\u001b[49m\u001b[43m(\u001b[49m\u001b[43minBox\u001b[49m\u001b[43m)\u001b[49m\u001b[43m,\u001b[49m\u001b[43m \u001b[49m\u001b[32;43m3\u001b[39;49m\u001b[43m)\u001b[49m\n\u001b[32m     99\u001b[39m \u001b[38;5;66;03m# 5c) Reflecting boundaries for diffusion inBox\u001b[39;00m\n\u001b[32m    100\u001b[39m \u001b[38;5;66;03m# reflect x\u001b[39;00m\n\u001b[32m    101\u001b[39m ix = inBox & (pos[:, \u001b[32m0\u001b[39m] > +Lbox)\n",
      "\u001b[31mKeyboardInterrupt\u001b[39m: "
     ]
    },
    {
     "ename": "",
     "evalue": "",
     "output_type": "error",
     "traceback": [
      "\u001b[1;31mThe Kernel crashed while executing code in the current cell or a previous cell. \n",
      "\u001b[1;31mPlease review the code in the cell(s) to identify a possible cause of the failure. \n",
      "\u001b[1;31mClick <a href='https://aka.ms/vscodeJupyterKernelCrash'>here</a> for more info. \n",
      "\u001b[1;31mView Jupyter <a href='command:jupyter.viewOutput'>log</a> for further details."
     ]
    }
   ],
   "source": [
    "truedist1 = np.array([])\n",
    "truedist2 = np.array([])\n",
    "truedist3 = np.array([])\n",
    "at1 = np.array([])\n",
    "at2 = np.array([])\n",
    "at3 = np.array([])\n",
    "\n",
    "arrivalTimes1, counts, timeBins, Rp_i1 = SimPhotDiffFlowGL6(C_molar = conc1,                   #M\n",
    "                                                            Rp = AmpS1/500e-6,                 #counts/s\n",
    "                                                            D = D,                             #m^2/s\n",
    "                                                            totalTime = totaltime,             #s\n",
    "                                                            binDt = 1e-6,                      #s\n",
    "                                                            w0 = w0,                           #m\n",
    "                                                            axialFactor = axialFactor, \n",
    "                                                            includeBg = True, \n",
    "                                                            bgRate = 5e3,                      #counts/s\n",
    "                                                            beamShape = 'gl',\n",
    "                                                            vFlow=vFlow)                       #m/s\n",
    "truedist1 = Rp_i1       \n",
    "at1 = arrivalTimes1\n",
    "\n",
    "if num_species >= 2:\n",
    "    arrivalTimes2, counts, timeBins, Rp_i2 = SimPhotDiffFlowGL6(C_molar = conc2,\n",
    "                                                                Rp = AmpS2/500e-6, \n",
    "                                                                D = D, \n",
    "                                                                totalTime = totaltime, \n",
    "                                                                binDt = 1e-6, \n",
    "                                                                w0 = w0, \n",
    "                                                                axialFactor = axialFactor, \n",
    "                                                                includeBg = False, \n",
    "                                                                bgRate = 0, \n",
    "                                                                beamShape = 'gl',\n",
    "                                                                vFlow=vFlow)\n",
    "    truedist2 = Rp_i2\n",
    "    at2 = arrivalTimes2\n",
    "if num_species == 3:\n",
    "    arrivalTimes3, counts, timeBins, Rp_i3 = SimPhotDiffFlowGL6(C_molar = conc3,\n",
    "                                                                Rp = AmpS3/500e-6, \n",
    "                                                                D = D, \n",
    "                                                                totalTime = totaltime, \n",
    "                                                                binDt = 1e-6, \n",
    "                                                                w0 = w0, \n",
    "                                                                axialFactor = axialFactor, \n",
    "                                                                includeBg = False, \n",
    "                                                                bgRate = 0, \n",
    "                                                                beamShape = 'gl',\n",
    "                                                                vFlow=vFlow)\n",
    "    truedist3 = Rp_i3       \n",
    "    at3 = arrivalTimes3"
   ]
  },
  {
   "cell_type": "code",
   "execution_count": 216,
   "id": "5c7c45f0",
   "metadata": {},
   "outputs": [
    {
     "data": {
      "image/png": "[encoded data removed]",
      "text/plain": [
       "<Figure size 640x480 with 1 Axes>"
      ]
     },
     "metadata": {},
     "output_type": "display_data"
    }
   ],
   "source": [
    "fullBrightDist = np.concatenate([truedist1.flatten()*500e-6, truedist2.flatten()*500e-6, truedist3.flatten()*500e-6])\n",
    "bins = np.logspace(np.log10(min(fullBrightDist)), np.log10(max(fullBrightDist)), 20)\n",
    "truedist, bin_edges_true_dist = np.histogram(fullBrightDist, bins = bins)\n",
    "# plt.bar(bin_edges_true_dist[:-1], truedist, width=np.diff(bin_edges_true_dist), edgecolor='black', align='edge')\n",
    "# plt.title('Underlying Brightness Distribution', fontsize=14)\n",
    "# plt.xlabel('Fluorescence Intensity', fontsize=12)\n",
    "# plt.ylabel('Number of particles', fontsize=12)\n",
    "# plt.grid(True, linestyle='--', alpha=0.7)\n",
    "plt.loglog((bin_edges_true_dist[:-1] + bin_edges_true_dist[1:])/2, truedist, label='Amplitude')\n",
    "plt.ylim(min(truedist)+1, max(truedist))\n",
    "plt.show()"
   ]
  },
  {
   "cell_type": "code",
   "execution_count": 217,
   "id": "7d1063c2",
   "metadata": {},
   "outputs": [
    {
     "data": {
      "text/plain": [
       "array([ 3,  2,  7,  7, 14, 14, 26, 11, 12, 11, 10,  5,  1,  3,  0,  0,  0,\n",
       "        0,  1])"
      ]
     },
     "execution_count": 217,
     "metadata": {},
     "output_type": "execute_result"
    }
   ],
   "source": [
    "truedist"
   ]
  },
  {
   "cell_type": "code",
   "execution_count": 218,
   "id": "1fcda8a1",
   "metadata": {},
   "outputs": [
    {
     "data": {
      "text/plain": [
       "array([ 643.76093582,  688.15378604,  735.60790488,  786.33439312,\n",
       "        840.55890877,  898.52267088,  960.48353263, 1026.71712841,\n",
       "       1097.51809996, 1173.20140709, 1254.10372881, 1340.58496105,\n",
       "       1433.02981763, 1531.84954171, 1637.48373522, 1750.40231438,\n",
       "       1871.10760022, 2000.13655308, 2138.06316136, 2285.50099488])"
      ]
     },
     "execution_count": 218,
     "metadata": {},
     "output_type": "execute_result"
    }
   ],
   "source": [
    "bin_edges_true_dist"
   ]
  },
  {
   "cell_type": "code",
   "execution_count": 196,
   "id": "bbd3f194",
   "metadata": {},
   "outputs": [],
   "source": [
    "fullTOAs = np.concatenate([at1, at2, at3])\n",
    "fullTOAs = np.sort(fullTOAs)"
   ]
  },
  {
   "cell_type": "markdown",
   "id": "e37264d9",
   "metadata": {},
   "source": [
    "## Mild Preprocessing \n",
    "Generate PCH for model input"
   ]
  },
  {
   "cell_type": "code",
   "execution_count": 197,
   "id": "19b29a75",
   "metadata": {},
   "outputs": [
    {
     "data": {
      "image/png": "[encoded data removed]",
      "text/plain": [
       "<Figure size 640x480 with 1 Axes>"
      ]
     },
     "metadata": {},
     "output_type": "display_data"
    }
   ],
   "source": [
    "bins_hist = np.linspace(0, 0.1, int((0.1)/(500e-6)) + 1)\n",
    "histA, edges = np.histogram(fullTOAs, bins_hist)\n",
    "PCHedges = np.linspace(0, 12000, 101) \n",
    "PCHbins, _ = np.histogram(histA, bins=PCHedges)\n",
    "plt.bar(PCHedges[:-1], PCHbins, width=np.diff(PCHedges), edgecolor='black', align='edge')\n",
    "plt.title('Photon Counting Histogram', fontsize=14)\n",
    "plt.xlabel('Counts per bin', fontsize=12)\n",
    "plt.ylabel('Number of bins', fontsize=12)\n",
    "plt.grid(True, linestyle='--', alpha=0.7)\n",
    "plt.show()"
   ]
  },
  {
   "cell_type": "code",
   "execution_count": 198,
   "id": "ee515e01",
   "metadata": {},
   "outputs": [],
   "source": [
    "GT = {\n",
    "    \"Amplitudes\":{\n",
    "        \"AmpS1\":AmpS1,\n",
    "        \"AmpS2\":AmpS2,\n",
    "        \"AmpS3\":AmpS3\n",
    "    },\n",
    "    \"ActualFractions\": {\n",
    "        \"Frac1\": Frac1,\n",
    "        \"Frac2\": Frac2,\n",
    "        \"Frac3\": Frac3\n",
    "    },\n",
    "    \"ActualConcentrations\":{\n",
    "        \"Species1\":conc1,\n",
    "        \"Species2\":conc2,\n",
    "        \"Species3\":conc3,\n",
    "        \"Total\":total_conc\n",
    "    },\n",
    "    \"SimulationInputs\":{\n",
    "        \"D\":D,\n",
    "        \"totaltime\":totaltime,\n",
    "        \"binDt\":binDt,\n",
    "        \"w0\":w0,\n",
    "        \"axialFactor\":axialFactor,\n",
    "        \"vFlow\":vFlow\n",
    "    }\n",
    "}\n",
    "\n",
    "with open(os.path.join(\"diff_testing\", f\"GT.json\"), 'w') as f:\n",
    "    json.dump(GT, f)"
   ]
  },
  {
   "cell_type": "markdown",
   "id": "318c4aa9",
   "metadata": {},
   "source": [
    "## Save simulation files"
   ]
  },
  {
   "cell_type": "code",
   "execution_count": 288,
   "id": "500f7ea5",
   "metadata": {},
   "outputs": [
    {
     "data": {
      "text/plain": [
       "<Figure size 640x480 with 0 Axes>"
      ]
     },
     "metadata": {},
     "output_type": "display_data"
    }
   ],
   "source": [
    "data_dir = \"sim_data_highconc\"\n",
    "os.makedirs(data_dir, exist_ok=True)\n",
    "tstr = datetime.now().strftime('%d%b%y-%H%M%S')\n",
    "savedir = os.path.join(data_dir, f\"HCSim_{tstr}\")\n",
    "os.makedirs(savedir, exist_ok=True)\n",
    "with open(os.path.join(savedir, f\"GT.json\"), 'w') as f:\n",
    "    json.dump(GT, f, indent=4)\n",
    "parfile = os.path.join(savedir, f\"{tstr}-preparams.par\")\n",
    "plt.savefig(os.path.join(savedir, 'truedist.png'), dpi=300, bbox_inches='tight')\n",
    "with open(parfile, 'w') as fpar:\n",
    "    fpar.write('%%%% (maintain 5 header lines) \\n')\n",
    "    fpar.write('These data represent simulated data with up to 3 independent populations \\n')\n",
    "    fpar.write('This is \\'high concentration\\' data -- data at a concentration where diffusion is significant \\n')\n",
    "    fpar.write('. \\n')\n",
    "    fpar.write('%%%% \\n\\n')\n",
    "\n",
    "    filenamedat = f\"{tstr}-1\"\n",
    "    fpar.write(filenamedat + \"\\n\")\n",
    "    filenamedatpath = os.path.join(savedir, filenamedat)\n",
    "    with open(filenamedatpath, \"w\") as fdata:\n",
    "        fdata.write(f'{tstr}\\n\\n')\n",
    "        fdata.write('Total acquisition time: 60 sec \\n')\n",
    "        fdata.write('MT Clock: 1 sec\\n')\n",
    "        fdata.write('Bin width for correlator intensity data: 500.00 usec \\n')\n",
    "        fdata.write('Scan diamater: 0.40 mm \\n')\n",
    "        fdata.write('Scan speed: 0.50 mm/sec \\n')\n",
    "        fdata.write('Lasers Active: 488 @ 0.050 mW \\n')\n",
    "        fdata.write('Laser modulation not active \\n')\n",
    "        fdata.write('Notes: \\n')\n",
    "        fdata.write('Simulated data\\n')\n",
    "        fdata.write('***end header*** \\n\\n')\n",
    "        fdata.write('I_A\\n')\n",
    "\n",
    "        for row in fullTOAs:\n",
    "            fdata.write(f\"{row:.17e}\\n\")\n",
    "\n",
    "with open(parfile, 'a') as fpar:\n",
    "    fpar.write(\"\\n\")\n",
    "    fpar.write(\"datatype TotTime MTclock bintime driftwinA driftwinB driftwinC threshA threshB threshC corrt dofit colA colB colC\\n\")\n",
    "    formatSpec = '%d %f %.2e %.6f %d %d %d %d %d %d %.3f %d %d %d %d\\n'\n",
    "    fpar.write(formatSpec % (1, 0.1, 1, 0.000500, 0, 0, 0, 1, 1, 1, 0.003, 0, 1, 0, 0))\n"
   ]
  },
  {
   "cell_type": "markdown",
   "id": "80c03918",
   "metadata": {},
   "source": [
    "## Save for MATLAB FCS Autocorrelation\n",
    "run `load('arrivalTimes.mat')` in MATLAB terminal\n",
    "\n",
    "then, run `FCSParams`\n",
    "\n",
    "last, run `InteractiveFCSArrivalPlot_flow(arrivalTimes, w0, 3)`"
   ]
  },
  {
   "cell_type": "code",
   "execution_count": 199,
   "id": "4a11e1e0",
   "metadata": {},
   "outputs": [
    {
     "data": {
      "text/plain": [
       "(1756,)"
      ]
     },
     "execution_count": 199,
     "metadata": {},
     "output_type": "execute_result"
    }
   ],
   "source": [
    "savemat(os.path.join(\"MATLAB_originals\", \"arrivalTimes.mat\"), {\"arrivalTimes\": fullTOAs.reshape(-1, 1)})\n",
    "fullTOAs.shape"
   ]
  }
 ],
 "metadata": {
  "kernelspec": {
   "display_name": "Python 3",
   "language": "python",
   "name": "python3"
  },
  "language_info": {
   "codemirror_mode": {
    "name": "ipython",
    "version": 3
   },
   "file_extension": ".py",
   "mimetype": "text/x-python",
   "name": "python",
   "nbconvert_exporter": "python",
   "pygments_lexer": "ipython3",
   "version": "3.13.4"
  }
 },
 "nbformat": 4,
 "nbformat_minor": 5
}
