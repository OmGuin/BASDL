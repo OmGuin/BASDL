{
 "cells": [
  {
   "cell_type": "markdown",
   "id": "96a77d61",
   "metadata": {},
   "source": [
    "# UMAP Implementation on Burst features and windows"
   ]
  },
  {
   "cell_type": "code",
   "execution_count": 53,
   "id": "e4a0a0e2",
   "metadata": {},
   "outputs": [],
   "source": [
    "from ipyfilechooser import FileChooser\n",
    "import numpy as np\n",
    "import matplotlib.pyplot as plt\n",
    "import plotly.express as px\n",
    "import pandas as pd\n",
    "from sklearn.preprocessing import StandardScaler\n",
    "import umap"
   ]
  },
  {
   "cell_type": "code",
   "execution_count": 54,
   "id": "b7d5fc0a",
   "metadata": {},
   "outputs": [
    {
     "data": {
      "application/vnd.jupyter.widget-view+json": {
       "model_id": "46ad82361b824614b7438a12d16f31c1",
       "version_major": 2,
       "version_minor": 0
      },
      "text/plain": [
       "FileChooser(path='C:\\Users\\omgui\\Desktop\\BASUS', filename='', title='<b>Select preprocessing parameter file</b…"
      ]
     },
     "metadata": {},
     "output_type": "display_data"
    }
   ],
   "source": [
    "fc = FileChooser('./')\n",
    "fc.title = \"<b>Select preprocessing parameter file</b>\"\n",
    "fc.filter_pattern = ['*.npz']\n",
    "display(fc)"
   ]
  },
  {
   "cell_type": "code",
   "execution_count": null,
   "id": "af2a237b",
   "metadata": {},
   "outputs": [
    {
     "data": {
      "text/plain": [
       "(5522, 13)"
      ]
     },
     "execution_count": 56,
     "metadata": {},
     "output_type": "execute_result"
    }
   ],
   "source": [
    "data = np.load(fc.selected, allow_pickle=True)\n",
    "windows = np.array(data['handlesA'].item()['burst_windows'])\n",
    "labels = data['handlesA'].item()['species']\n",
    "assert windows.shape[0] == labels.shape[0]\n",
    "windows.shape"
   ]
  },
  {
   "cell_type": "code",
   "execution_count": null,
   "id": "e2a07c06",
   "metadata": {},
   "outputs": [],
   "source": [
    "amplitudes = data['handlesA'].item()['amplitude']\n",
    "areas = data['handlesA'].item()['area']\n",
    "widths = data['handlesA'].item()['width']\n",
    "rises = data['handlesA'].item()['rise']\n",
    "falls = data['handlesA'].item()['fall']\n",
    "skews = data['handlesA'].item()['skew']\n",
    "kurts = data['handlesA'].item()['kurt']\n",
    "ibis = data['handlesA'].item()['ibis']\n",
    "assert amplitudes.shape == widths.shape == rises.shape == falls.shape == skews.shape == kurts.shape == labels.shape\n",
    "assert (labels == -1).sum() == 0\n",
    "df = pd.DataFrame({\n",
    "    'Amplitude':amplitudes,\n",
    "    'Width':widths,\n",
    "    'IBIs':ibis,\n",
    "    'Labels':labels,\n",
    "    'Area':areas,\n",
    "    'RiseTime':rises,\n",
    "    'FallTime':falls,\n",
    "    'Skewness':skews,\n",
    "    'Kurtosis':kurts,\n",
    "})"
   ]
  },
  {
   "cell_type": "code",
   "execution_count": 58,
   "id": "96c8f8db",
   "metadata": {},
   "outputs": [
    {
     "data": {
      "text/plain": [
       "array([[  0.        ,   0.        ,   0.        , ...,   0.        ,\n",
       "          0.        ,   0.        ],\n",
       "       [ 23.67390976,  53.67386729,  38.67382451, ...,  10.67347292,\n",
       "          0.67342797,   0.        ],\n",
       "       [ 14.67315356,  45.67310718,  59.67306049, ...,   2.67267674,\n",
       "          0.        ,   0.        ],\n",
       "       ...,\n",
       "       [  0.        ,   4.74927854,  28.74923411, ...,  39.74888892,\n",
       "         95.74884688, 126.74880532],\n",
       "       [ 21.7489738 ,   0.74893142,  39.74888892, ...,   0.        ,\n",
       "          0.        ,   0.        ],\n",
       "       [  0.        ,   0.        ,   0.        , ...,  29.74753915,\n",
       "         10.74751581,   0.        ]], shape=(5522, 13))"
      ]
     },
     "execution_count": 58,
     "metadata": {},
     "output_type": "execute_result"
    }
   ],
   "source": [
    "windows = data['handlesA'].item()['burst_windows']\n",
    "windows"
   ]
  },
  {
   "cell_type": "code",
   "execution_count": null,
   "id": "696299b2",
   "metadata": {},
   "outputs": [],
   "source": [
    "features = df.drop(columns=['Labels'])\n",
    "scaler = StandardScaler()\n",
    "X_scaled = scaler.fit_transform(features)"
   ]
  },
  {
   "cell_type": "code",
   "execution_count": null,
   "id": "15bfb125",
   "metadata": {},
   "outputs": [
    {
     "name": "stderr",
     "output_type": "stream",
     "text": [
      "c:\\Users\\omgui\\AppData\\Local\\Programs\\Python\\Python313\\Lib\\site-packages\\sklearn\\utils\\deprecation.py:151: FutureWarning:\n",
      "\n",
      "'force_all_finite' was renamed to 'ensure_all_finite' in 1.6 and will be removed in 1.8.\n",
      "\n",
      "c:\\Users\\omgui\\AppData\\Local\\Programs\\Python\\Python313\\Lib\\site-packages\\umap\\umap_.py:1952: UserWarning:\n",
      "\n",
      "n_jobs value 1 overridden to 1 by setting random_state. Use no seed for parallelism.\n",
      "\n"
     ]
    },
    {
     "ename": "TypingError",
     "evalue": "Failed in nopython mode pipeline (step: nopython frontend)\n\u001b[1m\u001b[1m\u001b[1m\u001b[1m\u001b[1mFailed in nopython mode pipeline (step: nopython frontend)\n\u001b[1m\u001b[1m\u001b[1m\u001b[1m\u001b[1mFailed in nopython mode pipeline (step: nopython frontend)\n\u001b[1m\u001b[1m\u001b[1mInvalid use of iternext with parameters (range_state_int64)\n\u001b[0m\n\u001b[0m\u001b[1mDuring: typing of intrinsic-call at c:\\Users\\omgui\\AppData\\Local\\Programs\\Python\\Python313\\Lib\\site-packages\\pynndescent\\pynndescent_.py (77)\u001b[0m\n\u001b[1m\nFile \"..\\..\\AppData\\Local\\Programs\\Python\\Python313\\Lib\\site-packages\\pynndescent\\pynndescent_.py\", line 77:\u001b[0m\n\u001b[1mdef generate_leaf_updates(leaf_block, dist_thresholds, data, dist):\n    <source elided>\n\n\u001b[1m    updates = [[(-1, -1, np.inf)] for i in range(leaf_block.shape[0])]\n\u001b[0m    \u001b[1m^\u001b[0m\u001b[0m\n\n\u001b[0m\u001b[1mDuring: Pass nopython_type_inference\u001b[0m\n\u001b[0m\u001b[1mDuring: resolving callee type: type(CPUDispatcher(<function generate_leaf_updates at 0x00000146E5FE9A80>))\u001b[0m\n\u001b[0m\u001b[1mDuring: typing of call at c:\\Users\\omgui\\AppData\\Local\\Programs\\Python\\Python313\\Lib\\site-packages\\pynndescent\\pynndescent_.py (111)\n\u001b[0m\n\u001b[0m\u001b[1mDuring: resolving callee type: type(CPUDispatcher(<function generate_leaf_updates at 0x00000146E5FE9A80>))\u001b[0m\n\u001b[0m\u001b[1mDuring: typing of call at c:\\Users\\omgui\\AppData\\Local\\Programs\\Python\\Python313\\Lib\\site-packages\\pynndescent\\pynndescent_.py (111)\n\u001b[0m\n\u001b[1m\nFile \"..\\..\\AppData\\Local\\Programs\\Python\\Python313\\Lib\\site-packages\\pynndescent\\pynndescent_.py\", line 111:\u001b[0m\n\u001b[1mdef init_rp_tree(data, dist, current_graph, leaf_array):\n    <source elided>\n\n\u001b[1m        updates = generate_leaf_updates(leaf_block, dist_thresholds, data, dist)\n\u001b[0m        \u001b[1m^\u001b[0m\u001b[0m\n\n\u001b[0m\u001b[1mDuring: Pass nopython_type_inference\u001b[0m\n\u001b[0m\u001b[1mDuring: resolving callee type: type(CPUDispatcher(<function init_rp_tree at 0x00000146E5FEA160>))\u001b[0m\n\u001b[0m\u001b[1mDuring: typing of call at c:\\Users\\omgui\\AppData\\Local\\Programs\\Python\\Python313\\Lib\\site-packages\\pynndescent\\pynndescent_.py (347)\n\u001b[0m\n\u001b[0m\u001b[1mDuring: resolving callee type: type(CPUDispatcher(<function init_rp_tree at 0x00000146E5FEA160>))\u001b[0m\n\u001b[0m\u001b[1mDuring: typing of call at c:\\Users\\omgui\\AppData\\Local\\Programs\\Python\\Python313\\Lib\\site-packages\\pynndescent\\pynndescent_.py (347)\n\u001b[0m\n\u001b[1m\nFile \"..\\..\\AppData\\Local\\Programs\\Python\\Python313\\Lib\\site-packages\\pynndescent\\pynndescent_.py\", line 347:\u001b[0m\n\u001b[1mdef nn_descent(\n    <source elided>\n        if rp_tree_init:\n\u001b[1m            init_rp_tree(data, dist, current_graph, leaf_array)\n\u001b[0m            \u001b[1m^\u001b[0m\u001b[0m\n\n\u001b[0m\u001b[1mDuring: Pass nopython_type_inference\u001b[0m",
     "output_type": "error",
     "traceback": [
      "\u001b[31m---------------------------------------------------------------------------\u001b[39m",
      "\u001b[31mTypingError\u001b[39m                               Traceback (most recent call last)",
      "\u001b[36mCell\u001b[39m\u001b[36m \u001b[39m\u001b[32mIn[60]\u001b[39m\u001b[32m, line 2\u001b[39m\n\u001b[32m      1\u001b[39m reducer = umap.UMAP(n_components=\u001b[32m3\u001b[39m, random_state=\u001b[32m42\u001b[39m, n_neighbors=\u001b[32m30\u001b[39m, min_dist=\u001b[32m0.01\u001b[39m)\n\u001b[32m----> \u001b[39m\u001b[32m2\u001b[39m embedding = \u001b[43mreducer\u001b[49m\u001b[43m.\u001b[49m\u001b[43mfit_transform\u001b[49m\u001b[43m(\u001b[49m\u001b[43mX_scaled\u001b[49m\u001b[43m)\u001b[49m\n\u001b[32m      3\u001b[39m \u001b[38;5;66;03m#embedding = reducer.fit_transform(windows)\u001b[39;00m\n",
      "\u001b[36mFile \u001b[39m\u001b[32mc:\\Users\\omgui\\AppData\\Local\\Programs\\Python\\Python313\\Lib\\site-packages\\umap\\umap_.py:2928\u001b[39m, in \u001b[36mUMAP.fit_transform\u001b[39m\u001b[34m(self, X, y, force_all_finite, **kwargs)\u001b[39m\n\u001b[32m   2890\u001b[39m \u001b[38;5;28;01mdef\u001b[39;00m\u001b[38;5;250m \u001b[39m\u001b[34mfit_transform\u001b[39m(\u001b[38;5;28mself\u001b[39m, X, y=\u001b[38;5;28;01mNone\u001b[39;00m, force_all_finite=\u001b[38;5;28;01mTrue\u001b[39;00m, **kwargs):\n\u001b[32m   2891\u001b[39m \u001b[38;5;250m    \u001b[39m\u001b[33;03m\"\"\"Fit X into an embedded space and return that transformed\u001b[39;00m\n\u001b[32m   2892\u001b[39m \u001b[33;03m    output.\u001b[39;00m\n\u001b[32m   2893\u001b[39m \n\u001b[32m   (...)\u001b[39m\u001b[32m   2926\u001b[39m \u001b[33;03m        Local radii of data points in the embedding (log-transformed).\u001b[39;00m\n\u001b[32m   2927\u001b[39m \u001b[33;03m    \"\"\"\u001b[39;00m\n\u001b[32m-> \u001b[39m\u001b[32m2928\u001b[39m     \u001b[38;5;28;43mself\u001b[39;49m\u001b[43m.\u001b[49m\u001b[43mfit\u001b[49m\u001b[43m(\u001b[49m\u001b[43mX\u001b[49m\u001b[43m,\u001b[49m\u001b[43m \u001b[49m\u001b[43my\u001b[49m\u001b[43m,\u001b[49m\u001b[43m \u001b[49m\u001b[43mforce_all_finite\u001b[49m\u001b[43m,\u001b[49m\u001b[43m \u001b[49m\u001b[43m*\u001b[49m\u001b[43m*\u001b[49m\u001b[43mkwargs\u001b[49m\u001b[43m)\u001b[49m\n\u001b[32m   2929\u001b[39m     \u001b[38;5;28;01mif\u001b[39;00m \u001b[38;5;28mself\u001b[39m.transform_mode == \u001b[33m\"\u001b[39m\u001b[33membedding\u001b[39m\u001b[33m\"\u001b[39m:\n\u001b[32m   2930\u001b[39m         \u001b[38;5;28;01mif\u001b[39;00m \u001b[38;5;28mself\u001b[39m.output_dens:\n",
      "\u001b[36mFile \u001b[39m\u001b[32mc:\\Users\\omgui\\AppData\\Local\\Programs\\Python\\Python313\\Lib\\site-packages\\umap\\umap_.py:2635\u001b[39m, in \u001b[36mUMAP.fit\u001b[39m\u001b[34m(self, X, y, force_all_finite, **kwargs)\u001b[39m\n\u001b[32m   2629\u001b[39m     nn_metric = \u001b[38;5;28mself\u001b[39m._input_distance_func\n\u001b[32m   2630\u001b[39m \u001b[38;5;28;01mif\u001b[39;00m \u001b[38;5;28mself\u001b[39m.knn_dists \u001b[38;5;129;01mis\u001b[39;00m \u001b[38;5;28;01mNone\u001b[39;00m:\n\u001b[32m   2631\u001b[39m     (\n\u001b[32m   2632\u001b[39m         \u001b[38;5;28mself\u001b[39m._knn_indices,\n\u001b[32m   2633\u001b[39m         \u001b[38;5;28mself\u001b[39m._knn_dists,\n\u001b[32m   2634\u001b[39m         \u001b[38;5;28mself\u001b[39m._knn_search_index,\n\u001b[32m-> \u001b[39m\u001b[32m2635\u001b[39m     ) = \u001b[43mnearest_neighbors\u001b[49m\u001b[43m(\u001b[49m\n\u001b[32m   2636\u001b[39m \u001b[43m        \u001b[49m\u001b[43mX\u001b[49m\u001b[43m[\u001b[49m\u001b[43mindex\u001b[49m\u001b[43m]\u001b[49m\u001b[43m,\u001b[49m\n\u001b[32m   2637\u001b[39m \u001b[43m        \u001b[49m\u001b[38;5;28;43mself\u001b[39;49m\u001b[43m.\u001b[49m\u001b[43m_n_neighbors\u001b[49m\u001b[43m,\u001b[49m\n\u001b[32m   2638\u001b[39m \u001b[43m        \u001b[49m\u001b[43mnn_metric\u001b[49m\u001b[43m,\u001b[49m\n\u001b[32m   2639\u001b[39m \u001b[43m        \u001b[49m\u001b[38;5;28;43mself\u001b[39;49m\u001b[43m.\u001b[49m\u001b[43m_metric_kwds\u001b[49m\u001b[43m,\u001b[49m\n\u001b[32m   2640\u001b[39m \u001b[43m        \u001b[49m\u001b[38;5;28;43mself\u001b[39;49m\u001b[43m.\u001b[49m\u001b[43mangular_rp_forest\u001b[49m\u001b[43m,\u001b[49m\n\u001b[32m   2641\u001b[39m \u001b[43m        \u001b[49m\u001b[43mrandom_state\u001b[49m\u001b[43m,\u001b[49m\n\u001b[32m   2642\u001b[39m \u001b[43m        \u001b[49m\u001b[38;5;28;43mself\u001b[39;49m\u001b[43m.\u001b[49m\u001b[43mlow_memory\u001b[49m\u001b[43m,\u001b[49m\n\u001b[32m   2643\u001b[39m \u001b[43m        \u001b[49m\u001b[43muse_pynndescent\u001b[49m\u001b[43m=\u001b[49m\u001b[38;5;28;43;01mTrue\u001b[39;49;00m\u001b[43m,\u001b[49m\n\u001b[32m   2644\u001b[39m \u001b[43m        \u001b[49m\u001b[43mn_jobs\u001b[49m\u001b[43m=\u001b[49m\u001b[38;5;28;43mself\u001b[39;49m\u001b[43m.\u001b[49m\u001b[43mn_jobs\u001b[49m\u001b[43m,\u001b[49m\n\u001b[32m   2645\u001b[39m \u001b[43m        \u001b[49m\u001b[43mverbose\u001b[49m\u001b[43m=\u001b[49m\u001b[38;5;28;43mself\u001b[39;49m\u001b[43m.\u001b[49m\u001b[43mverbose\u001b[49m\u001b[43m,\u001b[49m\n\u001b[32m   2646\u001b[39m \u001b[43m    \u001b[49m\u001b[43m)\u001b[49m\n\u001b[32m   2647\u001b[39m \u001b[38;5;28;01melse\u001b[39;00m:\n\u001b[32m   2648\u001b[39m     \u001b[38;5;28mself\u001b[39m._knn_indices = \u001b[38;5;28mself\u001b[39m.knn_indices\n",
      "\u001b[36mFile \u001b[39m\u001b[32mc:\\Users\\omgui\\AppData\\Local\\Programs\\Python\\Python313\\Lib\\site-packages\\umap\\umap_.py:330\u001b[39m, in \u001b[36mnearest_neighbors\u001b[39m\u001b[34m(X, n_neighbors, metric, metric_kwds, angular, random_state, low_memory, use_pynndescent, n_jobs, verbose)\u001b[39m\n\u001b[32m    327\u001b[39m     n_trees = \u001b[38;5;28mmin\u001b[39m(\u001b[32m64\u001b[39m, \u001b[32m5\u001b[39m + \u001b[38;5;28mint\u001b[39m(\u001b[38;5;28mround\u001b[39m((X.shape[\u001b[32m0\u001b[39m]) ** \u001b[32m0.5\u001b[39m / \u001b[32m20.0\u001b[39m)))\n\u001b[32m    328\u001b[39m     n_iters = \u001b[38;5;28mmax\u001b[39m(\u001b[32m5\u001b[39m, \u001b[38;5;28mint\u001b[39m(\u001b[38;5;28mround\u001b[39m(np.log2(X.shape[\u001b[32m0\u001b[39m]))))\n\u001b[32m--> \u001b[39m\u001b[32m330\u001b[39m     knn_search_index = \u001b[43mNNDescent\u001b[49m\u001b[43m(\u001b[49m\n\u001b[32m    331\u001b[39m \u001b[43m        \u001b[49m\u001b[43mX\u001b[49m\u001b[43m,\u001b[49m\n\u001b[32m    332\u001b[39m \u001b[43m        \u001b[49m\u001b[43mn_neighbors\u001b[49m\u001b[43m=\u001b[49m\u001b[43mn_neighbors\u001b[49m\u001b[43m,\u001b[49m\n\u001b[32m    333\u001b[39m \u001b[43m        \u001b[49m\u001b[43mmetric\u001b[49m\u001b[43m=\u001b[49m\u001b[43mmetric\u001b[49m\u001b[43m,\u001b[49m\n\u001b[32m    334\u001b[39m \u001b[43m        \u001b[49m\u001b[43mmetric_kwds\u001b[49m\u001b[43m=\u001b[49m\u001b[43mmetric_kwds\u001b[49m\u001b[43m,\u001b[49m\n\u001b[32m    335\u001b[39m \u001b[43m        \u001b[49m\u001b[43mrandom_state\u001b[49m\u001b[43m=\u001b[49m\u001b[43mrandom_state\u001b[49m\u001b[43m,\u001b[49m\n\u001b[32m    336\u001b[39m \u001b[43m        \u001b[49m\u001b[43mn_trees\u001b[49m\u001b[43m=\u001b[49m\u001b[43mn_trees\u001b[49m\u001b[43m,\u001b[49m\n\u001b[32m    337\u001b[39m \u001b[43m        \u001b[49m\u001b[43mn_iters\u001b[49m\u001b[43m=\u001b[49m\u001b[43mn_iters\u001b[49m\u001b[43m,\u001b[49m\n\u001b[32m    338\u001b[39m \u001b[43m        \u001b[49m\u001b[43mmax_candidates\u001b[49m\u001b[43m=\u001b[49m\u001b[32;43m60\u001b[39;49m\u001b[43m,\u001b[49m\n\u001b[32m    339\u001b[39m \u001b[43m        \u001b[49m\u001b[43mlow_memory\u001b[49m\u001b[43m=\u001b[49m\u001b[43mlow_memory\u001b[49m\u001b[43m,\u001b[49m\n\u001b[32m    340\u001b[39m \u001b[43m        \u001b[49m\u001b[43mn_jobs\u001b[49m\u001b[43m=\u001b[49m\u001b[43mn_jobs\u001b[49m\u001b[43m,\u001b[49m\n\u001b[32m    341\u001b[39m \u001b[43m        \u001b[49m\u001b[43mverbose\u001b[49m\u001b[43m=\u001b[49m\u001b[43mverbose\u001b[49m\u001b[43m,\u001b[49m\n\u001b[32m    342\u001b[39m \u001b[43m        \u001b[49m\u001b[43mcompressed\u001b[49m\u001b[43m=\u001b[49m\u001b[38;5;28;43;01mFalse\u001b[39;49;00m\u001b[43m,\u001b[49m\n\u001b[32m    343\u001b[39m \u001b[43m    \u001b[49m\u001b[43m)\u001b[49m\n\u001b[32m    344\u001b[39m     knn_indices, knn_dists = knn_search_index.neighbor_graph\n\u001b[32m    346\u001b[39m \u001b[38;5;28;01mif\u001b[39;00m verbose:\n",
      "\u001b[36mFile \u001b[39m\u001b[32mc:\\Users\\omgui\\AppData\\Local\\Programs\\Python\\Python313\\Lib\\site-packages\\pynndescent\\pynndescent_.py:923\u001b[39m, in \u001b[36mNNDescent.__init__\u001b[39m\u001b[34m(self, data, metric, metric_kwds, n_neighbors, n_trees, leaf_size, pruning_degree_multiplier, diversify_prob, n_search_trees, tree_init, init_graph, init_dist, random_state, low_memory, max_candidates, max_rptree_depth, n_iters, delta, n_jobs, compressed, parallel_batch_queries, verbose)\u001b[39m\n\u001b[32m    920\u001b[39m     \u001b[38;5;28;01mif\u001b[39;00m verbose:\n\u001b[32m    921\u001b[39m         \u001b[38;5;28mprint\u001b[39m(ts(), \u001b[33m\"\u001b[39m\u001b[33mNN descent for\u001b[39m\u001b[33m\"\u001b[39m, \u001b[38;5;28mstr\u001b[39m(n_iters), \u001b[33m\"\u001b[39m\u001b[33miterations\u001b[39m\u001b[33m\"\u001b[39m)\n\u001b[32m--> \u001b[39m\u001b[32m923\u001b[39m     \u001b[38;5;28mself\u001b[39m._neighbor_graph = \u001b[43mnn_descent\u001b[49m\u001b[43m(\u001b[49m\n\u001b[32m    924\u001b[39m \u001b[43m        \u001b[49m\u001b[38;5;28;43mself\u001b[39;49m\u001b[43m.\u001b[49m\u001b[43m_raw_data\u001b[49m\u001b[43m,\u001b[49m\n\u001b[32m    925\u001b[39m \u001b[43m        \u001b[49m\u001b[38;5;28;43mself\u001b[39;49m\u001b[43m.\u001b[49m\u001b[43mn_neighbors\u001b[49m\u001b[43m,\u001b[49m\n\u001b[32m    926\u001b[39m \u001b[43m        \u001b[49m\u001b[38;5;28;43mself\u001b[39;49m\u001b[43m.\u001b[49m\u001b[43mrng_state\u001b[49m\u001b[43m,\u001b[49m\n\u001b[32m    927\u001b[39m \u001b[43m        \u001b[49m\u001b[43meffective_max_candidates\u001b[49m\u001b[43m,\u001b[49m\n\u001b[32m    928\u001b[39m \u001b[43m        \u001b[49m\u001b[38;5;28;43mself\u001b[39;49m\u001b[43m.\u001b[49m\u001b[43m_distance_func\u001b[49m\u001b[43m,\u001b[49m\n\u001b[32m    929\u001b[39m \u001b[43m        \u001b[49m\u001b[38;5;28;43mself\u001b[39;49m\u001b[43m.\u001b[49m\u001b[43mn_iters\u001b[49m\u001b[43m,\u001b[49m\n\u001b[32m    930\u001b[39m \u001b[43m        \u001b[49m\u001b[38;5;28;43mself\u001b[39;49m\u001b[43m.\u001b[49m\u001b[43mdelta\u001b[49m\u001b[43m,\u001b[49m\n\u001b[32m    931\u001b[39m \u001b[43m        \u001b[49m\u001b[43mlow_memory\u001b[49m\u001b[43m=\u001b[49m\u001b[38;5;28;43mself\u001b[39;49m\u001b[43m.\u001b[49m\u001b[43mlow_memory\u001b[49m\u001b[43m,\u001b[49m\n\u001b[32m    932\u001b[39m \u001b[43m        \u001b[49m\u001b[43mrp_tree_init\u001b[49m\u001b[43m=\u001b[49m\u001b[38;5;28;43;01mTrue\u001b[39;49;00m\u001b[43m,\u001b[49m\n\u001b[32m    933\u001b[39m \u001b[43m        \u001b[49m\u001b[43minit_graph\u001b[49m\u001b[43m=\u001b[49m\u001b[43m_init_graph\u001b[49m\u001b[43m,\u001b[49m\n\u001b[32m    934\u001b[39m \u001b[43m        \u001b[49m\u001b[43mleaf_array\u001b[49m\u001b[43m=\u001b[49m\u001b[43mleaf_array\u001b[49m\u001b[43m,\u001b[49m\n\u001b[32m    935\u001b[39m \u001b[43m        \u001b[49m\u001b[43mverbose\u001b[49m\u001b[43m=\u001b[49m\u001b[43mverbose\u001b[49m\u001b[43m,\u001b[49m\n\u001b[32m    936\u001b[39m \u001b[43m    \u001b[49m\u001b[43m)\u001b[49m\n\u001b[32m    938\u001b[39m \u001b[38;5;28;01mif\u001b[39;00m np.any(\u001b[38;5;28mself\u001b[39m._neighbor_graph[\u001b[32m0\u001b[39m] < \u001b[32m0\u001b[39m):\n\u001b[32m    939\u001b[39m     warn(\n\u001b[32m    940\u001b[39m         \u001b[33m\"\u001b[39m\u001b[33mFailed to correctly find n_neighbors for some samples.\u001b[39m\u001b[33m\"\u001b[39m\n\u001b[32m    941\u001b[39m         \u001b[33m\"\u001b[39m\u001b[33m Results may be less than ideal. Try re-running with\u001b[39m\u001b[33m\"\u001b[39m\n\u001b[32m    942\u001b[39m         \u001b[33m\"\u001b[39m\u001b[33m different parameters.\u001b[39m\u001b[33m\"\u001b[39m\n\u001b[32m    943\u001b[39m     )\n",
      "\u001b[36mFile \u001b[39m\u001b[32mc:\\Users\\omgui\\AppData\\Local\\Programs\\Python\\Python313\\Lib\\site-packages\\numba\\core\\dispatcher.py:424\u001b[39m, in \u001b[36m_DispatcherBase._compile_for_args\u001b[39m\u001b[34m(self, *args, **kws)\u001b[39m\n\u001b[32m    420\u001b[39m         msg = (\u001b[33mf\u001b[39m\u001b[33m\"\u001b[39m\u001b[38;5;132;01m{\u001b[39;00m\u001b[38;5;28mstr\u001b[39m(e).rstrip()\u001b[38;5;132;01m}\u001b[39;00m\u001b[33m \u001b[39m\u001b[38;5;130;01m\\n\u001b[39;00m\u001b[38;5;130;01m\\n\u001b[39;00m\u001b[33mThis error may have been caused \u001b[39m\u001b[33m\"\u001b[39m\n\u001b[32m    421\u001b[39m                \u001b[33mf\u001b[39m\u001b[33m\"\u001b[39m\u001b[33mby the following argument(s):\u001b[39m\u001b[38;5;130;01m\\n\u001b[39;00m\u001b[38;5;132;01m{\u001b[39;00margs_str\u001b[38;5;132;01m}\u001b[39;00m\u001b[38;5;130;01m\\n\u001b[39;00m\u001b[33m\"\u001b[39m)\n\u001b[32m    422\u001b[39m         e.patch_message(msg)\n\u001b[32m--> \u001b[39m\u001b[32m424\u001b[39m     \u001b[43merror_rewrite\u001b[49m\u001b[43m(\u001b[49m\u001b[43me\u001b[49m\u001b[43m,\u001b[49m\u001b[43m \u001b[49m\u001b[33;43m'\u001b[39;49m\u001b[33;43mtyping\u001b[39;49m\u001b[33;43m'\u001b[39;49m\u001b[43m)\u001b[49m\n\u001b[32m    425\u001b[39m \u001b[38;5;28;01mexcept\u001b[39;00m errors.UnsupportedError \u001b[38;5;28;01mas\u001b[39;00m e:\n\u001b[32m    426\u001b[39m     \u001b[38;5;66;03m# Something unsupported is present in the user code, add help info\u001b[39;00m\n\u001b[32m    427\u001b[39m     error_rewrite(e, \u001b[33m'\u001b[39m\u001b[33munsupported_error\u001b[39m\u001b[33m'\u001b[39m)\n",
      "\u001b[36mFile \u001b[39m\u001b[32mc:\\Users\\omgui\\AppData\\Local\\Programs\\Python\\Python313\\Lib\\site-packages\\numba\\core\\dispatcher.py:365\u001b[39m, in \u001b[36m_DispatcherBase._compile_for_args.<locals>.error_rewrite\u001b[39m\u001b[34m(e, issue_type)\u001b[39m\n\u001b[32m    363\u001b[39m     \u001b[38;5;28;01mraise\u001b[39;00m e\n\u001b[32m    364\u001b[39m \u001b[38;5;28;01melse\u001b[39;00m:\n\u001b[32m--> \u001b[39m\u001b[32m365\u001b[39m     \u001b[38;5;28;01mraise\u001b[39;00m e.with_traceback(\u001b[38;5;28;01mNone\u001b[39;00m)\n",
      "\u001b[31mTypingError\u001b[39m: Failed in nopython mode pipeline (step: nopython frontend)\n\u001b[1m\u001b[1m\u001b[1m\u001b[1m\u001b[1mFailed in nopython mode pipeline (step: nopython frontend)\n\u001b[1m\u001b[1m\u001b[1m\u001b[1m\u001b[1mFailed in nopython mode pipeline (step: nopython frontend)\n\u001b[1m\u001b[1m\u001b[1mInvalid use of iternext with parameters (range_state_int64)\n\u001b[0m\n\u001b[0m\u001b[1mDuring: typing of intrinsic-call at c:\\Users\\omgui\\AppData\\Local\\Programs\\Python\\Python313\\Lib\\site-packages\\pynndescent\\pynndescent_.py (77)\u001b[0m\n\u001b[1m\nFile \"..\\..\\AppData\\Local\\Programs\\Python\\Python313\\Lib\\site-packages\\pynndescent\\pynndescent_.py\", line 77:\u001b[0m\n\u001b[1mdef generate_leaf_updates(leaf_block, dist_thresholds, data, dist):\n    <source elided>\n\n\u001b[1m    updates = [[(-1, -1, np.inf)] for i in range(leaf_block.shape[0])]\n\u001b[0m    \u001b[1m^\u001b[0m\u001b[0m\n\n\u001b[0m\u001b[1mDuring: Pass nopython_type_inference\u001b[0m\n\u001b[0m\u001b[1mDuring: resolving callee type: type(CPUDispatcher(<function generate_leaf_updates at 0x00000146E5FE9A80>))\u001b[0m\n\u001b[0m\u001b[1mDuring: typing of call at c:\\Users\\omgui\\AppData\\Local\\Programs\\Python\\Python313\\Lib\\site-packages\\pynndescent\\pynndescent_.py (111)\n\u001b[0m\n\u001b[0m\u001b[1mDuring: resolving callee type: type(CPUDispatcher(<function generate_leaf_updates at 0x00000146E5FE9A80>))\u001b[0m\n\u001b[0m\u001b[1mDuring: typing of call at c:\\Users\\omgui\\AppData\\Local\\Programs\\Python\\Python313\\Lib\\site-packages\\pynndescent\\pynndescent_.py (111)\n\u001b[0m\n\u001b[1m\nFile \"..\\..\\AppData\\Local\\Programs\\Python\\Python313\\Lib\\site-packages\\pynndescent\\pynndescent_.py\", line 111:\u001b[0m\n\u001b[1mdef init_rp_tree(data, dist, current_graph, leaf_array):\n    <source elided>\n\n\u001b[1m        updates = generate_leaf_updates(leaf_block, dist_thresholds, data, dist)\n\u001b[0m        \u001b[1m^\u001b[0m\u001b[0m\n\n\u001b[0m\u001b[1mDuring: Pass nopython_type_inference\u001b[0m\n\u001b[0m\u001b[1mDuring: resolving callee type: type(CPUDispatcher(<function init_rp_tree at 0x00000146E5FEA160>))\u001b[0m\n\u001b[0m\u001b[1mDuring: typing of call at c:\\Users\\omgui\\AppData\\Local\\Programs\\Python\\Python313\\Lib\\site-packages\\pynndescent\\pynndescent_.py (347)\n\u001b[0m\n\u001b[0m\u001b[1mDuring: resolving callee type: type(CPUDispatcher(<function init_rp_tree at 0x00000146E5FEA160>))\u001b[0m\n\u001b[0m\u001b[1mDuring: typing of call at c:\\Users\\omgui\\AppData\\Local\\Programs\\Python\\Python313\\Lib\\site-packages\\pynndescent\\pynndescent_.py (347)\n\u001b[0m\n\u001b[1m\nFile \"..\\..\\AppData\\Local\\Programs\\Python\\Python313\\Lib\\site-packages\\pynndescent\\pynndescent_.py\", line 347:\u001b[0m\n\u001b[1mdef nn_descent(\n    <source elided>\n        if rp_tree_init:\n\u001b[1m            init_rp_tree(data, dist, current_graph, leaf_array)\n\u001b[0m            \u001b[1m^\u001b[0m\u001b[0m\n\n\u001b[0m\u001b[1mDuring: Pass nopython_type_inference\u001b[0m"
     ]
    }
   ],
   "source": [
    "reducer = umap.UMAP(n_components=3, random_state=42, n_neighbors=30, min_dist=0.01)\n",
    "#embedding = reducer.fit_transform(X_scaled)\n",
    "embedding = reducer.fit_transform(windows)"
   ]
  },
  {
   "cell_type": "code",
   "execution_count": 51,
   "id": "e397fbbe",
   "metadata": {},
   "outputs": [
    {
     "data": {
      "application/vnd.plotly.v1+json": {
       "config": {
        "plotlyServerURL": "https://plot.ly"
       },
       "data": [
        {
         "hovertemplate": "UMAP1=%{x}<br>UMAP2=%{y}<br>UMAP3=%{z}<br>Burst Type=%{marker.color}<extra></extra>",
         "legendgroup": "",
         "marker": {
          "color": {
           "bdata": "AAAAAAAAAAAAAAAAAAAAAAAAAAAAAPA/AAAAAAAAAAAAAAAAAADwPwAAAAAAAPA/AAAAAAAA8D8AAAAAAAAAAAAAAAAAAABAAAAAAAAAAEAAAAAAAAAAAAAAAAAAAAAAAAAAAAAA8D8AAAAAAADwPwAAAAAAAAAAAAAAAAAA8D8AAAAAAAAAQAAAAAAAAAAAAAAAAAAA8D8AAAAAAAAAAAAAAAAAAABAAAAAAAAA8D8AAAAAAADwPwAAAAAAAAAAAAAAAAAAAEAAAAAAAAAAQAAAAAAAAPA/AAAAAAAAAAAAAAAAAAAAQAAAAAAAAABAAAAAAAAAAEAAAAAAAAAAQAAAAAAAAAAAAAAAAAAA8D8AAAAAAAAAQAAAAAAAAPA/AAAAAAAAAAAAAAAAAAAAQAAAAAAAAPA/AAAAAAAA8D8AAAAAAADwPwAAAAAAAPA/AAAAAAAAAAAAAAAAAADwPwAAAAAAAABAAAAAAAAAAEAAAAAAAAAAAAAAAAAAAAAAAAAAAAAAAAAAAAAAAAAAQAAAAAAAAABAAAAAAAAAAEAAAAAAAAAAQAAAAAAAAAAAAAAAAAAAAAAAAAAAAAAAAAAAAAAAAPA/AAAAAAAA8D8AAAAAAAAAAAAAAAAAAAAAAAAAAAAAAAAAAAAAAADwPwAAAAAAAPA/AAAAAAAAAEAAAAAAAADwPwAAAAAAAPA/AAAAAAAA8D8AAAAAAADwPwAAAAAAAPA/AAAAAAAA8D8AAAAAAAAAQAAAAAAAAABAAAAAAAAAAAAAAAAAAADwPwAAAAAAAPA/AAAAAAAA8D8AAAAAAAAAAAAAAAAAAAAAAAAAAAAAAEAAAAAAAADwPwAAAAAAAPA/AAAAAAAAAAAAAAAAAAAAAAAAAAAAAPA/AAAAAAAAAAAAAAAAAADwPwAAAAAAAABAAAAAAAAAAEAAAAAAAADwPwAAAAAAAAAAAAAAAAAAAAAAAAAAAAAAAAAAAAAAAPA/AAAAAAAA8D8AAAAAAAAAAAAAAAAAAPA/AAAAAAAA8D8AAAAAAADwPwAAAAAAAPA/AAAAAAAAAAAAAAAAAADwPwAAAAAAAABAAAAAAAAA8D8AAAAAAAAAQAAAAAAAAAAAAAAAAAAA8D8AAAAAAADwPwAAAAAAAAAAAAAAAAAA8D8AAAAAAADwPwAAAAAAAAAAAAAAAAAAAAAAAAAAAAAAQAAAAAAAAPA/AAAAAAAAAAAAAAAAAAAAAAAAAAAAAAAAAAAAAAAA8D8AAAAAAAAAQAAAAAAAAPA/AAAAAAAAAEAAAAAAAADwPwAAAAAAAAAAAAAAAAAAAAAAAAAAAAAAAAAAAAAAAAAAAAAAAAAAAEAAAAAAAAAAQAAAAAAAAPA/AAAAAAAA8D8AAAAAAADwPwAAAAAAAABAAAAAAAAA8D8AAAAAAAAAAAAAAAAAAABAAAAAAAAAAEAAAAAAAAAAQAAAAAAAAAAAAAAAAAAAAEAAAAAAAADwPwAAAAAAAAAAAAAAAAAAAEAAAAAAAADwPwAAAAAAAPA/AAAAAAAAAEAAAAAAAADwPwAAAAAAAABAAAAAAAAA8D8AAAAAAAAAQAAAAAAAAABAAAAAAAAAAEAAAAAAAAAAQAAAAAAAAPA/AAAAAAAA8D8AAAAAAAAAAAAAAAAAAABAAAAAAAAAAAAAAAAAAADwPwAAAAAAAPA/AAAAAAAAAEAAAAAAAAAAAAAAAAAAAAAAAAAAAAAAAAAAAAAAAADwPwAAAAAAAPA/AAAAAAAAAEAAAAAAAADwPwAAAAAAAABAAAAAAAAAAEAAAAAAAADwPwAAAAAAAPA/AAAAAAAA8D8AAAAAAADwPwAAAAAAAABAAAAAAAAA8D8AAAAAAAAAQAAAAAAAAABAAAAAAAAAAEAAAAAAAAAAAAAAAAAAAAAAAAAAAAAAAAAAAAAAAADwPwAAAAAAAPA/AAAAAAAAAEAAAAAAAAAAAAAAAAAAAAAAAAAAAAAAAEAAAAAAAAAAQAAAAAAAAAAAAAAAAAAAAEAAAAAAAAAAAAAAAAAAAAAAAAAAAAAA8D8AAAAAAAAAAAAAAAAAAABAAAAAAAAA8D8AAAAAAAAAQAAAAAAAAABAAAAAAAAAAAAAAAAAAADwPwAAAAAAAPA/AAAAAAAA8D8AAAAAAAAAQAAAAAAAAPA/AAAAAAAA8D8AAAAAAAAAQAAAAAAAAAAAAAAAAAAA8D8AAAAAAAAAAAAAAAAAAPA/AAAAAAAA8D8AAAAAAADwPwAAAAAAAAAAAAAAAAAAAEAAAAAAAAAAAAAAAAAAAABAAAAAAAAAAAAAAAAAAAAAAAAAAAAAAPA/AAAAAAAAAEAAAAAAAAAAQAAAAAAAAAAAAAAAAAAAAAAAAAAAAADwPwAAAAAAAAAAAAAAAAAA8D8AAAAAAADwPwAAAAAAAPA/AAAAAAAA8D8AAAAAAAAAQAAAAAAAAAAAAAAAAAAAAAAAAAAAAAAAAAAAAAAAAABAAAAAAAAAAEAAAAAAAAAAQAAAAAAAAAAAAAAAAAAA8D8AAAAAAADwPwAAAAAAAPA/AAAAAAAA8D8AAAAAAAAAAAAAAAAAAABAAAAAAAAAAAAAAAAAAAAAQAAAAAAAAAAAAAAAAAAAAAAAAAAAAADwPwAAAAAAAPA/AAAAAAAA8D8AAAAAAAAAQAAAAAAAAAAAAAAAAAAAAAAAAAAAAAAAAAAAAAAAAABAAAAAAAAAAEAAAAAAAAAAQAAAAAAAAPA/AAAAAAAA8D8AAAAAAADwPwAAAAAAAPA/AAAAAAAAAEAAAAAAAAAAAAAAAAAAAAAAAAAAAAAAAEAAAAAAAAAAQAAAAAAAAAAAAAAAAAAA8D8AAAAAAAAAQAAAAAAAAPA/AAAAAAAAAAAAAAAAAAAAQAAAAAAAAAAAAAAAAAAAAEAAAAAAAADwPwAAAAAAAAAAAAAAAAAA8D8AAAAAAAAAQAAAAAAAAAAAAAAAAAAAAAAAAAAAAAAAQAAAAAAAAABAAAAAAAAA8D8AAAAAAADwPwAAAAAAAPA/AAAAAAAAAAAAAAAAAAAAAAAAAAAAAAAAAAAAAAAAAAAAAAAAAAAAAAAAAAAAAAAAAAAAAAAAAAAAAAAAAADwPwAAAAAAAAAAAAAAAAAAAAAAAAAAAAAAAAAAAAAAAAAAAAAAAAAAAAAAAAAAAAAAQAAAAAAAAABAAAAAAAAAAEAAAAAAAAAAAAAAAAAAAAAAAAAAAAAAAAAAAAAAAAAAQAAAAAAAAAAAAAAAAAAA8D8AAAAAAAAAAAAAAAAAAABAAAAAAAAAAAAAAAAAAAAAAAAAAAAAAPA/AAAAAAAA8D8AAAAAAADwPwAAAAAAAAAAAAAAAAAA8D8AAAAAAADwPwAAAAAAAAAAAAAAAAAAAEAAAAAAAADwPwAAAAAAAAAAAAAAAAAA8D8AAAAAAAAAAAAAAAAAAABAAAAAAAAAAEAAAAAAAAAAQAAAAAAAAABAAAAAAAAA8D8AAAAAAADwPwAAAAAAAAAAAAAAAAAAAAAAAAAAAADwPwAAAAAAAAAAAAAAAAAA8D8AAAAAAAAAAAAAAAAAAABAAAAAAAAAAEAAAAAAAAAAAAAAAAAAAABAAAAAAAAA8D8AAAAAAADwPwAAAAAAAABAAAAAAAAAAAAAAAAAAADwPwAAAAAAAABAAAAAAAAAAAAAAAAAAAAAAAAAAAAAAPA/AAAAAAAA8D8AAAAAAADwPwAAAAAAAPA/AAAAAAAAAEAAAAAAAADwPwAAAAAAAPA/AAAAAAAA8D8AAAAAAADwPwAAAAAAAAAAAAAAAAAA8D8AAAAAAAAAQAAAAAAAAPA/AAAAAAAAAEAAAAAAAAAAQAAAAAAAAAAAAAAAAAAA8D8AAAAAAADwPwAAAAAAAAAAAAAAAAAAAEAAAAAAAAAAQAAAAAAAAAAAAAAAAAAAAEAAAAAAAAAAAAAAAAAAAAAAAAAAAAAAAEAAAAAAAADwPwAAAAAAAABAAAAAAAAAAAAAAAAAAAAAAAAAAAAAAAAAAAAAAAAA8D8AAAAAAADwPwAAAAAAAPA/AAAAAAAA8D8AAAAAAADwPwAAAAAAAAAAAAAAAAAAAEAAAAAAAAAAAAAAAAAAAABAAAAAAAAAAAAAAAAAAADwPwAAAAAAAPA/AAAAAAAA8D8AAAAAAAAAQAAAAAAAAPA/AAAAAAAAAEAAAAAAAAAAAAAAAAAAAABAAAAAAAAA8D8AAAAAAADwPwAAAAAAAPA/AAAAAAAAAAAAAAAAAADwPwAAAAAAAAAAAAAAAAAAAAAAAAAAAADwPwAAAAAAAPA/AAAAAAAAAAAAAAAAAAAAQAAAAAAAAABAAAAAAAAAAAAAAAAAAAAAQAAAAAAAAABAAAAAAAAAAEAAAAAAAAAAQAAAAAAAAAAAAAAAAAAAAEAAAAAAAAAAQAAAAAAAAPA/AAAAAAAA8D8AAAAAAAAAAAAAAAAAAPA/AAAAAAAAAEAAAAAAAAAAAAAAAAAAAAAAAAAAAAAA8D8AAAAAAADwPwAAAAAAAABAAAAAAAAAAAAAAAAAAAAAQAAAAAAAAAAAAAAAAAAA8D8AAAAAAADwPwAAAAAAAPA/AAAAAAAA8D8AAAAAAADwPwAAAAAAAAAAAAAAAAAAAAAAAAAAAAAAQAAAAAAAAAAAAAAAAAAAAEAAAAAAAAAAAAAAAAAAAAAAAAAAAAAA8D8AAAAAAADwPwAAAAAAAPA/AAAAAAAA8D8AAAAAAAAAQAAAAAAAAAAAAAAAAAAA8D8AAAAAAAAAAAAAAAAAAABAAAAAAAAA8D8AAAAAAADwPwAAAAAAAABAAAAAAAAAAEAAAAAAAADwPwAAAAAAAAAAAAAAAAAAAEAAAAAAAAAAAAAAAAAAAAAAAAAAAAAAAEAAAAAAAAAAQAAAAAAAAAAAAAAAAAAAAAAAAAAAAAAAQAAAAAAAAAAAAAAAAAAAAEAAAAAAAADwPwAAAAAAAABAAAAAAAAAAAAAAAAAAADwPwAAAAAAAAAAAAAAAAAA8D8AAAAAAADwPwAAAAAAAAAAAAAAAAAAAAAAAAAAAAAAAAAAAAAAAABAAAAAAAAA8D8AAAAAAAAAQAAAAAAAAPA/AAAAAAAAAAAAAAAAAAAAAAAAAAAAAAAAAAAAAAAAAEAAAAAAAAAAQAAAAAAAAAAAAAAAAAAA8D8AAAAAAADwPwAAAAAAAAAAAAAAAAAA8D8AAAAAAAAAAAAAAAAAAPA/AAAAAAAAAAAAAAAAAAAAAAAAAAAAAPA/AAAAAAAAAAAAAAAAAADwPwAAAAAAAABAAAAAAAAAAEAAAAAAAAAAAAAAAAAAAPA/AAAAAAAAAEAAAAAAAAAAQAAAAAAAAPA/AAAAAAAAAEAAAAAAAADwPwAAAAAAAABAAAAAAAAAAEAAAAAAAAAAQAAAAAAAAAAAAAAAAAAA8D8AAAAAAAAAAAAAAAAAAPA/AAAAAAAA8D8AAAAAAAAAAAAAAAAAAABAAAAAAAAA8D8AAAAAAAAAQAAAAAAAAAAAAAAAAAAAAAAAAAAAAAAAQAAAAAAAAABAAAAAAAAAAEAAAAAAAAAAAAAAAAAAAAAAAAAAAAAA8D8AAAAAAAAAAAAAAAAAAAAAAAAAAAAAAEAAAAAAAAAAQAAAAAAAAABAAAAAAAAAAAAAAAAAAAAAQAAAAAAAAABAAAAAAAAAAAAAAAAAAAAAQAAAAAAAAPA/AAAAAAAA8D8AAAAAAADwPwAAAAAAAABAAAAAAAAA8D8AAAAAAAAAQAAAAAAAAABAAAAAAAAAAEAAAAAAAADwPwAAAAAAAPA/AAAAAAAAAEAAAAAAAAAAQAAAAAAAAPA/AAAAAAAAAAAAAAAAAADwPwAAAAAAAABAAAAAAAAAAAAAAAAAAAAAQAAAAAAAAAAAAAAAAAAAAAAAAAAAAADwPwAAAAAAAAAAAAAAAAAAAAAAAAAAAADwPwAAAAAAAPA/AAAAAAAA8D8AAAAAAADwPwAAAAAAAPA/AAAAAAAAAEAAAAAAAADwPwAAAAAAAABAAAAAAAAAAEAAAAAAAAAAAAAAAAAAAAAAAAAAAAAAAEAAAAAAAAAAAAAAAAAAAAAAAAAAAAAA8D8AAAAAAADwPwAAAAAAAABAAAAAAAAAAEAAAAAAAAAAQAAAAAAAAABAAAAAAAAAAEAAAAAAAAAAAAAAAAAAAAAAAAAAAAAA8D8AAAAAAAAAQAAAAAAAAAAAAAAAAAAA8D8AAAAAAADwPwAAAAAAAABAAAAAAAAAAAAAAAAAAAAAAAAAAAAAAAAAAAAAAAAAAEAAAAAAAAAAQAAAAAAAAABAAAAAAAAA8D8AAAAAAAAAAAAAAAAAAAAAAAAAAAAA8D8AAAAAAADwPwAAAAAAAABAAAAAAAAAAEAAAAAAAAAAQAAAAAAAAABAAAAAAAAA8D8AAAAAAADwPwAAAAAAAPA/AAAAAAAAAAAAAAAAAADwPwAAAAAAAPA/AAAAAAAAAEAAAAAAAAAAAAAAAAAAAPA/AAAAAAAAAAAAAAAAAAAAAAAAAAAAAPA/AAAAAAAAAEAAAAAAAAAAQAAAAAAAAABAAAAAAAAAAAAAAAAAAAAAAAAAAAAAAPA/AAAAAAAA8D8AAAAAAAAAQAAAAAAAAPA/AAAAAAAA8D8AAAAAAADwPwAAAAAAAAAAAAAAAAAAAEAAAAAAAAAAAAAAAAAAAPA/AAAAAAAAAAAAAAAAAADwPwAAAAAAAPA/AAAAAAAAAEAAAAAAAAAAAAAAAAAAAPA/AAAAAAAAAEAAAAAAAAAAAAAAAAAAAAAAAAAAAAAA8D8AAAAAAADwPwAAAAAAAAAAAAAAAAAAAAAAAAAAAADwPwAAAAAAAPA/AAAAAAAA8D8AAAAAAADwPwAAAAAAAPA/AAAAAAAAAAAAAAAAAAAAAAAAAAAAAAAAAAAAAAAAAAAAAAAAAAAAAAAAAAAAAAAAAAAAAAAA8D8AAAAAAADwPwAAAAAAAPA/AAAAAAAA8D8AAAAAAADwPwAAAAAAAAAAAAAAAAAAAEAAAAAAAADwPwAAAAAAAPA/AAAAAAAA8D8AAAAAAAAAQAAAAAAAAPA/AAAAAAAAAEAAAAAAAADwPwAAAAAAAABAAAAAAAAAAAAAAAAAAADwPwAAAAAAAABAAAAAAAAAAEAAAAAAAADwPwAAAAAAAAAAAAAAAAAA8D8AAAAAAAAAAAAAAAAAAPA/AAAAAAAA8D8AAAAAAAAAQAAAAAAAAPA/AAAAAAAAAAAAAAAAAAAAAAAAAAAAAAAAAAAAAAAA8D8AAAAAAAAAAAAAAAAAAPA/AAAAAAAA8D8AAAAAAADwPwAAAAAAAPA/AAAAAAAAAAAAAAAAAADwPwAAAAAAAPA/AAAAAAAAAAAAAAAAAAAAAAAAAAAAAABAAAAAAAAAAEAAAAAAAAAAQAAAAAAAAPA/AAAAAAAAAAAAAAAAAAAAAAAAAAAAAABAAAAAAAAAAEAAAAAAAAAAAAAAAAAAAPA/AAAAAAAAAEAAAAAAAADwPwAAAAAAAABAAAAAAAAAAEAAAAAAAADwPwAAAAAAAPA/AAAAAAAAAEAAAAAAAADwPwAAAAAAAABAAAAAAAAAAEAAAAAAAADwPwAAAAAAAPA/AAAAAAAAAEAAAAAAAAAAAAAAAAAAAPA/AAAAAAAA8D8AAAAAAADwPwAAAAAAAAAAAAAAAAAAAAAAAAAAAADwPwAAAAAAAPA/AAAAAAAAAEAAAAAAAAAAAAAAAAAAAABAAAAAAAAAAAAAAAAAAAAAAAAAAAAAAABAAAAAAAAAAEAAAAAAAADwPwAAAAAAAPA/AAAAAAAAAEAAAAAAAADwPwAAAAAAAABAAAAAAAAAAEAAAAAAAAAAAAAAAAAAAPA/AAAAAAAA8D8AAAAAAAAAQAAAAAAAAABAAAAAAAAAAEAAAAAAAAAAQAAAAAAAAPA/AAAAAAAA8D8AAAAAAADwPwAAAAAAAAAAAAAAAAAA8D8AAAAAAAAAAAAAAAAAAAAAAAAAAAAA8D8AAAAAAAAAAAAAAAAAAABAAAAAAAAAAEAAAAAAAADwPwAAAAAAAAAAAAAAAAAA8D8AAAAAAADwPwAAAAAAAPA/AAAAAAAAAAAAAAAAAAAAAAAAAAAAAABAAAAAAAAAAAAAAAAAAAAAAAAAAAAAAAAAAAAAAAAAAEAAAAAAAAAAQAAAAAAAAPA/AAAAAAAA8D8AAAAAAAAAAAAAAAAAAABAAAAAAAAA8D8AAAAAAAAAQAAAAAAAAABAAAAAAAAAAAAAAAAAAAAAQAAAAAAAAABAAAAAAAAAAEAAAAAAAAAAQAAAAAAAAABAAAAAAAAA8D8AAAAAAAAAAAAAAAAAAAAAAAAAAAAAAAAAAAAAAAAAQAAAAAAAAAAAAAAAAAAAAAAAAAAAAAAAQAAAAAAAAPA/AAAAAAAA8D8AAAAAAAAAQAAAAAAAAPA/AAAAAAAAAEAAAAAAAAAAQAAAAAAAAABAAAAAAAAAAAAAAAAAAADwPwAAAAAAAAAAAAAAAAAA8D8AAAAAAADwPwAAAAAAAAAAAAAAAAAA8D8AAAAAAAAAAAAAAAAAAPA/AAAAAAAA8D8AAAAAAADwPwAAAAAAAPA/AAAAAAAAAAAAAAAAAAAAQAAAAAAAAABAAAAAAAAA8D8AAAAAAADwPwAAAAAAAPA/AAAAAAAA8D8AAAAAAAAAQAAAAAAAAPA/AAAAAAAAAEAAAAAAAAAAAAAAAAAAAAAAAAAAAAAA8D8AAAAAAAAAQAAAAAAAAABAAAAAAAAAAAAAAAAAAADwPwAAAAAAAABAAAAAAAAA8D8AAAAAAAAAAAAAAAAAAABAAAAAAAAA8D8AAAAAAAAAAAAAAAAAAAAAAAAAAAAA8D8AAAAAAADwPwAAAAAAAABAAAAAAAAA8D8AAAAAAADwPwAAAAAAAABAAAAAAAAAAAAAAAAAAAAAAAAAAAAAAPA/AAAAAAAA8D8AAAAAAAAAQAAAAAAAAABAAAAAAAAAAAAAAAAAAAAAAAAAAAAAAAAAAAAAAAAAAAAAAAAAAAAAAAAAAAAAAPA/AAAAAAAAAAAAAAAAAAAAQAAAAAAAAPA/AAAAAAAAAEAAAAAAAADwPwAAAAAAAPA/AAAAAAAA8D8AAAAAAAAAQAAAAAAAAAAAAAAAAAAAAEAAAAAAAAAAAAAAAAAAAPA/AAAAAAAA8D8AAAAAAADwPwAAAAAAAABAAAAAAAAAAAAAAAAAAAAAQAAAAAAAAPA/AAAAAAAA8D8AAAAAAAAAQAAAAAAAAABAAAAAAAAAAEAAAAAAAADwPwAAAAAAAAAAAAAAAAAAAAAAAAAAAAAAAAAAAAAAAABAAAAAAAAA8D8AAAAAAAAAQAAAAAAAAABAAAAAAAAA8D8AAAAAAADwPwAAAAAAAPA/AAAAAAAAAAAAAAAAAAAAAAAAAAAAAAAAAAAAAAAAAEAAAAAAAAAAAAAAAAAAAABAAAAAAAAAAEAAAAAAAADwPwAAAAAAAPA/AAAAAAAA8D8AAAAAAAAAQAAAAAAAAAAAAAAAAAAA8D8AAAAAAAAAQAAAAAAAAABAAAAAAAAAAAAAAAAAAAAAQAAAAAAAAAAAAAAAAAAAAAAAAAAAAAAAAAAAAAAAAPA/AAAAAAAA8D8AAAAAAAAAAAAAAAAAAPA/AAAAAAAA8D8AAAAAAADwPwAAAAAAAPA/AAAAAAAA8D8AAAAAAAAAAAAAAAAAAABAAAAAAAAA8D8AAAAAAAAAAAAAAAAAAAAAAAAAAAAA8D8AAAAAAAAAAAAAAAAAAABAAAAAAAAAAAAAAAAAAAAAAAAAAAAAAAAAAAAAAAAAAAAAAAAAAAAAQAAAAAAAAAAAAAAAAAAA8D8AAAAAAADwPwAAAAAAAABAAAAAAAAAAEAAAAAAAAAAAAAAAAAAAABAAAAAAAAAAEAAAAAAAAAAAAAAAAAAAABAAAAAAAAAAEAAAAAAAAAAQAAAAAAAAAAAAAAAAAAAAAAAAAAAAAAAAAAAAAAAAPA/AAAAAAAAAEAAAAAAAAAAAAAAAAAAAAAAAAAAAAAAAAAAAAAAAAAAQAAAAAAAAPA/AAAAAAAA8D8AAAAAAADwPwAAAAAAAPA/AAAAAAAAAEAAAAAAAADwPwAAAAAAAPA/AAAAAAAAAAAAAAAAAAAAAAAAAAAAAAAAAAAAAAAAAEAAAAAAAADwPwAAAAAAAPA/AAAAAAAA8D8AAAAAAADwPwAAAAAAAABAAAAAAAAAAAAAAAAAAAAAAAAAAAAAAABAAAAAAAAAAEAAAAAAAAAAAAAAAAAAAABAAAAAAAAAAAAAAAAAAADwPwAAAAAAAABAAAAAAAAAAEAAAAAAAAAAQAAAAAAAAABAAAAAAAAAAAAAAAAAAADwPwAAAAAAAAAAAAAAAAAA8D8AAAAAAAAAQAAAAAAAAAAAAAAAAAAA8D8AAAAAAAAAQAAAAAAAAAAAAAAAAAAAAEAAAAAAAAAAAAAAAAAAAABAAAAAAAAA8D8AAAAAAAAAAAAAAAAAAAAAAAAAAAAAAAAAAAAAAADwPwAAAAAAAAAAAAAAAAAA8D8AAAAAAADwPwAAAAAAAPA/AAAAAAAAAAAAAAAAAAAAAAAAAAAAAPA/AAAAAAAAAAAAAAAAAADwPwAAAAAAAABAAAAAAAAA8D8AAAAAAADwPwAAAAAAAAAAAAAAAAAA8D8AAAAAAAAAQAAAAAAAAABAAAAAAAAA8D8AAAAAAAAAQAAAAAAAAABAAAAAAAAA8D8AAAAAAAAAAAAAAAAAAABAAAAAAAAA8D8AAAAAAAAAAAAAAAAAAPA/AAAAAAAAAAAAAAAAAADwPwAAAAAAAABAAAAAAAAAAAAAAAAAAAAAQAAAAAAAAABAAAAAAAAA8D8AAAAAAADwPwAAAAAAAAAAAAAAAAAAAEAAAAAAAADwPwAAAAAAAPA/AAAAAAAAAEAAAAAAAADwPwAAAAAAAABAAAAAAAAA8D8AAAAAAAAAQAAAAAAAAPA/AAAAAAAAAAAAAAAAAADwPwAAAAAAAPA/AAAAAAAA8D8AAAAAAAAAAAAAAAAAAABAAAAAAAAA8D8AAAAAAAAAAAAAAAAAAPA/AAAAAAAAAAAAAAAAAAAAQAAAAAAAAPA/AAAAAAAAAEAAAAAAAAAAAAAAAAAAAABAAAAAAAAAAEAAAAAAAAAAQAAAAAAAAABAAAAAAAAAAAAAAAAAAAAAQAAAAAAAAAAAAAAAAAAA8D8AAAAAAAAAAAAAAAAAAABAAAAAAAAAAEAAAAAAAAAAAAAAAAAAAAAAAAAAAAAAAEAAAAAAAADwPwAAAAAAAABAAAAAAAAAAAAAAAAAAAAAAAAAAAAAAPA/AAAAAAAA8D8AAAAAAADwPwAAAAAAAAAAAAAAAAAAAAAAAAAAAADwPwAAAAAAAPA/AAAAAAAAAEAAAAAAAADwPwAAAAAAAPA/AAAAAAAA8D8AAAAAAAAAQAAAAAAAAPA/AAAAAAAAAAAAAAAAAAAAAAAAAAAAAABAAAAAAAAAAAAAAAAAAADwPwAAAAAAAABAAAAAAAAAAAAAAAAAAADwPwAAAAAAAPA/AAAAAAAA8D8AAAAAAADwPwAAAAAAAABAAAAAAAAAAAAAAAAAAAAAAAAAAAAAAABAAAAAAAAAAAAAAAAAAAAAAAAAAAAAAAAAAAAAAAAAAEAAAAAAAAAAAAAAAAAAAAAAAAAAAAAA8D8AAAAAAAAAQAAAAAAAAAAAAAAAAAAAAEAAAAAAAAAAAAAAAAAAAPA/AAAAAAAAAEAAAAAAAAAAAAAAAAAAAAAAAAAAAAAA8D8AAAAAAADwPwAAAAAAAABAAAAAAAAA8D8AAAAAAADwPwAAAAAAAPA/AAAAAAAA8D8AAAAAAADwPwAAAAAAAPA/AAAAAAAAAEAAAAAAAADwPwAAAAAAAABAAAAAAAAAAAAAAAAAAADwPwAAAAAAAAAAAAAAAAAA8D8AAAAAAAAAAAAAAAAAAPA/AAAAAAAAAEAAAAAAAAAAQAAAAAAAAPA/AAAAAAAA8D8AAAAAAAAAAAAAAAAAAABAAAAAAAAAAEAAAAAAAAAAAAAAAAAAAPA/AAAAAAAA8D8AAAAAAADwPwAAAAAAAAAAAAAAAAAAAEAAAAAAAAAAQAAAAAAAAAAAAAAAAAAA8D8AAAAAAAAAQAAAAAAAAAAAAAAAAAAA8D8AAAAAAAAAAAAAAAAAAAAAAAAAAAAAAAAAAAAAAAAAQAAAAAAAAABAAAAAAAAAAAAAAAAAAADwPwAAAAAAAPA/AAAAAAAA8D8AAAAAAAAAAAAAAAAAAAAAAAAAAAAAAEAAAAAAAAAAQAAAAAAAAPA/AAAAAAAAAAAAAAAAAADwPwAAAAAAAAAAAAAAAAAAAEAAAAAAAAAAQAAAAAAAAABAAAAAAAAA8D8AAAAAAAAAQAAAAAAAAPA/AAAAAAAA8D8AAAAAAADwPwAAAAAAAPA/AAAAAAAAAEAAAAAAAAAAQAAAAAAAAABAAAAAAAAAAAAAAAAAAAAAAAAAAAAAAAAAAAAAAAAAAAAAAAAAAAAAAAAAAAAAAPA/AAAAAAAA8D8AAAAAAAAAQAAAAAAAAABAAAAAAAAAAEAAAAAAAADwPwAAAAAAAPA/AAAAAAAA8D8AAAAAAADwPwAAAAAAAAAAAAAAAAAAAEAAAAAAAAAAQAAAAAAAAABAAAAAAAAAAAAAAAAAAAAAAAAAAAAAAAAAAAAAAAAA8D8AAAAAAADwPwAAAAAAAAAAAAAAAAAAAAAAAAAAAAAAAAAAAAAAAABAAAAAAAAAAEAAAAAAAADwPwAAAAAAAAAAAAAAAAAAAEAAAAAAAAAAAAAAAAAAAAAAAAAAAAAAAAAAAAAAAAAAAAAAAAAAAABAAAAAAAAA8D8AAAAAAADwPwAAAAAAAABAAAAAAAAA8D8AAAAAAADwPwAAAAAAAABAAAAAAAAAAEAAAAAAAAAAAAAAAAAAAPA/AAAAAAAAAEAAAAAAAADwPwAAAAAAAPA/AAAAAAAAAEAAAAAAAAAAQAAAAAAAAABAAAAAAAAAAAAAAAAAAAAAQAAAAAAAAPA/AAAAAAAAAAAAAAAAAAAAAAAAAAAAAABAAAAAAAAA8D8AAAAAAAAAQAAAAAAAAPA/AAAAAAAA8D8AAAAAAAAAQAAAAAAAAPA/AAAAAAAAAEAAAAAAAAAAQAAAAAAAAAAAAAAAAAAAAEAAAAAAAADwPwAAAAAAAPA/AAAAAAAA8D8AAAAAAAAAAAAAAAAAAAAAAAAAAAAAAEAAAAAAAAAAAAAAAAAAAABAAAAAAAAA8D8AAAAAAADwPwAAAAAAAAAAAAAAAAAAAAAAAAAAAAAAQAAAAAAAAABAAAAAAAAA8D8AAAAAAAAAAAAAAAAAAABAAAAAAAAAAEAAAAAAAAAAQAAAAAAAAAAAAAAAAAAAAAAAAAAAAADwPwAAAAAAAABAAAAAAAAA8D8AAAAAAAAAAAAAAAAAAPA/AAAAAAAAAEAAAAAAAADwPwAAAAAAAPA/AAAAAAAAAEAAAAAAAAAAQAAAAAAAAABAAAAAAAAAAAAAAAAAAADwPwAAAAAAAABAAAAAAAAAAAAAAAAAAAAAQAAAAAAAAABAAAAAAAAAAAAAAAAAAAAAAAAAAAAAAABAAAAAAAAAAEAAAAAAAADwPwAAAAAAAAAAAAAAAAAAAEAAAAAAAAAAAAAAAAAAAPA/AAAAAAAA8D8AAAAAAAAAQAAAAAAAAABAAAAAAAAAAAAAAAAAAAAAQAAAAAAAAAAAAAAAAAAA8D8AAAAAAAAAQAAAAAAAAPA/AAAAAAAAAEAAAAAAAADwPwAAAAAAAPA/AAAAAAAAAAAAAAAAAAAAQAAAAAAAAPA/AAAAAAAA8D8AAAAAAADwPwAAAAAAAPA/AAAAAAAAAAAAAAAAAAAAAAAAAAAAAABAAAAAAAAAAAAAAAAAAAAAQAAAAAAAAPA/AAAAAAAAAEAAAAAAAAAAAAAAAAAAAAAAAAAAAAAAAAAAAAAAAAAAAAAAAAAAAABAAAAAAAAA8D8AAAAAAAAAQAAAAAAAAPA/AAAAAAAAAAAAAAAAAAAAQAAAAAAAAABAAAAAAAAAAAAAAAAAAADwPwAAAAAAAPA/AAAAAAAAAAAAAAAAAAAAQAAAAAAAAAAAAAAAAAAAAAAAAAAAAAAAQAAAAAAAAABAAAAAAAAAAAAAAAAAAADwPwAAAAAAAAAAAAAAAAAAAAAAAAAAAAAAAAAAAAAAAAAAAAAAAAAA8D8AAAAAAAAAQAAAAAAAAAAAAAAAAAAAAAAAAAAAAADwPwAAAAAAAPA/AAAAAAAAAEAAAAAAAADwPwAAAAAAAPA/AAAAAAAAAAAAAAAAAADwPwAAAAAAAABAAAAAAAAAAEAAAAAAAAAAAAAAAAAAAABAAAAAAAAAAEAAAAAAAAAAAAAAAAAAAPA/AAAAAAAAAEAAAAAAAAAAAAAAAAAAAABAAAAAAAAA8D8AAAAAAAAAAAAAAAAAAAAAAAAAAAAA8D8AAAAAAAAAAAAAAAAAAPA/AAAAAAAAAAAAAAAAAAAAQAAAAAAAAPA/AAAAAAAA8D8AAAAAAAAAAAAAAAAAAAAAAAAAAAAA8D8AAAAAAAAAQAAAAAAAAPA/AAAAAAAAAAAAAAAAAADwPwAAAAAAAPA/AAAAAAAAAAAAAAAAAAAAAAAAAAAAAABAAAAAAAAAAEAAAAAAAAAAQAAAAAAAAAAAAAAAAAAA8D8AAAAAAAAAAAAAAAAAAAAAAAAAAAAAAAAAAAAAAAAAAAAAAAAAAAAAAAAAAAAAAEAAAAAAAAAAQAAAAAAAAABAAAAAAAAAAAAAAAAAAAAAAAAAAAAAAPA/AAAAAAAAAEAAAAAAAAAAQAAAAAAAAABAAAAAAAAAAAAAAAAAAAAAQAAAAAAAAPA/AAAAAAAA8D8AAAAAAADwPwAAAAAAAPA/AAAAAAAAAAAAAAAAAADwPwAAAAAAAABAAAAAAAAAAEAAAAAAAADwPwAAAAAAAABAAAAAAAAAAAAAAAAAAAAAQAAAAAAAAPA/AAAAAAAAAEAAAAAAAADwPwAAAAAAAABAAAAAAAAAAAAAAAAAAAAAQAAAAAAAAAAAAAAAAAAAAEAAAAAAAAAAAAAAAAAAAABAAAAAAAAAAEAAAAAAAAAAAAAAAAAAAAAAAAAAAAAAAAAAAAAAAADwPwAAAAAAAPA/AAAAAAAAAAAAAAAAAAAAAAAAAAAAAABAAAAAAAAAAAAAAAAAAAAAQAAAAAAAAAAAAAAAAAAA8D8AAAAAAADwPwAAAAAAAPA/AAAAAAAAAAAAAAAAAAAAAAAAAAAAAPA/AAAAAAAAAEAAAAAAAAAAAAAAAAAAAPA/AAAAAAAA8D8AAAAAAAAAQAAAAAAAAPA/AAAAAAAAAEAAAAAAAADwPwAAAAAAAPA/AAAAAAAA8D8AAAAAAAAAAAAAAAAAAABAAAAAAAAAAEAAAAAAAADwPwAAAAAAAAAAAAAAAAAAAAAAAAAAAAAAQAAAAAAAAPA/AAAAAAAAAEAAAAAAAAAAQAAAAAAAAABAAAAAAAAA8D8AAAAAAAAAAAAAAAAAAPA/AAAAAAAAAAAAAAAAAADwPwAAAAAAAPA/AAAAAAAAAAAAAAAAAADwPwAAAAAAAPA/AAAAAAAAAAAAAAAAAADwPwAAAAAAAAAAAAAAAAAA8D8AAAAAAAAAAAAAAAAAAABAAAAAAAAA8D8AAAAAAAAAQAAAAAAAAABAAAAAAAAA8D8AAAAAAADwPwAAAAAAAAAAAAAAAAAAAAAAAAAAAAAAQAAAAAAAAABAAAAAAAAA8D8AAAAAAADwPwAAAAAAAABAAAAAAAAAAAAAAAAAAAAAQAAAAAAAAAAAAAAAAAAAAAAAAAAAAADwPwAAAAAAAAAAAAAAAAAAAEAAAAAAAAAAAAAAAAAAAPA/AAAAAAAAAEAAAAAAAAAAQAAAAAAAAPA/AAAAAAAA8D8AAAAAAAAAAAAAAAAAAPA/AAAAAAAAAEAAAAAAAAAAAAAAAAAAAPA/AAAAAAAAAEAAAAAAAADwPwAAAAAAAPA/AAAAAAAA8D8AAAAAAAAAQAAAAAAAAPA/AAAAAAAAAAAAAAAAAAAAQAAAAAAAAPA/AAAAAAAAAEAAAAAAAAAAQAAAAAAAAPA/AAAAAAAA8D8AAAAAAAAAAAAAAAAAAAAAAAAAAAAA8D8AAAAAAADwPwAAAAAAAABAAAAAAAAAAEAAAAAAAAAAQAAAAAAAAPA/AAAAAAAAAAAAAAAAAAAAQAAAAAAAAAAAAAAAAAAAAEAAAAAAAAAAQAAAAAAAAPA/AAAAAAAA8D8AAAAAAAAAAAAAAAAAAABAAAAAAAAAAAAAAAAAAADwPwAAAAAAAAAAAAAAAAAAAAAAAAAAAAAAQAAAAAAAAABAAAAAAAAA8D8AAAAAAAAAQAAAAAAAAAAAAAAAAAAAAAAAAAAAAADwPwAAAAAAAPA/AAAAAAAA8D8AAAAAAADwPwAAAAAAAABAAAAAAAAA8D8AAAAAAADwPwAAAAAAAPA/AAAAAAAA8D8AAAAAAAAAAAAAAAAAAABAAAAAAAAA8D8AAAAAAAAAAAAAAAAAAABAAAAAAAAAAAAAAAAAAAAAQAAAAAAAAPA/AAAAAAAAAEAAAAAAAADwPwAAAAAAAAAAAAAAAAAA8D8AAAAAAAAAQAAAAAAAAABAAAAAAAAAAEAAAAAAAAAAQAAAAAAAAAAAAAAAAAAAAEAAAAAAAADwPwAAAAAAAPA/AAAAAAAA8D8AAAAAAAAAAAAAAAAAAABAAAAAAAAAAEAAAAAAAADwPwAAAAAAAPA/AAAAAAAAAAAAAAAAAAAAQAAAAAAAAABAAAAAAAAAAAAAAAAAAAAAQAAAAAAAAABAAAAAAAAA8D8AAAAAAAAAQAAAAAAAAABAAAAAAAAA8D8AAAAAAADwPwAAAAAAAABAAAAAAAAAAAAAAAAAAAAAQAAAAAAAAAAAAAAAAAAAAEAAAAAAAADwPwAAAAAAAABAAAAAAAAAAEAAAAAAAADwPwAAAAAAAAAAAAAAAAAAAAAAAAAAAADwPwAAAAAAAABAAAAAAAAAAAAAAAAAAAAAAAAAAAAAAPA/AAAAAAAA8D8AAAAAAAAAQAAAAAAAAPA/AAAAAAAAAEAAAAAAAAAAAAAAAAAAAPA/AAAAAAAA8D8AAAAAAAAAQAAAAAAAAABAAAAAAAAAAEAAAAAAAAAAAAAAAAAAAAAAAAAAAAAAAEAAAAAAAAAAAAAAAAAAAPA/AAAAAAAA8D8AAAAAAAAAQAAAAAAAAPA/AAAAAAAA8D8AAAAAAAAAQAAAAAAAAPA/AAAAAAAAAEAAAAAAAADwPwAAAAAAAAAAAAAAAAAA8D8AAAAAAADwPwAAAAAAAPA/AAAAAAAAAAAAAAAAAAAAQAAAAAAAAPA/AAAAAAAAAAAAAAAAAADwPwAAAAAAAAAAAAAAAAAAAEAAAAAAAADwPwAAAAAAAAAAAAAAAAAAAEAAAAAAAAAAQAAAAAAAAAAAAAAAAAAA8D8AAAAAAADwPwAAAAAAAPA/AAAAAAAA8D8AAAAAAAAAAAAAAAAAAABAAAAAAAAA8D8AAAAAAAAAAAAAAAAAAABAAAAAAAAA8D8AAAAAAAAAAAAAAAAAAPA/AAAAAAAA8D8AAAAAAAAAAAAAAAAAAAAAAAAAAAAA8D8AAAAAAAAAQAAAAAAAAPA/AAAAAAAAAAAAAAAAAAAAAAAAAAAAAPA/AAAAAAAAAAAAAAAAAAAAQAAAAAAAAABAAAAAAAAAAEAAAAAAAADwPwAAAAAAAABAAAAAAAAAAEAAAAAAAADwPwAAAAAAAPA/AAAAAAAAAEAAAAAAAADwPwAAAAAAAPA/AAAAAAAA8D8AAAAAAADwPwAAAAAAAAAAAAAAAAAA8D8AAAAAAAAAAAAAAAAAAABAAAAAAAAAAAAAAAAAAAAAQAAAAAAAAABAAAAAAAAA8D8AAAAAAAAAQAAAAAAAAPA/AAAAAAAAAEAAAAAAAADwPwAAAAAAAPA/AAAAAAAAAAAAAAAAAAAAQAAAAAAAAAAAAAAAAAAA8D8AAAAAAAAAAAAAAAAAAAAAAAAAAAAAAEAAAAAAAAAAAAAAAAAAAABAAAAAAAAAAEAAAAAAAAAAQAAAAAAAAABAAAAAAAAAAAAAAAAAAADwPwAAAAAAAAAAAAAAAAAAAAAAAAAAAAAAQAAAAAAAAABAAAAAAAAA8D8AAAAAAADwPwAAAAAAAABAAAAAAAAA8D8AAAAAAAAAQAAAAAAAAAAAAAAAAAAAAEAAAAAAAAAAAAAAAAAAAAAAAAAAAAAAAAAAAAAAAAAAAAAAAAAAAABAAAAAAAAAAEAAAAAAAAAAAAAAAAAAAPA/AAAAAAAA8D8AAAAAAADwPwAAAAAAAABAAAAAAAAAAEAAAAAAAAAAQAAAAAAAAPA/AAAAAAAA8D8AAAAAAAAAQAAAAAAAAAAAAAAAAAAA8D8AAAAAAAAAQAAAAAAAAPA/AAAAAAAAAAAAAAAAAADwPwAAAAAAAAAAAAAAAAAAAAAAAAAAAAAAAAAAAAAAAPA/AAAAAAAAAEAAAAAAAAAAAAAAAAAAAABAAAAAAAAA8D8AAAAAAADwPwAAAAAAAAAAAAAAAAAA8D8AAAAAAADwPwAAAAAAAPA/AAAAAAAAAEAAAAAAAAAAQAAAAAAAAABAAAAAAAAAAEAAAAAAAAAAAAAAAAAAAPA/AAAAAAAAAAAAAAAAAADwPwAAAAAAAABAAAAAAAAA8D8AAAAAAAAAAAAAAAAAAAAAAAAAAAAAAAAAAAAAAAAAQAAAAAAAAABAAAAAAAAA8D8AAAAAAAAAQAAAAAAAAAAAAAAAAAAAAAAAAAAAAAAAAAAAAAAAAABAAAAAAAAA8D8AAAAAAAAAQAAAAAAAAAAAAAAAAAAA8D8AAAAAAAAAQAAAAAAAAABAAAAAAAAAAEAAAAAAAAAAQAAAAAAAAPA/AAAAAAAAAAAAAAAAAAAAAAAAAAAAAABAAAAAAAAAAEAAAAAAAAAAAAAAAAAAAABAAAAAAAAA8D8AAAAAAADwPwAAAAAAAABAAAAAAAAA8D8AAAAAAAAAAAAAAAAAAPA/AAAAAAAAAEAAAAAAAADwPwAAAAAAAPA/AAAAAAAAAEAAAAAAAAAAQAAAAAAAAPA/AAAAAAAAAEAAAAAAAAAAQAAAAAAAAAAAAAAAAAAA8D8AAAAAAADwPwAAAAAAAPA/AAAAAAAAAEAAAAAAAAAAQAAAAAAAAPA/AAAAAAAAAAAAAAAAAAAAQAAAAAAAAAAAAAAAAAAAAAAAAAAAAADwPwAAAAAAAPA/AAAAAAAAAEAAAAAAAAAAQAAAAAAAAABAAAAAAAAAAEAAAAAAAAAAAAAAAAAAAABAAAAAAAAAAEAAAAAAAAAAQAAAAAAAAPA/AAAAAAAAAAAAAAAAAAAAAAAAAAAAAAAAAAAAAAAAAEAAAAAAAAAAAAAAAAAAAPA/AAAAAAAA8D8AAAAAAADwPwAAAAAAAAAAAAAAAAAAAAAAAAAAAAAAQAAAAAAAAPA/AAAAAAAAAEAAAAAAAAAAAAAAAAAAAPA/AAAAAAAAAAAAAAAAAAAAAAAAAAAAAPA/AAAAAAAA8D8AAAAAAAAAAAAAAAAAAPA/AAAAAAAAAAAAAAAAAAAAQAAAAAAAAABAAAAAAAAAAEAAAAAAAAAAAAAAAAAAAPA/AAAAAAAA8D8AAAAAAADwPwAAAAAAAAAAAAAAAAAA8D8AAAAAAAAAAAAAAAAAAAAAAAAAAAAAAAAAAAAAAAAAQAAAAAAAAAAAAAAAAAAAAAAAAAAAAADwPwAAAAAAAABAAAAAAAAAAEAAAAAAAAAAAAAAAAAAAAAAAAAAAAAAAEAAAAAAAAAAQAAAAAAAAAAAAAAAAAAAAAAAAAAAAADwPwAAAAAAAAAAAAAAAAAAAEAAAAAAAADwPwAAAAAAAPA/AAAAAAAAAEAAAAAAAADwPwAAAAAAAAAAAAAAAAAAAAAAAAAAAAAAQAAAAAAAAAAAAAAAAAAAAEAAAAAAAAAAAAAAAAAAAABAAAAAAAAA8D8AAAAAAAAAQAAAAAAAAABAAAAAAAAAAAAAAAAAAADwPwAAAAAAAABAAAAAAAAAAAAAAAAAAAAAQAAAAAAAAPA/AAAAAAAAAEAAAAAAAAAAQAAAAAAAAPA/AAAAAAAA8D8AAAAAAADwPwAAAAAAAABAAAAAAAAAAEAAAAAAAAAAAAAAAAAAAPA/AAAAAAAAAEAAAAAAAAAAAAAAAAAAAPA/AAAAAAAAAAAAAAAAAAAAAAAAAAAAAABAAAAAAAAAAAAAAAAAAAAAAAAAAAAAAPA/AAAAAAAAAAAAAAAAAAAAQAAAAAAAAAAAAAAAAAAAAAAAAAAAAAAAAAAAAAAAAPA/AAAAAAAAAEAAAAAAAADwPwAAAAAAAAAAAAAAAAAA8D8AAAAAAAAAQAAAAAAAAABAAAAAAAAAAAAAAAAAAAAAQAAAAAAAAPA/AAAAAAAAAEAAAAAAAAAAAAAAAAAAAABAAAAAAAAAAEAAAAAAAADwPwAAAAAAAAAAAAAAAAAA8D8AAAAAAAAAAAAAAAAAAABAAAAAAAAAAAAAAAAAAAAAAAAAAAAAAABAAAAAAAAAAAAAAAAAAAAAAAAAAAAAAPA/AAAAAAAA8D8AAAAAAAAAAAAAAAAAAPA/AAAAAAAAAAAAAAAAAADwPwAAAAAAAPA/AAAAAAAA8D8AAAAAAADwPwAAAAAAAABAAAAAAAAAAAAAAAAAAAAAAAAAAAAAAABAAAAAAAAAAAAAAAAAAAAAQAAAAAAAAAAAAAAAAAAAAAAAAAAAAADwPwAAAAAAAPA/AAAAAAAA8D8AAAAAAAAAAAAAAAAAAAAAAAAAAAAAAAAAAAAAAAAAAAAAAAAAAPA/AAAAAAAAAEAAAAAAAAAAAAAAAAAAAAAAAAAAAAAA8D8AAAAAAAAAAAAAAAAAAABAAAAAAAAAAAAAAAAAAADwPwAAAAAAAABAAAAAAAAAAEAAAAAAAAAAQAAAAAAAAAAAAAAAAAAAAEAAAAAAAADwPwAAAAAAAAAAAAAAAAAAAAAAAAAAAAAAAAAAAAAAAAAAAAAAAAAAAAAAAAAAAADwPwAAAAAAAABAAAAAAAAAAAAAAAAAAAAAQAAAAAAAAABAAAAAAAAAAEAAAAAAAAAAAAAAAAAAAABAAAAAAAAAAEAAAAAAAAAAQAAAAAAAAAAAAAAAAAAAAAAAAAAAAADwPwAAAAAAAAAAAAAAAAAAAEAAAAAAAAAAAAAAAAAAAPA/AAAAAAAA8D8AAAAAAAAAAAAAAAAAAPA/AAAAAAAAAEAAAAAAAADwPwAAAAAAAAAAAAAAAAAA8D8AAAAAAADwPwAAAAAAAAAAAAAAAAAA8D8AAAAAAAAAAAAAAAAAAAAAAAAAAAAAAAAAAAAAAAAAQAAAAAAAAAAAAAAAAAAAAAAAAAAAAADwPwAAAAAAAPA/AAAAAAAAAEAAAAAAAAAAAAAAAAAAAABAAAAAAAAA8D8AAAAAAADwPwAAAAAAAABAAAAAAAAA8D8AAAAAAADwPwAAAAAAAAAAAAAAAAAAAEAAAAAAAADwPwAAAAAAAABAAAAAAAAAAEAAAAAAAAAAQAAAAAAAAAAAAAAAAAAA8D8AAAAAAAAAAAAAAAAAAPA/AAAAAAAA8D8AAAAAAAAAQAAAAAAAAABAAAAAAAAAAAAAAAAAAAAAQAAAAAAAAABAAAAAAAAAAEAAAAAAAADwPwAAAAAAAPA/AAAAAAAAAAAAAAAAAADwPwAAAAAAAAAAAAAAAAAA8D8AAAAAAADwPwAAAAAAAABAAAAAAAAAAEAAAAAAAAAAAAAAAAAAAPA/AAAAAAAA8D8AAAAAAADwPwAAAAAAAPA/AAAAAAAAAAAAAAAAAAAAAAAAAAAAAABAAAAAAAAA8D8AAAAAAADwPwAAAAAAAAAA",
           "dtype": "f8"
          },
          "coloraxis": "coloraxis",
          "size": 5,
          "symbol": "circle"
         },
         "mode": "markers",
         "name": "",
         "scene": "scene",
         "showlegend": false,
         "type": "scatter3d",
         "x": {
          "bdata": "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",
          "dtype": "f4"
         },
         "y": {
          "bdata": "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",
          "dtype": "f4"
         },
         "z": {
          "bdata": "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",
          "dtype": "f4"
         }
        }
       ],
       "layout": {
        "coloraxis": {
         "colorbar": {
          "title": {
           "text": "Burst Type"
          }
         },
         "colorscale": [
          [
           0,
           "#0d0887"
          ],
          [
           0.1111111111111111,
           "#46039f"
          ],
          [
           0.2222222222222222,
           "#7201a8"
          ],
          [
           0.3333333333333333,
           "#9c179e"
          ],
          [
           0.4444444444444444,
           "#bd3786"
          ],
          [
           0.5555555555555556,
           "#d8576b"
          ],
          [
           0.6666666666666666,
           "#ed7953"
          ],
          [
           0.7777777777777778,
           "#fb9f3a"
          ],
          [
           0.8888888888888888,
           "#fdca26"
          ],
          [
           1,
           "#f0f921"
          ]
         ]
        },
        "height": 700,
        "legend": {
         "tracegroupgap": 0
        },
        "scene": {
         "domain": {
          "x": [
           0,
           1
          ],
          "y": [
           0,
           1
          ]
         },
         "xaxis": {
          "title": {
           "text": "UMAP1"
          }
         },
         "yaxis": {
          "title": {
           "text": "UMAP2"
          }
         },
         "zaxis": {
          "title": {
           "text": "UMAP3"
          }
         }
        },
        "template": {
         "data": {
          "bar": [
           {
            "error_x": {
             "color": "#2a3f5f"
            },
            "error_y": {
             "color": "#2a3f5f"
            },
            "marker": {
             "line": {
              "color": "#E5ECF6",
              "width": 0.5
             },
             "pattern": {
              "fillmode": "overlay",
              "size": 10,
              "solidity": 0.2
             }
            },
            "type": "bar"
           }
          ],
          "barpolar": [
           {
            "marker": {
             "line": {
              "color": "#E5ECF6",
              "width": 0.5
             },
             "pattern": {
              "fillmode": "overlay",
              "size": 10,
              "solidity": 0.2
             }
            },
            "type": "barpolar"
           }
          ],
          "carpet": [
           {
            "aaxis": {
             "endlinecolor": "#2a3f5f",
             "gridcolor": "white",
             "linecolor": "white",
             "minorgridcolor": "white",
             "startlinecolor": "#2a3f5f"
            },
            "baxis": {
             "endlinecolor": "#2a3f5f",
             "gridcolor": "white",
             "linecolor": "white",
             "minorgridcolor": "white",
             "startlinecolor": "#2a3f5f"
            },
            "type": "carpet"
           }
          ],
          "choropleth": [
           {
            "colorbar": {
             "outlinewidth": 0,
             "ticks": ""
            },
            "type": "choropleth"
           }
          ],
          "contour": [
           {
            "colorbar": {
             "outlinewidth": 0,
             "ticks": ""
            },
            "colorscale": [
             [
              0,
              "#0d0887"
             ],
             [
              0.1111111111111111,
              "#46039f"
             ],
             [
              0.2222222222222222,
              "#7201a8"
             ],
             [
              0.3333333333333333,
              "#9c179e"
             ],
             [
              0.4444444444444444,
              "#bd3786"
             ],
             [
              0.5555555555555556,
              "#d8576b"
             ],
             [
              0.6666666666666666,
              "#ed7953"
             ],
             [
              0.7777777777777778,
              "#fb9f3a"
             ],
             [
              0.8888888888888888,
              "#fdca26"
             ],
             [
              1,
              "#f0f921"
             ]
            ],
            "type": "contour"
           }
          ],
          "contourcarpet": [
           {
            "colorbar": {
             "outlinewidth": 0,
             "ticks": ""
            },
            "type": "contourcarpet"
           }
          ],
          "heatmap": [
           {
            "colorbar": {
             "outlinewidth": 0,
             "ticks": ""
            },
            "colorscale": [
             [
              0,
              "#0d0887"
             ],
             [
              0.1111111111111111,
              "#46039f"
             ],
             [
              0.2222222222222222,
              "#7201a8"
             ],
             [
              0.3333333333333333,
              "#9c179e"
             ],
             [
              0.4444444444444444,
              "#bd3786"
             ],
             [
              0.5555555555555556,
              "#d8576b"
             ],
             [
              0.6666666666666666,
              "#ed7953"
             ],
             [
              0.7777777777777778,
              "#fb9f3a"
             ],
             [
              0.8888888888888888,
              "#fdca26"
             ],
             [
              1,
              "#f0f921"
             ]
            ],
            "type": "heatmap"
           }
          ],
          "histogram": [
           {
            "marker": {
             "pattern": {
              "fillmode": "overlay",
              "size": 10,
              "solidity": 0.2
             }
            },
            "type": "histogram"
           }
          ],
          "histogram2d": [
           {
            "colorbar": {
             "outlinewidth": 0,
             "ticks": ""
            },
            "colorscale": [
             [
              0,
              "#0d0887"
             ],
             [
              0.1111111111111111,
              "#46039f"
             ],
             [
              0.2222222222222222,
              "#7201a8"
             ],
             [
              0.3333333333333333,
              "#9c179e"
             ],
             [
              0.4444444444444444,
              "#bd3786"
             ],
             [
              0.5555555555555556,
              "#d8576b"
             ],
             [
              0.6666666666666666,
              "#ed7953"
             ],
             [
              0.7777777777777778,
              "#fb9f3a"
             ],
             [
              0.8888888888888888,
              "#fdca26"
             ],
             [
              1,
              "#f0f921"
             ]
            ],
            "type": "histogram2d"
           }
          ],
          "histogram2dcontour": [
           {
            "colorbar": {
             "outlinewidth": 0,
             "ticks": ""
            },
            "colorscale": [
             [
              0,
              "#0d0887"
             ],
             [
              0.1111111111111111,
              "#46039f"
             ],
             [
              0.2222222222222222,
              "#7201a8"
             ],
             [
              0.3333333333333333,
              "#9c179e"
             ],
             [
              0.4444444444444444,
              "#bd3786"
             ],
             [
              0.5555555555555556,
              "#d8576b"
             ],
             [
              0.6666666666666666,
              "#ed7953"
             ],
             [
              0.7777777777777778,
              "#fb9f3a"
             ],
             [
              0.8888888888888888,
              "#fdca26"
             ],
             [
              1,
              "#f0f921"
             ]
            ],
            "type": "histogram2dcontour"
           }
          ],
          "mesh3d": [
           {
            "colorbar": {
             "outlinewidth": 0,
             "ticks": ""
            },
            "type": "mesh3d"
           }
          ],
          "parcoords": [
           {
            "line": {
             "colorbar": {
              "outlinewidth": 0,
              "ticks": ""
             }
            },
            "type": "parcoords"
           }
          ],
          "pie": [
           {
            "automargin": true,
            "type": "pie"
           }
          ],
          "scatter": [
           {
            "fillpattern": {
             "fillmode": "overlay",
             "size": 10,
             "solidity": 0.2
            },
            "type": "scatter"
           }
          ],
          "scatter3d": [
           {
            "line": {
             "colorbar": {
              "outlinewidth": 0,
              "ticks": ""
             }
            },
            "marker": {
             "colorbar": {
              "outlinewidth": 0,
              "ticks": ""
             }
            },
            "type": "scatter3d"
           }
          ],
          "scattercarpet": [
           {
            "marker": {
             "colorbar": {
              "outlinewidth": 0,
              "ticks": ""
             }
            },
            "type": "scattercarpet"
           }
          ],
          "scattergeo": [
           {
            "marker": {
             "colorbar": {
              "outlinewidth": 0,
              "ticks": ""
             }
            },
            "type": "scattergeo"
           }
          ],
          "scattergl": [
           {
            "marker": {
             "colorbar": {
              "outlinewidth": 0,
              "ticks": ""
             }
            },
            "type": "scattergl"
           }
          ],
          "scattermap": [
           {
            "marker": {
             "colorbar": {
              "outlinewidth": 0,
              "ticks": ""
             }
            },
            "type": "scattermap"
           }
          ],
          "scattermapbox": [
           {
            "marker": {
             "colorbar": {
              "outlinewidth": 0,
              "ticks": ""
             }
            },
            "type": "scattermapbox"
           }
          ],
          "scatterpolar": [
           {
            "marker": {
             "colorbar": {
              "outlinewidth": 0,
              "ticks": ""
             }
            },
            "type": "scatterpolar"
           }
          ],
          "scatterpolargl": [
           {
            "marker": {
             "colorbar": {
              "outlinewidth": 0,
              "ticks": ""
             }
            },
            "type": "scatterpolargl"
           }
          ],
          "scatterternary": [
           {
            "marker": {
             "colorbar": {
              "outlinewidth": 0,
              "ticks": ""
             }
            },
            "type": "scatterternary"
           }
          ],
          "surface": [
           {
            "colorbar": {
             "outlinewidth": 0,
             "ticks": ""
            },
            "colorscale": [
             [
              0,
              "#0d0887"
             ],
             [
              0.1111111111111111,
              "#46039f"
             ],
             [
              0.2222222222222222,
              "#7201a8"
             ],
             [
              0.3333333333333333,
              "#9c179e"
             ],
             [
              0.4444444444444444,
              "#bd3786"
             ],
             [
              0.5555555555555556,
              "#d8576b"
             ],
             [
              0.6666666666666666,
              "#ed7953"
             ],
             [
              0.7777777777777778,
              "#fb9f3a"
             ],
             [
              0.8888888888888888,
              "#fdca26"
             ],
             [
              1,
              "#f0f921"
             ]
            ],
            "type": "surface"
           }
          ],
          "table": [
           {
            "cells": {
             "fill": {
              "color": "#EBF0F8"
             },
             "line": {
              "color": "white"
             }
            },
            "header": {
             "fill": {
              "color": "#C8D4E3"
             },
             "line": {
              "color": "white"
             }
            },
            "type": "table"
           }
          ]
         },
         "layout": {
          "annotationdefaults": {
           "arrowcolor": "#2a3f5f",
           "arrowhead": 0,
           "arrowwidth": 1
          },
          "autotypenumbers": "strict",
          "coloraxis": {
           "colorbar": {
            "outlinewidth": 0,
            "ticks": ""
           }
          },
          "colorscale": {
           "diverging": [
            [
             0,
             "#8e0152"
            ],
            [
             0.1,
             "#c51b7d"
            ],
            [
             0.2,
             "#de77ae"
            ],
            [
             0.3,
             "#f1b6da"
            ],
            [
             0.4,
             "#fde0ef"
            ],
            [
             0.5,
             "#f7f7f7"
            ],
            [
             0.6,
             "#e6f5d0"
            ],
            [
             0.7,
             "#b8e186"
            ],
            [
             0.8,
             "#7fbc41"
            ],
            [
             0.9,
             "#4d9221"
            ],
            [
             1,
             "#276419"
            ]
           ],
           "sequential": [
            [
             0,
             "#0d0887"
            ],
            [
             0.1111111111111111,
             "#46039f"
            ],
            [
             0.2222222222222222,
             "#7201a8"
            ],
            [
             0.3333333333333333,
             "#9c179e"
            ],
            [
             0.4444444444444444,
             "#bd3786"
            ],
            [
             0.5555555555555556,
             "#d8576b"
            ],
            [
             0.6666666666666666,
             "#ed7953"
            ],
            [
             0.7777777777777778,
             "#fb9f3a"
            ],
            [
             0.8888888888888888,
             "#fdca26"
            ],
            [
             1,
             "#f0f921"
            ]
           ],
           "sequentialminus": [
            [
             0,
             "#0d0887"
            ],
            [
             0.1111111111111111,
             "#46039f"
            ],
            [
             0.2222222222222222,
             "#7201a8"
            ],
            [
             0.3333333333333333,
             "#9c179e"
            ],
            [
             0.4444444444444444,
             "#bd3786"
            ],
            [
             0.5555555555555556,
             "#d8576b"
            ],
            [
             0.6666666666666666,
             "#ed7953"
            ],
            [
             0.7777777777777778,
             "#fb9f3a"
            ],
            [
             0.8888888888888888,
             "#fdca26"
            ],
            [
             1,
             "#f0f921"
            ]
           ]
          },
          "colorway": [
           "#636efa",
           "#EF553B",
           "#00cc96",
           "#ab63fa",
           "#FFA15A",
           "#19d3f3",
           "#FF6692",
           "#B6E880",
           "#FF97FF",
           "#FECB52"
          ],
          "font": {
           "color": "#2a3f5f"
          },
          "geo": {
           "bgcolor": "white",
           "lakecolor": "white",
           "landcolor": "#E5ECF6",
           "showlakes": true,
           "showland": true,
           "subunitcolor": "white"
          },
          "hoverlabel": {
           "align": "left"
          },
          "hovermode": "closest",
          "mapbox": {
           "style": "light"
          },
          "paper_bgcolor": "white",
          "plot_bgcolor": "#E5ECF6",
          "polar": {
           "angularaxis": {
            "gridcolor": "white",
            "linecolor": "white",
            "ticks": ""
           },
           "bgcolor": "#E5ECF6",
           "radialaxis": {
            "gridcolor": "white",
            "linecolor": "white",
            "ticks": ""
           }
          },
          "scene": {
           "xaxis": {
            "backgroundcolor": "#E5ECF6",
            "gridcolor": "white",
            "gridwidth": 2,
            "linecolor": "white",
            "showbackground": true,
            "ticks": "",
            "zerolinecolor": "white"
           },
           "yaxis": {
            "backgroundcolor": "#E5ECF6",
            "gridcolor": "white",
            "gridwidth": 2,
            "linecolor": "white",
            "showbackground": true,
            "ticks": "",
            "zerolinecolor": "white"
           },
           "zaxis": {
            "backgroundcolor": "#E5ECF6",
            "gridcolor": "white",
            "gridwidth": 2,
            "linecolor": "white",
            "showbackground": true,
            "ticks": "",
            "zerolinecolor": "white"
           }
          },
          "shapedefaults": {
           "line": {
            "color": "#2a3f5f"
           }
          },
          "ternary": {
           "aaxis": {
            "gridcolor": "white",
            "linecolor": "white",
            "ticks": ""
           },
           "baxis": {
            "gridcolor": "white",
            "linecolor": "white",
            "ticks": ""
           },
           "bgcolor": "#E5ECF6",
           "caxis": {
            "gridcolor": "white",
            "linecolor": "white",
            "ticks": ""
           }
          },
          "title": {
           "x": 0.05
          },
          "xaxis": {
           "automargin": true,
           "gridcolor": "white",
           "linecolor": "white",
           "ticks": "",
           "title": {
            "standoff": 15
           },
           "zerolinecolor": "white",
           "zerolinewidth": 2
          },
          "yaxis": {
           "automargin": true,
           "gridcolor": "white",
           "linecolor": "white",
           "ticks": "",
           "title": {
            "standoff": 15
           },
           "zerolinecolor": "white",
           "zerolinewidth": 2
          }
         }
        },
        "title": {
         "text": "UMAP for burst windows"
        },
        "width": 800
       }
      }
     },
     "metadata": {},
     "output_type": "display_data"
    },
    {
     "name": "stderr",
     "output_type": "stream",
     "text": [
      "c:\\Users\\omgui\\AppData\\Local\\Programs\\Python\\Python313\\Lib\\site-packages\\sklearn\\utils\\deprecation.py:151: FutureWarning:\n",
      "\n",
      "'force_all_finite' was renamed to 'ensure_all_finite' in 1.6 and will be removed in 1.8.\n",
      "\n"
     ]
    },
    {
     "data": {
      "application/vnd.plotly.v1+json": {
       "config": {
        "plotlyServerURL": "https://plot.ly"
       },
       "data": [
        {
         "hovertemplate": "UMAP1=%{x}<br>UMAP2=%{y}<br>UMAP3=%{z}<br>Burst Type=%{marker.color}<extra></extra>",
         "legendgroup": "",
         "marker": {
          "color": {
           "bdata": "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",
           "dtype": "f8"
          },
          "coloraxis": "coloraxis",
          "size": 5,
          "symbol": "circle"
         },
         "mode": "markers",
         "name": "",
         "scene": "scene",
         "showlegend": false,
         "type": "scatter3d",
         "x": {
          "bdata": "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",
          "dtype": "f4"
         },
         "y": {
          "bdata": "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",
          "dtype": "f4"
         },
         "z": {
          "bdata": "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",
          "dtype": "f4"
         }
        }
       ],
       "layout": {
        "coloraxis": {
         "colorbar": {
          "title": {
           "text": "Burst Type"
          }
         },
         "colorscale": [
          [
           0,
           "#0d0887"
          ],
          [
           0.1111111111111111,
           "#46039f"
          ],
          [
           0.2222222222222222,
           "#7201a8"
          ],
          [
           0.3333333333333333,
           "#9c179e"
          ],
          [
           0.4444444444444444,
           "#bd3786"
          ],
          [
           0.5555555555555556,
           "#d8576b"
          ],
          [
           0.6666666666666666,
           "#ed7953"
          ],
          [
           0.7777777777777778,
           "#fb9f3a"
          ],
          [
           0.8888888888888888,
           "#fdca26"
          ],
          [
           1,
           "#f0f921"
          ]
         ]
        },
        "height": 700,
        "legend": {
         "tracegroupgap": 0
        },
        "scene": {
         "domain": {
          "x": [
           0,
           1
          ],
          "y": [
           0,
           1
          ]
         },
         "xaxis": {
          "title": {
           "text": "UMAP1"
          }
         },
         "yaxis": {
          "title": {
           "text": "UMAP2"
          }
         },
         "zaxis": {
          "title": {
           "text": "UMAP3"
          }
         }
        },
        "template": {
         "data": {
          "bar": [
           {
            "error_x": {
             "color": "#2a3f5f"
            },
            "error_y": {
             "color": "#2a3f5f"
            },
            "marker": {
             "line": {
              "color": "#E5ECF6",
              "width": 0.5
             },
             "pattern": {
              "fillmode": "overlay",
              "size": 10,
              "solidity": 0.2
             }
            },
            "type": "bar"
           }
          ],
          "barpolar": [
           {
            "marker": {
             "line": {
              "color": "#E5ECF6",
              "width": 0.5
             },
             "pattern": {
              "fillmode": "overlay",
              "size": 10,
              "solidity": 0.2
             }
            },
            "type": "barpolar"
           }
          ],
          "carpet": [
           {
            "aaxis": {
             "endlinecolor": "#2a3f5f",
             "gridcolor": "white",
             "linecolor": "white",
             "minorgridcolor": "white",
             "startlinecolor": "#2a3f5f"
            },
            "baxis": {
             "endlinecolor": "#2a3f5f",
             "gridcolor": "white",
             "linecolor": "white",
             "minorgridcolor": "white",
             "startlinecolor": "#2a3f5f"
            },
            "type": "carpet"
           }
          ],
          "choropleth": [
           {
            "colorbar": {
             "outlinewidth": 0,
             "ticks": ""
            },
            "type": "choropleth"
           }
          ],
          "contour": [
           {
            "colorbar": {
             "outlinewidth": 0,
             "ticks": ""
            },
            "colorscale": [
             [
              0,
              "#0d0887"
             ],
             [
              0.1111111111111111,
              "#46039f"
             ],
             [
              0.2222222222222222,
              "#7201a8"
             ],
             [
              0.3333333333333333,
              "#9c179e"
             ],
             [
              0.4444444444444444,
              "#bd3786"
             ],
             [
              0.5555555555555556,
              "#d8576b"
             ],
             [
              0.6666666666666666,
              "#ed7953"
             ],
             [
              0.7777777777777778,
              "#fb9f3a"
             ],
             [
              0.8888888888888888,
              "#fdca26"
             ],
             [
              1,
              "#f0f921"
             ]
            ],
            "type": "contour"
           }
          ],
          "contourcarpet": [
           {
            "colorbar": {
             "outlinewidth": 0,
             "ticks": ""
            },
            "type": "contourcarpet"
           }
          ],
          "heatmap": [
           {
            "colorbar": {
             "outlinewidth": 0,
             "ticks": ""
            },
            "colorscale": [
             [
              0,
              "#0d0887"
             ],
             [
              0.1111111111111111,
              "#46039f"
             ],
             [
              0.2222222222222222,
              "#7201a8"
             ],
             [
              0.3333333333333333,
              "#9c179e"
             ],
             [
              0.4444444444444444,
              "#bd3786"
             ],
             [
              0.5555555555555556,
              "#d8576b"
             ],
             [
              0.6666666666666666,
              "#ed7953"
             ],
             [
              0.7777777777777778,
              "#fb9f3a"
             ],
             [
              0.8888888888888888,
              "#fdca26"
             ],
             [
              1,
              "#f0f921"
             ]
            ],
            "type": "heatmap"
           }
          ],
          "histogram": [
           {
            "marker": {
             "pattern": {
              "fillmode": "overlay",
              "size": 10,
              "solidity": 0.2
             }
            },
            "type": "histogram"
           }
          ],
          "histogram2d": [
           {
            "colorbar": {
             "outlinewidth": 0,
             "ticks": ""
            },
            "colorscale": [
             [
              0,
              "#0d0887"
             ],
             [
              0.1111111111111111,
              "#46039f"
             ],
             [
              0.2222222222222222,
              "#7201a8"
             ],
             [
              0.3333333333333333,
              "#9c179e"
             ],
             [
              0.4444444444444444,
              "#bd3786"
             ],
             [
              0.5555555555555556,
              "#d8576b"
             ],
             [
              0.6666666666666666,
              "#ed7953"
             ],
             [
              0.7777777777777778,
              "#fb9f3a"
             ],
             [
              0.8888888888888888,
              "#fdca26"
             ],
             [
              1,
              "#f0f921"
             ]
            ],
            "type": "histogram2d"
           }
          ],
          "histogram2dcontour": [
           {
            "colorbar": {
             "outlinewidth": 0,
             "ticks": ""
            },
            "colorscale": [
             [
              0,
              "#0d0887"
             ],
             [
              0.1111111111111111,
              "#46039f"
             ],
             [
              0.2222222222222222,
              "#7201a8"
             ],
             [
              0.3333333333333333,
              "#9c179e"
             ],
             [
              0.4444444444444444,
              "#bd3786"
             ],
             [
              0.5555555555555556,
              "#d8576b"
             ],
             [
              0.6666666666666666,
              "#ed7953"
             ],
             [
              0.7777777777777778,
              "#fb9f3a"
             ],
             [
              0.8888888888888888,
              "#fdca26"
             ],
             [
              1,
              "#f0f921"
             ]
            ],
            "type": "histogram2dcontour"
           }
          ],
          "mesh3d": [
           {
            "colorbar": {
             "outlinewidth": 0,
             "ticks": ""
            },
            "type": "mesh3d"
           }
          ],
          "parcoords": [
           {
            "line": {
             "colorbar": {
              "outlinewidth": 0,
              "ticks": ""
             }
            },
            "type": "parcoords"
           }
          ],
          "pie": [
           {
            "automargin": true,
            "type": "pie"
           }
          ],
          "scatter": [
           {
            "fillpattern": {
             "fillmode": "overlay",
             "size": 10,
             "solidity": 0.2
            },
            "type": "scatter"
           }
          ],
          "scatter3d": [
           {
            "line": {
             "colorbar": {
              "outlinewidth": 0,
              "ticks": ""
             }
            },
            "marker": {
             "colorbar": {
              "outlinewidth": 0,
              "ticks": ""
             }
            },
            "type": "scatter3d"
           }
          ],
          "scattercarpet": [
           {
            "marker": {
             "colorbar": {
              "outlinewidth": 0,
              "ticks": ""
             }
            },
            "type": "scattercarpet"
           }
          ],
          "scattergeo": [
           {
            "marker": {
             "colorbar": {
              "outlinewidth": 0,
              "ticks": ""
             }
            },
            "type": "scattergeo"
           }
          ],
          "scattergl": [
           {
            "marker": {
             "colorbar": {
              "outlinewidth": 0,
              "ticks": ""
             }
            },
            "type": "scattergl"
           }
          ],
          "scattermap": [
           {
            "marker": {
             "colorbar": {
              "outlinewidth": 0,
              "ticks": ""
             }
            },
            "type": "scattermap"
           }
          ],
          "scattermapbox": [
           {
            "marker": {
             "colorbar": {
              "outlinewidth": 0,
              "ticks": ""
             }
            },
            "type": "scattermapbox"
           }
          ],
          "scatterpolar": [
           {
            "marker": {
             "colorbar": {
              "outlinewidth": 0,
              "ticks": ""
             }
            },
            "type": "scatterpolar"
           }
          ],
          "scatterpolargl": [
           {
            "marker": {
             "colorbar": {
              "outlinewidth": 0,
              "ticks": ""
             }
            },
            "type": "scatterpolargl"
           }
          ],
          "scatterternary": [
           {
            "marker": {
             "colorbar": {
              "outlinewidth": 0,
              "ticks": ""
             }
            },
            "type": "scatterternary"
           }
          ],
          "surface": [
           {
            "colorbar": {
             "outlinewidth": 0,
             "ticks": ""
            },
            "colorscale": [
             [
              0,
              "#0d0887"
             ],
             [
              0.1111111111111111,
              "#46039f"
             ],
             [
              0.2222222222222222,
              "#7201a8"
             ],
             [
              0.3333333333333333,
              "#9c179e"
             ],
             [
              0.4444444444444444,
              "#bd3786"
             ],
             [
              0.5555555555555556,
              "#d8576b"
             ],
             [
              0.6666666666666666,
              "#ed7953"
             ],
             [
              0.7777777777777778,
              "#fb9f3a"
             ],
             [
              0.8888888888888888,
              "#fdca26"
             ],
             [
              1,
              "#f0f921"
             ]
            ],
            "type": "surface"
           }
          ],
          "table": [
           {
            "cells": {
             "fill": {
              "color": "#EBF0F8"
             },
             "line": {
              "color": "white"
             }
            },
            "header": {
             "fill": {
              "color": "#C8D4E3"
             },
             "line": {
              "color": "white"
             }
            },
            "type": "table"
           }
          ]
         },
         "layout": {
          "annotationdefaults": {
           "arrowcolor": "#2a3f5f",
           "arrowhead": 0,
           "arrowwidth": 1
          },
          "autotypenumbers": "strict",
          "coloraxis": {
           "colorbar": {
            "outlinewidth": 0,
            "ticks": ""
           }
          },
          "colorscale": {
           "diverging": [
            [
             0,
             "#8e0152"
            ],
            [
             0.1,
             "#c51b7d"
            ],
            [
             0.2,
             "#de77ae"
            ],
            [
             0.3,
             "#f1b6da"
            ],
            [
             0.4,
             "#fde0ef"
            ],
            [
             0.5,
             "#f7f7f7"
            ],
            [
             0.6,
             "#e6f5d0"
            ],
            [
             0.7,
             "#b8e186"
            ],
            [
             0.8,
             "#7fbc41"
            ],
            [
             0.9,
             "#4d9221"
            ],
            [
             1,
             "#276419"
            ]
           ],
           "sequential": [
            [
             0,
             "#0d0887"
            ],
            [
             0.1111111111111111,
             "#46039f"
            ],
            [
             0.2222222222222222,
             "#7201a8"
            ],
            [
             0.3333333333333333,
             "#9c179e"
            ],
            [
             0.4444444444444444,
             "#bd3786"
            ],
            [
             0.5555555555555556,
             "#d8576b"
            ],
            [
             0.6666666666666666,
             "#ed7953"
            ],
            [
             0.7777777777777778,
             "#fb9f3a"
            ],
            [
             0.8888888888888888,
             "#fdca26"
            ],
            [
             1,
             "#f0f921"
            ]
           ],
           "sequentialminus": [
            [
             0,
             "#0d0887"
            ],
            [
             0.1111111111111111,
             "#46039f"
            ],
            [
             0.2222222222222222,
             "#7201a8"
            ],
            [
             0.3333333333333333,
             "#9c179e"
            ],
            [
             0.4444444444444444,
             "#bd3786"
            ],
            [
             0.5555555555555556,
             "#d8576b"
            ],
            [
             0.6666666666666666,
             "#ed7953"
            ],
            [
             0.7777777777777778,
             "#fb9f3a"
            ],
            [
             0.8888888888888888,
             "#fdca26"
            ],
            [
             1,
             "#f0f921"
            ]
           ]
          },
          "colorway": [
           "#636efa",
           "#EF553B",
           "#00cc96",
           "#ab63fa",
           "#FFA15A",
           "#19d3f3",
           "#FF6692",
           "#B6E880",
           "#FF97FF",
           "#FECB52"
          ],
          "font": {
           "color": "#2a3f5f"
          },
          "geo": {
           "bgcolor": "white",
           "lakecolor": "white",
           "landcolor": "#E5ECF6",
           "showlakes": true,
           "showland": true,
           "subunitcolor": "white"
          },
          "hoverlabel": {
           "align": "left"
          },
          "hovermode": "closest",
          "mapbox": {
           "style": "light"
          },
          "paper_bgcolor": "white",
          "plot_bgcolor": "#E5ECF6",
          "polar": {
           "angularaxis": {
            "gridcolor": "white",
            "linecolor": "white",
            "ticks": ""
           },
           "bgcolor": "#E5ECF6",
           "radialaxis": {
            "gridcolor": "white",
            "linecolor": "white",
            "ticks": ""
           }
          },
          "scene": {
           "xaxis": {
            "backgroundcolor": "#E5ECF6",
            "gridcolor": "white",
            "gridwidth": 2,
            "linecolor": "white",
            "showbackground": true,
            "ticks": "",
            "zerolinecolor": "white"
           },
           "yaxis": {
            "backgroundcolor": "#E5ECF6",
            "gridcolor": "white",
            "gridwidth": 2,
            "linecolor": "white",
            "showbackground": true,
            "ticks": "",
            "zerolinecolor": "white"
           },
           "zaxis": {
            "backgroundcolor": "#E5ECF6",
            "gridcolor": "white",
            "gridwidth": 2,
            "linecolor": "white",
            "showbackground": true,
            "ticks": "",
            "zerolinecolor": "white"
           }
          },
          "shapedefaults": {
           "line": {
            "color": "#2a3f5f"
           }
          },
          "ternary": {
           "aaxis": {
            "gridcolor": "white",
            "linecolor": "white",
            "ticks": ""
           },
           "baxis": {
            "gridcolor": "white",
            "linecolor": "white",
            "ticks": ""
           },
           "bgcolor": "#E5ECF6",
           "caxis": {
            "gridcolor": "white",
            "linecolor": "white",
            "ticks": ""
           }
          },
          "title": {
           "x": 0.05
          },
          "xaxis": {
           "automargin": true,
           "gridcolor": "white",
           "linecolor": "white",
           "ticks": "",
           "title": {
            "standoff": 15
           },
           "zerolinecolor": "white",
           "zerolinewidth": 2
          },
          "yaxis": {
           "automargin": true,
           "gridcolor": "white",
           "linecolor": "white",
           "ticks": "",
           "title": {
            "standoff": 15
           },
           "zerolinecolor": "white",
           "zerolinewidth": 2
          }
         }
        },
        "title": {
         "text": "UMAP for burst features"
        },
        "width": 800
       }
      }
     },
     "metadata": {},
     "output_type": "display_data"
    }
   ],
   "source": [
    "df_umap = pd.DataFrame(embedding, columns=['UMAP1', 'UMAP2', 'UMAP3'])\n",
    "df_umap['Species'] = df['Labels'].values\n",
    "\n",
    "fig = px.scatter_3d(\n",
    "    df_umap,\n",
    "    x='UMAP1',\n",
    "    y='UMAP2',\n",
    "    z='UMAP3',\n",
    "    color='Species',\n",
    "    title='UMAP for burst windows',\n",
    "    labels={'Species': 'Burst Type'},\n",
    "    width=800,\n",
    "    height=700\n",
    ")\n",
    "\n",
    "fig.update_traces(marker=dict(size=5))\n",
    "fig.show()\n",
    "\n",
    "embedding = reducer.fit_transform(X_scaled)\n",
    "df_umap = pd.DataFrame(embedding, columns=['UMAP1', 'UMAP2', 'UMAP3'])\n",
    "df_umap['Species'] = df['Labels'].values\n",
    "\n",
    "fig = px.scatter_3d(\n",
    "    df_umap,\n",
    "    x='UMAP1',\n",
    "    y='UMAP2',\n",
    "    z='UMAP3',\n",
    "    color='Species',\n",
    "    title='UMAP for burst features',\n",
    "    labels={'Species': 'Burst Type'},\n",
    "    width=800,\n",
    "    height=700\n",
    ")\n",
    "\n",
    "fig.update_traces(marker=dict(size=5))\n",
    "fig.show()"
   ]
  },
  {
   "cell_type": "code",
   "execution_count": 52,
   "id": "0eee2f0e",
   "metadata": {},
   "outputs": [
    {
     "name": "stderr",
     "output_type": "stream",
     "text": [
      "c:\\Users\\omgui\\AppData\\Local\\Programs\\Python\\Python313\\Lib\\site-packages\\sklearn\\utils\\deprecation.py:151: FutureWarning:\n",
      "\n",
      "'force_all_finite' was renamed to 'ensure_all_finite' in 1.6 and will be removed in 1.8.\n",
      "\n",
      "c:\\Users\\omgui\\AppData\\Local\\Programs\\Python\\Python313\\Lib\\site-packages\\umap\\umap_.py:1952: UserWarning:\n",
      "\n",
      "n_jobs value 1 overridden to 1 by setting random_state. Use no seed for parallelism.\n",
      "\n"
     ]
    },
    {
     "data": {
      "application/vnd.plotly.v1+json": {
       "config": {
        "plotlyServerURL": "https://plot.ly"
       },
       "data": [
        {
         "hovertemplate": "UMAP1=%{x}<br>UMAP2=%{y}<br>UMAP3=%{z}<br>Burst Type=%{marker.color}<extra></extra>",
         "legendgroup": "",
         "marker": {
          "color": {
           "bdata": "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",
           "dtype": "f8"
          },
          "coloraxis": "coloraxis",
          "size": 5,
          "symbol": "circle"
         },
         "mode": "markers",
         "name": "",
         "scene": "scene",
         "showlegend": false,
         "type": "scatter3d",
         "x": {
          "bdata": "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",
          "dtype": "f4"
         },
         "y": {
          "bdata": "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",
          "dtype": "f4"
         },
         "z": {
          "bdata": "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",
          "dtype": "f4"
         }
        }
       ],
       "layout": {
        "coloraxis": {
         "colorbar": {
          "title": {
           "text": "Burst Type"
          }
         },
         "colorscale": [
          [
           0,
           "#0d0887"
          ],
          [
           0.1111111111111111,
           "#46039f"
          ],
          [
           0.2222222222222222,
           "#7201a8"
          ],
          [
           0.3333333333333333,
           "#9c179e"
          ],
          [
           0.4444444444444444,
           "#bd3786"
          ],
          [
           0.5555555555555556,
           "#d8576b"
          ],
          [
           0.6666666666666666,
           "#ed7953"
          ],
          [
           0.7777777777777778,
           "#fb9f3a"
          ],
          [
           0.8888888888888888,
           "#fdca26"
          ],
          [
           1,
           "#f0f921"
          ]
         ]
        },
        "height": 700,
        "legend": {
         "tracegroupgap": 0
        },
        "scene": {
         "domain": {
          "x": [
           0,
           1
          ],
          "y": [
           0,
           1
          ]
         },
         "xaxis": {
          "title": {
           "text": "UMAP1"
          }
         },
         "yaxis": {
          "title": {
           "text": "UMAP2"
          }
         },
         "zaxis": {
          "title": {
           "text": "UMAP3"
          }
         }
        },
        "template": {
         "data": {
          "bar": [
           {
            "error_x": {
             "color": "#2a3f5f"
            },
            "error_y": {
             "color": "#2a3f5f"
            },
            "marker": {
             "line": {
              "color": "#E5ECF6",
              "width": 0.5
             },
             "pattern": {
              "fillmode": "overlay",
              "size": 10,
              "solidity": 0.2
             }
            },
            "type": "bar"
           }
          ],
          "barpolar": [
           {
            "marker": {
             "line": {
              "color": "#E5ECF6",
              "width": 0.5
             },
             "pattern": {
              "fillmode": "overlay",
              "size": 10,
              "solidity": 0.2
             }
            },
            "type": "barpolar"
           }
          ],
          "carpet": [
           {
            "aaxis": {
             "endlinecolor": "#2a3f5f",
             "gridcolor": "white",
             "linecolor": "white",
             "minorgridcolor": "white",
             "startlinecolor": "#2a3f5f"
            },
            "baxis": {
             "endlinecolor": "#2a3f5f",
             "gridcolor": "white",
             "linecolor": "white",
             "minorgridcolor": "white",
             "startlinecolor": "#2a3f5f"
            },
            "type": "carpet"
           }
          ],
          "choropleth": [
           {
            "colorbar": {
             "outlinewidth": 0,
             "ticks": ""
            },
            "type": "choropleth"
           }
          ],
          "contour": [
           {
            "colorbar": {
             "outlinewidth": 0,
             "ticks": ""
            },
            "colorscale": [
             [
              0,
              "#0d0887"
             ],
             [
              0.1111111111111111,
              "#46039f"
             ],
             [
              0.2222222222222222,
              "#7201a8"
             ],
             [
              0.3333333333333333,
              "#9c179e"
             ],
             [
              0.4444444444444444,
              "#bd3786"
             ],
             [
              0.5555555555555556,
              "#d8576b"
             ],
             [
              0.6666666666666666,
              "#ed7953"
             ],
             [
              0.7777777777777778,
              "#fb9f3a"
             ],
             [
              0.8888888888888888,
              "#fdca26"
             ],
             [
              1,
              "#f0f921"
             ]
            ],
            "type": "contour"
           }
          ],
          "contourcarpet": [
           {
            "colorbar": {
             "outlinewidth": 0,
             "ticks": ""
            },
            "type": "contourcarpet"
           }
          ],
          "heatmap": [
           {
            "colorbar": {
             "outlinewidth": 0,
             "ticks": ""
            },
            "colorscale": [
             [
              0,
              "#0d0887"
             ],
             [
              0.1111111111111111,
              "#46039f"
             ],
             [
              0.2222222222222222,
              "#7201a8"
             ],
             [
              0.3333333333333333,
              "#9c179e"
             ],
             [
              0.4444444444444444,
              "#bd3786"
             ],
             [
              0.5555555555555556,
              "#d8576b"
             ],
             [
              0.6666666666666666,
              "#ed7953"
             ],
             [
              0.7777777777777778,
              "#fb9f3a"
             ],
             [
              0.8888888888888888,
              "#fdca26"
             ],
             [
              1,
              "#f0f921"
             ]
            ],
            "type": "heatmap"
           }
          ],
          "histogram": [
           {
            "marker": {
             "pattern": {
              "fillmode": "overlay",
              "size": 10,
              "solidity": 0.2
             }
            },
            "type": "histogram"
           }
          ],
          "histogram2d": [
           {
            "colorbar": {
             "outlinewidth": 0,
             "ticks": ""
            },
            "colorscale": [
             [
              0,
              "#0d0887"
             ],
             [
              0.1111111111111111,
              "#46039f"
             ],
             [
              0.2222222222222222,
              "#7201a8"
             ],
             [
              0.3333333333333333,
              "#9c179e"
             ],
             [
              0.4444444444444444,
              "#bd3786"
             ],
             [
              0.5555555555555556,
              "#d8576b"
             ],
             [
              0.6666666666666666,
              "#ed7953"
             ],
             [
              0.7777777777777778,
              "#fb9f3a"
             ],
             [
              0.8888888888888888,
              "#fdca26"
             ],
             [
              1,
              "#f0f921"
             ]
            ],
            "type": "histogram2d"
           }
          ],
          "histogram2dcontour": [
           {
            "colorbar": {
             "outlinewidth": 0,
             "ticks": ""
            },
            "colorscale": [
             [
              0,
              "#0d0887"
             ],
             [
              0.1111111111111111,
              "#46039f"
             ],
             [
              0.2222222222222222,
              "#7201a8"
             ],
             [
              0.3333333333333333,
              "#9c179e"
             ],
             [
              0.4444444444444444,
              "#bd3786"
             ],
             [
              0.5555555555555556,
              "#d8576b"
             ],
             [
              0.6666666666666666,
              "#ed7953"
             ],
             [
              0.7777777777777778,
              "#fb9f3a"
             ],
             [
              0.8888888888888888,
              "#fdca26"
             ],
             [
              1,
              "#f0f921"
             ]
            ],
            "type": "histogram2dcontour"
           }
          ],
          "mesh3d": [
           {
            "colorbar": {
             "outlinewidth": 0,
             "ticks": ""
            },
            "type": "mesh3d"
           }
          ],
          "parcoords": [
           {
            "line": {
             "colorbar": {
              "outlinewidth": 0,
              "ticks": ""
             }
            },
            "type": "parcoords"
           }
          ],
          "pie": [
           {
            "automargin": true,
            "type": "pie"
           }
          ],
          "scatter": [
           {
            "fillpattern": {
             "fillmode": "overlay",
             "size": 10,
             "solidity": 0.2
            },
            "type": "scatter"
           }
          ],
          "scatter3d": [
           {
            "line": {
             "colorbar": {
              "outlinewidth": 0,
              "ticks": ""
             }
            },
            "marker": {
             "colorbar": {
              "outlinewidth": 0,
              "ticks": ""
             }
            },
            "type": "scatter3d"
           }
          ],
          "scattercarpet": [
           {
            "marker": {
             "colorbar": {
              "outlinewidth": 0,
              "ticks": ""
             }
            },
            "type": "scattercarpet"
           }
          ],
          "scattergeo": [
           {
            "marker": {
             "colorbar": {
              "outlinewidth": 0,
              "ticks": ""
             }
            },
            "type": "scattergeo"
           }
          ],
          "scattergl": [
           {
            "marker": {
             "colorbar": {
              "outlinewidth": 0,
              "ticks": ""
             }
            },
            "type": "scattergl"
           }
          ],
          "scattermap": [
           {
            "marker": {
             "colorbar": {
              "outlinewidth": 0,
              "ticks": ""
             }
            },
            "type": "scattermap"
           }
          ],
          "scattermapbox": [
           {
            "marker": {
             "colorbar": {
              "outlinewidth": 0,
              "ticks": ""
             }
            },
            "type": "scattermapbox"
           }
          ],
          "scatterpolar": [
           {
            "marker": {
             "colorbar": {
              "outlinewidth": 0,
              "ticks": ""
             }
            },
            "type": "scatterpolar"
           }
          ],
          "scatterpolargl": [
           {
            "marker": {
             "colorbar": {
              "outlinewidth": 0,
              "ticks": ""
             }
            },
            "type": "scatterpolargl"
           }
          ],
          "scatterternary": [
           {
            "marker": {
             "colorbar": {
              "outlinewidth": 0,
              "ticks": ""
             }
            },
            "type": "scatterternary"
           }
          ],
          "surface": [
           {
            "colorbar": {
             "outlinewidth": 0,
             "ticks": ""
            },
            "colorscale": [
             [
              0,
              "#0d0887"
             ],
             [
              0.1111111111111111,
              "#46039f"
             ],
             [
              0.2222222222222222,
              "#7201a8"
             ],
             [
              0.3333333333333333,
              "#9c179e"
             ],
             [
              0.4444444444444444,
              "#bd3786"
             ],
             [
              0.5555555555555556,
              "#d8576b"
             ],
             [
              0.6666666666666666,
              "#ed7953"
             ],
             [
              0.7777777777777778,
              "#fb9f3a"
             ],
             [
              0.8888888888888888,
              "#fdca26"
             ],
             [
              1,
              "#f0f921"
             ]
            ],
            "type": "surface"
           }
          ],
          "table": [
           {
            "cells": {
             "fill": {
              "color": "#EBF0F8"
             },
             "line": {
              "color": "white"
             }
            },
            "header": {
             "fill": {
              "color": "#C8D4E3"
             },
             "line": {
              "color": "white"
             }
            },
            "type": "table"
           }
          ]
         },
         "layout": {
          "annotationdefaults": {
           "arrowcolor": "#2a3f5f",
           "arrowhead": 0,
           "arrowwidth": 1
          },
          "autotypenumbers": "strict",
          "coloraxis": {
           "colorbar": {
            "outlinewidth": 0,
            "ticks": ""
           }
          },
          "colorscale": {
           "diverging": [
            [
             0,
             "#8e0152"
            ],
            [
             0.1,
             "#c51b7d"
            ],
            [
             0.2,
             "#de77ae"
            ],
            [
             0.3,
             "#f1b6da"
            ],
            [
             0.4,
             "#fde0ef"
            ],
            [
             0.5,
             "#f7f7f7"
            ],
            [
             0.6,
             "#e6f5d0"
            ],
            [
             0.7,
             "#b8e186"
            ],
            [
             0.8,
             "#7fbc41"
            ],
            [
             0.9,
             "#4d9221"
            ],
            [
             1,
             "#276419"
            ]
           ],
           "sequential": [
            [
             0,
             "#0d0887"
            ],
            [
             0.1111111111111111,
             "#46039f"
            ],
            [
             0.2222222222222222,
             "#7201a8"
            ],
            [
             0.3333333333333333,
             "#9c179e"
            ],
            [
             0.4444444444444444,
             "#bd3786"
            ],
            [
             0.5555555555555556,
             "#d8576b"
            ],
            [
             0.6666666666666666,
             "#ed7953"
            ],
            [
             0.7777777777777778,
             "#fb9f3a"
            ],
            [
             0.8888888888888888,
             "#fdca26"
            ],
            [
             1,
             "#f0f921"
            ]
           ],
           "sequentialminus": [
            [
             0,
             "#0d0887"
            ],
            [
             0.1111111111111111,
             "#46039f"
            ],
            [
             0.2222222222222222,
             "#7201a8"
            ],
            [
             0.3333333333333333,
             "#9c179e"
            ],
            [
             0.4444444444444444,
             "#bd3786"
            ],
            [
             0.5555555555555556,
             "#d8576b"
            ],
            [
             0.6666666666666666,
             "#ed7953"
            ],
            [
             0.7777777777777778,
             "#fb9f3a"
            ],
            [
             0.8888888888888888,
             "#fdca26"
            ],
            [
             1,
             "#f0f921"
            ]
           ]
          },
          "colorway": [
           "#636efa",
           "#EF553B",
           "#00cc96",
           "#ab63fa",
           "#FFA15A",
           "#19d3f3",
           "#FF6692",
           "#B6E880",
           "#FF97FF",
           "#FECB52"
          ],
          "font": {
           "color": "#2a3f5f"
          },
          "geo": {
           "bgcolor": "white",
           "lakecolor": "white",
           "landcolor": "#E5ECF6",
           "showlakes": true,
           "showland": true,
           "subunitcolor": "white"
          },
          "hoverlabel": {
           "align": "left"
          },
          "hovermode": "closest",
          "mapbox": {
           "style": "light"
          },
          "paper_bgcolor": "white",
          "plot_bgcolor": "#E5ECF6",
          "polar": {
           "angularaxis": {
            "gridcolor": "white",
            "linecolor": "white",
            "ticks": ""
           },
           "bgcolor": "#E5ECF6",
           "radialaxis": {
            "gridcolor": "white",
            "linecolor": "white",
            "ticks": ""
           }
          },
          "scene": {
           "xaxis": {
            "backgroundcolor": "#E5ECF6",
            "gridcolor": "white",
            "gridwidth": 2,
            "linecolor": "white",
            "showbackground": true,
            "ticks": "",
            "zerolinecolor": "white"
           },
           "yaxis": {
            "backgroundcolor": "#E5ECF6",
            "gridcolor": "white",
            "gridwidth": 2,
            "linecolor": "white",
            "showbackground": true,
            "ticks": "",
            "zerolinecolor": "white"
           },
           "zaxis": {
            "backgroundcolor": "#E5ECF6",
            "gridcolor": "white",
            "gridwidth": 2,
            "linecolor": "white",
            "showbackground": true,
            "ticks": "",
            "zerolinecolor": "white"
           }
          },
          "shapedefaults": {
           "line": {
            "color": "#2a3f5f"
           }
          },
          "ternary": {
           "aaxis": {
            "gridcolor": "white",
            "linecolor": "white",
            "ticks": ""
           },
           "baxis": {
            "gridcolor": "white",
            "linecolor": "white",
            "ticks": ""
           },
           "bgcolor": "#E5ECF6",
           "caxis": {
            "gridcolor": "white",
            "linecolor": "white",
            "ticks": ""
           }
          },
          "title": {
           "x": 0.05
          },
          "xaxis": {
           "automargin": true,
           "gridcolor": "white",
           "linecolor": "white",
           "ticks": "",
           "title": {
            "standoff": 15
           },
           "zerolinecolor": "white",
           "zerolinewidth": 2
          },
          "yaxis": {
           "automargin": true,
           "gridcolor": "white",
           "linecolor": "white",
           "ticks": "",
           "title": {
            "standoff": 15
           },
           "zerolinecolor": "white",
           "zerolinewidth": 2
          }
         }
        },
        "title": {
         "text": "UMAP: Burst Windows + Features"
        },
        "width": 800
       }
      }
     },
     "metadata": {},
     "output_type": "display_data"
    }
   ],
   "source": [
    "# 1. Select the 7 numerical features (exclude 'Labels')\n",
    "feature_cols = ['Amplitude', 'Width', 'RiseTime', 'FallTime', 'Skewness', 'Kurtosis', 'IBIs']\n",
    "features = df[feature_cols].values  # shape (N, 7)\n",
    "\n",
    "# 2. Combine windows and features\n",
    "combined_data = np.concatenate([windows, features], axis=1)  # shape (N, 20)\n",
    "\n",
    "# 3. Run UMAP on the combined data\n",
    "reducer = umap.UMAP(n_components=3, random_state=42)\n",
    "embedding = reducer.fit_transform(combined_data)\n",
    "\n",
    "# 4. Plot\n",
    "df_umap = pd.DataFrame(embedding, columns=['UMAP1', 'UMAP2', 'UMAP3'])\n",
    "df_umap['Species'] = df['Labels'].values\n",
    "\n",
    "fig = px.scatter_3d(\n",
    "    df_umap,\n",
    "    x='UMAP1',\n",
    "    y='UMAP2',\n",
    "    z='UMAP3',\n",
    "    color='Species',\n",
    "    title='UMAP: Burst Windows + Features',\n",
    "    labels={'Species': 'Burst Type'},\n",
    "    width=800,\n",
    "    height=700\n",
    ")\n",
    "fig.update_traces(marker=dict(size=5))\n",
    "fig.show()"
   ]
  },
  {
   "cell_type": "code",
   "execution_count": null,
   "id": "379964b8",
   "metadata": {},
   "outputs": [],
   "source": []
  }
 ],
 "metadata": {
  "kernelspec": {
   "display_name": "Python 3",
   "language": "python",
   "name": "python3"
  },
  "language_info": {
   "codemirror_mode": {
    "name": "ipython",
    "version": 3
   },
   "file_extension": ".py",
   "mimetype": "text/x-python",
   "name": "python",
   "nbconvert_exporter": "python",
   "pygments_lexer": "ipython3",
   "version": "3.13.4"
  }
 },
 "nbformat": 4,
 "nbformat_minor": 5
}
